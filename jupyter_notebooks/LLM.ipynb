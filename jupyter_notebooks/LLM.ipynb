{
 "cells": [
  {
   "cell_type": "code",
   "execution_count": 2,
   "id": "1c50e3b3",
   "metadata": {},
   "outputs": [],
   "source": [
    "from google import genai\n",
    "import os\n",
    "from dotenv import load_dotenv\n",
    "import duckdb\n",
    "load_dotenv()\n",
    "client = genai.Client(api_key=os.getenv(\"GEMINI_API_KEY\"))\n",
    "\n",
    "# response = client.models.generate_content(\n",
    "#     model=\"gemini-2.0-flash\", contents=\"Ge mig en historia om en kanin som bor i skogen på 3 meningar\"\n",
    "# )\n",
    "# print(response.text)\n",
    "\n"
   ]
  },
  {
   "cell_type": "code",
   "execution_count": 5,
   "id": "07a47707",
   "metadata": {},
   "outputs": [],
   "source": [
    "with duckdb.connect(\"../ads_data.duckdb\") as con: \n",
    "    df_mart = con.execute(\"SELECT * FROM mart.mart_kultur_media\").df()\n",
    "df_test = df_mart #[df_mart[\"occupation_field\"] == \"Kultur, media, design\"]\n",
    "# df_test.to_csv(\"sample_ads.csv\") # måste göra mer finjusteringar! kan inte läsa allas description direkt!\n"
   ]
  },
  {
   "cell_type": "code",
   "execution_count": 8,
   "id": "c4aee259",
   "metadata": {},
   "outputs": [
    {
     "data": {
      "text/html": [
       "<div>\n",
       "<style scoped>\n",
       "    .dataframe tbody tr th:only-of-type {\n",
       "        vertical-align: middle;\n",
       "    }\n",
       "\n",
       "    .dataframe tbody tr th {\n",
       "        vertical-align: top;\n",
       "    }\n",
       "\n",
       "    .dataframe thead th {\n",
       "        text-align: right;\n",
       "    }\n",
       "</style>\n",
       "<table border=\"1\" class=\"dataframe\">\n",
       "  <thead>\n",
       "    <tr style=\"text-align: right;\">\n",
       "      <th></th>\n",
       "      <th>occupation</th>\n",
       "      <th>vacancies</th>\n",
       "      <th>description</th>\n",
       "    </tr>\n",
       "  </thead>\n",
       "  <tbody>\n",
       "    <tr>\n",
       "      <th>0</th>\n",
       "      <td>Tolk</td>\n",
       "      <td>336</td>\n",
       "      <td>Vill du ha ett meningsfullt arbete som ger dig...</td>\n",
       "    </tr>\n",
       "    <tr>\n",
       "      <th>1</th>\n",
       "      <td>Fotograf</td>\n",
       "      <td>43</td>\n",
       "      <td>Vi på Photofame AB är stolta över våra roliga ...</td>\n",
       "    </tr>\n",
       "    <tr>\n",
       "      <th>2</th>\n",
       "      <td>Layoutare</td>\n",
       "      <td>43</td>\n",
       "      <td>Kommittéservice, RK Service, Förvaltningsavdel...</td>\n",
       "    </tr>\n",
       "    <tr>\n",
       "      <th>3</th>\n",
       "      <td>Bibliotekarie</td>\n",
       "      <td>32</td>\n",
       "      <td>ArkDes söker en assistent till bibliotek och f...</td>\n",
       "    </tr>\n",
       "    <tr>\n",
       "      <th>4</th>\n",
       "      <td>Produktionsassistent: kultur, media, film, dat...</td>\n",
       "      <td>24</td>\n",
       "      <td>Om Euromaint\\nEuromaint erbjuder kvalificerat ...</td>\n",
       "    </tr>\n",
       "    <tr>\n",
       "      <th>...</th>\n",
       "      <td>...</td>\n",
       "      <td>...</td>\n",
       "      <td>...</td>\n",
       "    </tr>\n",
       "    <tr>\n",
       "      <th>77</th>\n",
       "      <td>Språkforskare</td>\n",
       "      <td>1</td>\n",
       "      <td>Vill du arbeta på en myndighet där språk och k...</td>\n",
       "    </tr>\n",
       "    <tr>\n",
       "      <th>78</th>\n",
       "      <td>Språkteknolog</td>\n",
       "      <td>1</td>\n",
       "      <td>Till JENSEN söker vi nu en teknisk skribent, d...</td>\n",
       "    </tr>\n",
       "    <tr>\n",
       "      <th>79</th>\n",
       "      <td>Språkkonsult</td>\n",
       "      <td>1</td>\n",
       "      <td>Om tjänsten\\nStorfjord kommun driver ett flers...</td>\n",
       "    </tr>\n",
       "    <tr>\n",
       "      <th>80</th>\n",
       "      <td>Videojournalist/Videoreporter</td>\n",
       "      <td>1</td>\n",
       "      <td>Vad vi erbjuder:\\nVi producerar nyhetsprogram ...</td>\n",
       "    </tr>\n",
       "    <tr>\n",
       "      <th>81</th>\n",
       "      <td>Videoredigerare</td>\n",
       "      <td>1</td>\n",
       "      <td>Mindvision AB söker nu en kreativ och tekniskt...</td>\n",
       "    </tr>\n",
       "  </tbody>\n",
       "</table>\n",
       "<p>82 rows × 3 columns</p>\n",
       "</div>"
      ],
      "text/plain": [
       "                                           occupation  vacancies  \\\n",
       "0                                                Tolk        336   \n",
       "1                                            Fotograf         43   \n",
       "2                                           Layoutare         43   \n",
       "3                                       Bibliotekarie         32   \n",
       "4   Produktionsassistent: kultur, media, film, dat...         24   \n",
       "..                                                ...        ...   \n",
       "77                                      Språkforskare          1   \n",
       "78                                      Språkteknolog          1   \n",
       "79                                       Språkkonsult          1   \n",
       "80                      Videojournalist/Videoreporter          1   \n",
       "81                                    Videoredigerare          1   \n",
       "\n",
       "                                          description  \n",
       "0   Vill du ha ett meningsfullt arbete som ger dig...  \n",
       "1   Vi på Photofame AB är stolta över våra roliga ...  \n",
       "2   Kommittéservice, RK Service, Förvaltningsavdel...  \n",
       "3   ArkDes söker en assistent till bibliotek och f...  \n",
       "4   Om Euromaint\\nEuromaint erbjuder kvalificerat ...  \n",
       "..                                                ...  \n",
       "77  Vill du arbeta på en myndighet där språk och k...  \n",
       "78  Till JENSEN söker vi nu en teknisk skribent, d...  \n",
       "79  Om tjänsten\\nStorfjord kommun driver ett flers...  \n",
       "80  Vad vi erbjuder:\\nVi producerar nyhetsprogram ...  \n",
       "81  Mindvision AB söker nu en kreativ och tekniskt...  \n",
       "\n",
       "[82 rows x 3 columns]"
      ]
     },
     "execution_count": 8,
     "metadata": {},
     "output_type": "execute_result"
    }
   ],
   "source": [
    "descriptions = df_test[\"description\"]\n",
    "\n",
    "# top_employer = df_test.groupby(\"occupation\")[[\"vacancies\", \"description\"]].sum().sort_values(by=\"vacancies\", ascending=False).reset_index()\n",
    "# top_employer = df_test.groupby(\"employer_name\")[[\"vacancies\", \"description\"]].sum().sort_values(by=\"vacancies\", ascending=False).reset_index()\n",
    "top_employer = df_test.groupby(\"occupation\")[[\"vacancies\", \"description\"]].sum().sort_values(by=\"vacancies\", ascending=False).reset_index()\n",
    "\n",
    "top_employer\n",
    "# df_test"
   ]
  },
  {
   "cell_type": "code",
   "execution_count": 22,
   "id": "a6f7887c",
   "metadata": {},
   "outputs": [],
   "source": [
    "# df_test.reset_index()\n",
    "nr_1 = top_employer[[\"occupation\",\"description\"]].iloc[3]\n",
    "nr_1.to_csv(\"for_gemini.txt\")"
   ]
  },
  {
   "cell_type": "code",
   "execution_count": null,
   "id": "8bfea84b",
   "metadata": {},
   "outputs": [],
   "source": [
    "with open(\"for_gemini.txt\", \"r\", encoding='utf-8') as file: \n",
    "    ad_text = file.read() \n",
    "\n",
    "promt = f\"\"\"Du är en rekryterare inom Media, Kultur, Design.\n",
    "Plocka ut max 5 av vanligaste kraven och max av 5 vanligaste meriterade och antal av dessa som efterfrågas i dessa jobbannonser, samt en sammanfattning av krav och meriter som du skriver ut:\n",
    "{ad_text}\n",
    "\n",
    "Output ska vara i detta formatet enbart: \n",
    "\n",
    "{{\n",
    "    \"sammanfattning\": [\"sammanfattning\"]\n",
    "    \"krav\": [erfarenhet1, erfarenhet2, ...]\n",
    "    \"antal krav\": [summa erfarenhet1..]\n",
    "    \"meriterande\": [meriterande1,meriterande2, ... ]\n",
    "    \"antal meriterande\": [summa meriterande1..]\n",
    "    \n",
    "}}\n",
    "\"\"\"\n",
    "# om du inte får ihop samma antal på krav och antal krav balansera ut det som fattas med N/A, 0. Samma med meriterande och antal meriterande. \n"
   ]
  },
  {
   "cell_type": "code",
   "execution_count": 13,
   "id": "af22f206",
   "metadata": {},
   "outputs": [
    {
     "name": "stdout",
     "output_type": "stream",
     "text": [
      "```json\n",
      "{\n",
      "    \"sammanfattning\": [\"Storfjord kommun söker en kvensk språkarbetare för att stärka kvänska/norsk-finska och samiska språket och kulturen, främst bland barn och unga. Tjänsten innebär att driva språk- och kulturprojekt, planera kurser och delta i utvecklingsprojekt. \"],\n",
      "    \"krav\": [\"God muntlig och skriftlig kompetens i kvänska, meänkieli eller finska\", \"Goda skriftliga färdigheter i norska eller ett annat nordiskt språk\", \"Kännedom om språk- och kulturförhållanden i Nordkalotten\", \"Förmåga att använda IKT som arbetsverktyg\", \"God kommunikations- och samarbetsförmåga\"],\n",
      "    \"antal krav\": [1, 1, 1, 1, 1],\n",
      "    \"meriterande\": [\"Relevant högskoleutbildning\", \"Flexibilitet, kreativitet och en utvecklingsorienterad inställning\", \"Reflektion kring goda kommunikations- och undervisningsmetoder\"],\n",
      "    \"antal meriterande\": [1, 1, 1]\n",
      "}\n",
      "```\n"
     ]
    }
   ],
   "source": [
    "from google import generativeai as oldGenai\n",
    "from google.generativeai.types import GenerationConfig\n",
    "model = oldGenai.GenerativeModel(\n",
    "        model_name=\"gemini-2.0-flash\",\n",
    "        generation_config=GenerationConfig(\n",
    "            temperature=0.0,         \n",
    "            top_p=1.0,  # Säkerställer att sampling inte påverkas   #verkar inte göra skillnad\n",
    "            top_k=1     # Tar bort variation)                       #verkar inte göra skillnad    \n",
    "        )\n",
    "    )\n",
    "response = model.generate_content(promt)\n",
    "print(response.text)"
   ]
  },
  {
   "cell_type": "code",
   "execution_count": 16,
   "id": "dc16d2ba",
   "metadata": {},
   "outputs": [
    {
     "data": {
      "text/plain": [
       "{'sammanfattning': ['Storfjord kommun söker en kvensk språkarbetare för att stärka kvänska/norsk-finska och samiska språket och kulturen, främst bland barn och unga. Tjänsten innebär att driva språk- och kulturprojekt, planera kurser och delta i utvecklingsprojekt. '],\n",
       " 'krav': ['God muntlig och skriftlig kompetens i kvänska, meänkieli eller finska',\n",
       "  'Goda skriftliga färdigheter i norska eller ett annat nordiskt språk',\n",
       "  'Kännedom om språk- och kulturförhållanden i Nordkalotten',\n",
       "  'Förmåga att använda IKT som arbetsverktyg',\n",
       "  'God kommunikations- och samarbetsförmåga'],\n",
       " 'antal krav': [1, 1, 1, 1, 1],\n",
       " 'meriterande': ['Relevant högskoleutbildning',\n",
       "  'Flexibilitet, kreativitet och en utvecklingsorienterad inställning',\n",
       "  'Reflektion kring goda kommunikations- och undervisningsmetoder'],\n",
       " 'antal meriterande': [1, 1, 1]}"
      ]
     },
     "execution_count": 16,
     "metadata": {},
     "output_type": "execute_result"
    }
   ],
   "source": [
    "import pandas as pd\n",
    "import json\n",
    "\n",
    "data = response.text\n",
    "cleaned = data.strip(\"```json\") #.replace(\"\\n\", \"\").strip().replace(\"  \", \"\")\n",
    "data = json.loads(cleaned)\n",
    "data"
   ]
  },
  {
   "cell_type": "code",
   "execution_count": 17,
   "id": "e3925749",
   "metadata": {},
   "outputs": [
    {
     "data": {
      "text/html": [
       "<div>\n",
       "<style scoped>\n",
       "    .dataframe tbody tr th:only-of-type {\n",
       "        vertical-align: middle;\n",
       "    }\n",
       "\n",
       "    .dataframe tbody tr th {\n",
       "        vertical-align: top;\n",
       "    }\n",
       "\n",
       "    .dataframe thead th {\n",
       "        text-align: right;\n",
       "    }\n",
       "</style>\n",
       "<table border=\"1\" class=\"dataframe\">\n",
       "  <thead>\n",
       "    <tr style=\"text-align: right;\">\n",
       "      <th></th>\n",
       "      <th>krav</th>\n",
       "      <th>antal krav</th>\n",
       "    </tr>\n",
       "  </thead>\n",
       "  <tbody>\n",
       "    <tr>\n",
       "      <th>0</th>\n",
       "      <td>God muntlig och skriftlig kompetens i kvänska,...</td>\n",
       "      <td>1</td>\n",
       "    </tr>\n",
       "    <tr>\n",
       "      <th>1</th>\n",
       "      <td>Goda skriftliga färdigheter i norska eller ett...</td>\n",
       "      <td>1</td>\n",
       "    </tr>\n",
       "    <tr>\n",
       "      <th>2</th>\n",
       "      <td>Kännedom om språk- och kulturförhållanden i No...</td>\n",
       "      <td>1</td>\n",
       "    </tr>\n",
       "    <tr>\n",
       "      <th>3</th>\n",
       "      <td>Förmåga att använda IKT som arbetsverktyg</td>\n",
       "      <td>1</td>\n",
       "    </tr>\n",
       "    <tr>\n",
       "      <th>4</th>\n",
       "      <td>God kommunikations- och samarbetsförmåga</td>\n",
       "      <td>1</td>\n",
       "    </tr>\n",
       "  </tbody>\n",
       "</table>\n",
       "</div>"
      ],
      "text/plain": [
       "                                                krav  antal krav\n",
       "0  God muntlig och skriftlig kompetens i kvänska,...           1\n",
       "1  Goda skriftliga färdigheter i norska eller ett...           1\n",
       "2  Kännedom om språk- och kulturförhållanden i No...           1\n",
       "3          Förmåga att använda IKT som arbetsverktyg           1\n",
       "4           God kommunikations- och samarbetsförmåga           1"
      ]
     },
     "execution_count": 17,
     "metadata": {},
     "output_type": "execute_result"
    }
   ],
   "source": [
    "df_krav = pd.DataFrame({\n",
    "    \"krav\": data[\"krav\"], \n",
    "    \"antal krav\": data[\"antal krav\"]\n",
    "})\n",
    "df_krav"
   ]
  },
  {
   "cell_type": "code",
   "execution_count": 18,
   "id": "72cb4304",
   "metadata": {},
   "outputs": [
    {
     "data": {
      "text/html": [
       "<div>\n",
       "<style scoped>\n",
       "    .dataframe tbody tr th:only-of-type {\n",
       "        vertical-align: middle;\n",
       "    }\n",
       "\n",
       "    .dataframe tbody tr th {\n",
       "        vertical-align: top;\n",
       "    }\n",
       "\n",
       "    .dataframe thead th {\n",
       "        text-align: right;\n",
       "    }\n",
       "</style>\n",
       "<table border=\"1\" class=\"dataframe\">\n",
       "  <thead>\n",
       "    <tr style=\"text-align: right;\">\n",
       "      <th></th>\n",
       "      <th>meriterande</th>\n",
       "      <th>antal meriterande</th>\n",
       "    </tr>\n",
       "  </thead>\n",
       "  <tbody>\n",
       "    <tr>\n",
       "      <th>0</th>\n",
       "      <td>Relevant högskoleutbildning</td>\n",
       "      <td>1</td>\n",
       "    </tr>\n",
       "    <tr>\n",
       "      <th>1</th>\n",
       "      <td>Flexibilitet, kreativitet och en utvecklingsor...</td>\n",
       "      <td>1</td>\n",
       "    </tr>\n",
       "    <tr>\n",
       "      <th>2</th>\n",
       "      <td>Reflektion kring goda kommunikations- och unde...</td>\n",
       "      <td>1</td>\n",
       "    </tr>\n",
       "  </tbody>\n",
       "</table>\n",
       "</div>"
      ],
      "text/plain": [
       "                                         meriterande  antal meriterande\n",
       "0                        Relevant högskoleutbildning                  1\n",
       "1  Flexibilitet, kreativitet och en utvecklingsor...                  1\n",
       "2  Reflektion kring goda kommunikations- och unde...                  1"
      ]
     },
     "execution_count": 18,
     "metadata": {},
     "output_type": "execute_result"
    }
   ],
   "source": [
    "df_merit = pd.DataFrame({\n",
    "    \"meriterande\": data[\"meriterande\"],\n",
    "    \"antal meriterande\": data[\"antal meriterande\"]\n",
    "})\n",
    "df_merit"
   ]
  },
  {
   "cell_type": "code",
   "execution_count": 20,
   "id": "2a2e9ba5",
   "metadata": {},
   "outputs": [
    {
     "data": {
      "text/plain": [
       "0    Storfjord kommun söker en kvensk språkarbetare...\n",
       "Name: sammanfattning, dtype: object"
      ]
     },
     "execution_count": 20,
     "metadata": {},
     "output_type": "execute_result"
    }
   ],
   "source": [
    "df_sammanfattning = pd.DataFrame({\n",
    "    \"sammanfattning\": data[\"sammanfattning\"]\n",
    "})\n",
    "df_sammanfattning[\"sammanfattning\"]"
   ]
  },
  {
   "cell_type": "code",
   "execution_count": 1,
   "metadata": {},
   "outputs": [
    {
     "ename": "NameError",
     "evalue": "name 'ad_text' is not defined",
     "output_type": "error",
     "traceback": [
      "\u001b[31m---------------------------------------------------------------------------\u001b[39m",
      "\u001b[31mNameError\u001b[39m                                 Traceback (most recent call last)",
      "\u001b[36mCell\u001b[39m\u001b[36m \u001b[39m\u001b[32mIn[1]\u001b[39m\u001b[32m, line 2\u001b[39m\n\u001b[32m      1\u001b[39m max_rows = \u001b[32m100\u001b[39m\n\u001b[32m----> \u001b[39m\u001b[32m2\u001b[39m ad_text_splitted = \u001b[43mad_text\u001b[49m.split(\u001b[33m\"\u001b[39m\u001b[38;5;130;01m\\n\u001b[39;00m\u001b[33m\"\u001b[39m) \u001b[38;5;66;03m#tagit bort alla mellanslag\u001b[39;00m\n\u001b[32m      3\u001b[39m chunks = [] \u001b[38;5;66;03m# lista för textbitar\u001b[39;00m\n\u001b[32m      5\u001b[39m \u001b[38;5;28;01mfor\u001b[39;00m i \u001b[38;5;129;01min\u001b[39;00m \u001b[38;5;28mrange\u001b[39m(\u001b[32m0\u001b[39m, \u001b[38;5;28mlen\u001b[39m(ad_text_splitted), max_rows): \n",
      "\u001b[31mNameError\u001b[39m: name 'ad_text' is not defined"
     ]
    }
   ],
   "source": [
    "max_rows = 100\n",
    "ad_text_splitted = ad_text.split(\"\\n\") #tagit bort alla mellanslag\n",
    "chunks = [] # lista för textbitar\n",
    "\n",
    "for i in range(0, len(ad_text_splitted), max_rows): \n",
    "    chunk = \"\\n\".join(ad_text_splitted[i:i+max_rows])\n",
    "    chunks.append(chunk)\n",
    "    # print(chunk)\n",
    "    # print(\"------------------------------------------------------LL_-------------------\")\n",
    "    # return chunks\n",
    "\n",
    "# print(ad_text_splitted)\n",
    "\n",
    "# text = [\"description\"]\n",
    "# ad_text[:4000]\n",
    "# .to_csv(\"rows.txt\")\n"
   ]
  },
  {
   "cell_type": "code",
   "execution_count": null,
   "metadata": {},
   "outputs": [
    {
     "data": {
      "text/plain": [
       "6"
      ]
     },
     "execution_count": 90,
     "metadata": {},
     "output_type": "execute_result"
    }
   ],
   "source": [
    "len(chunks)"
   ]
  },
  {
   "cell_type": "code",
   "execution_count": null,
   "metadata": {},
   "outputs": [],
   "source": [
    "question = \"Vad är de vanligaste arbetsuppgifterna inom Göteborg?\"\n",
    "promt = f\"\"\"Du är en rekryterare inom Media, Kultur, Design.\n",
    "Plocka ut max 5 av vanligaste kraven och max av 5 vanligaste meriterade och antal av dessa som efterfrågas i dessa jobbannonser, samt en sammanfattning av krav och meriter som du skriver ut:\n",
    "{ad_text}\n",
    "\n",
    "Output ska vara i detta formatet enbart: \n",
    "\n",
    "{{\n",
    "    \"sammanfattning\": [\"sammanfattning\"]\n",
    "    \"krav\": [erfarenhet1, erfarenhet2, ...]\n",
    "    \"antal krav\": [summa erfarenhet1..]\n",
    "    \"meriterande\": [meriterande1,meriterande2, ... ]\n",
    "    \"antal meriterande\": [summa meriterande1..]\n",
    "    \n",
    "}}\n",
    "\"\"\""
   ]
  },
  {
   "cell_type": "code",
   "execution_count": null,
   "id": "fa29a891",
   "metadata": {},
   "outputs": [
    {
     "name": "stdout",
     "output_type": "stream",
     "text": [
      "```json\n",
      "{\n",
      "    \"sammanfattning\": \"Dessa jobbannonser söker engagerade och drivna journalister och en nyhetschef med starkt intresse för lokaljournalistik och digital utveckling. Viktiga egenskaper är nyfikenhet, kreativitet, god kommunikationsförmåga och förmågan att arbeta både självständigt och i team. Ledarskapserfarenhet efterfrågas för nyhetschefsrollen.\",\n",
      "    \"krav\": [\n",
      "        \"Journalistutbildning eller motsvarande arbetslivserfarenhet\",\n",
      "        \"Erfarenhet av journalistiskt arbete på en nyhetsredaktion\",\n",
      "        \"God stilistisk förmåga och förmåga att knyta kontakter\",\n",
      "        \"B-körkort\",\n",
      "        \"Erfarenhet som redaktör/nyhetschef på en större redaktion\"\n",
      "    ],\n",
      "    \"antal krav\": [\n",
      "        3,\n",
      "        3,\n",
      "        1,\n",
      "        1,\n",
      "        1\n",
      "    ],\n",
      "    \"meriterande\": [\n",
      "        \"Erfarenhet av granskande journalistik\",\n",
      "        \"Erfarenhet av bildjournalistik\",\n",
      "        \"Kunskap om lokalområdet (Sollefteå)\",\n",
      "        \"Lokal kännedom (Helsingborg)\",\n",
      "        \"Erfarenhet av personalansvar\"\n",
      "    ],\n",
      "    \"antal meriterande\": [\n",
      "        2,\n",
      "        2,\n",
      "        1,\n",
      "        1,\n",
      "        1\n",
      "    ]\n",
      "}\n",
      "```\n",
      "```json\n",
      "{\n",
      "    \"sammanfattning\": [\"Samtliga roller kräver ett starkt intresse för samhällsfrågor och nyhetsarbete. Reporterrollerna betonar erfarenhet av redaktionellt arbete och undersökande journalistik, medan utbildningsprogrammen öppnar dörren för de utan formell journalistisk bakgrund men med engagemang och kommunikationsförmåga.\"],\n",
      "    \"krav\": [\"Relevant utbildning och/eller erfarenhet från nyhetsarbete\", \"Journalistutbildning eller motsvarande erfarenhet\", \"Erfarenhet av redaktionellt nyhetsarbete\", \"Gedigen digital kompetens\", \"Stort intresse av samhällsfrågor, kultur och nyheter\"],\n",
      "    \"antal krav\": [2, 1, 1, 1, 1],\n",
      "    \"meriterande\": [\"Fackkunskaper\", \"God förmåga att uttrycka sig i tal och skrift\", \"God lokalkännedom\", \"Brett kontaktnät\", \"Eftergymnasial utbildning\"],\n",
      "    \"antal meriterande\": [1, 1, 1, 1, 1]\n",
      "}\n",
      "```\n",
      "\n",
      "```json\n",
      "{\n",
      "    \"sammanfattning\": [\n",
      "        \"Sveriges Radio söker engagerade personer till en betald journalistutbildning med start hösten 2025. Utbildningen är skräddarsydd och kombinerar praktik på redaktionen med distansstudier. Fokus ligger på att lära sig journalistiskt hantverk, producera nyhetsinslag och utveckla ljudets kraft för att skapa engagerande innehåll. Viktigt är intresse för samhällsfrågor, kultur, nyheter och en vilja att ge röst åt fler röster. För Radio Romano är kunskaper i romani chib/språk ett plus.\"\n",
      "    ],\n",
      "    \"krav\": [\n",
      "        \"Stort intresse av samhällsfrågor, kultur och nyheter\",\n",
      "        \"Minst gymnasieutbildning\",\n",
      "        \"Anknytning till området man ska jobba i\",\n",
      "        \"Gillar att kommunicera och berätta historier\",\n",
      "        \"Kunskaper i svenska på arbetsspråksnivå\",\n",
      "        \"Står bakom public service och vårt uppdrag\",\n",
      "        \"Annan utbildning än journalistik\",\n",
      "        \"Körkort\"\n",
      "    ],\n",
      "    \"antal krav\": [\n",
      "        \"3\",\n",
      "        \"3\",\n",
      "        \"3\",\n",
      "        \"3\",\n",
      "        \"3\",\n",
      "        \"3\",\n",
      "        \"3\",\n",
      "        \"3\"\n",
      "    ],\n",
      "    \"meriterande\": [\n",
      "        \"Eftergymnasial utbildning\",\n",
      "        \"Andra språkkunskaper\",\n",
      "        \"Kunskaper i romani chib/språk (Radio Romano)\"\n",
      "    ],\n",
      "    \"antal meriterande\": [\n",
      "        \"3\",\n",
      "        \"3\",\n",
      "        \"1\"\n",
      "    ]\n",
      "}\n",
      "```\n",
      "\n",
      "```json\n",
      "{\n",
      "    \"sammanfattning\": [\n",
      "        \"Sveriges Radio söker personer med intresse för samhällsfrågor, kultur och nyheter till en betald journalistutbildning. Utbildningen syftar till att ge deltagarna grundläggande journalistiska färdigheter och möjlighet att arbeta på en redaktion. Lokalförankring till respektive område (Västerås/Gotland) är önskvärt.\"\n",
      "    ],\n",
      "    \"krav\": [\n",
      "        \"Stort intresse av samhällsfrågor, kultur och nyheter\",\n",
      "        \"Minst gymnasieutbildning\",\n",
      "        \"Anknytning till området man ska jobba i\",\n",
      "        \"Gillar att kommunicera och berätta historier\",\n",
      "        \"Kunskaper i svenska på arbetsspråksnivå\"\n",
      "    ],\n",
      "    \"antal krav\": [\n",
      "        3,\n",
      "        3,\n",
      "        3,\n",
      "        3,\n",
      "        3\n",
      "    ],\n",
      "    \"meriterande\": [\n",
      "        \"Eftergymnasial utbildning\",\n",
      "        \"Andra språkkunskaper\",\n",
      "        \"Annan utbildning än journalistik\",\n",
      "        \"Körkort\"\n",
      "    ],\n",
      "    \"antal meriterande\": [\n",
      "        3,\n",
      "        3,\n",
      "        3,\n",
      "        3\n",
      "    ]\n",
      "}\n",
      "```\n",
      "```json\n",
      "{\n",
      "    \"sammanfattning\": [\n",
      "        \"Sammanfattning: Dessa jobbannonser söker engagerade individer med intresse för samhällsfrågor, journalistik och att göra skillnad. Annonserna betonar vikten av lokalkännedom, god kommunikationsförmåga och en stark inre moralisk kompass. Vissa roller kräver körkort och kunskaper i svenska, medan andra språkkunskaper och eftergymnasial utbildning ses som meriterande.\"\n",
      "    ],\n",
      "    \"krav\": [\n",
      "        \"Stort intresse för samhällsfrågor, kultur och nyheter\",\n",
      "        \"Gillar att kommunicera och berätta historier\",\n",
      "        \"Kunskaper i svenska på arbetsspråksnivå\",\n",
      "        \"Står bakom public service och vårt uppdrag\",\n",
      "        \"B-körkort\"\n",
      "    ],\n",
      "    \"antal krav\": [\n",
      "        4,\n",
      "        2,\n",
      "        2,\n",
      "        1,\n",
      "        1\n",
      "    ],\n",
      "    \"meriterande\": [\n",
      "        \"Eftergymnasial utbildning\",\n",
      "        \"Anknytning till området man ska jobba i\",\n",
      "        \"Andra språkkunskaper\",\n",
      "        \"Annan utbildning än journalistik\",\n",
      "        \"Erfarenhet av grävjournalistik\"\n",
      "    ],\n",
      "    \"antal meriterande\": [\n",
      "        2,\n",
      "        1,\n",
      "        2,\n",
      "        1,\n",
      "        1\n",
      "    ]\n",
      "}\n",
      "```\n",
      "\n",
      "```json\n",
      "{\n",
      "    \"sammanfattning\": [\"Sveriges Radio söker personer med intresse för samhällsfrågor och journalistik till betalda utbildningsprogram. Lokalförankring och språkkunskaper är viktiga. Ingen journalistisk erfarenhet krävs.\"],\n",
      "    \"krav\": [\"Stort intresse av samhällsfrågor, kultur och nyheter\", \"Minst gymnasieutbildning\", \"Anknytning till området man ska jobba i\", \"Gillar att kommunicera och berätta historier\", \"Står bakom public service och vårt uppdrag\"],\n",
      "    \"antal krav\": [2, 2, 2, 2, 2],\n",
      "    \"meriterande\": [\"Eftergymnasial utbildning\", \"Kunskaper i meänkieli (Pajala/Övertorneå)\", \"Kunskaper i svenska (P4 Norrbotten)\", \"Annan utbildning än journalistik\", \"Körkort\"],\n",
      "    \"antal meriterande\": [2, 1, 1, 2, 2]\n",
      "}\n",
      "```\n"
     ]
    }
   ],
   "source": [
    "from google import generativeai as oldGenai\n",
    "from google.generativeai.types import GenerationConfig\n",
    "\n",
    "#6 chunks tar 14 sekunder\n",
    "\n",
    "# config = GenerationConfig(temperature=0.0)\n",
    "\n",
    "# response = client.models.generate_content(\n",
    "#     model=\"gemini-2.0-flash\", contents=promt, generation_config={\"temperature\": 0.0}\n",
    "# )\n",
    "response_list = []\n",
    "for chunk in chunks:\n",
    "    promt = f\"\"\"Du är en rekryterare inom Media, Kultur, Design.\n",
    "    Plocka ut max 5 av vanligaste kraven och max av 5 vanligaste meriterade och antal av dessa som efterfrågas i dessa jobbannonser, samt en sammanfattning av krav och meriter som du skriver ut:\n",
    "    {chunk}\n",
    "\n",
    "    Output ska vara i detta formatet enbart: \n",
    "\n",
    "    {{\n",
    "        \"sammanfattning\": [\"sammanfattning\"]\n",
    "        \"krav\": [erfarenhet1, erfarenhet2, ...]\n",
    "        \"antal krav\": [summa erfarenhet1..]\n",
    "        \"meriterande\": [meriterande1,meriterande2, ... ]\n",
    "        \"antal meriterande\": [summa meriterande1..]\n",
    "        \n",
    "    }}\n",
    "    \"\"\"\n",
    "    model = oldGenai.GenerativeModel(\n",
    "        model_name=\"gemini-2.0-flash\",\n",
    "        generation_config=GenerationConfig(\n",
    "            temperature=0.0,         \n",
    "            top_p=1.0,  # Säkerställer att sampling inte påverkas   #verkar inte göra skillnad\n",
    "            top_k=1     # Tar bort variation)                       #verkar inte göra skillnad    \n",
    "        )\n",
    "    )\n",
    "    response = model.generate_content(promt)\n",
    "    print(response.text)\n",
    "    response_list.append(response.text)\n"
   ]
  },
  {
   "cell_type": "code",
   "execution_count": 101,
   "metadata": {},
   "outputs": [
    {
     "data": {
      "text/plain": [
       "['```json\\n{\\n    \"sammanfattning\": \"Dessa jobbannonser söker engagerade och drivna journalister och en nyhetschef med starkt intresse för lokaljournalistik och digital utveckling. Viktiga egenskaper är nyfikenhet, kreativitet, god kommunikationsförmåga och förmågan att arbeta både självständigt och i team. Ledarskapserfarenhet efterfrågas för nyhetschefsrollen.\",\\n    \"krav\": [\\n        \"Journalistutbildning eller motsvarande arbetslivserfarenhet\",\\n        \"Erfarenhet av journalistiskt arbete på en nyhetsredaktion\",\\n        \"God stilistisk förmåga och förmåga att knyta kontakter\",\\n        \"B-körkort\",\\n        \"Erfarenhet som redaktör/nyhetschef på en större redaktion\"\\n    ],\\n    \"antal krav\": [\\n        3,\\n        3,\\n        1,\\n        1,\\n        1\\n    ],\\n    \"meriterande\": [\\n        \"Erfarenhet av granskande journalistik\",\\n        \"Erfarenhet av bildjournalistik\",\\n        \"Kunskap om lokalområdet (Sollefteå)\",\\n        \"Lokal kännedom (Helsingborg)\",\\n        \"Erfarenhet av personalansvar\"\\n    ],\\n    \"antal meriterande\": [\\n        2,\\n        2,\\n        1,\\n        1,\\n        1\\n    ]\\n}\\n```',\n",
       " '```json\\n{\\n    \"sammanfattning\": [\"Samtliga roller kräver ett starkt intresse för samhällsfrågor och nyhetsarbete. Reporterrollerna betonar erfarenhet av redaktionellt arbete och undersökande journalistik, medan utbildningsprogrammen öppnar dörren för de utan formell journalistisk bakgrund men med engagemang och kommunikationsförmåga.\"],\\n    \"krav\": [\"Relevant utbildning och/eller erfarenhet från nyhetsarbete\", \"Journalistutbildning eller motsvarande erfarenhet\", \"Erfarenhet av redaktionellt nyhetsarbete\", \"Gedigen digital kompetens\", \"Stort intresse av samhällsfrågor, kultur och nyheter\"],\\n    \"antal krav\": [2, 1, 1, 1, 1],\\n    \"meriterande\": [\"Fackkunskaper\", \"God förmåga att uttrycka sig i tal och skrift\", \"God lokalkännedom\", \"Brett kontaktnät\", \"Eftergymnasial utbildning\"],\\n    \"antal meriterande\": [1, 1, 1, 1, 1]\\n}\\n```\\n',\n",
       " '```json\\n{\\n    \"sammanfattning\": [\\n        \"Sveriges Radio söker engagerade personer till en betald journalistutbildning med start hösten 2025. Utbildningen är skräddarsydd och kombinerar praktik på redaktionen med distansstudier. Fokus ligger på att lära sig journalistiskt hantverk, producera nyhetsinslag och utveckla ljudets kraft för att skapa engagerande innehåll. Viktigt är intresse för samhällsfrågor, kultur, nyheter och en vilja att ge röst åt fler röster. För Radio Romano är kunskaper i romani chib/språk ett plus.\"\\n    ],\\n    \"krav\": [\\n        \"Stort intresse av samhällsfrågor, kultur och nyheter\",\\n        \"Minst gymnasieutbildning\",\\n        \"Anknytning till området man ska jobba i\",\\n        \"Gillar att kommunicera och berätta historier\",\\n        \"Kunskaper i svenska på arbetsspråksnivå\",\\n        \"Står bakom public service och vårt uppdrag\",\\n        \"Annan utbildning än journalistik\",\\n        \"Körkort\"\\n    ],\\n    \"antal krav\": [\\n        \"3\",\\n        \"3\",\\n        \"3\",\\n        \"3\",\\n        \"3\",\\n        \"3\",\\n        \"3\",\\n        \"3\"\\n    ],\\n    \"meriterande\": [\\n        \"Eftergymnasial utbildning\",\\n        \"Andra språkkunskaper\",\\n        \"Kunskaper i romani chib/språk (Radio Romano)\"\\n    ],\\n    \"antal meriterande\": [\\n        \"3\",\\n        \"3\",\\n        \"1\"\\n    ]\\n}\\n```\\n',\n",
       " '```json\\n{\\n    \"sammanfattning\": [\\n        \"Sveriges Radio söker personer med intresse för samhällsfrågor, kultur och nyheter till en betald journalistutbildning. Utbildningen syftar till att ge deltagarna grundläggande journalistiska färdigheter och möjlighet att arbeta på en redaktion. Lokalförankring till respektive område (Västerås/Gotland) är önskvärt.\"\\n    ],\\n    \"krav\": [\\n        \"Stort intresse av samhällsfrågor, kultur och nyheter\",\\n        \"Minst gymnasieutbildning\",\\n        \"Anknytning till området man ska jobba i\",\\n        \"Gillar att kommunicera och berätta historier\",\\n        \"Kunskaper i svenska på arbetsspråksnivå\"\\n    ],\\n    \"antal krav\": [\\n        3,\\n        3,\\n        3,\\n        3,\\n        3\\n    ],\\n    \"meriterande\": [\\n        \"Eftergymnasial utbildning\",\\n        \"Andra språkkunskaper\",\\n        \"Annan utbildning än journalistik\",\\n        \"Körkort\"\\n    ],\\n    \"antal meriterande\": [\\n        3,\\n        3,\\n        3,\\n        3\\n    ]\\n}\\n```',\n",
       " '```json\\n{\\n    \"sammanfattning\": [\\n        \"Sammanfattning: Dessa jobbannonser söker engagerade individer med intresse för samhällsfrågor, journalistik och att göra skillnad. Annonserna betonar vikten av lokalkännedom, god kommunikationsförmåga och en stark inre moralisk kompass. Vissa roller kräver körkort och kunskaper i svenska, medan andra språkkunskaper och eftergymnasial utbildning ses som meriterande.\"\\n    ],\\n    \"krav\": [\\n        \"Stort intresse för samhällsfrågor, kultur och nyheter\",\\n        \"Gillar att kommunicera och berätta historier\",\\n        \"Kunskaper i svenska på arbetsspråksnivå\",\\n        \"Står bakom public service och vårt uppdrag\",\\n        \"B-körkort\"\\n    ],\\n    \"antal krav\": [\\n        4,\\n        2,\\n        2,\\n        1,\\n        1\\n    ],\\n    \"meriterande\": [\\n        \"Eftergymnasial utbildning\",\\n        \"Anknytning till området man ska jobba i\",\\n        \"Andra språkkunskaper\",\\n        \"Annan utbildning än journalistik\",\\n        \"Erfarenhet av grävjournalistik\"\\n    ],\\n    \"antal meriterande\": [\\n        2,\\n        1,\\n        2,\\n        1,\\n        1\\n    ]\\n}\\n```\\n',\n",
       " '```json\\n{\\n    \"sammanfattning\": [\"Sveriges Radio söker personer med intresse för samhällsfrågor och journalistik till betalda utbildningsprogram. Lokalförankring och språkkunskaper är viktiga. Ingen journalistisk erfarenhet krävs.\"],\\n    \"krav\": [\"Stort intresse av samhällsfrågor, kultur och nyheter\", \"Minst gymnasieutbildning\", \"Anknytning till området man ska jobba i\", \"Gillar att kommunicera och berätta historier\", \"Står bakom public service och vårt uppdrag\"],\\n    \"antal krav\": [2, 2, 2, 2, 2],\\n    \"meriterande\": [\"Eftergymnasial utbildning\", \"Kunskaper i meänkieli (Pajala/Övertorneå)\", \"Kunskaper i svenska (P4 Norrbotten)\", \"Annan utbildning än journalistik\", \"Körkort\"],\\n    \"antal meriterande\": [2, 1, 1, 2, 2]\\n}\\n```']"
      ]
     },
     "execution_count": 101,
     "metadata": {},
     "output_type": "execute_result"
    }
   ],
   "source": [
    "response_list"
   ]
  },
  {
   "cell_type": "code",
   "execution_count": 102,
   "metadata": {},
   "outputs": [
    {
     "name": "stdout",
     "output_type": "stream",
     "text": [
      "```json\n",
      "{\n",
      "    \"sammanfattning\": [\n",
      "        \"Dessa jobbannonser söker engagerade och drivna journalister och en nyhetschef med starkt intresse för lokaljournalistik och digital utveckling. Viktiga egenskaper är nyfikenhet, kreativitet, god kommunikationsförmåga och förmågan att arbeta både självständigt och i team. Ledarskapserfarenhet efterfrågas för nyhetschefsrollen.\",\n",
      "        \"Samtliga roller kräver ett starkt intresse för samhällsfrågor och nyhetsarbete. Reporterrollerna betonar erfarenhet av redaktionellt arbete och undersökande journalistik, medan utbildningsprogrammen öppnar dörren för de utan formell journalistisk bakgrund men med engagemang och kommunikationsförmåga.\",\n",
      "        \"Sveriges Radio söker engagerade personer till en betald journalistutbildning med start hösten 2025. Utbildningen är skräddarsydd och kombinerar praktik på redaktionen med distansstudier. Fokus ligger på att lära sig journalistiskt hantverk, producera nyhetsinslag och utveckla ljudets kraft för att skapa engagerande innehåll. Viktigt är intresse för samhällsfrågor, kultur, nyheter och en vilja att ge röst åt fler röster. För Radio Romano är kunskaper i romani chib/språk ett plus.\",\n",
      "        \"Sveriges Radio söker personer med intresse för samhällsfrågor, kultur och nyheter till en betald journalistutbildning. Utbildningen syftar till att ge deltagarna grundläggande journalistiska färdigheter och möjlighet att arbeta på en redaktion. Lokalförankring till respektive område (Västerås/Gotland) är önskvärt.\",\n",
      "        \"Sammanfattning: Dessa jobbannonser söker engagerade individer med intresse för samhällsfrågor, journalistik och att göra skillnad. Annonserna betonar vikten av lokalkännedom, god kommunikationsförmåga och en stark inre moralisk kompass. Vissa roller kräver körkort och kunskaper i svenska, medan andra språkkunskaper och eftergymnasial utbildning ses som meriterande.\",\n",
      "        \"Sveriges Radio söker personer med intresse för samhällsfrågor och journalistik till betalda utbildningsprogram. Lokalförankring och språkkunskaper är viktiga. Ingen journalistisk erfarenhet krävs.\"\n",
      "    ],\n",
      "    \"krav\": [\n",
      "        \"Journalistutbildning eller motsvarande arbetslivserfarenhet\",\n",
      "        \"Erfarenhet av journalistiskt arbete på en nyhetsredaktion\",\n",
      "        \"God stilistisk förmåga och förmåga att knyta kontakter\",\n",
      "        \"B-körkort\",\n",
      "        \"Erfarenhet som redaktör/nyhetschef på en större redaktion\",\n",
      "        \"Relevant utbildning och/eller erfarenhet från nyhetsarbete\",\n",
      "        \"Erfarenhet av redaktionellt nyhetsarbete\",\n",
      "        \"Gedigen digital kompetens\",\n",
      "        \"Stort intresse av samhällsfrågor, kultur och nyheter\",\n",
      "        \"Minst gymnasieutbildning\",\n",
      "        \"Anknytning till området man ska jobba i\",\n",
      "        \"Gillar att kommunicera och berätta historier\",\n",
      "        \"Kunskaper i svenska på arbetsspråksnivå\",\n",
      "        \"Står bakom public service och vårt uppdrag\",\n",
      "        \"Annan utbildning än journalistik\"\n",
      "    ],\n",
      "    \"antal krav\": [\n",
      "        3,\n",
      "        3,\n",
      "        1,\n",
      "        2,\n",
      "        1,\n",
      "        2,\n",
      "        1,\n",
      "        1,\n",
      "        15,\n",
      "        8,\n",
      "        8,\n",
      "        8,\n",
      "        8,\n",
      "        6,\n",
      "        3\n",
      "    ],\n",
      "    \"meriterande\": [\n",
      "        \"Erfarenhet av granskande journalistik\",\n",
      "        \"Erfarenhet av bildjournalistik\",\n",
      "        \"Kunskap om lokalområdet (Sollefteå)\",\n",
      "        \"Lokal kännedom (Helsingborg)\",\n",
      "        \"Erfarenhet av personalansvar\",\n",
      "        \"Fackkunskaper\",\n",
      "        \"God förmåga att uttrycka sig i tal och skrift\",\n",
      "        \"God lokalkännedom\",\n",
      "        \"Brett kontaktnät\",\n",
      "        \"Eftergymnasial utbildning\",\n",
      "        \"Andra språkkunskaper\",\n",
      "        \"Kunskaper i romani chib/språk (Radio Romano)\",\n",
      "        \"Kunskaper i meänkieli (Pajala/Övertorneå)\",\n",
      "        \"Kunskaper i svenska (P4 Norrbotten)\"\n",
      "    ],\n",
      "    \"antal meriterande\": [\n",
      "        3,\n",
      "        2,\n",
      "        1,\n",
      "        1,\n",
      "        1,\n",
      "        1,\n",
      "        1,\n",
      "        1,\n",
      "        1,\n",
      "        11,\n",
      "        8,\n",
      "        1,\n",
      "        1,\n",
      "        1\n",
      "    ]\n",
      "}\n",
      "```\n"
     ]
    }
   ],
   "source": [
    "promt2 = f\"\"\"kan du analysera detta och summera till en enda dictionary: \n",
    "{response_list}\n",
    "\n",
    "    Output ska vara i detta formatet enbart: \n",
    "\n",
    "    {{\n",
    "        \"sammanfattning\": [\"sammanfattning\"]\n",
    "        \"krav\": [erfarenhet1, erfarenhet2, ...]\n",
    "        \"antal krav\": [summa erfarenhet1..]\n",
    "        \"meriterande\": [meriterande1,meriterande2, ... ]\n",
    "        \"antal meriterande\": [summa meriterande1..]\n",
    "        \n",
    "    }}\n",
    "    \"\"\"\n",
    "model = oldGenai.GenerativeModel(\n",
    "    model_name=\"gemini-2.0-flash\",\n",
    "    generation_config=GenerationConfig(\n",
    "        temperature=0.0,         \n",
    "        top_p=1.0,  # Säkerställer att sampling inte påverkas   #verkar inte göra skillnad\n",
    "        top_k=1     # Tar bort variation)                       #verkar inte göra skillnad    \n",
    "    )\n",
    ")\n",
    "response2 = model.generate_content(promt2)\n",
    "print(response2.text)\n",
    "# response_list.append(response.text)"
   ]
  },
  {
   "cell_type": "code",
   "execution_count": 104,
   "id": "abb58e2b",
   "metadata": {},
   "outputs": [
    {
     "data": {
      "text/plain": [
       "'\\n{\\n    \"sammanfattning\": [\\n        \"Dessa jobbannonser söker engagerade och drivna journalister och en nyhetschef med starkt intresse för lokaljournalistik och digital utveckling. Viktiga egenskaper är nyfikenhet, kreativitet, god kommunikationsförmåga och förmågan att arbeta både självständigt och i team. Ledarskapserfarenhet efterfrågas för nyhetschefsrollen.\",\\n        \"Samtliga roller kräver ett starkt intresse för samhällsfrågor och nyhetsarbete. Reporterrollerna betonar erfarenhet av redaktionellt arbete och undersökande journalistik, medan utbildningsprogrammen öppnar dörren för de utan formell journalistisk bakgrund men med engagemang och kommunikationsförmåga.\",\\n        \"Sveriges Radio söker engagerade personer till en betald journalistutbildning med start hösten 2025. Utbildningen är skräddarsydd och kombinerar praktik på redaktionen med distansstudier. Fokus ligger på att lära sig journalistiskt hantverk, producera nyhetsinslag och utveckla ljudets kraft för att skapa engagerande innehåll. Viktigt är intresse för samhällsfrågor, kultur, nyheter och en vilja att ge röst åt fler röster. För Radio Romano är kunskaper i romani chib/språk ett plus.\",\\n        \"Sveriges Radio söker personer med intresse för samhällsfrågor, kultur och nyheter till en betald journalistutbildning. Utbildningen syftar till att ge deltagarna grundläggande journalistiska färdigheter och möjlighet att arbeta på en redaktion. Lokalförankring till respektive område (Västerås/Gotland) är önskvärt.\",\\n        \"Sammanfattning: Dessa jobbannonser söker engagerade individer med intresse för samhällsfrågor, journalistik och att göra skillnad. Annonserna betonar vikten av lokalkännedom, god kommunikationsförmåga och en stark inre moralisk kompass. Vissa roller kräver körkort och kunskaper i svenska, medan andra språkkunskaper och eftergymnasial utbildning ses som meriterande.\",\\n        \"Sveriges Radio söker personer med intresse för samhällsfrågor och journalistik till betalda utbildningsprogram. Lokalförankring och språkkunskaper är viktiga. Ingen journalistisk erfarenhet krävs.\"\\n    ],\\n    \"krav\": [\\n        \"Journalistutbildning eller motsvarande arbetslivserfarenhet\",\\n        \"Erfarenhet av journalistiskt arbete på en nyhetsredaktion\",\\n        \"God stilistisk förmåga och förmåga att knyta kontakter\",\\n        \"B-körkort\",\\n        \"Erfarenhet som redaktör/nyhetschef på en större redaktion\",\\n        \"Relevant utbildning och/eller erfarenhet från nyhetsarbete\",\\n        \"Erfarenhet av redaktionellt nyhetsarbete\",\\n        \"Gedigen digital kompetens\",\\n        \"Stort intresse av samhällsfrågor, kultur och nyheter\",\\n        \"Minst gymnasieutbildning\",\\n        \"Anknytning till området man ska jobba i\",\\n        \"Gillar att kommunicera och berätta historier\",\\n        \"Kunskaper i svenska på arbetsspråksnivå\",\\n        \"Står bakom public service och vårt uppdrag\",\\n        \"Annan utbildning än journalistik\"\\n    ],\\n    \"antal krav\": [\\n        3,\\n        3,\\n        1,\\n        2,\\n        1,\\n        2,\\n        1,\\n        1,\\n        15,\\n        8,\\n        8,\\n        8,\\n        8,\\n        6,\\n        3\\n    ],\\n    \"meriterande\": [\\n        \"Erfarenhet av granskande journalistik\",\\n        \"Erfarenhet av bildjournalistik\",\\n        \"Kunskap om lokalområdet (Sollefteå)\",\\n        \"Lokal kännedom (Helsingborg)\",\\n        \"Erfarenhet av personalansvar\",\\n        \"Fackkunskaper\",\\n        \"God förmåga att uttrycka sig i tal och skrift\",\\n        \"God lokalkännedom\",\\n        \"Brett kontaktnät\",\\n        \"Eftergymnasial utbildning\",\\n        \"Andra språkkunskaper\",\\n        \"Kunskaper i romani chib/språk (Radio Romano)\",\\n        \"Kunskaper i meänkieli (Pajala/Övertorneå)\",\\n        \"Kunskaper i svenska (P4 Norrbotten)\"\\n    ],\\n    \"antal meriterande\": [\\n        3,\\n        2,\\n        1,\\n        1,\\n        1,\\n        1,\\n        1,\\n        1,\\n        1,\\n        11,\\n        8,\\n        1,\\n        1,\\n        1\\n    ]\\n}\\n'"
      ]
     },
     "execution_count": 104,
     "metadata": {},
     "output_type": "execute_result"
    }
   ],
   "source": [
    "# print(repr(response.text))\n",
    "import json\n",
    "data = response2.text\n",
    "cleaned = data.strip(\"```json\") #.replace(\"\\n\", \"\").strip().replace(\"  \", \"\")\n",
    "cleaned\n",
    "# data"
   ]
  },
  {
   "cell_type": "code",
   "execution_count": 105,
   "id": "6a0484de",
   "metadata": {},
   "outputs": [
    {
     "data": {
      "text/html": [
       "<div>\n",
       "<style scoped>\n",
       "    .dataframe tbody tr th:only-of-type {\n",
       "        vertical-align: middle;\n",
       "    }\n",
       "\n",
       "    .dataframe tbody tr th {\n",
       "        vertical-align: top;\n",
       "    }\n",
       "\n",
       "    .dataframe thead th {\n",
       "        text-align: right;\n",
       "    }\n",
       "</style>\n",
       "<table border=\"1\" class=\"dataframe\">\n",
       "  <thead>\n",
       "    <tr style=\"text-align: right;\">\n",
       "      <th></th>\n",
       "      <th>krav</th>\n",
       "      <th>antal krav</th>\n",
       "    </tr>\n",
       "  </thead>\n",
       "  <tbody>\n",
       "    <tr>\n",
       "      <th>0</th>\n",
       "      <td>Journalistutbildning eller motsvarande arbetsl...</td>\n",
       "      <td>3</td>\n",
       "    </tr>\n",
       "    <tr>\n",
       "      <th>1</th>\n",
       "      <td>Erfarenhet av journalistiskt arbete på en nyhe...</td>\n",
       "      <td>3</td>\n",
       "    </tr>\n",
       "    <tr>\n",
       "      <th>2</th>\n",
       "      <td>God stilistisk förmåga och förmåga att knyta k...</td>\n",
       "      <td>1</td>\n",
       "    </tr>\n",
       "    <tr>\n",
       "      <th>3</th>\n",
       "      <td>B-körkort</td>\n",
       "      <td>2</td>\n",
       "    </tr>\n",
       "    <tr>\n",
       "      <th>4</th>\n",
       "      <td>Erfarenhet som redaktör/nyhetschef på en störr...</td>\n",
       "      <td>1</td>\n",
       "    </tr>\n",
       "    <tr>\n",
       "      <th>5</th>\n",
       "      <td>Relevant utbildning och/eller erfarenhet från ...</td>\n",
       "      <td>2</td>\n",
       "    </tr>\n",
       "    <tr>\n",
       "      <th>6</th>\n",
       "      <td>Erfarenhet av redaktionellt nyhetsarbete</td>\n",
       "      <td>1</td>\n",
       "    </tr>\n",
       "    <tr>\n",
       "      <th>7</th>\n",
       "      <td>Gedigen digital kompetens</td>\n",
       "      <td>1</td>\n",
       "    </tr>\n",
       "    <tr>\n",
       "      <th>8</th>\n",
       "      <td>Stort intresse av samhällsfrågor, kultur och n...</td>\n",
       "      <td>15</td>\n",
       "    </tr>\n",
       "    <tr>\n",
       "      <th>9</th>\n",
       "      <td>Minst gymnasieutbildning</td>\n",
       "      <td>8</td>\n",
       "    </tr>\n",
       "    <tr>\n",
       "      <th>10</th>\n",
       "      <td>Anknytning till området man ska jobba i</td>\n",
       "      <td>8</td>\n",
       "    </tr>\n",
       "    <tr>\n",
       "      <th>11</th>\n",
       "      <td>Gillar att kommunicera och berätta historier</td>\n",
       "      <td>8</td>\n",
       "    </tr>\n",
       "    <tr>\n",
       "      <th>12</th>\n",
       "      <td>Kunskaper i svenska på arbetsspråksnivå</td>\n",
       "      <td>8</td>\n",
       "    </tr>\n",
       "    <tr>\n",
       "      <th>13</th>\n",
       "      <td>Står bakom public service och vårt uppdrag</td>\n",
       "      <td>6</td>\n",
       "    </tr>\n",
       "    <tr>\n",
       "      <th>14</th>\n",
       "      <td>Annan utbildning än journalistik</td>\n",
       "      <td>3</td>\n",
       "    </tr>\n",
       "  </tbody>\n",
       "</table>\n",
       "</div>"
      ],
      "text/plain": [
       "                                                 krav  antal krav\n",
       "0   Journalistutbildning eller motsvarande arbetsl...           3\n",
       "1   Erfarenhet av journalistiskt arbete på en nyhe...           3\n",
       "2   God stilistisk förmåga och förmåga att knyta k...           1\n",
       "3                                           B-körkort           2\n",
       "4   Erfarenhet som redaktör/nyhetschef på en störr...           1\n",
       "5   Relevant utbildning och/eller erfarenhet från ...           2\n",
       "6            Erfarenhet av redaktionellt nyhetsarbete           1\n",
       "7                           Gedigen digital kompetens           1\n",
       "8   Stort intresse av samhällsfrågor, kultur och n...          15\n",
       "9                            Minst gymnasieutbildning           8\n",
       "10            Anknytning till området man ska jobba i           8\n",
       "11       Gillar att kommunicera och berätta historier           8\n",
       "12            Kunskaper i svenska på arbetsspråksnivå           8\n",
       "13         Står bakom public service och vårt uppdrag           6\n",
       "14                   Annan utbildning än journalistik           3"
      ]
     },
     "execution_count": 105,
     "metadata": {},
     "output_type": "execute_result"
    }
   ],
   "source": [
    "type(cleaned)\n",
    "import pandas as pd\n",
    "data = json.loads(cleaned)\n",
    "\n",
    "df_krav = pd.DataFrame({\n",
    "    \"krav\": data[\"krav\"], \n",
    "    \"antal krav\": data[\"antal krav\"]\n",
    "})\n",
    "df_krav\n",
    "# df = pd.DataFrame(data)\n",
    "# df\n",
    "# df = pd.DataFrame(df)\n",
    "# df"
   ]
  },
  {
   "cell_type": "code",
   "execution_count": 106,
   "id": "297facf5",
   "metadata": {},
   "outputs": [
    {
     "data": {
      "text/html": [
       "<div>\n",
       "<style scoped>\n",
       "    .dataframe tbody tr th:only-of-type {\n",
       "        vertical-align: middle;\n",
       "    }\n",
       "\n",
       "    .dataframe tbody tr th {\n",
       "        vertical-align: top;\n",
       "    }\n",
       "\n",
       "    .dataframe thead th {\n",
       "        text-align: right;\n",
       "    }\n",
       "</style>\n",
       "<table border=\"1\" class=\"dataframe\">\n",
       "  <thead>\n",
       "    <tr style=\"text-align: right;\">\n",
       "      <th></th>\n",
       "      <th>meriterande</th>\n",
       "      <th>antal meriterande</th>\n",
       "    </tr>\n",
       "  </thead>\n",
       "  <tbody>\n",
       "    <tr>\n",
       "      <th>0</th>\n",
       "      <td>Erfarenhet av granskande journalistik</td>\n",
       "      <td>3</td>\n",
       "    </tr>\n",
       "    <tr>\n",
       "      <th>1</th>\n",
       "      <td>Erfarenhet av bildjournalistik</td>\n",
       "      <td>2</td>\n",
       "    </tr>\n",
       "    <tr>\n",
       "      <th>2</th>\n",
       "      <td>Kunskap om lokalområdet (Sollefteå)</td>\n",
       "      <td>1</td>\n",
       "    </tr>\n",
       "    <tr>\n",
       "      <th>3</th>\n",
       "      <td>Lokal kännedom (Helsingborg)</td>\n",
       "      <td>1</td>\n",
       "    </tr>\n",
       "    <tr>\n",
       "      <th>4</th>\n",
       "      <td>Erfarenhet av personalansvar</td>\n",
       "      <td>1</td>\n",
       "    </tr>\n",
       "    <tr>\n",
       "      <th>5</th>\n",
       "      <td>Fackkunskaper</td>\n",
       "      <td>1</td>\n",
       "    </tr>\n",
       "    <tr>\n",
       "      <th>6</th>\n",
       "      <td>God förmåga att uttrycka sig i tal och skrift</td>\n",
       "      <td>1</td>\n",
       "    </tr>\n",
       "    <tr>\n",
       "      <th>7</th>\n",
       "      <td>God lokalkännedom</td>\n",
       "      <td>1</td>\n",
       "    </tr>\n",
       "    <tr>\n",
       "      <th>8</th>\n",
       "      <td>Brett kontaktnät</td>\n",
       "      <td>1</td>\n",
       "    </tr>\n",
       "    <tr>\n",
       "      <th>9</th>\n",
       "      <td>Eftergymnasial utbildning</td>\n",
       "      <td>11</td>\n",
       "    </tr>\n",
       "    <tr>\n",
       "      <th>10</th>\n",
       "      <td>Andra språkkunskaper</td>\n",
       "      <td>8</td>\n",
       "    </tr>\n",
       "    <tr>\n",
       "      <th>11</th>\n",
       "      <td>Kunskaper i romani chib/språk (Radio Romano)</td>\n",
       "      <td>1</td>\n",
       "    </tr>\n",
       "    <tr>\n",
       "      <th>12</th>\n",
       "      <td>Kunskaper i meänkieli (Pajala/Övertorneå)</td>\n",
       "      <td>1</td>\n",
       "    </tr>\n",
       "    <tr>\n",
       "      <th>13</th>\n",
       "      <td>Kunskaper i svenska (P4 Norrbotten)</td>\n",
       "      <td>1</td>\n",
       "    </tr>\n",
       "  </tbody>\n",
       "</table>\n",
       "</div>"
      ],
      "text/plain": [
       "                                      meriterande  antal meriterande\n",
       "0           Erfarenhet av granskande journalistik                  3\n",
       "1                  Erfarenhet av bildjournalistik                  2\n",
       "2             Kunskap om lokalområdet (Sollefteå)                  1\n",
       "3                    Lokal kännedom (Helsingborg)                  1\n",
       "4                    Erfarenhet av personalansvar                  1\n",
       "5                                   Fackkunskaper                  1\n",
       "6   God förmåga att uttrycka sig i tal och skrift                  1\n",
       "7                               God lokalkännedom                  1\n",
       "8                                Brett kontaktnät                  1\n",
       "9                       Eftergymnasial utbildning                 11\n",
       "10                           Andra språkkunskaper                  8\n",
       "11   Kunskaper i romani chib/språk (Radio Romano)                  1\n",
       "12      Kunskaper i meänkieli (Pajala/Övertorneå)                  1\n",
       "13            Kunskaper i svenska (P4 Norrbotten)                  1"
      ]
     },
     "execution_count": 106,
     "metadata": {},
     "output_type": "execute_result"
    }
   ],
   "source": [
    "df_merit = pd.DataFrame({\n",
    "    \"meriterande\": data[\"meriterande\"],\n",
    "    \"antal meriterande\": data[\"antal meriterande\"]\n",
    "})\n",
    "df_merit"
   ]
  },
  {
   "cell_type": "code",
   "execution_count": 107,
   "id": "fbeb61a6",
   "metadata": {},
   "outputs": [
    {
     "data": {
      "text/plain": [
       "['Dessa jobbannonser söker engagerade och drivna journalister och en nyhetschef med starkt intresse för lokaljournalistik och digital utveckling. Viktiga egenskaper är nyfikenhet, kreativitet, god kommunikationsförmåga och förmågan att arbeta både självständigt och i team. Ledarskapserfarenhet efterfrågas för nyhetschefsrollen.',\n",
       " 'Samtliga roller kräver ett starkt intresse för samhällsfrågor och nyhetsarbete. Reporterrollerna betonar erfarenhet av redaktionellt arbete och undersökande journalistik, medan utbildningsprogrammen öppnar dörren för de utan formell journalistisk bakgrund men med engagemang och kommunikationsförmåga.',\n",
       " 'Sveriges Radio söker engagerade personer till en betald journalistutbildning med start hösten 2025. Utbildningen är skräddarsydd och kombinerar praktik på redaktionen med distansstudier. Fokus ligger på att lära sig journalistiskt hantverk, producera nyhetsinslag och utveckla ljudets kraft för att skapa engagerande innehåll. Viktigt är intresse för samhällsfrågor, kultur, nyheter och en vilja att ge röst åt fler röster. För Radio Romano är kunskaper i romani chib/språk ett plus.',\n",
       " 'Sveriges Radio söker personer med intresse för samhällsfrågor, kultur och nyheter till en betald journalistutbildning. Utbildningen syftar till att ge deltagarna grundläggande journalistiska färdigheter och möjlighet att arbeta på en redaktion. Lokalförankring till respektive område (Västerås/Gotland) är önskvärt.',\n",
       " 'Sammanfattning: Dessa jobbannonser söker engagerade individer med intresse för samhällsfrågor, journalistik och att göra skillnad. Annonserna betonar vikten av lokalkännedom, god kommunikationsförmåga och en stark inre moralisk kompass. Vissa roller kräver körkort och kunskaper i svenska, medan andra språkkunskaper och eftergymnasial utbildning ses som meriterande.',\n",
       " 'Sveriges Radio söker personer med intresse för samhällsfrågor och journalistik till betalda utbildningsprogram. Lokalförankring och språkkunskaper är viktiga. Ingen journalistisk erfarenhet krävs.']"
      ]
     },
     "execution_count": 107,
     "metadata": {},
     "output_type": "execute_result"
    }
   ],
   "source": [
    "sammanfattning = data[\"sammanfattning\"]\n",
    "sammanfattning"
   ]
  },
  {
   "cell_type": "code",
   "execution_count": 108,
   "id": "10879835",
   "metadata": {},
   "outputs": [
    {
     "data": {
      "application/vnd.plotly.v1+json": {
       "config": {
        "plotlyServerURL": "https://plot.ly"
       },
       "data": [
        {
         "hovertemplate": "krav=%{x}<br>antal krav=%{y}<extra></extra>",
         "legendgroup": "",
         "marker": {
          "color": "#636efa",
          "pattern": {
           "shape": ""
          }
         },
         "name": "",
         "orientation": "v",
         "showlegend": false,
         "textposition": "auto",
         "type": "bar",
         "x": [
          "Journalistutbildning eller motsvarande arbetslivserfarenhet",
          "Erfarenhet av journalistiskt arbete på en nyhetsredaktion",
          "God stilistisk förmåga och förmåga att knyta kontakter",
          "B-körkort",
          "Erfarenhet som redaktör/nyhetschef på en större redaktion",
          "Relevant utbildning och/eller erfarenhet från nyhetsarbete",
          "Erfarenhet av redaktionellt nyhetsarbete",
          "Gedigen digital kompetens",
          "Stort intresse av samhällsfrågor, kultur och nyheter",
          "Minst gymnasieutbildning",
          "Anknytning till området man ska jobba i",
          "Gillar att kommunicera och berätta historier",
          "Kunskaper i svenska på arbetsspråksnivå",
          "Står bakom public service och vårt uppdrag",
          "Annan utbildning än journalistik"
         ],
         "xaxis": "x",
         "y": {
          "bdata": "AwMBAgECAQEPCAgICAYD",
          "dtype": "i1"
         },
         "yaxis": "y"
        }
       ],
       "layout": {
        "barmode": "relative",
        "legend": {
         "tracegroupgap": 0
        },
        "margin": {
         "t": 60
        },
        "template": {
         "data": {
          "bar": [
           {
            "error_x": {
             "color": "#2a3f5f"
            },
            "error_y": {
             "color": "#2a3f5f"
            },
            "marker": {
             "line": {
              "color": "#E5ECF6",
              "width": 0.5
             },
             "pattern": {
              "fillmode": "overlay",
              "size": 10,
              "solidity": 0.2
             }
            },
            "type": "bar"
           }
          ],
          "barpolar": [
           {
            "marker": {
             "line": {
              "color": "#E5ECF6",
              "width": 0.5
             },
             "pattern": {
              "fillmode": "overlay",
              "size": 10,
              "solidity": 0.2
             }
            },
            "type": "barpolar"
           }
          ],
          "carpet": [
           {
            "aaxis": {
             "endlinecolor": "#2a3f5f",
             "gridcolor": "white",
             "linecolor": "white",
             "minorgridcolor": "white",
             "startlinecolor": "#2a3f5f"
            },
            "baxis": {
             "endlinecolor": "#2a3f5f",
             "gridcolor": "white",
             "linecolor": "white",
             "minorgridcolor": "white",
             "startlinecolor": "#2a3f5f"
            },
            "type": "carpet"
           }
          ],
          "choropleth": [
           {
            "colorbar": {
             "outlinewidth": 0,
             "ticks": ""
            },
            "type": "choropleth"
           }
          ],
          "contour": [
           {
            "colorbar": {
             "outlinewidth": 0,
             "ticks": ""
            },
            "colorscale": [
             [
              0,
              "#0d0887"
             ],
             [
              0.1111111111111111,
              "#46039f"
             ],
             [
              0.2222222222222222,
              "#7201a8"
             ],
             [
              0.3333333333333333,
              "#9c179e"
             ],
             [
              0.4444444444444444,
              "#bd3786"
             ],
             [
              0.5555555555555556,
              "#d8576b"
             ],
             [
              0.6666666666666666,
              "#ed7953"
             ],
             [
              0.7777777777777778,
              "#fb9f3a"
             ],
             [
              0.8888888888888888,
              "#fdca26"
             ],
             [
              1,
              "#f0f921"
             ]
            ],
            "type": "contour"
           }
          ],
          "contourcarpet": [
           {
            "colorbar": {
             "outlinewidth": 0,
             "ticks": ""
            },
            "type": "contourcarpet"
           }
          ],
          "heatmap": [
           {
            "colorbar": {
             "outlinewidth": 0,
             "ticks": ""
            },
            "colorscale": [
             [
              0,
              "#0d0887"
             ],
             [
              0.1111111111111111,
              "#46039f"
             ],
             [
              0.2222222222222222,
              "#7201a8"
             ],
             [
              0.3333333333333333,
              "#9c179e"
             ],
             [
              0.4444444444444444,
              "#bd3786"
             ],
             [
              0.5555555555555556,
              "#d8576b"
             ],
             [
              0.6666666666666666,
              "#ed7953"
             ],
             [
              0.7777777777777778,
              "#fb9f3a"
             ],
             [
              0.8888888888888888,
              "#fdca26"
             ],
             [
              1,
              "#f0f921"
             ]
            ],
            "type": "heatmap"
           }
          ],
          "histogram": [
           {
            "marker": {
             "pattern": {
              "fillmode": "overlay",
              "size": 10,
              "solidity": 0.2
             }
            },
            "type": "histogram"
           }
          ],
          "histogram2d": [
           {
            "colorbar": {
             "outlinewidth": 0,
             "ticks": ""
            },
            "colorscale": [
             [
              0,
              "#0d0887"
             ],
             [
              0.1111111111111111,
              "#46039f"
             ],
             [
              0.2222222222222222,
              "#7201a8"
             ],
             [
              0.3333333333333333,
              "#9c179e"
             ],
             [
              0.4444444444444444,
              "#bd3786"
             ],
             [
              0.5555555555555556,
              "#d8576b"
             ],
             [
              0.6666666666666666,
              "#ed7953"
             ],
             [
              0.7777777777777778,
              "#fb9f3a"
             ],
             [
              0.8888888888888888,
              "#fdca26"
             ],
             [
              1,
              "#f0f921"
             ]
            ],
            "type": "histogram2d"
           }
          ],
          "histogram2dcontour": [
           {
            "colorbar": {
             "outlinewidth": 0,
             "ticks": ""
            },
            "colorscale": [
             [
              0,
              "#0d0887"
             ],
             [
              0.1111111111111111,
              "#46039f"
             ],
             [
              0.2222222222222222,
              "#7201a8"
             ],
             [
              0.3333333333333333,
              "#9c179e"
             ],
             [
              0.4444444444444444,
              "#bd3786"
             ],
             [
              0.5555555555555556,
              "#d8576b"
             ],
             [
              0.6666666666666666,
              "#ed7953"
             ],
             [
              0.7777777777777778,
              "#fb9f3a"
             ],
             [
              0.8888888888888888,
              "#fdca26"
             ],
             [
              1,
              "#f0f921"
             ]
            ],
            "type": "histogram2dcontour"
           }
          ],
          "mesh3d": [
           {
            "colorbar": {
             "outlinewidth": 0,
             "ticks": ""
            },
            "type": "mesh3d"
           }
          ],
          "parcoords": [
           {
            "line": {
             "colorbar": {
              "outlinewidth": 0,
              "ticks": ""
             }
            },
            "type": "parcoords"
           }
          ],
          "pie": [
           {
            "automargin": true,
            "type": "pie"
           }
          ],
          "scatter": [
           {
            "fillpattern": {
             "fillmode": "overlay",
             "size": 10,
             "solidity": 0.2
            },
            "type": "scatter"
           }
          ],
          "scatter3d": [
           {
            "line": {
             "colorbar": {
              "outlinewidth": 0,
              "ticks": ""
             }
            },
            "marker": {
             "colorbar": {
              "outlinewidth": 0,
              "ticks": ""
             }
            },
            "type": "scatter3d"
           }
          ],
          "scattercarpet": [
           {
            "marker": {
             "colorbar": {
              "outlinewidth": 0,
              "ticks": ""
             }
            },
            "type": "scattercarpet"
           }
          ],
          "scattergeo": [
           {
            "marker": {
             "colorbar": {
              "outlinewidth": 0,
              "ticks": ""
             }
            },
            "type": "scattergeo"
           }
          ],
          "scattergl": [
           {
            "marker": {
             "colorbar": {
              "outlinewidth": 0,
              "ticks": ""
             }
            },
            "type": "scattergl"
           }
          ],
          "scattermap": [
           {
            "marker": {
             "colorbar": {
              "outlinewidth": 0,
              "ticks": ""
             }
            },
            "type": "scattermap"
           }
          ],
          "scattermapbox": [
           {
            "marker": {
             "colorbar": {
              "outlinewidth": 0,
              "ticks": ""
             }
            },
            "type": "scattermapbox"
           }
          ],
          "scatterpolar": [
           {
            "marker": {
             "colorbar": {
              "outlinewidth": 0,
              "ticks": ""
             }
            },
            "type": "scatterpolar"
           }
          ],
          "scatterpolargl": [
           {
            "marker": {
             "colorbar": {
              "outlinewidth": 0,
              "ticks": ""
             }
            },
            "type": "scatterpolargl"
           }
          ],
          "scatterternary": [
           {
            "marker": {
             "colorbar": {
              "outlinewidth": 0,
              "ticks": ""
             }
            },
            "type": "scatterternary"
           }
          ],
          "surface": [
           {
            "colorbar": {
             "outlinewidth": 0,
             "ticks": ""
            },
            "colorscale": [
             [
              0,
              "#0d0887"
             ],
             [
              0.1111111111111111,
              "#46039f"
             ],
             [
              0.2222222222222222,
              "#7201a8"
             ],
             [
              0.3333333333333333,
              "#9c179e"
             ],
             [
              0.4444444444444444,
              "#bd3786"
             ],
             [
              0.5555555555555556,
              "#d8576b"
             ],
             [
              0.6666666666666666,
              "#ed7953"
             ],
             [
              0.7777777777777778,
              "#fb9f3a"
             ],
             [
              0.8888888888888888,
              "#fdca26"
             ],
             [
              1,
              "#f0f921"
             ]
            ],
            "type": "surface"
           }
          ],
          "table": [
           {
            "cells": {
             "fill": {
              "color": "#EBF0F8"
             },
             "line": {
              "color": "white"
             }
            },
            "header": {
             "fill": {
              "color": "#C8D4E3"
             },
             "line": {
              "color": "white"
             }
            },
            "type": "table"
           }
          ]
         },
         "layout": {
          "annotationdefaults": {
           "arrowcolor": "#2a3f5f",
           "arrowhead": 0,
           "arrowwidth": 1
          },
          "autotypenumbers": "strict",
          "coloraxis": {
           "colorbar": {
            "outlinewidth": 0,
            "ticks": ""
           }
          },
          "colorscale": {
           "diverging": [
            [
             0,
             "#8e0152"
            ],
            [
             0.1,
             "#c51b7d"
            ],
            [
             0.2,
             "#de77ae"
            ],
            [
             0.3,
             "#f1b6da"
            ],
            [
             0.4,
             "#fde0ef"
            ],
            [
             0.5,
             "#f7f7f7"
            ],
            [
             0.6,
             "#e6f5d0"
            ],
            [
             0.7,
             "#b8e186"
            ],
            [
             0.8,
             "#7fbc41"
            ],
            [
             0.9,
             "#4d9221"
            ],
            [
             1,
             "#276419"
            ]
           ],
           "sequential": [
            [
             0,
             "#0d0887"
            ],
            [
             0.1111111111111111,
             "#46039f"
            ],
            [
             0.2222222222222222,
             "#7201a8"
            ],
            [
             0.3333333333333333,
             "#9c179e"
            ],
            [
             0.4444444444444444,
             "#bd3786"
            ],
            [
             0.5555555555555556,
             "#d8576b"
            ],
            [
             0.6666666666666666,
             "#ed7953"
            ],
            [
             0.7777777777777778,
             "#fb9f3a"
            ],
            [
             0.8888888888888888,
             "#fdca26"
            ],
            [
             1,
             "#f0f921"
            ]
           ],
           "sequentialminus": [
            [
             0,
             "#0d0887"
            ],
            [
             0.1111111111111111,
             "#46039f"
            ],
            [
             0.2222222222222222,
             "#7201a8"
            ],
            [
             0.3333333333333333,
             "#9c179e"
            ],
            [
             0.4444444444444444,
             "#bd3786"
            ],
            [
             0.5555555555555556,
             "#d8576b"
            ],
            [
             0.6666666666666666,
             "#ed7953"
            ],
            [
             0.7777777777777778,
             "#fb9f3a"
            ],
            [
             0.8888888888888888,
             "#fdca26"
            ],
            [
             1,
             "#f0f921"
            ]
           ]
          },
          "colorway": [
           "#636efa",
           "#EF553B",
           "#00cc96",
           "#ab63fa",
           "#FFA15A",
           "#19d3f3",
           "#FF6692",
           "#B6E880",
           "#FF97FF",
           "#FECB52"
          ],
          "font": {
           "color": "#2a3f5f"
          },
          "geo": {
           "bgcolor": "white",
           "lakecolor": "white",
           "landcolor": "#E5ECF6",
           "showlakes": true,
           "showland": true,
           "subunitcolor": "white"
          },
          "hoverlabel": {
           "align": "left"
          },
          "hovermode": "closest",
          "mapbox": {
           "style": "light"
          },
          "paper_bgcolor": "white",
          "plot_bgcolor": "#E5ECF6",
          "polar": {
           "angularaxis": {
            "gridcolor": "white",
            "linecolor": "white",
            "ticks": ""
           },
           "bgcolor": "#E5ECF6",
           "radialaxis": {
            "gridcolor": "white",
            "linecolor": "white",
            "ticks": ""
           }
          },
          "scene": {
           "xaxis": {
            "backgroundcolor": "#E5ECF6",
            "gridcolor": "white",
            "gridwidth": 2,
            "linecolor": "white",
            "showbackground": true,
            "ticks": "",
            "zerolinecolor": "white"
           },
           "yaxis": {
            "backgroundcolor": "#E5ECF6",
            "gridcolor": "white",
            "gridwidth": 2,
            "linecolor": "white",
            "showbackground": true,
            "ticks": "",
            "zerolinecolor": "white"
           },
           "zaxis": {
            "backgroundcolor": "#E5ECF6",
            "gridcolor": "white",
            "gridwidth": 2,
            "linecolor": "white",
            "showbackground": true,
            "ticks": "",
            "zerolinecolor": "white"
           }
          },
          "shapedefaults": {
           "line": {
            "color": "#2a3f5f"
           }
          },
          "ternary": {
           "aaxis": {
            "gridcolor": "white",
            "linecolor": "white",
            "ticks": ""
           },
           "baxis": {
            "gridcolor": "white",
            "linecolor": "white",
            "ticks": ""
           },
           "bgcolor": "#E5ECF6",
           "caxis": {
            "gridcolor": "white",
            "linecolor": "white",
            "ticks": ""
           }
          },
          "title": {
           "x": 0.05
          },
          "xaxis": {
           "automargin": true,
           "gridcolor": "white",
           "linecolor": "white",
           "ticks": "",
           "title": {
            "standoff": 15
           },
           "zerolinecolor": "white",
           "zerolinewidth": 2
          },
          "yaxis": {
           "automargin": true,
           "gridcolor": "white",
           "linecolor": "white",
           "ticks": "",
           "title": {
            "standoff": 15
           },
           "zerolinecolor": "white",
           "zerolinewidth": 2
          }
         }
        },
        "xaxis": {
         "anchor": "y",
         "domain": [
          0,
          1
         ],
         "title": {
          "text": "krav"
         }
        },
        "yaxis": {
         "anchor": "x",
         "domain": [
          0,
          1
         ],
         "title": {
          "text": "antal krav"
         }
        }
       }
      }
     },
     "metadata": {},
     "output_type": "display_data"
    }
   ],
   "source": [
    "import plotly.express as px\n",
    "# px.pie(df, names=[\"krav\", \"meriterande\"], values=[\"antal krav\", \"antal meriterande\"])\n",
    "px.bar(df_krav, x=\"krav\", y=\"antal krav\")\n"
   ]
  },
  {
   "cell_type": "code",
   "execution_count": 109,
   "id": "a058ddf2",
   "metadata": {},
   "outputs": [
    {
     "data": {
      "application/vnd.plotly.v1+json": {
       "config": {
        "plotlyServerURL": "https://plot.ly"
       },
       "data": [
        {
         "hovertemplate": "meriterande=%{x}<br>antal meriterande=%{y}<extra></extra>",
         "legendgroup": "",
         "marker": {
          "color": "#636efa",
          "pattern": {
           "shape": ""
          }
         },
         "name": "",
         "orientation": "v",
         "showlegend": false,
         "textposition": "auto",
         "type": "bar",
         "x": [
          "Erfarenhet av granskande journalistik",
          "Erfarenhet av bildjournalistik",
          "Kunskap om lokalområdet (Sollefteå)",
          "Lokal kännedom (Helsingborg)",
          "Erfarenhet av personalansvar",
          "Fackkunskaper",
          "God förmåga att uttrycka sig i tal och skrift",
          "God lokalkännedom",
          "Brett kontaktnät",
          "Eftergymnasial utbildning",
          "Andra språkkunskaper",
          "Kunskaper i romani chib/språk (Radio Romano)",
          "Kunskaper i meänkieli (Pajala/Övertorneå)",
          "Kunskaper i svenska (P4 Norrbotten)"
         ],
         "xaxis": "x",
         "y": {
          "bdata": "AwIBAQEBAQEBCwgBAQE=",
          "dtype": "i1"
         },
         "yaxis": "y"
        }
       ],
       "layout": {
        "barmode": "relative",
        "legend": {
         "tracegroupgap": 0
        },
        "margin": {
         "t": 60
        },
        "template": {
         "data": {
          "bar": [
           {
            "error_x": {
             "color": "#2a3f5f"
            },
            "error_y": {
             "color": "#2a3f5f"
            },
            "marker": {
             "line": {
              "color": "#E5ECF6",
              "width": 0.5
             },
             "pattern": {
              "fillmode": "overlay",
              "size": 10,
              "solidity": 0.2
             }
            },
            "type": "bar"
           }
          ],
          "barpolar": [
           {
            "marker": {
             "line": {
              "color": "#E5ECF6",
              "width": 0.5
             },
             "pattern": {
              "fillmode": "overlay",
              "size": 10,
              "solidity": 0.2
             }
            },
            "type": "barpolar"
           }
          ],
          "carpet": [
           {
            "aaxis": {
             "endlinecolor": "#2a3f5f",
             "gridcolor": "white",
             "linecolor": "white",
             "minorgridcolor": "white",
             "startlinecolor": "#2a3f5f"
            },
            "baxis": {
             "endlinecolor": "#2a3f5f",
             "gridcolor": "white",
             "linecolor": "white",
             "minorgridcolor": "white",
             "startlinecolor": "#2a3f5f"
            },
            "type": "carpet"
           }
          ],
          "choropleth": [
           {
            "colorbar": {
             "outlinewidth": 0,
             "ticks": ""
            },
            "type": "choropleth"
           }
          ],
          "contour": [
           {
            "colorbar": {
             "outlinewidth": 0,
             "ticks": ""
            },
            "colorscale": [
             [
              0,
              "#0d0887"
             ],
             [
              0.1111111111111111,
              "#46039f"
             ],
             [
              0.2222222222222222,
              "#7201a8"
             ],
             [
              0.3333333333333333,
              "#9c179e"
             ],
             [
              0.4444444444444444,
              "#bd3786"
             ],
             [
              0.5555555555555556,
              "#d8576b"
             ],
             [
              0.6666666666666666,
              "#ed7953"
             ],
             [
              0.7777777777777778,
              "#fb9f3a"
             ],
             [
              0.8888888888888888,
              "#fdca26"
             ],
             [
              1,
              "#f0f921"
             ]
            ],
            "type": "contour"
           }
          ],
          "contourcarpet": [
           {
            "colorbar": {
             "outlinewidth": 0,
             "ticks": ""
            },
            "type": "contourcarpet"
           }
          ],
          "heatmap": [
           {
            "colorbar": {
             "outlinewidth": 0,
             "ticks": ""
            },
            "colorscale": [
             [
              0,
              "#0d0887"
             ],
             [
              0.1111111111111111,
              "#46039f"
             ],
             [
              0.2222222222222222,
              "#7201a8"
             ],
             [
              0.3333333333333333,
              "#9c179e"
             ],
             [
              0.4444444444444444,
              "#bd3786"
             ],
             [
              0.5555555555555556,
              "#d8576b"
             ],
             [
              0.6666666666666666,
              "#ed7953"
             ],
             [
              0.7777777777777778,
              "#fb9f3a"
             ],
             [
              0.8888888888888888,
              "#fdca26"
             ],
             [
              1,
              "#f0f921"
             ]
            ],
            "type": "heatmap"
           }
          ],
          "histogram": [
           {
            "marker": {
             "pattern": {
              "fillmode": "overlay",
              "size": 10,
              "solidity": 0.2
             }
            },
            "type": "histogram"
           }
          ],
          "histogram2d": [
           {
            "colorbar": {
             "outlinewidth": 0,
             "ticks": ""
            },
            "colorscale": [
             [
              0,
              "#0d0887"
             ],
             [
              0.1111111111111111,
              "#46039f"
             ],
             [
              0.2222222222222222,
              "#7201a8"
             ],
             [
              0.3333333333333333,
              "#9c179e"
             ],
             [
              0.4444444444444444,
              "#bd3786"
             ],
             [
              0.5555555555555556,
              "#d8576b"
             ],
             [
              0.6666666666666666,
              "#ed7953"
             ],
             [
              0.7777777777777778,
              "#fb9f3a"
             ],
             [
              0.8888888888888888,
              "#fdca26"
             ],
             [
              1,
              "#f0f921"
             ]
            ],
            "type": "histogram2d"
           }
          ],
          "histogram2dcontour": [
           {
            "colorbar": {
             "outlinewidth": 0,
             "ticks": ""
            },
            "colorscale": [
             [
              0,
              "#0d0887"
             ],
             [
              0.1111111111111111,
              "#46039f"
             ],
             [
              0.2222222222222222,
              "#7201a8"
             ],
             [
              0.3333333333333333,
              "#9c179e"
             ],
             [
              0.4444444444444444,
              "#bd3786"
             ],
             [
              0.5555555555555556,
              "#d8576b"
             ],
             [
              0.6666666666666666,
              "#ed7953"
             ],
             [
              0.7777777777777778,
              "#fb9f3a"
             ],
             [
              0.8888888888888888,
              "#fdca26"
             ],
             [
              1,
              "#f0f921"
             ]
            ],
            "type": "histogram2dcontour"
           }
          ],
          "mesh3d": [
           {
            "colorbar": {
             "outlinewidth": 0,
             "ticks": ""
            },
            "type": "mesh3d"
           }
          ],
          "parcoords": [
           {
            "line": {
             "colorbar": {
              "outlinewidth": 0,
              "ticks": ""
             }
            },
            "type": "parcoords"
           }
          ],
          "pie": [
           {
            "automargin": true,
            "type": "pie"
           }
          ],
          "scatter": [
           {
            "fillpattern": {
             "fillmode": "overlay",
             "size": 10,
             "solidity": 0.2
            },
            "type": "scatter"
           }
          ],
          "scatter3d": [
           {
            "line": {
             "colorbar": {
              "outlinewidth": 0,
              "ticks": ""
             }
            },
            "marker": {
             "colorbar": {
              "outlinewidth": 0,
              "ticks": ""
             }
            },
            "type": "scatter3d"
           }
          ],
          "scattercarpet": [
           {
            "marker": {
             "colorbar": {
              "outlinewidth": 0,
              "ticks": ""
             }
            },
            "type": "scattercarpet"
           }
          ],
          "scattergeo": [
           {
            "marker": {
             "colorbar": {
              "outlinewidth": 0,
              "ticks": ""
             }
            },
            "type": "scattergeo"
           }
          ],
          "scattergl": [
           {
            "marker": {
             "colorbar": {
              "outlinewidth": 0,
              "ticks": ""
             }
            },
            "type": "scattergl"
           }
          ],
          "scattermap": [
           {
            "marker": {
             "colorbar": {
              "outlinewidth": 0,
              "ticks": ""
             }
            },
            "type": "scattermap"
           }
          ],
          "scattermapbox": [
           {
            "marker": {
             "colorbar": {
              "outlinewidth": 0,
              "ticks": ""
             }
            },
            "type": "scattermapbox"
           }
          ],
          "scatterpolar": [
           {
            "marker": {
             "colorbar": {
              "outlinewidth": 0,
              "ticks": ""
             }
            },
            "type": "scatterpolar"
           }
          ],
          "scatterpolargl": [
           {
            "marker": {
             "colorbar": {
              "outlinewidth": 0,
              "ticks": ""
             }
            },
            "type": "scatterpolargl"
           }
          ],
          "scatterternary": [
           {
            "marker": {
             "colorbar": {
              "outlinewidth": 0,
              "ticks": ""
             }
            },
            "type": "scatterternary"
           }
          ],
          "surface": [
           {
            "colorbar": {
             "outlinewidth": 0,
             "ticks": ""
            },
            "colorscale": [
             [
              0,
              "#0d0887"
             ],
             [
              0.1111111111111111,
              "#46039f"
             ],
             [
              0.2222222222222222,
              "#7201a8"
             ],
             [
              0.3333333333333333,
              "#9c179e"
             ],
             [
              0.4444444444444444,
              "#bd3786"
             ],
             [
              0.5555555555555556,
              "#d8576b"
             ],
             [
              0.6666666666666666,
              "#ed7953"
             ],
             [
              0.7777777777777778,
              "#fb9f3a"
             ],
             [
              0.8888888888888888,
              "#fdca26"
             ],
             [
              1,
              "#f0f921"
             ]
            ],
            "type": "surface"
           }
          ],
          "table": [
           {
            "cells": {
             "fill": {
              "color": "#EBF0F8"
             },
             "line": {
              "color": "white"
             }
            },
            "header": {
             "fill": {
              "color": "#C8D4E3"
             },
             "line": {
              "color": "white"
             }
            },
            "type": "table"
           }
          ]
         },
         "layout": {
          "annotationdefaults": {
           "arrowcolor": "#2a3f5f",
           "arrowhead": 0,
           "arrowwidth": 1
          },
          "autotypenumbers": "strict",
          "coloraxis": {
           "colorbar": {
            "outlinewidth": 0,
            "ticks": ""
           }
          },
          "colorscale": {
           "diverging": [
            [
             0,
             "#8e0152"
            ],
            [
             0.1,
             "#c51b7d"
            ],
            [
             0.2,
             "#de77ae"
            ],
            [
             0.3,
             "#f1b6da"
            ],
            [
             0.4,
             "#fde0ef"
            ],
            [
             0.5,
             "#f7f7f7"
            ],
            [
             0.6,
             "#e6f5d0"
            ],
            [
             0.7,
             "#b8e186"
            ],
            [
             0.8,
             "#7fbc41"
            ],
            [
             0.9,
             "#4d9221"
            ],
            [
             1,
             "#276419"
            ]
           ],
           "sequential": [
            [
             0,
             "#0d0887"
            ],
            [
             0.1111111111111111,
             "#46039f"
            ],
            [
             0.2222222222222222,
             "#7201a8"
            ],
            [
             0.3333333333333333,
             "#9c179e"
            ],
            [
             0.4444444444444444,
             "#bd3786"
            ],
            [
             0.5555555555555556,
             "#d8576b"
            ],
            [
             0.6666666666666666,
             "#ed7953"
            ],
            [
             0.7777777777777778,
             "#fb9f3a"
            ],
            [
             0.8888888888888888,
             "#fdca26"
            ],
            [
             1,
             "#f0f921"
            ]
           ],
           "sequentialminus": [
            [
             0,
             "#0d0887"
            ],
            [
             0.1111111111111111,
             "#46039f"
            ],
            [
             0.2222222222222222,
             "#7201a8"
            ],
            [
             0.3333333333333333,
             "#9c179e"
            ],
            [
             0.4444444444444444,
             "#bd3786"
            ],
            [
             0.5555555555555556,
             "#d8576b"
            ],
            [
             0.6666666666666666,
             "#ed7953"
            ],
            [
             0.7777777777777778,
             "#fb9f3a"
            ],
            [
             0.8888888888888888,
             "#fdca26"
            ],
            [
             1,
             "#f0f921"
            ]
           ]
          },
          "colorway": [
           "#636efa",
           "#EF553B",
           "#00cc96",
           "#ab63fa",
           "#FFA15A",
           "#19d3f3",
           "#FF6692",
           "#B6E880",
           "#FF97FF",
           "#FECB52"
          ],
          "font": {
           "color": "#2a3f5f"
          },
          "geo": {
           "bgcolor": "white",
           "lakecolor": "white",
           "landcolor": "#E5ECF6",
           "showlakes": true,
           "showland": true,
           "subunitcolor": "white"
          },
          "hoverlabel": {
           "align": "left"
          },
          "hovermode": "closest",
          "mapbox": {
           "style": "light"
          },
          "paper_bgcolor": "white",
          "plot_bgcolor": "#E5ECF6",
          "polar": {
           "angularaxis": {
            "gridcolor": "white",
            "linecolor": "white",
            "ticks": ""
           },
           "bgcolor": "#E5ECF6",
           "radialaxis": {
            "gridcolor": "white",
            "linecolor": "white",
            "ticks": ""
           }
          },
          "scene": {
           "xaxis": {
            "backgroundcolor": "#E5ECF6",
            "gridcolor": "white",
            "gridwidth": 2,
            "linecolor": "white",
            "showbackground": true,
            "ticks": "",
            "zerolinecolor": "white"
           },
           "yaxis": {
            "backgroundcolor": "#E5ECF6",
            "gridcolor": "white",
            "gridwidth": 2,
            "linecolor": "white",
            "showbackground": true,
            "ticks": "",
            "zerolinecolor": "white"
           },
           "zaxis": {
            "backgroundcolor": "#E5ECF6",
            "gridcolor": "white",
            "gridwidth": 2,
            "linecolor": "white",
            "showbackground": true,
            "ticks": "",
            "zerolinecolor": "white"
           }
          },
          "shapedefaults": {
           "line": {
            "color": "#2a3f5f"
           }
          },
          "ternary": {
           "aaxis": {
            "gridcolor": "white",
            "linecolor": "white",
            "ticks": ""
           },
           "baxis": {
            "gridcolor": "white",
            "linecolor": "white",
            "ticks": ""
           },
           "bgcolor": "#E5ECF6",
           "caxis": {
            "gridcolor": "white",
            "linecolor": "white",
            "ticks": ""
           }
          },
          "title": {
           "x": 0.05
          },
          "xaxis": {
           "automargin": true,
           "gridcolor": "white",
           "linecolor": "white",
           "ticks": "",
           "title": {
            "standoff": 15
           },
           "zerolinecolor": "white",
           "zerolinewidth": 2
          },
          "yaxis": {
           "automargin": true,
           "gridcolor": "white",
           "linecolor": "white",
           "ticks": "",
           "title": {
            "standoff": 15
           },
           "zerolinecolor": "white",
           "zerolinewidth": 2
          }
         }
        },
        "xaxis": {
         "anchor": "y",
         "domain": [
          0,
          1
         ],
         "title": {
          "text": "meriterande"
         }
        },
        "yaxis": {
         "anchor": "x",
         "domain": [
          0,
          1
         ],
         "title": {
          "text": "antal meriterande"
         }
        }
       }
      }
     },
     "metadata": {},
     "output_type": "display_data"
    }
   ],
   "source": [
    "px.bar(df_merit, y=\"antal meriterande\", x=\"meriterande\")"
   ]
  },
  {
   "cell_type": "code",
   "execution_count": null,
   "id": "90690423",
   "metadata": {},
   "outputs": [],
   "source": []
  }
 ],
 "metadata": {
  "kernelspec": {
   "display_name": ".venv",
   "language": "python",
   "name": "python3"
  },
  "language_info": {
   "codemirror_mode": {
    "name": "ipython",
    "version": 3
   },
   "file_extension": ".py",
   "mimetype": "text/x-python",
   "name": "python",
   "nbconvert_exporter": "python",
   "pygments_lexer": "ipython3",
   "version": "3.12.2"
  }
 },
 "nbformat": 4,
 "nbformat_minor": 5
}

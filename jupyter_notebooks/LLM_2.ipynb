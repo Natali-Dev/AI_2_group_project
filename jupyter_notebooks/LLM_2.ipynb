{
 "cells": [
  {
   "cell_type": "code",
   "execution_count": null,
   "id": "6ae48bfa",
   "metadata": {},
   "outputs": [],
   "source": [
    "import duckdb\n",
    "with duckdb.connect(\"../ads_data.duckdb\") as con: \n",
    "    df_mart = con.execute(\"SELECT * FROM mart.mart_kultur_media\").df()\n",
    "df_test = df_mart \n",
    "\n",
    "top_employer = df_test.groupby(\"occupation\")[[\"vacancies\", \"description\"]].sum().sort_values(by=\"vacancies\", ascending=False).reset_index()\n",
    "\n",
    "top_employer\n",
    "\n",
    "nr_1 = top_employer[[\"occupation\",\"description\"]].iloc[3]\n",
    "nr_1.to_csv(\"for_gemini.txt\")"
   ]
  },
  {
   "cell_type": "code",
   "execution_count": 4,
   "id": "522b63de",
   "metadata": {},
   "outputs": [
    {
     "name": "stdout",
     "output_type": "stream",
     "text": [
      "```json\n",
      "{\n",
      "    \"ArkDes\": {\n",
      "        \"sammanfattning\": [\n",
      "            \"Söker en assistent till bibliotek och forskarservice med fokus på informationsdisk, litteratursökning, och stöd till forskarservice. Vikt läggs vid struktur, noggrannhet, serviceinriktning och intresse för arkitektur och design.\"\n",
      "        ],\n",
      "        \"krav\": [\n",
      "            \"Relevant akademisk examen (arkitektur, konstvetenskap, biblioteksvetenskap eller likvärdigt)\",\n",
      "            \"Dokumenterad erfarenhet av liknande arbetsuppgifter\",\n",
      "            \"Arbetslivserfarenhet från bibliotek och museisektorn\"\n",
      "        ],\n",
      "        \"antal krav\": [\n",
      "            1,\n",
      "            1,\n",
      "            1\n",
      "        ],\n",
      "        \"meriterande\": [\n",
      "            \"Erfarenhet av att ha jobbat med ArkDes samlingar och/eller bibliotek\",\n",
      "            \"Övriga språkkunskaper\"\n",
      "        ],\n",
      "        \"antal meriterande\": [\n",
      "            1,\n",
      "            1\n",
      "        ]\n",
      "    },\n",
      "    \"Södertörns Gymnasium\": {\n",
      "        \"sammanfattning\": [\n",
      "            \"Söker en skolbibliotekarie/administratör som ska ansvara för bibliotekets drift, läsfrämjande aktiviteter och ge administrativt stöd till skolan. Vikt läggs vid serviceinriktning, initiativförmåga och god språklig säkerhet.\"\n",
      "        ],\n",
      "        \"krav\": [\n",
      "            \"Serviceinriktad\",\n",
      "            \"Initiativtagande\",\n",
      "            \"Strukturerad\"\n",
      "        ],\n",
      "        \"antal krav\": [\n",
      "            1,\n",
      "            1,\n",
      "            1\n",
      "        ],\n",
      "        \"meriterande\": [\n",
      "            \"Erfarenhet av arbete i skolmiljö\"\n",
      "        ],\n",
      "        \"antal meriterande\": [\n",
      "            1\n",
      "        ]\n",
      "    },\n",
      "    \"Storvretabiblioteket och Vattholmabiblioteket\": {\n",
      "        \"sammanfattning\": [\n",
      "            \"Söker en driven bibliotekarie med intresse för läsfrämjande gentemot barn och unga, samverkan och nyskapande inom biblioteksverksamhet.\"\n",
      "        ],\n",
      "        \"krav\": [],\n",
      "        \"antal krav\": [],\n",
      "        \"meriterande\": [],\n",
      "        \"antal meriterande\": []\n",
      "    }\n",
      "}\n",
      "```\n",
      "```json\n",
      "{\n",
      "    \"sammanfattning\": [\n",
      "        \"Fokus på barn och ungas fria tid kopplat till läsfrämjande verksamhet. Arbeta läsfrämjande för barn och unga med särskilt fokus på unga i åldern 13-18 år. Inspirera och främja barn och ungas läsning genom medier, aktiviteter och delaktighet - i biblioteket och i samverkan med närområdet.\",\n",
      "        \"Tjänsten lämpar sig väl för dig som söker en mindre men meningsfull tjänst i en kreativ och pedagogisk miljö, med god möjlighet att påverka innehållet i din arbetsdag.\",\n",
      "        \"Vi arbetar för att skapa tillgängliga och välkomnande bibliotek som ska skapa lust till läsning och främja möten mellan människor.\"\n",
      "    ],\n",
      "    \"krav\": [\n",
      "        \"Examen i biblioteks- och informationsvetenskap\",\n",
      "        \"Erfarenhet av biblioteksarbete med barn och unga\",\n",
      "        \"God samarbetsförmåga och har lätt för att skapa relationer\"\n",
      "    ],\n",
      "    \"antal krav\": [\n",
      "        3,\n",
      "        3,\n",
      "        2\n",
      "    ],\n",
      "    \"meriterande\": [\n",
      "        \"Kunskaper i andra språk än engelska\",\n",
      "        \"Erfarenhet av folkbildning, vuxenutbildning eller arbete på folkhögskola\",\n",
      "        \"Erfarenhet av läsfrämjande arbete för barn och unga\"\n",
      "    ],\n",
      "    \"antal meriterande\": [\n",
      "        1,\n",
      "        1,\n",
      "        2\n",
      "    ]\n",
      "}\n",
      "```\n",
      "\n",
      "```json\n",
      "{\n",
      "    \"sammanfattning\": [\n",
      "        \"Båda annonserna söker bibliotekarier med fokus på barn och ungdom. Den ena tjänsten är mer inriktad på skolbiblioteksverksamhet och läsfrämjande aktiviteter, medan den andra tjänsten innebär att bygga upp en ny biblioteksverksamhet från grunden i en skola.\"\n",
      "    ],\n",
      "    \"krav\": [\n",
      "        \"Examen i biblioteks- och informationsvetenskap\",\n",
      "        \"Intresse och kunskap inom barn- och ungdomslitteratur och läsfrämjande aktiviteter\",\n",
      "        \"God digital kompetens\"\n",
      "    ],\n",
      "    \"antal krav\": [\n",
      "        2,\n",
      "        2,\n",
      "        2\n",
      "    ],\n",
      "    \"meriterande\": [\n",
      "        \"Erfarenhet av arbete som skolbibliotekarie\",\n",
      "        \"Erfarenhet av att arbeta med elever som har andra modersmål än svenska\",\n",
      "        \"Erfarenhet av arbete inom pedagogisk verksamhet\"\n",
      "    ],\n",
      "    \"antal meriterande\": [\n",
      "        1,\n",
      "        1,\n",
      "        1\n",
      "    ]\n",
      "}\n",
      "```\n",
      "```json\n",
      "{\n",
      "    \"sammanfattning\": [\n",
      "        \"Bibliotekarie med fokus på besökaren, läsfrämjande och samverkan. Samordningsansvar för daglig drift och utveckling av biblioteksverksamheten.\"\n",
      "    ],\n",
      "    \"krav\": [\n",
      "        \"Examen från bibliotekshögskola/informations- och biblioteksvetenskap\",\n",
      "        \"Erfarenhet av arbete i folkbibliotek\",\n",
      "        \"Svenska i tal och skrift\"\n",
      "    ],\n",
      "    \"antal krav\": [\n",
      "        \"2\",\n",
      "        \"1\",\n",
      "        \"2\"\n",
      "    ],\n",
      "    \"meriterande\": [\n",
      "        \"Ytterligare språk utöver svenska och engelska\",\n",
      "        \"Erfarenhet av att ingå i projekt med olika aktörer\",\n",
      "        \"Goda digitala kunskaper\"\n",
      "    ],\n",
      "    \"antal meriterande\": [\n",
      "        \"1\",\n",
      "        \"1\",\n",
      "        \"1\"\n",
      "    ]\n",
      "}\n",
      "```\n",
      "```json\n",
      "{\n",
      "    \"sammanfattning\": [\n",
      "        \"Bibliotekarie med fokus på barn och unga, läsfrämjande, programverksamhet, informationskompetens och samverkan. Digital kompetens och serviceinriktad personlighet är viktigt.\"\n",
      "    ],\n",
      "    \"krav\": [\n",
      "        \"Examen i biblioteks- och informationsvetenskap\",\n",
      "        \"Goda digitala kunskaper\",\n",
      "        \"God kommunikationsförmåga\"\n",
      "    ],\n",
      "    \"antal krav\": [\n",
      "        \"4\",\n",
      "        \"2\",\n",
      "        \"2\"\n",
      "    ],\n",
      "    \"meriterande\": [\n",
      "        \"Erfarenhet av arbete med barn och ungdomar\",\n",
      "        \"Erfarenhet av läsfrämjande aktiviteter\",\n",
      "        \"Pedagogisk utbildning\"\n",
      "    ],\n",
      "    \"antal meriterande\": [\n",
      "        \"2\",\n",
      "        \"2\",\n",
      "        \"1\"\n",
      "    ]\n",
      "}\n",
      "```\n",
      "\n",
      "```json\n",
      "{\n",
      "    \"sammanfattning\": [\n",
      "        \"Bibliotek Uppsala söker två verksamhetsledare, en för Björklingebiblioteket och Bälingebiblioteket och en för Stadsbiblioteket. Båda rollerna innebär att leda och utveckla biblioteksverksamheten, samordna personal, skapa samarbeten och arbeta strategiskt. Fokus ligger på att göra biblioteken till relevanta och inbjudande platser för besökare.\"\n",
      "    ],\n",
      "    \"krav\": [\n",
      "        \"Examen i biblioteks- och informationsvetenskap (eller relevant utbildning)\",\n",
      "        \"Erfarenhet av biblioteksarbete\",\n",
      "        \"Goda IT-kunskaper och kunskaper i svenska\"\n",
      "    ],\n",
      "    \"antal krav\": [\n",
      "        \"2\",\n",
      "        \"2\",\n",
      "        \"2\"\n",
      "    ],\n",
      "    \"meriterande\": [\n",
      "        \"Erfarenhet av att leda kollegor (arbetsledare, projektledare, teamledare)\",\n",
      "        \"Erfarenhet av att utveckla verksamheter och skapa samarbeten\",\n",
      "        \"God litteraturkännedom\"\n",
      "    ],\n",
      "    \"antal meriterande\": [\n",
      "        \"2\",\n",
      "        \"2\",\n",
      "        \"1\"\n",
      "    ]\n",
      "}\n",
      "```\n",
      "```json\n",
      "{\n",
      "    \"sammanfattning KI\": [\n",
      "        \"Söker bibliotekarie med kunskap om sökning av vetenskaplig litteratur, undervisning och handledning. Vikt läggs vid personlig lämplighet som initiativtagande, serviceinriktad och kommunikativ.\"\n",
      "    ],\n",
      "    \"krav KI\": [\n",
      "        \"Examen i biblioteks- och informationsvetenskap\",\n",
      "        \"Erfarenhet av sökning av vetenskaplig litteratur\",\n",
      "        \"Erfarenhet av undervisning och handledning\",\n",
      "        \"Behärskar svenska och engelska obehindrat\"\n",
      "    ],\n",
      "    \"antal krav KI\": [\n",
      "        1,\n",
      "        1,\n",
      "        1,\n",
      "        1\n",
      "    ],\n",
      "    \"meriterande KI\": [\n",
      "        \"Kunskaper i programmering (R eller motsvarande)\",\n",
      "        \"Kunskap i verktyg för screening och dataextraktion\",\n",
      "        \"Kunskap om systematiska översikter som forskningsmetod\",\n",
      "        \"Erfarenhet av arbete på medicinskt eller lärosätesbibliotek\"\n",
      "    ],\n",
      "    \"antal meriterande KI\": [\n",
      "        1,\n",
      "        1,\n",
      "        1,\n",
      "        1\n",
      "    ],\n",
      "    \"sammanfattning Svedala\": [\n",
      "        \"Söker skolbibliotekarie med intresse för MIK, teknik och digitala verktyg. Vikt läggs vid samarbetsförmåga, kommunikation och engagemang för barn och unga.\"\n",
      "    ],\n",
      "    \"krav Svedala\": [\n",
      "        \"Högskoleexamen i biblioteks- och informationsvetenskap\",\n",
      "        \"Intresse för MIK, teknik och digitala verktyg\",\n",
      "        \"Ser uppdraget som en viktig del utifrån skolan som helhet och att alla ska lyckas\",\n",
      "        \"Är självgående och tar initiativ till samarbeten och projekt\",\n",
      "        \"Bygger goda relationer med elever och lärare\",\n",
      "        \"Använder kreativa metoder för att hitta olika vägar till barn och ungas läsning\",\n",
      "        \"Är kommunikativ och arbetar utåtriktat\"\n",
      "    ],\n",
      "    \"antal krav Svedala\": [\n",
      "        1,\n",
      "        1,\n",
      "        1,\n",
      "        1,\n",
      "        1,\n",
      "        1,\n",
      "        1\n",
      "    ],\n",
      "    \"meriterande Svedala\": [\n",
      "        \"Erfarenhet av att arbeta som bibliotekarie\",\n",
      "        \"Erfarenhet av att arbeta med barn och unga\"\n",
      "    ],\n",
      "    \"antal meriterande Svedala\": [\n",
      "        1,\n",
      "        1\n",
      "    ]\n",
      "}\n",
      "```\n",
      "```json\n",
      "{\n",
      "    \"sammanfattning\": [\n",
      "        \"Rosendalsbiblioteket: Vi söker en verksamhetsledare som motiveras av att leda och bidra till att utveckla vår biblioteksorganisation.\",\n",
      "        \"LTH:s bibliotek: Vi söker dig som har en god förståelse för bibliotekets roll i utbildning och forskning. Som person har du en god samarbetsförmåga och ett professionellt förhållningssätt till arbete och kollegor.\"\n",
      "    ],\n",
      "    \"krav\": [\n",
      "        \"Examen i biblioteks- och informationsvetenskap\",\n",
      "        \"Erfarenhet av att arbeta med barn och unga i en biblioteksverksamhet (Rosendalsbiblioteket)\",\n",
      "        \"Arbetslivserfarenhet från bibliotek (LTH)\",\n",
      "        \"God kommunikativ förmåga i både tal och skrift (LTH)\",\n",
      "        \"Mycket goda kunskaper i svenska och engelska, tal och skrift (LTH)\"\n",
      "    ],\n",
      "    \"antal krav\": [\n",
      "        2,\n",
      "        1,\n",
      "        1,\n",
      "        1,\n",
      "        1\n",
      "    ],\n",
      "    \"meriterande\": [\n",
      "        \"Erfarenhet av att utveckla verksamheter, skapa samarbeten och arbeta strategiskt (Rosendalsbiblioteket)\",\n",
      "        \"Arbetslivserfarenhet från högskole- eller universitetsbibliotek (LTH)\",\n",
      "        \"Erfarenhet av att arbeta med e-media (LTH)\"\n",
      "    ],\n",
      "    \"antal meriterande\": [\n",
      "        1,\n",
      "        1,\n",
      "        1\n",
      "    ]\n",
      "}\n",
      "```\n",
      "```json\n",
      "{\n",
      "    \"sammanfattning\": [\n",
      "        \"Bibliotekarie med ansvar för mediehantering, informationsdisk, program och utställningar för olika målgrupper. Uppsökande bibliotekarie som arbetar aktivt för att nå ut till dem som inte kan besöka biblioteket, informerar om resurser, planerar aktiviteter och samarbetar med lokala aktörer. Bibliotekarie som arbetar i skolbibliotek och håller boksamtal med klasser.\"\n",
      "    ],\n",
      "    \"krav\": [\n",
      "        \"Akademisk examen inom biblioteks- och informationsvetenskap\",\n",
      "        \"Erfarenhet av biblioteksarbete\",\n",
      "        \"Goda kunskaper i svenska i tal och skrift\"\n",
      "    ],\n",
      "    \"antal krav\": [\n",
      "        3,\n",
      "        3,\n",
      "        1\n",
      "    ],\n",
      "    \"meriterande\": [\n",
      "        \"Goda språkkunskaper\",\n",
      "        \"Erfarenhet inom arbetsområdet\",\n",
      "        \"Körkort B\"\n",
      "    ],\n",
      "    \"antal meriterande\": [\n",
      "        1,\n",
      "        1,\n",
      "        1\n",
      "    ]\n",
      "}\n",
      "```\n",
      "```json\n",
      "{\n",
      "    \"sammanfattning\": [\n",
      "        \"Bibliotekarie med fokus på tonår och unga vuxna, som kan bidra till förändringsarbete och läsfrämjande aktiviteter. Biblioteksansvarig med övergripande ansvar för skolbibliotek, strategisk utveckling och stöd till personal.\"\n",
      "    ],\n",
      "    \"krav\": [\n",
      "        \"Högskoleexamen i biblioteks- och informationsvetenskap eller likvärdig utbildning\",\n",
      "        \"God social förmåga och trivs med att arbeta både enskilt och i grupp\",\n",
      "        \"Goda digitala kunskaper\"\n",
      "    ],\n",
      "    \"antal krav\": [\n",
      "        2,\n",
      "        2,\n",
      "        1\n",
      "    ],\n",
      "    \"meriterande\": [\n",
      "        \"Tidigare arbete som ungdomsbibliotekarie\",\n",
      "        \"Erfarenhet av förändrings- eller utformning av ungdomsverksamhet inom biblioteksområdet\",\n",
      "        \"Andra språkkunskaper utöver svenska och engelska\"\n",
      "    ],\n",
      "    \"antal meriterande\": [\n",
      "        1,\n",
      "        1,\n",
      "        1\n",
      "    ]\n",
      "}\n",
      "```\n",
      "\n",
      "```json\n",
      "{\n",
      "    \"sammanfattning\": [\n",
      "        \"Dessa jobbannonser söker engagerade och serviceinriktade bibliotekarier med god kommunikationsförmåga och intresse för läsfrämjande arbete, särskilt riktat mot barn och unga. Samarbetsförmåga och förmåga att arbeta självständigt är också viktiga egenskaper.\"\n",
      "    ],\n",
      "    \"krav\": [\n",
      "        \"Relevant utbildning inom biblioteks- och informationsvetenskap (kandidat eller högskoleexamen)\",\n",
      "        \"God kommunikationsförmåga i tal och skrift\",\n",
      "        \"Förmåga att bygga och underhålla relationer med elever\"\n",
      "    ],\n",
      "    \"antal krav\": [\n",
      "        \"4\"\n",
      "    ],\n",
      "    \"meriterande\": [\n",
      "        \"Erfarenhet av att leda och utveckla biblioteksverksamhet i en skolmiljö\",\n",
      "        \"Andra behörigheter inom utbildningssektorn\",\n",
      "        \"God förmåga och vana i att uttrycka dig på engelska\"\n",
      "    ],\n",
      "    \"antal meriterande\": [\n",
      "        \"3\"\n",
      "    ]\n",
      "}\n",
      "```\n",
      "```json\n",
      "{\n",
      "    \"sammanfattning\": [\n",
      "        \"Bibliotekarie med ansvar för digital utveckling till integrerat folk- och gymnasiebibliotek. Utveckla biblioteksverksamheten och skolbiblioteket. Stärka elevers språkliga och digitala kompetens. Samverka med övriga verksamheter. God service och professionellt bemötande.\"\n",
      "    ],\n",
      "    \"krav\": [\n",
      "        \"Examen i biblioteks- och informationsvetenskap\",\n",
      "        \"Goda IT-kunskaper\",\n",
      "        \"God och bred litteraturkännedom med särskilt fokus på litteratur för barn och unga\"\n",
      "    ],\n",
      "    \"antal krav\": [\n",
      "        1,\n",
      "        1,\n",
      "        1\n",
      "    ],\n",
      "    \"meriterande\": [\n",
      "        \"Erfarenhet av biblioteksyrket och att arbeta med barn och unga\",\n",
      "        \"Erfarenhet av skolbiblioteksarbete\",\n",
      "        \"B-körkort\"\n",
      "    ],\n",
      "    \"antal meriterande\": [\n",
      "        1,\n",
      "        1,\n",
      "        1\n",
      "    ]\n",
      "}\n",
      "```\n",
      "\n",
      "```json\n",
      "{\n",
      "    \"sammanfattning\": [\n",
      "        \"Bibliotekarie med fokus på digital delaktighet och tillgänglighet, medie- och informationskunnighet (MIK), samt utveckling av biblioteksverksamhet för unga målgrupper. Rollen innefattar även traditionella biblioteksuppgifter och samverkan med olika aktörer.\"\n",
      "    ],\n",
      "    \"krav\": [\n",
      "        \"Kandidatexamen eller magisterexamen i biblioteks- och informationsvetenskap eller litteraturvetenskap (eller motsvarande)\",\n",
      "        \"Goda kunskaper i IT och digitala verktyg\",\n",
      "        \"Goda kunskaper i svenska och engelska i tal och skrift\"\n",
      "    ],\n",
      "    \"antal krav\": [\n",
      "        \"3\",\n",
      "        \"3\",\n",
      "        \"3\"\n",
      "    ],\n",
      "    \"meriterande\": [\n",
      "        \"Erfarenhet av folkbiblioteksarbete\",\n",
      "        \"Kunskap om säkerhet på nätet och källkritik\",\n",
      "        \"Erfarenhet av att hålla i utbildningar, presentationer eller workshops\"\n",
      "    ],\n",
      "    \"antal meriterande\": [\n",
      "        \"3\",\n",
      "        \"3\",\n",
      "        \"3\"\n",
      "    ]\n",
      "}\n",
      "```\n",
      "```json\n",
      "{\n",
      "    \"sammanfattning\": [\n",
      "        \"Dessa jobbannonser söker personer med biblioteksvana, god kommunikationsförmåga och intresse för läsfrämjande. Flexibilitet, samarbetsförmåga och noggrannhet värdesätts.\"\n",
      "    ],\n",
      "    \"krav\": [\n",
      "        \"Heltidsstudier på högskolenivå inom biblioteks- och informationsvetenskap (60 hp)\",\n",
      "        \"Goda språkkunskaper i svenska och engelska\",\n",
      "        \"Relevant högskoleutbildning inom kultur, bibliotek, pedagogik eller liknande\"\n",
      "    ],\n",
      "    \"antal krav\": [\n",
      "        \"1\",\n",
      "        \"1\",\n",
      "        \"1\"\n",
      "    ],\n",
      "    \"meriterande\": [\n",
      "        \"Tidigare erfarenhet av arbete i informationstjänst vid bibliotek\",\n",
      "        \"Erfarenhet av arbete på folkbibliotek\",\n",
      "        \"Arbetat med barn och unga samt med läsfrämjande aktiviteter\"\n",
      "    ],\n",
      "    \"antal meriterande\": [\n",
      "        \"1\",\n",
      "        \"1\",\n",
      "        \"1\"\n",
      "    ]\n",
      "}\n",
      "```\n",
      "```json\n",
      "{\n",
      "    \"sammanfattning\": [\"Vi söker en barnbibliotekarie till Östberga bibliotek som med fantasi, kreativitet och pedagogisk insikt vill arbeta läsfrämjande mot främst målgrupperna barn och unga.\"],\n",
      "    \"krav\": [\n",
      "        \"Utbildning inom biblioteks- och informationsvetenskap eller likvärdig utbildning\",\n",
      "        \"Kunskap om metoder inom läsfrämjande, informations- och litteraturförmedling\",\n",
      "        \"Erfarenhet av att använda digitala verktyg i arbetslivet\"\n",
      "    ],\n",
      "    \"antal krav\": [1, 1, 1],\n",
      "    \"meriterande\": [\n",
      "        \"Erfarenhet av arbete på bibliotek\",\n",
      "        \"Erfarenhet av att ha arbetat kreativt med barn och ungdomar\"\n",
      "    ],\n",
      "    \"antal meriterande\": [1, 1]\n",
      "}\n",
      "```\n",
      "\n"
     ]
    }
   ],
   "source": [
    "from google import genai\n",
    "import os\n",
    "from dotenv import load_dotenv\n",
    "import duckdb\n",
    "load_dotenv()\n",
    "from google import generativeai as oldGenai\n",
    "from google.generativeai.types import GenerationConfig\n",
    "\n",
    "# client = genai.Client(api_key=os.getenv(\"GEMINI_API_KEY\"))\n",
    "# with duckdb.connect(\"../../ads_data.duckdb\") as con: \n",
    "#     df_mart = con.execute(\"SELECT * FROM mart.mart_kultur_media\").df()\n",
    "# top_employer = df_mart.groupby(\"occupation\")[[\"vacancies\", \"description\"]].sum().sort_values(by=\"vacancies\", ascending=False).reset_index()\n",
    "\n",
    "with open(\"for_gemini.txt\", \"r\", encoding='utf-8') as file: \n",
    "    ad_text = file.read() \n",
    "\n",
    "max_rows = 100\n",
    "ad_text_splitted = ad_text.split(\"\\n\") #tagit bort alla mellanslag\n",
    "chunks = [] # lista för textbitar\n",
    "\n",
    "for i in range(0, len(ad_text_splitted), max_rows): \n",
    "    chunk = \"\\n\".join(ad_text_splitted[i:i+max_rows])\n",
    "    chunks.append(chunk)\n",
    "\n",
    "\n",
    "response_list = []\n",
    "for chunk in chunks:\n",
    "    promt = f\"\"\"Du är en rekryterare inom Media, Kultur, Design.\n",
    "    Plocka ut max 3 av vanligaste kraven och max av 3 vanligaste meriterade och antal av dessa som efterfrågas i dessa jobbannonser, samt en sammanfattning av krav och meriter som du skriver ut (om det finns):\n",
    "    {chunk}\n",
    "\n",
    "    Output ska vara i detta formatet enbart: \n",
    "\n",
    "    {{\n",
    "        \"sammanfattning\": [\"sammanfattning\"]\n",
    "        \"krav\": [erfarenhet1, erfarenhet2, ...]\n",
    "        \"antal krav\": [summa erfarenhet1..]\n",
    "        \"meriterande\": [meriterande1,meriterande2, ... ]\n",
    "        \"antal meriterande\": [summa meriterande1..]\n",
    "        \n",
    "    }}\n",
    "    \"\"\"\n",
    "    model = oldGenai.GenerativeModel(\n",
    "        model_name=\"gemini-2.0-flash\",\n",
    "        generation_config=GenerationConfig(\n",
    "            temperature=0.0,         \n",
    "            top_p=1.0,  # Säkerställer att sampling inte påverkas   #verkar inte göra skillnad\n",
    "            top_k=1     # Tar bort variation)                       #verkar inte göra skillnad    \n",
    "        )\n",
    "    )\n",
    "    response = model.generate_content(promt)\n",
    "    print(response.text)\n",
    "    response_list.append(response.text)"
   ]
  },
  {
   "cell_type": "code",
   "execution_count": 5,
   "id": "3203ce37",
   "metadata": {},
   "outputs": [],
   "source": [
    "# import pandas as pd\n",
    "# import json\n",
    "# data = response.text\n",
    "# cleaned = data.strip(\"```json\") #.replace(\"\\n\", \"\").strip().replace(\"  \", \"\")\n",
    "# data = json.loads(cleaned)\n",
    "# for chunk in data: \n",
    "#     response_dict = pd.DataFrame({\n",
    "#         \"sammanfattning\": data.get(\"sammanfattning\")\n",
    "#     })\n",
    "# response_dict[\"sammanfattning\"] # hämtar ut den sista sammanfattningen"
   ]
  },
  {
   "cell_type": "code",
   "execution_count": 10,
   "id": "51e5f5c9",
   "metadata": {},
   "outputs": [
    {
     "name": "stdout",
     "output_type": "stream",
     "text": [
      "```json\n",
      "{\n",
      "    \"sammanfattning\": [\n",
      "        \"Söker en assistent till bibliotek och forskarservice med fokus på informationsdisk, litteratursökning, och stöd till forskarservice. Vikt läggs vid struktur, noggrannhet, serviceinriktning och intresse för arkitektur och design.\",\n",
      "        \"Söker en skolbibliotekarie/administratör som ska ansvara för bibliotekets drift, läsfrämjande aktiviteter och ge administrativt stöd till skolan. Vikt läggs vid serviceinriktning, initiativförmåga och god språklig säkerhet.\",\n",
      "        \"Söker en driven bibliotekarie med intresse för läsfrämjande gentemot barn och unga, samverkan och nyskapande inom biblioteksverksamhet.\",\n",
      "        \"Fokus på barn och ungas fria tid kopplat till läsfrämjande verksamhet. Arbeta läsfrämjande för barn och unga med särskilt fokus på unga i åldern 13-18 år. Inspirera och främja barn och ungas läsning genom medier, aktiviteter och delaktighet - i biblioteket och i samverkan med närområdet.\",\n",
      "        \"Tjänsten lämpar sig väl för dig som söker en mindre men meningsfull tjänst i en kreativ och pedagogisk miljö, med god möjlighet att påverka innehållet i din arbetsdag.\",\n",
      "        \"Vi arbetar för att skapa tillgängliga och välkomnande bibliotek som ska skapa lust till läsning och främja möten mellan människor.\",\n",
      "        \"Båda annonserna söker bibliotekarier med fokus på barn och ungdom. Den ena tjänsten är mer inriktad på skolbiblioteksverksamhet och läsfrämjande aktiviteter, medan den andra tjänsten innebär att bygga upp en ny biblioteksverksamhet från grunden i en skola.\",\n",
      "        \"Bibliotekarie med fokus på besökaren, läsfrämjande och samverkan. Samordningsansvar för daglig drift och utveckling av biblioteksverksamheten.\",\n",
      "        \"Bibliotekarie med fokus på barn och unga, läsfrämjande, programverksamhet, informationskompetens och samverkan. Digital kompetens och serviceinriktad personlighet är viktigt.\",\n",
      "        \"Bibliotek Uppsala söker två verksamhetsledare, en för Björklingebiblioteket och Bälingebiblioteket och en för Stadsbiblioteket. Båda rollerna innebär att leda och utveckla biblioteksverksamheten, samordna personal, skapa samarbeten och arbeta strategiskt. Fokus ligger på att göra biblioteken till relevanta och inbjudande platser för besökare.\",\n",
      "        \"Söker bibliotekarie med kunskap om sökning av vetenskaplig litteratur, undervisning och handledning. Vikt läggs vid personlig lämplighet som initiativtagande, serviceinriktad och kommunikativ.\",\n",
      "        \"Söker skolbibliotekarie med intresse för MIK, teknik och digitala verktyg. Vikt läggs vid samarbetsförmåga, kommunikation och engagemang för barn och unga.\",\n",
      "        \"Rosendalsbiblioteket: Vi söker en verksamhetsledare som motiveras av att leda och bidra till att utveckla vår biblioteksorganisation.\",\n",
      "        \"LTH:s bibliotek: Vi söker dig som har en god förståelse för bibliotekets roll i utbildning och forskning. Som person har du en god samarbetsförmåga och ett professionellt förhållningssätt till arbete och kollegor.\",\n",
      "        \"Bibliotekarie med ansvar för mediehantering, informationsdisk, program och utställningar för olika målgrupper. Uppsökande bibliotekarie som arbetar aktivt för att nå ut till dem som inte kan besöka biblioteket, informerar om resurser, planerar aktiviteter och samarbetar med lokala aktörer. Bibliotekarie som arbetar i skolbibliotek och håller boksamtal med klasser.\",\n",
      "        \"Bibliotekarie med fokus på tonår och unga vuxna, som kan bidra till förändringsarbete och läsfrämjande aktiviteter. Biblioteksansvarig med övergripande ansvar för skolbibliotek, strategisk utveckling och stöd till personal.\",\n",
      "        \"Dessa jobbannonser söker engagerade och serviceinriktade bibliotekarier med god kommunikationsförmåga och intresse för läsfrämjande arbete, särskilt riktat mot barn och unga. Samarbetsförmåga och förmåga att arbeta självständigt är också viktiga egenskaper.\",\n",
      "        \"Bibliotekarie med ansvar för digital utveckling till integrerat folk- och gymnasiebibliotek. Utveckla biblioteksverksamheten och skolbiblioteket. Stärka elevers språkliga och digitala kompetens. Samverka med övriga verksamheter. God service och professionellt bemötande.\",\n",
      "        \"Bibliotekarie med fokus på digital delaktighet och tillgänglighet, medie- och informationskunnighet (MIK), samt utveckling av biblioteksverksamhet för unga målgrupper. Rollen innefattar även traditionella biblioteksuppgifter och samverkan med olika aktörer.\",\n",
      "        \"Dessa jobbannonser söker personer med biblioteksvana, god kommunikationsförmåga och intresse för läsfrämjande. Flexibilitet, samarbetsförmåga och noggrannhet värdesätts.\",\n",
      "        \"Vi söker en barnbibliotekarie till Östberga bibliotek som med fantasi, kreativitet och pedagogisk insikt vill arbeta läsfrämjande mot främst målgrupperna barn och unga.\"\n",
      "    ],\n",
      "    \"krav\": [\n",
      "        \"Relevant akademisk examen (arkitektur, konstvetenskap, biblioteksvetenskap eller likvärdigt)\",\n",
      "        \"Dokumenterad erfarenhet av liknande arbetsuppgifter\",\n",
      "        \"Arbetslivserfarenhet från bibliotek och museisektorn\",\n",
      "        \"Serviceinriktad\",\n",
      "        \"Initiativtagande\",\n",
      "        \"Strukturerad\",\n",
      "        \"Examen i biblioteks- och informationsvetenskap\",\n",
      "        \"Erfarenhet av biblioteksarbete med barn och unga\",\n",
      "        \"God samarbetsförmåga och har lätt för att skapa relationer\",\n",
      "        \"Examen i biblioteks- och informationsvetenskap\",\n",
      "        \"Intresse och kunskap inom barn- och ungdomslitteratur och läsfrämjande aktiviteter\",\n",
      "        \"God digital kompetens\",\n",
      "        \"Examen från bibliotekshögskola/informations- och biblioteksvetenskap\",\n",
      "        \"Erfarenhet av arbete i folkbibliotek\",\n",
      "        \"Svenska i tal och skrift\",\n",
      "        \"Examen i biblioteks- och informationsvetenskap\",\n",
      "        \"Goda digitala kunskaper\",\n",
      "        \"God kommunikationsförmåga\",\n",
      "        \"Examen i biblioteks- och informationsvetenskap (eller relevant utbildning)\",\n",
      "        \"Erfarenhet av biblioteksarbete\",\n",
      "        \"Goda IT-kunskaper och kunskaper i svenska\",\n",
      "        \"Examen i biblioteks- och informationsvetenskap\",\n",
      "        \"Erfarenhet av sökning av vetenskaplig litteratur\",\n",
      "        \"Erfarenhet av undervisning och handledning\",\n",
      "        \"Behärskar svenska och engelska obehindrat\",\n",
      "        \"Högskoleexamen i biblioteks- och informationsvetenskap\",\n",
      "        \"Intresse för MIK, teknik och digitala verktyg\",\n",
      "        \"Ser uppdraget som en viktig del utifrån skolan som helhet och att alla ska lyckas\",\n",
      "        \"Är självgående och tar initiativ till samarbeten och projekt\",\n",
      "        \"Bygger goda relationer med elever och lärare\",\n",
      "        \"Använder kreativa metoder för att hitta olika vägar till barn och ungas läsning\",\n",
      "        \"Är kommunikativ och arbetar utåtriktat\",\n",
      "        \"Examen i biblioteks- och informationsvetenskap\",\n",
      "        \"Erfarenhet av att arbeta med barn och unga i en biblioteksverksamhet (Rosendalsbiblioteket)\",\n",
      "        \"Arbetslivserfarenhet från bibliotek (LTH)\",\n",
      "        \"God kommunikativ förmåga i både tal och skrift (LTH)\",\n",
      "        \"Mycket goda kunskaper i svenska och engelska, tal och skrift (LTH)\",\n",
      "        \"Akademisk examen inom biblioteks- och informationsvetenskap\",\n",
      "        \"Erfarenhet av biblioteksarbete\",\n",
      "        \"Goda kunskaper i svenska i tal och skrift\",\n",
      "        \"Högskoleexamen i biblioteks- och informationsvetenskap eller likvärdig utbildning\",\n",
      "        \"God social förmåga och trivs med att arbeta både enskilt och i grupp\",\n",
      "        \"Goda digitala kunskaper\",\n",
      "        \"Relevant utbildning inom biblioteks- och informationsvetenskap (kandidat eller högskoleexamen)\",\n",
      "        \"God kommunikationsförmåga i tal och skrift\",\n",
      "        \"Förmåga att bygga och underhålla relationer med elever\",\n",
      "        \"Examen i biblioteks- och informationsvetenskap\",\n",
      "        \"Goda IT-kunskaper\",\n",
      "        \"God och bred litteraturkännedom med särskilt fokus på litteratur för barn och unga\",\n",
      "        \"Kandidatexamen eller magisterexamen i biblioteks- och informationsvetenskap eller litteraturvetenskap (eller motsvarande)\",\n",
      "        \"Goda kunskaper i IT och digitala verktyg\",\n",
      "        \"Goda kunskaper i svenska och engelska i tal och skrift\",\n",
      "        \"Heltidsstudier på högskolenivå inom biblioteks- och informationsvetenskap (60 hp)\",\n",
      "        \"Goda språkkunskaper i svenska och engelska\",\n",
      "        \"Relevant högskoleutbildning inom kultur, bibliotek, pedagogik eller liknande\",\n",
      "        \"Utbildning inom biblioteks- och informationsvetenskap eller likvärdig utbildning\",\n",
      "        \"Kunskap om metoder inom läsfrämjande, informations- och litteraturförmedling\",\n",
      "        \"Erfarenhet av att använda digitala verktyg i arbetslivet\"\n",
      "    ],\n",
      "    \"antal krav\": [\n",
      "        1,\n",
      "        1,\n",
      "        1,\n",
      "        1,\n",
      "        1,\n",
      "        1,\n",
      "        3,\n",
      "        3,\n",
      "        2,\n",
      "        2,\n",
      "        2,\n",
      "        2,\n",
      "        2,\n",
      "        1,\n",
      "        2,\n",
      "        4,\n",
      "        2,\n",
      "        2,\n",
      "        2,\n",
      "        2,\n",
      "        2,\n",
      "        1,\n",
      "        1,\n",
      "        1,\n",
      "        1,\n",
      "        1,\n",
      "        1,\n",
      "        1,\n",
      "        1,\n",
      "        1,\n",
      "        1,\n",
      "        1,\n",
      "        2,\n",
      "        1,\n",
      "        1,\n",
      "        1,\n",
      "        3,\n",
      "        3,\n",
      "        1,\n",
      "        2,\n",
      "        2,\n",
      "        1,\n",
      "        4,\n",
      "        4,\n",
      "        4,\n",
      "        1,\n",
      "        1,\n",
      "        1,\n",
      "        3,\n",
      "        3,\n",
      "        3,\n",
      "        1,\n",
      "        1,\n",
      "        1,\n",
      "        1,\n",
      "        1,\n",
      "        1\n",
      "    ],\n",
      "    \"meriterande\": [\n",
      "        \"Erfarenhet av att ha jobbat med ArkDes samlingar och/eller bibliotek\",\n",
      "        \"Övriga språkkunskaper\",\n",
      "        \"Erfarenhet av arbete i skolmiljö\",\n",
      "        \"Kunskaper i andra språk än engelska\",\n",
      "        \"Erfarenhet av folkbildning, vuxenutbildning eller arbete på folkhögskola\",\n",
      "        \"Erfarenhet av läsfrämjande arbete för barn och unga\",\n",
      "        \"Erfarenhet av arbete som skolbibliotekarie\",\n",
      "        \"Erfarenhet av att arbeta med elever som har andra modersmål än svenska\",\n",
      "        \"Erfarenhet av arbete inom pedagogisk verksamhet\",\n",
      "        \"Ytterligare språk utöver svenska och engelska\",\n",
      "        \"Erfarenhet av att ingå i projekt med olika aktörer\",\n",
      "        \"Goda digitala kunskaper\",\n",
      "        \"Erfarenhet av arbete med barn och ungdomar\",\n",
      "        \"Erfarenhet av läsfrämjande aktiviteter\",\n",
      "        \"Pedagogisk utbildning\",\n",
      "        \"Erfarenhet av att leda kollegor (arbetsledare, projektledare, teamledare)\",\n",
      "        \"Erfarenhet av att utveckla verksamheter och skapa samarbeten\",\n",
      "        \"God litteraturkännedom\",\n",
      "        \"Kunskaper i programmering (R eller motsvarande)\",\n",
      "        \"Kunskap i verktyg för screening och dataextraktion\",\n",
      "        \"Kunskap om systematiska översikter som forskningsmetod\",\n",
      "        \"Erfarenhet av arbete på medicinskt eller lärosätesbibliotek\",\n",
      "        \"Erfarenhet av att arbeta som bibliotekarie\",\n",
      "        \"Erfarenhet av att arbeta med barn och unga\",\n",
      "        \"Erfarenhet av att utveckla verksamheter, skapa samarbeten och arbeta strategiskt (Rosendalsbiblioteket)\",\n",
      "        \"Arbetslivserfarenhet från högskole- eller universitetsbibliotek (LTH)\",\n",
      "        \"Erfarenhet av att arbeta med e-media (LTH)\",\n",
      "        \"Goda språkkunskaper\",\n",
      "        \"Erfarenhet inom arbetsområdet\",\n",
      "        \"Körkort B\",\n",
      "        \"Tidigare arbete som ungdomsbibliotekarie\",\n",
      "        \"Erfarenhet av förändrings- eller utformning av ungdomsverksamhet inom biblioteksområdet\",\n",
      "        \"Andra språkkunskaper utöver svenska och engelska\",\n",
      "        \"Erfarenhet av att leda och utveckla biblioteksverksamhet i en skolmiljö\",\n",
      "        \"Andra behörigheter inom utbildningssektorn\",\n",
      "        \"God förmåga och vana i att uttrycka dig på engelska\",\n",
      "        \"Erfarenhet av biblioteksyrket och att arbeta med barn och unga\",\n",
      "        \"Erfarenhet av skolbiblioteksarbete\",\n",
      "        \"B-körkort\",\n",
      "        \"Erfarenhet av folkbiblioteksarbete\",\n",
      "        \"Kunskap om säkerhet på nätet och källkritik\",\n",
      "        \"Erfarenhet av att hålla i utbildningar, presentationer eller workshops\",\n",
      "        \"Tidigare erfarenhet av arbete i informationstjänst vid bibliotek\",\n",
      "        \"Erfarenhet av arbete på folkbibliotek\",\n",
      "        \"Arbetat med barn och unga samt med läsfrämjande aktiviteter\",\n",
      "        \"Erfarenhet av arbete på bibliotek\",\n",
      "        \"Erfarenhet av att ha arbetat kreativt med barn och ungdomar\"\n",
      "    ],\n",
      "    \"antal meriterande\": [\n",
      "        1,\n",
      "        1,\n",
      "        1,\n",
      "        1,\n",
      "        1,\n",
      "        2,\n",
      "        1,\n",
      "        1,\n",
      "        1,\n",
      "        1,\n",
      "        1,\n",
      "        1,\n",
      "        2,\n",
      "        2,\n",
      "        1,\n",
      "        2,\n",
      "        2,\n",
      "        1,\n",
      "        1,\n",
      "        1,\n",
      "        1,\n",
      "        1,\n",
      "        1,\n",
      "        1,\n",
      "        1,\n",
      "        1,\n",
      "        1,\n",
      "        1,\n",
      "        1,\n",
      "        1,\n",
      "        1,\n",
      "        1,\n",
      "        1,\n",
      "        3,\n",
      "        3,\n",
      "        3,\n",
      "        1,\n",
      "        1,\n",
      "        1,\n",
      "        3,\n",
      "        3,\n",
      "        3,\n",
      "        1,\n",
      "        1,\n",
      "        1,\n",
      "        1,\n",
      "        1\n",
      "    ]\n",
      "}\n",
      "```\n"
     ]
    }
   ],
   "source": [
    "# model2 = oldGenai.GenerativeModel(\n",
    "#     model_name=\"gemini-2.0-flash\",\n",
    "#     generation_config=GenerationConfig(\n",
    "#         temperature=0.0,         \n",
    "#         top_p=1.0,  # Säkerställer att sampling inte påverkas   #verkar inte göra skillnad\n",
    "#         top_k=1     # Tar bort variation)                       #verkar inte göra skillnad    \n",
    "#     )\n",
    "# )\n",
    "\n",
    "promt2 = f\"\"\"kan du analysera detta och summera till en enda dictionary: \n",
    "{response_list}\n",
    "\n",
    "Output ska vara i detta formatet enbart: \n",
    "\n",
    "    {{\n",
    "        \"sammanfattning\": [\"sammanfattning\"]\n",
    "        \"krav\": [erfarenhet1, erfarenhet2, ...]\n",
    "        \"antal krav\": [summa erfarenhet1..]\n",
    "        \"meriterande\": [meriterande1,meriterande2, ... ]\n",
    "        \"antal meriterande\": [summa meriterande1..]\n",
    "        \n",
    "    }}\n",
    "    \"\"\"\n",
    "response2 = model.generate_content(promt2)\n",
    "print(response2.text)"
   ]
  },
  {
   "cell_type": "code",
   "execution_count": 11,
   "id": "c36b5973",
   "metadata": {},
   "outputs": [
    {
     "data": {
      "text/plain": [
       "['Söker en assistent till bibliotek och forskarservice med fokus på informationsdisk, litteratursökning, och stöd till forskarservice. Vikt läggs vid struktur, noggrannhet, serviceinriktning och intresse för arkitektur och design.',\n",
       " 'Söker en skolbibliotekarie/administratör som ska ansvara för bibliotekets drift, läsfrämjande aktiviteter och ge administrativt stöd till skolan. Vikt läggs vid serviceinriktning, initiativförmåga och god språklig säkerhet.',\n",
       " 'Söker en driven bibliotekarie med intresse för läsfrämjande gentemot barn och unga, samverkan och nyskapande inom biblioteksverksamhet.',\n",
       " 'Fokus på barn och ungas fria tid kopplat till läsfrämjande verksamhet. Arbeta läsfrämjande för barn och unga med särskilt fokus på unga i åldern 13-18 år. Inspirera och främja barn och ungas läsning genom medier, aktiviteter och delaktighet - i biblioteket och i samverkan med närområdet.',\n",
       " 'Tjänsten lämpar sig väl för dig som söker en mindre men meningsfull tjänst i en kreativ och pedagogisk miljö, med god möjlighet att påverka innehållet i din arbetsdag.',\n",
       " 'Vi arbetar för att skapa tillgängliga och välkomnande bibliotek som ska skapa lust till läsning och främja möten mellan människor.',\n",
       " 'Båda annonserna söker bibliotekarier med fokus på barn och ungdom. Den ena tjänsten är mer inriktad på skolbiblioteksverksamhet och läsfrämjande aktiviteter, medan den andra tjänsten innebär att bygga upp en ny biblioteksverksamhet från grunden i en skola.',\n",
       " 'Bibliotekarie med fokus på besökaren, läsfrämjande och samverkan. Samordningsansvar för daglig drift och utveckling av biblioteksverksamheten.',\n",
       " 'Bibliotekarie med fokus på barn och unga, läsfrämjande, programverksamhet, informationskompetens och samverkan. Digital kompetens och serviceinriktad personlighet är viktigt.',\n",
       " 'Bibliotek Uppsala söker två verksamhetsledare, en för Björklingebiblioteket och Bälingebiblioteket och en för Stadsbiblioteket. Båda rollerna innebär att leda och utveckla biblioteksverksamheten, samordna personal, skapa samarbeten och arbeta strategiskt. Fokus ligger på att göra biblioteken till relevanta och inbjudande platser för besökare.',\n",
       " 'Söker bibliotekarie med kunskap om sökning av vetenskaplig litteratur, undervisning och handledning. Vikt läggs vid personlig lämplighet som initiativtagande, serviceinriktad och kommunikativ.',\n",
       " 'Söker skolbibliotekarie med intresse för MIK, teknik och digitala verktyg. Vikt läggs vid samarbetsförmåga, kommunikation och engagemang för barn och unga.',\n",
       " 'Rosendalsbiblioteket: Vi söker en verksamhetsledare som motiveras av att leda och bidra till att utveckla vår biblioteksorganisation.',\n",
       " 'LTH:s bibliotek: Vi söker dig som har en god förståelse för bibliotekets roll i utbildning och forskning. Som person har du en god samarbetsförmåga och ett professionellt förhållningssätt till arbete och kollegor.',\n",
       " 'Bibliotekarie med ansvar för mediehantering, informationsdisk, program och utställningar för olika målgrupper. Uppsökande bibliotekarie som arbetar aktivt för att nå ut till dem som inte kan besöka biblioteket, informerar om resurser, planerar aktiviteter och samarbetar med lokala aktörer. Bibliotekarie som arbetar i skolbibliotek och håller boksamtal med klasser.',\n",
       " 'Bibliotekarie med fokus på tonår och unga vuxna, som kan bidra till förändringsarbete och läsfrämjande aktiviteter. Biblioteksansvarig med övergripande ansvar för skolbibliotek, strategisk utveckling och stöd till personal.',\n",
       " 'Dessa jobbannonser söker engagerade och serviceinriktade bibliotekarier med god kommunikationsförmåga och intresse för läsfrämjande arbete, särskilt riktat mot barn och unga. Samarbetsförmåga och förmåga att arbeta självständigt är också viktiga egenskaper.',\n",
       " 'Bibliotekarie med ansvar för digital utveckling till integrerat folk- och gymnasiebibliotek. Utveckla biblioteksverksamheten och skolbiblioteket. Stärka elevers språkliga och digitala kompetens. Samverka med övriga verksamheter. God service och professionellt bemötande.',\n",
       " 'Bibliotekarie med fokus på digital delaktighet och tillgänglighet, medie- och informationskunnighet (MIK), samt utveckling av biblioteksverksamhet för unga målgrupper. Rollen innefattar även traditionella biblioteksuppgifter och samverkan med olika aktörer.',\n",
       " 'Dessa jobbannonser söker personer med biblioteksvana, god kommunikationsförmåga och intresse för läsfrämjande. Flexibilitet, samarbetsförmåga och noggrannhet värdesätts.',\n",
       " 'Vi söker en barnbibliotekarie till Östberga bibliotek som med fantasi, kreativitet och pedagogisk insikt vill arbeta läsfrämjande mot främst målgrupperna barn och unga.']"
      ]
     },
     "execution_count": 11,
     "metadata": {},
     "output_type": "execute_result"
    }
   ],
   "source": [
    "import pandas as pd\n",
    "import json\n",
    "data = response2.text\n",
    "cleaned = data.strip(\"```json\") #.replace(\"\\n\", \"\").strip().replace(\"  \", \"\")\n",
    "data = json.loads(cleaned)\n",
    "sammanfattning = data[\"sammanfattning\"]\n",
    "sammanfattning"
   ]
  },
  {
   "cell_type": "code",
   "execution_count": 12,
   "id": "2cd48a6d",
   "metadata": {},
   "outputs": [
    {
     "ename": "ValueError",
     "evalue": "All arrays must be of the same length",
     "output_type": "error",
     "traceback": [
      "\u001b[31m---------------------------------------------------------------------------\u001b[39m",
      "\u001b[31mValueError\u001b[39m                                Traceback (most recent call last)",
      "\u001b[36mCell\u001b[39m\u001b[36m \u001b[39m\u001b[32mIn[12]\u001b[39m\u001b[32m, line 1\u001b[39m\n\u001b[32m----> \u001b[39m\u001b[32m1\u001b[39m df_krav = \u001b[43mpd\u001b[49m\u001b[43m.\u001b[49m\u001b[43mDataFrame\u001b[49m\u001b[43m(\u001b[49m\u001b[43m{\u001b[49m\n\u001b[32m      2\u001b[39m \u001b[43m    \u001b[49m\u001b[33;43m\"\u001b[39;49m\u001b[33;43mkrav\u001b[39;49m\u001b[33;43m\"\u001b[39;49m\u001b[43m:\u001b[49m\u001b[43m \u001b[49m\u001b[43mdata\u001b[49m\u001b[43m[\u001b[49m\u001b[33;43m\"\u001b[39;49m\u001b[33;43mkrav\u001b[39;49m\u001b[33;43m\"\u001b[39;49m\u001b[43m]\u001b[49m\u001b[43m,\u001b[49m\u001b[43m \u001b[49m\n\u001b[32m      3\u001b[39m \u001b[43m    \u001b[49m\u001b[33;43m\"\u001b[39;49m\u001b[33;43mantal krav\u001b[39;49m\u001b[33;43m\"\u001b[39;49m\u001b[43m:\u001b[49m\u001b[43m \u001b[49m\u001b[43mdata\u001b[49m\u001b[43m[\u001b[49m\u001b[33;43m\"\u001b[39;49m\u001b[33;43mantal krav\u001b[39;49m\u001b[33;43m\"\u001b[39;49m\u001b[43m]\u001b[49m\n\u001b[32m      4\u001b[39m \u001b[43m}\u001b[49m\u001b[43m)\u001b[49m\n\u001b[32m      5\u001b[39m df_krav\n",
      "\u001b[36mFile \u001b[39m\u001b[32mc:\\Users\\Casper\\Documents\\Grupparbete AI2\\AI_2_group_project\\.venv\\Lib\\site-packages\\pandas\\core\\frame.py:778\u001b[39m, in \u001b[36mDataFrame.__init__\u001b[39m\u001b[34m(self, data, index, columns, dtype, copy)\u001b[39m\n\u001b[32m    772\u001b[39m     mgr = \u001b[38;5;28mself\u001b[39m._init_mgr(\n\u001b[32m    773\u001b[39m         data, axes={\u001b[33m\"\u001b[39m\u001b[33mindex\u001b[39m\u001b[33m\"\u001b[39m: index, \u001b[33m\"\u001b[39m\u001b[33mcolumns\u001b[39m\u001b[33m\"\u001b[39m: columns}, dtype=dtype, copy=copy\n\u001b[32m    774\u001b[39m     )\n\u001b[32m    776\u001b[39m \u001b[38;5;28;01melif\u001b[39;00m \u001b[38;5;28misinstance\u001b[39m(data, \u001b[38;5;28mdict\u001b[39m):\n\u001b[32m    777\u001b[39m     \u001b[38;5;66;03m# GH#38939 de facto copy defaults to False only in non-dict cases\u001b[39;00m\n\u001b[32m--> \u001b[39m\u001b[32m778\u001b[39m     mgr = \u001b[43mdict_to_mgr\u001b[49m\u001b[43m(\u001b[49m\u001b[43mdata\u001b[49m\u001b[43m,\u001b[49m\u001b[43m \u001b[49m\u001b[43mindex\u001b[49m\u001b[43m,\u001b[49m\u001b[43m \u001b[49m\u001b[43mcolumns\u001b[49m\u001b[43m,\u001b[49m\u001b[43m \u001b[49m\u001b[43mdtype\u001b[49m\u001b[43m=\u001b[49m\u001b[43mdtype\u001b[49m\u001b[43m,\u001b[49m\u001b[43m \u001b[49m\u001b[43mcopy\u001b[49m\u001b[43m=\u001b[49m\u001b[43mcopy\u001b[49m\u001b[43m,\u001b[49m\u001b[43m \u001b[49m\u001b[43mtyp\u001b[49m\u001b[43m=\u001b[49m\u001b[43mmanager\u001b[49m\u001b[43m)\u001b[49m\n\u001b[32m    779\u001b[39m \u001b[38;5;28;01melif\u001b[39;00m \u001b[38;5;28misinstance\u001b[39m(data, ma.MaskedArray):\n\u001b[32m    780\u001b[39m     \u001b[38;5;28;01mfrom\u001b[39;00m\u001b[38;5;250m \u001b[39m\u001b[34;01mnumpy\u001b[39;00m\u001b[34;01m.\u001b[39;00m\u001b[34;01mma\u001b[39;00m\u001b[38;5;250m \u001b[39m\u001b[38;5;28;01mimport\u001b[39;00m mrecords\n",
      "\u001b[36mFile \u001b[39m\u001b[32mc:\\Users\\Casper\\Documents\\Grupparbete AI2\\AI_2_group_project\\.venv\\Lib\\site-packages\\pandas\\core\\internals\\construction.py:503\u001b[39m, in \u001b[36mdict_to_mgr\u001b[39m\u001b[34m(data, index, columns, dtype, typ, copy)\u001b[39m\n\u001b[32m    499\u001b[39m     \u001b[38;5;28;01melse\u001b[39;00m:\n\u001b[32m    500\u001b[39m         \u001b[38;5;66;03m# dtype check to exclude e.g. range objects, scalars\u001b[39;00m\n\u001b[32m    501\u001b[39m         arrays = [x.copy() \u001b[38;5;28;01mif\u001b[39;00m \u001b[38;5;28mhasattr\u001b[39m(x, \u001b[33m\"\u001b[39m\u001b[33mdtype\u001b[39m\u001b[33m\"\u001b[39m) \u001b[38;5;28;01melse\u001b[39;00m x \u001b[38;5;28;01mfor\u001b[39;00m x \u001b[38;5;129;01min\u001b[39;00m arrays]\n\u001b[32m--> \u001b[39m\u001b[32m503\u001b[39m \u001b[38;5;28;01mreturn\u001b[39;00m \u001b[43marrays_to_mgr\u001b[49m\u001b[43m(\u001b[49m\u001b[43marrays\u001b[49m\u001b[43m,\u001b[49m\u001b[43m \u001b[49m\u001b[43mcolumns\u001b[49m\u001b[43m,\u001b[49m\u001b[43m \u001b[49m\u001b[43mindex\u001b[49m\u001b[43m,\u001b[49m\u001b[43m \u001b[49m\u001b[43mdtype\u001b[49m\u001b[43m=\u001b[49m\u001b[43mdtype\u001b[49m\u001b[43m,\u001b[49m\u001b[43m \u001b[49m\u001b[43mtyp\u001b[49m\u001b[43m=\u001b[49m\u001b[43mtyp\u001b[49m\u001b[43m,\u001b[49m\u001b[43m \u001b[49m\u001b[43mconsolidate\u001b[49m\u001b[43m=\u001b[49m\u001b[43mcopy\u001b[49m\u001b[43m)\u001b[49m\n",
      "\u001b[36mFile \u001b[39m\u001b[32mc:\\Users\\Casper\\Documents\\Grupparbete AI2\\AI_2_group_project\\.venv\\Lib\\site-packages\\pandas\\core\\internals\\construction.py:114\u001b[39m, in \u001b[36marrays_to_mgr\u001b[39m\u001b[34m(arrays, columns, index, dtype, verify_integrity, typ, consolidate)\u001b[39m\n\u001b[32m    111\u001b[39m \u001b[38;5;28;01mif\u001b[39;00m verify_integrity:\n\u001b[32m    112\u001b[39m     \u001b[38;5;66;03m# figure out the index, if necessary\u001b[39;00m\n\u001b[32m    113\u001b[39m     \u001b[38;5;28;01mif\u001b[39;00m index \u001b[38;5;129;01mis\u001b[39;00m \u001b[38;5;28;01mNone\u001b[39;00m:\n\u001b[32m--> \u001b[39m\u001b[32m114\u001b[39m         index = \u001b[43m_extract_index\u001b[49m\u001b[43m(\u001b[49m\u001b[43marrays\u001b[49m\u001b[43m)\u001b[49m\n\u001b[32m    115\u001b[39m     \u001b[38;5;28;01melse\u001b[39;00m:\n\u001b[32m    116\u001b[39m         index = ensure_index(index)\n",
      "\u001b[36mFile \u001b[39m\u001b[32mc:\\Users\\Casper\\Documents\\Grupparbete AI2\\AI_2_group_project\\.venv\\Lib\\site-packages\\pandas\\core\\internals\\construction.py:677\u001b[39m, in \u001b[36m_extract_index\u001b[39m\u001b[34m(data)\u001b[39m\n\u001b[32m    675\u001b[39m lengths = \u001b[38;5;28mlist\u001b[39m(\u001b[38;5;28mset\u001b[39m(raw_lengths))\n\u001b[32m    676\u001b[39m \u001b[38;5;28;01mif\u001b[39;00m \u001b[38;5;28mlen\u001b[39m(lengths) > \u001b[32m1\u001b[39m:\n\u001b[32m--> \u001b[39m\u001b[32m677\u001b[39m     \u001b[38;5;28;01mraise\u001b[39;00m \u001b[38;5;167;01mValueError\u001b[39;00m(\u001b[33m\"\u001b[39m\u001b[33mAll arrays must be of the same length\u001b[39m\u001b[33m\"\u001b[39m)\n\u001b[32m    679\u001b[39m \u001b[38;5;28;01mif\u001b[39;00m have_dicts:\n\u001b[32m    680\u001b[39m     \u001b[38;5;28;01mraise\u001b[39;00m \u001b[38;5;167;01mValueError\u001b[39;00m(\n\u001b[32m    681\u001b[39m         \u001b[33m\"\u001b[39m\u001b[33mMixing dicts with non-Series may lead to ambiguous ordering.\u001b[39m\u001b[33m\"\u001b[39m\n\u001b[32m    682\u001b[39m     )\n",
      "\u001b[31mValueError\u001b[39m: All arrays must be of the same length"
     ]
    }
   ],
   "source": [
    "df_krav = pd.DataFrame({\n",
    "    \"krav\": data[\"krav\"], \n",
    "    \"antal krav\": data[\"antal krav\"]\n",
    "})\n",
    "df_krav"
   ]
  },
  {
   "cell_type": "code",
   "execution_count": 13,
   "id": "bccb1dec",
   "metadata": {},
   "outputs": [
    {
     "data": {
      "text/html": [
       "<div>\n",
       "<style scoped>\n",
       "    .dataframe tbody tr th:only-of-type {\n",
       "        vertical-align: middle;\n",
       "    }\n",
       "\n",
       "    .dataframe tbody tr th {\n",
       "        vertical-align: top;\n",
       "    }\n",
       "\n",
       "    .dataframe thead th {\n",
       "        text-align: right;\n",
       "    }\n",
       "</style>\n",
       "<table border=\"1\" class=\"dataframe\">\n",
       "  <thead>\n",
       "    <tr style=\"text-align: right;\">\n",
       "      <th></th>\n",
       "      <th>meriterande</th>\n",
       "      <th>antal meriterande</th>\n",
       "    </tr>\n",
       "  </thead>\n",
       "  <tbody>\n",
       "    <tr>\n",
       "      <th>0</th>\n",
       "      <td>Erfarenhet av att ha jobbat med ArkDes samling...</td>\n",
       "      <td>1</td>\n",
       "    </tr>\n",
       "    <tr>\n",
       "      <th>1</th>\n",
       "      <td>Övriga språkkunskaper</td>\n",
       "      <td>1</td>\n",
       "    </tr>\n",
       "    <tr>\n",
       "      <th>2</th>\n",
       "      <td>Erfarenhet av arbete i skolmiljö</td>\n",
       "      <td>1</td>\n",
       "    </tr>\n",
       "    <tr>\n",
       "      <th>3</th>\n",
       "      <td>Kunskaper i andra språk än engelska</td>\n",
       "      <td>1</td>\n",
       "    </tr>\n",
       "    <tr>\n",
       "      <th>4</th>\n",
       "      <td>Erfarenhet av folkbildning, vuxenutbildning el...</td>\n",
       "      <td>1</td>\n",
       "    </tr>\n",
       "    <tr>\n",
       "      <th>5</th>\n",
       "      <td>Erfarenhet av läsfrämjande arbete för barn och...</td>\n",
       "      <td>2</td>\n",
       "    </tr>\n",
       "    <tr>\n",
       "      <th>6</th>\n",
       "      <td>Erfarenhet av arbete som skolbibliotekarie</td>\n",
       "      <td>1</td>\n",
       "    </tr>\n",
       "    <tr>\n",
       "      <th>7</th>\n",
       "      <td>Erfarenhet av att arbeta med elever som har an...</td>\n",
       "      <td>1</td>\n",
       "    </tr>\n",
       "    <tr>\n",
       "      <th>8</th>\n",
       "      <td>Erfarenhet av arbete inom pedagogisk verksamhet</td>\n",
       "      <td>1</td>\n",
       "    </tr>\n",
       "    <tr>\n",
       "      <th>9</th>\n",
       "      <td>Ytterligare språk utöver svenska och engelska</td>\n",
       "      <td>1</td>\n",
       "    </tr>\n",
       "    <tr>\n",
       "      <th>10</th>\n",
       "      <td>Erfarenhet av att ingå i projekt med olika akt...</td>\n",
       "      <td>1</td>\n",
       "    </tr>\n",
       "    <tr>\n",
       "      <th>11</th>\n",
       "      <td>Goda digitala kunskaper</td>\n",
       "      <td>1</td>\n",
       "    </tr>\n",
       "    <tr>\n",
       "      <th>12</th>\n",
       "      <td>Erfarenhet av arbete med barn och ungdomar</td>\n",
       "      <td>2</td>\n",
       "    </tr>\n",
       "    <tr>\n",
       "      <th>13</th>\n",
       "      <td>Erfarenhet av läsfrämjande aktiviteter</td>\n",
       "      <td>2</td>\n",
       "    </tr>\n",
       "    <tr>\n",
       "      <th>14</th>\n",
       "      <td>Pedagogisk utbildning</td>\n",
       "      <td>1</td>\n",
       "    </tr>\n",
       "    <tr>\n",
       "      <th>15</th>\n",
       "      <td>Erfarenhet av att leda kollegor (arbetsledare,...</td>\n",
       "      <td>2</td>\n",
       "    </tr>\n",
       "    <tr>\n",
       "      <th>16</th>\n",
       "      <td>Erfarenhet av att utveckla verksamheter och sk...</td>\n",
       "      <td>2</td>\n",
       "    </tr>\n",
       "    <tr>\n",
       "      <th>17</th>\n",
       "      <td>God litteraturkännedom</td>\n",
       "      <td>1</td>\n",
       "    </tr>\n",
       "    <tr>\n",
       "      <th>18</th>\n",
       "      <td>Kunskaper i programmering (R eller motsvarande)</td>\n",
       "      <td>1</td>\n",
       "    </tr>\n",
       "    <tr>\n",
       "      <th>19</th>\n",
       "      <td>Kunskap i verktyg för screening och dataextrak...</td>\n",
       "      <td>1</td>\n",
       "    </tr>\n",
       "    <tr>\n",
       "      <th>20</th>\n",
       "      <td>Kunskap om systematiska översikter som forskni...</td>\n",
       "      <td>1</td>\n",
       "    </tr>\n",
       "    <tr>\n",
       "      <th>21</th>\n",
       "      <td>Erfarenhet av arbete på medicinskt eller läros...</td>\n",
       "      <td>1</td>\n",
       "    </tr>\n",
       "    <tr>\n",
       "      <th>22</th>\n",
       "      <td>Erfarenhet av att arbeta som bibliotekarie</td>\n",
       "      <td>1</td>\n",
       "    </tr>\n",
       "    <tr>\n",
       "      <th>23</th>\n",
       "      <td>Erfarenhet av att arbeta med barn och unga</td>\n",
       "      <td>1</td>\n",
       "    </tr>\n",
       "    <tr>\n",
       "      <th>24</th>\n",
       "      <td>Erfarenhet av att utveckla verksamheter, skapa...</td>\n",
       "      <td>1</td>\n",
       "    </tr>\n",
       "    <tr>\n",
       "      <th>25</th>\n",
       "      <td>Arbetslivserfarenhet från högskole- eller univ...</td>\n",
       "      <td>1</td>\n",
       "    </tr>\n",
       "    <tr>\n",
       "      <th>26</th>\n",
       "      <td>Erfarenhet av att arbeta med e-media (LTH)</td>\n",
       "      <td>1</td>\n",
       "    </tr>\n",
       "    <tr>\n",
       "      <th>27</th>\n",
       "      <td>Goda språkkunskaper</td>\n",
       "      <td>1</td>\n",
       "    </tr>\n",
       "    <tr>\n",
       "      <th>28</th>\n",
       "      <td>Erfarenhet inom arbetsområdet</td>\n",
       "      <td>1</td>\n",
       "    </tr>\n",
       "    <tr>\n",
       "      <th>29</th>\n",
       "      <td>Körkort B</td>\n",
       "      <td>1</td>\n",
       "    </tr>\n",
       "    <tr>\n",
       "      <th>30</th>\n",
       "      <td>Tidigare arbete som ungdomsbibliotekarie</td>\n",
       "      <td>1</td>\n",
       "    </tr>\n",
       "    <tr>\n",
       "      <th>31</th>\n",
       "      <td>Erfarenhet av förändrings- eller utformning av...</td>\n",
       "      <td>1</td>\n",
       "    </tr>\n",
       "    <tr>\n",
       "      <th>32</th>\n",
       "      <td>Andra språkkunskaper utöver svenska och engelska</td>\n",
       "      <td>1</td>\n",
       "    </tr>\n",
       "    <tr>\n",
       "      <th>33</th>\n",
       "      <td>Erfarenhet av att leda och utveckla biblioteks...</td>\n",
       "      <td>3</td>\n",
       "    </tr>\n",
       "    <tr>\n",
       "      <th>34</th>\n",
       "      <td>Andra behörigheter inom utbildningssektorn</td>\n",
       "      <td>3</td>\n",
       "    </tr>\n",
       "    <tr>\n",
       "      <th>35</th>\n",
       "      <td>God förmåga och vana i att uttrycka dig på eng...</td>\n",
       "      <td>3</td>\n",
       "    </tr>\n",
       "    <tr>\n",
       "      <th>36</th>\n",
       "      <td>Erfarenhet av biblioteksyrket och att arbeta m...</td>\n",
       "      <td>1</td>\n",
       "    </tr>\n",
       "    <tr>\n",
       "      <th>37</th>\n",
       "      <td>Erfarenhet av skolbiblioteksarbete</td>\n",
       "      <td>1</td>\n",
       "    </tr>\n",
       "    <tr>\n",
       "      <th>38</th>\n",
       "      <td>B-körkort</td>\n",
       "      <td>1</td>\n",
       "    </tr>\n",
       "    <tr>\n",
       "      <th>39</th>\n",
       "      <td>Erfarenhet av folkbiblioteksarbete</td>\n",
       "      <td>3</td>\n",
       "    </tr>\n",
       "    <tr>\n",
       "      <th>40</th>\n",
       "      <td>Kunskap om säkerhet på nätet och källkritik</td>\n",
       "      <td>3</td>\n",
       "    </tr>\n",
       "    <tr>\n",
       "      <th>41</th>\n",
       "      <td>Erfarenhet av att hålla i utbildningar, presen...</td>\n",
       "      <td>3</td>\n",
       "    </tr>\n",
       "    <tr>\n",
       "      <th>42</th>\n",
       "      <td>Tidigare erfarenhet av arbete i informationstj...</td>\n",
       "      <td>1</td>\n",
       "    </tr>\n",
       "    <tr>\n",
       "      <th>43</th>\n",
       "      <td>Erfarenhet av arbete på folkbibliotek</td>\n",
       "      <td>1</td>\n",
       "    </tr>\n",
       "    <tr>\n",
       "      <th>44</th>\n",
       "      <td>Arbetat med barn och unga samt med läsfrämjand...</td>\n",
       "      <td>1</td>\n",
       "    </tr>\n",
       "    <tr>\n",
       "      <th>45</th>\n",
       "      <td>Erfarenhet av arbete på bibliotek</td>\n",
       "      <td>1</td>\n",
       "    </tr>\n",
       "    <tr>\n",
       "      <th>46</th>\n",
       "      <td>Erfarenhet av att ha arbetat kreativt med barn...</td>\n",
       "      <td>1</td>\n",
       "    </tr>\n",
       "  </tbody>\n",
       "</table>\n",
       "</div>"
      ],
      "text/plain": [
       "                                          meriterande  antal meriterande\n",
       "0   Erfarenhet av att ha jobbat med ArkDes samling...                  1\n",
       "1                               Övriga språkkunskaper                  1\n",
       "2                    Erfarenhet av arbete i skolmiljö                  1\n",
       "3                 Kunskaper i andra språk än engelska                  1\n",
       "4   Erfarenhet av folkbildning, vuxenutbildning el...                  1\n",
       "5   Erfarenhet av läsfrämjande arbete för barn och...                  2\n",
       "6          Erfarenhet av arbete som skolbibliotekarie                  1\n",
       "7   Erfarenhet av att arbeta med elever som har an...                  1\n",
       "8     Erfarenhet av arbete inom pedagogisk verksamhet                  1\n",
       "9       Ytterligare språk utöver svenska och engelska                  1\n",
       "10  Erfarenhet av att ingå i projekt med olika akt...                  1\n",
       "11                            Goda digitala kunskaper                  1\n",
       "12         Erfarenhet av arbete med barn och ungdomar                  2\n",
       "13             Erfarenhet av läsfrämjande aktiviteter                  2\n",
       "14                              Pedagogisk utbildning                  1\n",
       "15  Erfarenhet av att leda kollegor (arbetsledare,...                  2\n",
       "16  Erfarenhet av att utveckla verksamheter och sk...                  2\n",
       "17                             God litteraturkännedom                  1\n",
       "18    Kunskaper i programmering (R eller motsvarande)                  1\n",
       "19  Kunskap i verktyg för screening och dataextrak...                  1\n",
       "20  Kunskap om systematiska översikter som forskni...                  1\n",
       "21  Erfarenhet av arbete på medicinskt eller läros...                  1\n",
       "22         Erfarenhet av att arbeta som bibliotekarie                  1\n",
       "23         Erfarenhet av att arbeta med barn och unga                  1\n",
       "24  Erfarenhet av att utveckla verksamheter, skapa...                  1\n",
       "25  Arbetslivserfarenhet från högskole- eller univ...                  1\n",
       "26         Erfarenhet av att arbeta med e-media (LTH)                  1\n",
       "27                                Goda språkkunskaper                  1\n",
       "28                      Erfarenhet inom arbetsområdet                  1\n",
       "29                                          Körkort B                  1\n",
       "30           Tidigare arbete som ungdomsbibliotekarie                  1\n",
       "31  Erfarenhet av förändrings- eller utformning av...                  1\n",
       "32   Andra språkkunskaper utöver svenska och engelska                  1\n",
       "33  Erfarenhet av att leda och utveckla biblioteks...                  3\n",
       "34         Andra behörigheter inom utbildningssektorn                  3\n",
       "35  God förmåga och vana i att uttrycka dig på eng...                  3\n",
       "36  Erfarenhet av biblioteksyrket och att arbeta m...                  1\n",
       "37                 Erfarenhet av skolbiblioteksarbete                  1\n",
       "38                                          B-körkort                  1\n",
       "39                 Erfarenhet av folkbiblioteksarbete                  3\n",
       "40        Kunskap om säkerhet på nätet och källkritik                  3\n",
       "41  Erfarenhet av att hålla i utbildningar, presen...                  3\n",
       "42  Tidigare erfarenhet av arbete i informationstj...                  1\n",
       "43              Erfarenhet av arbete på folkbibliotek                  1\n",
       "44  Arbetat med barn och unga samt med läsfrämjand...                  1\n",
       "45                  Erfarenhet av arbete på bibliotek                  1\n",
       "46  Erfarenhet av att ha arbetat kreativt med barn...                  1"
      ]
     },
     "execution_count": 13,
     "metadata": {},
     "output_type": "execute_result"
    }
   ],
   "source": [
    "df_merit = pd.DataFrame({\n",
    "    \"meriterande\": data[\"meriterande\"],\n",
    "    \"antal meriterande\": data[\"antal meriterande\"]\n",
    "})\n",
    "df_merit"
   ]
  },
  {
   "cell_type": "code",
   "execution_count": null,
   "id": "9cc920c2",
   "metadata": {},
   "outputs": [
    {
     "data": {
      "text/plain": [
       "'Det är en lista med 300 flyttal (decimaltal) i vetenskaplig notation (även kallad exponentiell notation).  \"e-02\" betyder \"gånger 10 upphöjt till -2\", vilket är samma sak som att dividera med 100.\\n\\nHär är några exempel på hur man tolkar dem:\\n\\n*   `-1.374748535454273224e-02`  är  `-0.01374748535454273224`\\n*   `2.319343388080596924e-02`  är  `0.02319343388080596924`\\n*   `1.300993561744689941e-01` är `0.1300993561744689941`\\n\\nMed andra ord, flyttalen är representerade som:\\n\\n`mantissa * 10^(exponent)`\\n\\nDär mantissan är talet före \"e\" och exponenten är talet efter \"e\".\\n\\nListan verkar vara en serie numeriska värden, men utan ytterligare kontext är det svårt att säga vad de representerar. De kan vara data från en sensor, resultat från en beräkning, eller något annat.\\n'"
      ]
     },
     "execution_count": 87,
     "metadata": {},
     "output_type": "execute_result"
    }
   ],
   "source": [
    "with open(\"embedding.txt\", \"r\") as file:\n",
    "    text = file.read()\n",
    "promt3 = f\"Kan du säga vad det står här: {text}\"\n",
    "response3 = model.generate_content(promt3)\n",
    "response3.text"
   ]
  },
  {
   "cell_type": "code",
   "execution_count": 14,
   "id": "2f616017",
   "metadata": {},
   "outputs": [
    {
     "ename": "ValueError",
     "evalue": "Mime type rendering requires nbformat>=4.2.0 but it is not installed",
     "output_type": "error",
     "traceback": [
      "\u001b[31m---------------------------------------------------------------------------\u001b[39m",
      "\u001b[31mValueError\u001b[39m                                Traceback (most recent call last)",
      "\u001b[36mFile \u001b[39m\u001b[32mc:\\Users\\Casper\\Documents\\Grupparbete AI2\\AI_2_group_project\\.venv\\Lib\\site-packages\\IPython\\core\\formatters.py:984\u001b[39m, in \u001b[36mIPythonDisplayFormatter.__call__\u001b[39m\u001b[34m(self, obj)\u001b[39m\n\u001b[32m    982\u001b[39m method = get_real_method(obj, \u001b[38;5;28mself\u001b[39m.print_method)\n\u001b[32m    983\u001b[39m \u001b[38;5;28;01mif\u001b[39;00m method \u001b[38;5;129;01mis\u001b[39;00m \u001b[38;5;129;01mnot\u001b[39;00m \u001b[38;5;28;01mNone\u001b[39;00m:\n\u001b[32m--> \u001b[39m\u001b[32m984\u001b[39m     \u001b[43mmethod\u001b[49m\u001b[43m(\u001b[49m\u001b[43m)\u001b[49m\n\u001b[32m    985\u001b[39m     \u001b[38;5;28;01mreturn\u001b[39;00m \u001b[38;5;28;01mTrue\u001b[39;00m\n",
      "\u001b[36mFile \u001b[39m\u001b[32mc:\\Users\\Casper\\Documents\\Grupparbete AI2\\AI_2_group_project\\.venv\\Lib\\site-packages\\plotly\\basedatatypes.py:833\u001b[39m, in \u001b[36mBaseFigure._ipython_display_\u001b[39m\u001b[34m(self)\u001b[39m\n\u001b[32m    830\u001b[39m \u001b[38;5;28;01mimport\u001b[39;00m\u001b[38;5;250m \u001b[39m\u001b[34;01mplotly\u001b[39;00m\u001b[34;01m.\u001b[39;00m\u001b[34;01mio\u001b[39;00m\u001b[38;5;250m \u001b[39m\u001b[38;5;28;01mas\u001b[39;00m\u001b[38;5;250m \u001b[39m\u001b[34;01mpio\u001b[39;00m\n\u001b[32m    832\u001b[39m \u001b[38;5;28;01mif\u001b[39;00m pio.renderers.render_on_display \u001b[38;5;129;01mand\u001b[39;00m pio.renderers.default:\n\u001b[32m--> \u001b[39m\u001b[32m833\u001b[39m     \u001b[43mpio\u001b[49m\u001b[43m.\u001b[49m\u001b[43mshow\u001b[49m\u001b[43m(\u001b[49m\u001b[38;5;28;43mself\u001b[39;49m\u001b[43m)\u001b[49m\n\u001b[32m    834\u001b[39m \u001b[38;5;28;01melse\u001b[39;00m:\n\u001b[32m    835\u001b[39m     \u001b[38;5;28mprint\u001b[39m(\u001b[38;5;28mrepr\u001b[39m(\u001b[38;5;28mself\u001b[39m))\n",
      "\u001b[36mFile \u001b[39m\u001b[32mc:\\Users\\Casper\\Documents\\Grupparbete AI2\\AI_2_group_project\\.venv\\Lib\\site-packages\\plotly\\io\\_renderers.py:425\u001b[39m, in \u001b[36mshow\u001b[39m\u001b[34m(fig, renderer, validate, **kwargs)\u001b[39m\n\u001b[32m    420\u001b[39m     \u001b[38;5;28;01mraise\u001b[39;00m \u001b[38;5;167;01mValueError\u001b[39;00m(\n\u001b[32m    421\u001b[39m         \u001b[33m\"\u001b[39m\u001b[33mMime type rendering requires ipython but it is not installed\u001b[39m\u001b[33m\"\u001b[39m\n\u001b[32m    422\u001b[39m     )\n\u001b[32m    424\u001b[39m \u001b[38;5;28;01mif\u001b[39;00m \u001b[38;5;129;01mnot\u001b[39;00m nbformat \u001b[38;5;129;01mor\u001b[39;00m Version(nbformat.__version__) < Version(\u001b[33m\"\u001b[39m\u001b[33m4.2.0\u001b[39m\u001b[33m\"\u001b[39m):\n\u001b[32m--> \u001b[39m\u001b[32m425\u001b[39m     \u001b[38;5;28;01mraise\u001b[39;00m \u001b[38;5;167;01mValueError\u001b[39;00m(\n\u001b[32m    426\u001b[39m         \u001b[33m\"\u001b[39m\u001b[33mMime type rendering requires nbformat>=4.2.0 but it is not installed\u001b[39m\u001b[33m\"\u001b[39m\n\u001b[32m    427\u001b[39m     )\n\u001b[32m    429\u001b[39m display_jupyter_version_warnings()\n\u001b[32m    431\u001b[39m ipython_display.display(bundle, raw=\u001b[38;5;28;01mTrue\u001b[39;00m)\n",
      "\u001b[31mValueError\u001b[39m: Mime type rendering requires nbformat>=4.2.0 but it is not installed"
     ]
    },
    {
     "data": {
      "application/vnd.plotly.v1+json": {
       "config": {
        "plotlyServerURL": "https://plot.ly"
       },
       "data": [
        {
         "hovertemplate": "meriterande=%{x}<br>antal meriterande=%{y}<extra></extra>",
         "legendgroup": "",
         "marker": {
          "color": "#636efa",
          "pattern": {
           "shape": ""
          }
         },
         "name": "",
         "orientation": "v",
         "showlegend": false,
         "textposition": "auto",
         "type": "bar",
         "x": [
          "Erfarenhet av att ha jobbat med ArkDes samlingar och/eller bibliotek",
          "Övriga språkkunskaper",
          "Erfarenhet av arbete i skolmiljö",
          "Kunskaper i andra språk än engelska",
          "Erfarenhet av folkbildning, vuxenutbildning eller arbete på folkhögskola",
          "Erfarenhet av läsfrämjande arbete för barn och unga",
          "Erfarenhet av arbete som skolbibliotekarie",
          "Erfarenhet av att arbeta med elever som har andra modersmål än svenska",
          "Erfarenhet av arbete inom pedagogisk verksamhet",
          "Ytterligare språk utöver svenska och engelska",
          "Erfarenhet av att ingå i projekt med olika aktörer",
          "Goda digitala kunskaper",
          "Erfarenhet av arbete med barn och ungdomar",
          "Erfarenhet av läsfrämjande aktiviteter",
          "Pedagogisk utbildning",
          "Erfarenhet av att leda kollegor (arbetsledare, projektledare, teamledare)",
          "Erfarenhet av att utveckla verksamheter och skapa samarbeten",
          "God litteraturkännedom",
          "Kunskaper i programmering (R eller motsvarande)",
          "Kunskap i verktyg för screening och dataextraktion",
          "Kunskap om systematiska översikter som forskningsmetod",
          "Erfarenhet av arbete på medicinskt eller lärosätesbibliotek",
          "Erfarenhet av att arbeta som bibliotekarie",
          "Erfarenhet av att arbeta med barn och unga",
          "Erfarenhet av att utveckla verksamheter, skapa samarbeten och arbeta strategiskt (Rosendalsbiblioteket)",
          "Arbetslivserfarenhet från högskole- eller universitetsbibliotek (LTH)",
          "Erfarenhet av att arbeta med e-media (LTH)",
          "Goda språkkunskaper",
          "Erfarenhet inom arbetsområdet",
          "Körkort B",
          "Tidigare arbete som ungdomsbibliotekarie",
          "Erfarenhet av förändrings- eller utformning av ungdomsverksamhet inom biblioteksområdet",
          "Andra språkkunskaper utöver svenska och engelska",
          "Erfarenhet av att leda och utveckla biblioteksverksamhet i en skolmiljö",
          "Andra behörigheter inom utbildningssektorn",
          "God förmåga och vana i att uttrycka dig på engelska",
          "Erfarenhet av biblioteksyrket och att arbeta med barn och unga",
          "Erfarenhet av skolbiblioteksarbete",
          "B-körkort",
          "Erfarenhet av folkbiblioteksarbete",
          "Kunskap om säkerhet på nätet och källkritik",
          "Erfarenhet av att hålla i utbildningar, presentationer eller workshops",
          "Tidigare erfarenhet av arbete i informationstjänst vid bibliotek",
          "Erfarenhet av arbete på folkbibliotek",
          "Arbetat med barn och unga samt med läsfrämjande aktiviteter",
          "Erfarenhet av arbete på bibliotek",
          "Erfarenhet av att ha arbetat kreativt med barn och ungdomar"
         ],
         "xaxis": "x",
         "y": {
          "bdata": "AQEBAQECAQEBAQEBAgIBAgIBAQEBAQEBAQEBAQEBAQEBAwMDAQEBAwMDAQEBAQE=",
          "dtype": "i1"
         },
         "yaxis": "y"
        }
       ],
       "layout": {
        "barmode": "relative",
        "legend": {
         "tracegroupgap": 0
        },
        "template": {
         "data": {
          "bar": [
           {
            "error_x": {
             "color": "#2a3f5f"
            },
            "error_y": {
             "color": "#2a3f5f"
            },
            "marker": {
             "line": {
              "color": "#E5ECF6",
              "width": 0.5
             },
             "pattern": {
              "fillmode": "overlay",
              "size": 10,
              "solidity": 0.2
             }
            },
            "type": "bar"
           }
          ],
          "barpolar": [
           {
            "marker": {
             "line": {
              "color": "#E5ECF6",
              "width": 0.5
             },
             "pattern": {
              "fillmode": "overlay",
              "size": 10,
              "solidity": 0.2
             }
            },
            "type": "barpolar"
           }
          ],
          "carpet": [
           {
            "aaxis": {
             "endlinecolor": "#2a3f5f",
             "gridcolor": "white",
             "linecolor": "white",
             "minorgridcolor": "white",
             "startlinecolor": "#2a3f5f"
            },
            "baxis": {
             "endlinecolor": "#2a3f5f",
             "gridcolor": "white",
             "linecolor": "white",
             "minorgridcolor": "white",
             "startlinecolor": "#2a3f5f"
            },
            "type": "carpet"
           }
          ],
          "choropleth": [
           {
            "colorbar": {
             "outlinewidth": 0,
             "ticks": ""
            },
            "type": "choropleth"
           }
          ],
          "contour": [
           {
            "colorbar": {
             "outlinewidth": 0,
             "ticks": ""
            },
            "colorscale": [
             [
              0,
              "#0d0887"
             ],
             [
              0.1111111111111111,
              "#46039f"
             ],
             [
              0.2222222222222222,
              "#7201a8"
             ],
             [
              0.3333333333333333,
              "#9c179e"
             ],
             [
              0.4444444444444444,
              "#bd3786"
             ],
             [
              0.5555555555555556,
              "#d8576b"
             ],
             [
              0.6666666666666666,
              "#ed7953"
             ],
             [
              0.7777777777777778,
              "#fb9f3a"
             ],
             [
              0.8888888888888888,
              "#fdca26"
             ],
             [
              1,
              "#f0f921"
             ]
            ],
            "type": "contour"
           }
          ],
          "contourcarpet": [
           {
            "colorbar": {
             "outlinewidth": 0,
             "ticks": ""
            },
            "type": "contourcarpet"
           }
          ],
          "heatmap": [
           {
            "colorbar": {
             "outlinewidth": 0,
             "ticks": ""
            },
            "colorscale": [
             [
              0,
              "#0d0887"
             ],
             [
              0.1111111111111111,
              "#46039f"
             ],
             [
              0.2222222222222222,
              "#7201a8"
             ],
             [
              0.3333333333333333,
              "#9c179e"
             ],
             [
              0.4444444444444444,
              "#bd3786"
             ],
             [
              0.5555555555555556,
              "#d8576b"
             ],
             [
              0.6666666666666666,
              "#ed7953"
             ],
             [
              0.7777777777777778,
              "#fb9f3a"
             ],
             [
              0.8888888888888888,
              "#fdca26"
             ],
             [
              1,
              "#f0f921"
             ]
            ],
            "type": "heatmap"
           }
          ],
          "histogram": [
           {
            "marker": {
             "pattern": {
              "fillmode": "overlay",
              "size": 10,
              "solidity": 0.2
             }
            },
            "type": "histogram"
           }
          ],
          "histogram2d": [
           {
            "colorbar": {
             "outlinewidth": 0,
             "ticks": ""
            },
            "colorscale": [
             [
              0,
              "#0d0887"
             ],
             [
              0.1111111111111111,
              "#46039f"
             ],
             [
              0.2222222222222222,
              "#7201a8"
             ],
             [
              0.3333333333333333,
              "#9c179e"
             ],
             [
              0.4444444444444444,
              "#bd3786"
             ],
             [
              0.5555555555555556,
              "#d8576b"
             ],
             [
              0.6666666666666666,
              "#ed7953"
             ],
             [
              0.7777777777777778,
              "#fb9f3a"
             ],
             [
              0.8888888888888888,
              "#fdca26"
             ],
             [
              1,
              "#f0f921"
             ]
            ],
            "type": "histogram2d"
           }
          ],
          "histogram2dcontour": [
           {
            "colorbar": {
             "outlinewidth": 0,
             "ticks": ""
            },
            "colorscale": [
             [
              0,
              "#0d0887"
             ],
             [
              0.1111111111111111,
              "#46039f"
             ],
             [
              0.2222222222222222,
              "#7201a8"
             ],
             [
              0.3333333333333333,
              "#9c179e"
             ],
             [
              0.4444444444444444,
              "#bd3786"
             ],
             [
              0.5555555555555556,
              "#d8576b"
             ],
             [
              0.6666666666666666,
              "#ed7953"
             ],
             [
              0.7777777777777778,
              "#fb9f3a"
             ],
             [
              0.8888888888888888,
              "#fdca26"
             ],
             [
              1,
              "#f0f921"
             ]
            ],
            "type": "histogram2dcontour"
           }
          ],
          "mesh3d": [
           {
            "colorbar": {
             "outlinewidth": 0,
             "ticks": ""
            },
            "type": "mesh3d"
           }
          ],
          "parcoords": [
           {
            "line": {
             "colorbar": {
              "outlinewidth": 0,
              "ticks": ""
             }
            },
            "type": "parcoords"
           }
          ],
          "pie": [
           {
            "automargin": true,
            "type": "pie"
           }
          ],
          "scatter": [
           {
            "fillpattern": {
             "fillmode": "overlay",
             "size": 10,
             "solidity": 0.2
            },
            "type": "scatter"
           }
          ],
          "scatter3d": [
           {
            "line": {
             "colorbar": {
              "outlinewidth": 0,
              "ticks": ""
             }
            },
            "marker": {
             "colorbar": {
              "outlinewidth": 0,
              "ticks": ""
             }
            },
            "type": "scatter3d"
           }
          ],
          "scattercarpet": [
           {
            "marker": {
             "colorbar": {
              "outlinewidth": 0,
              "ticks": ""
             }
            },
            "type": "scattercarpet"
           }
          ],
          "scattergeo": [
           {
            "marker": {
             "colorbar": {
              "outlinewidth": 0,
              "ticks": ""
             }
            },
            "type": "scattergeo"
           }
          ],
          "scattergl": [
           {
            "marker": {
             "colorbar": {
              "outlinewidth": 0,
              "ticks": ""
             }
            },
            "type": "scattergl"
           }
          ],
          "scattermap": [
           {
            "marker": {
             "colorbar": {
              "outlinewidth": 0,
              "ticks": ""
             }
            },
            "type": "scattermap"
           }
          ],
          "scattermapbox": [
           {
            "marker": {
             "colorbar": {
              "outlinewidth": 0,
              "ticks": ""
             }
            },
            "type": "scattermapbox"
           }
          ],
          "scatterpolar": [
           {
            "marker": {
             "colorbar": {
              "outlinewidth": 0,
              "ticks": ""
             }
            },
            "type": "scatterpolar"
           }
          ],
          "scatterpolargl": [
           {
            "marker": {
             "colorbar": {
              "outlinewidth": 0,
              "ticks": ""
             }
            },
            "type": "scatterpolargl"
           }
          ],
          "scatterternary": [
           {
            "marker": {
             "colorbar": {
              "outlinewidth": 0,
              "ticks": ""
             }
            },
            "type": "scatterternary"
           }
          ],
          "surface": [
           {
            "colorbar": {
             "outlinewidth": 0,
             "ticks": ""
            },
            "colorscale": [
             [
              0,
              "#0d0887"
             ],
             [
              0.1111111111111111,
              "#46039f"
             ],
             [
              0.2222222222222222,
              "#7201a8"
             ],
             [
              0.3333333333333333,
              "#9c179e"
             ],
             [
              0.4444444444444444,
              "#bd3786"
             ],
             [
              0.5555555555555556,
              "#d8576b"
             ],
             [
              0.6666666666666666,
              "#ed7953"
             ],
             [
              0.7777777777777778,
              "#fb9f3a"
             ],
             [
              0.8888888888888888,
              "#fdca26"
             ],
             [
              1,
              "#f0f921"
             ]
            ],
            "type": "surface"
           }
          ],
          "table": [
           {
            "cells": {
             "fill": {
              "color": "#EBF0F8"
             },
             "line": {
              "color": "white"
             }
            },
            "header": {
             "fill": {
              "color": "#C8D4E3"
             },
             "line": {
              "color": "white"
             }
            },
            "type": "table"
           }
          ]
         },
         "layout": {
          "annotationdefaults": {
           "arrowcolor": "#2a3f5f",
           "arrowhead": 0,
           "arrowwidth": 1
          },
          "autotypenumbers": "strict",
          "coloraxis": {
           "colorbar": {
            "outlinewidth": 0,
            "ticks": ""
           }
          },
          "colorscale": {
           "diverging": [
            [
             0,
             "#8e0152"
            ],
            [
             0.1,
             "#c51b7d"
            ],
            [
             0.2,
             "#de77ae"
            ],
            [
             0.3,
             "#f1b6da"
            ],
            [
             0.4,
             "#fde0ef"
            ],
            [
             0.5,
             "#f7f7f7"
            ],
            [
             0.6,
             "#e6f5d0"
            ],
            [
             0.7,
             "#b8e186"
            ],
            [
             0.8,
             "#7fbc41"
            ],
            [
             0.9,
             "#4d9221"
            ],
            [
             1,
             "#276419"
            ]
           ],
           "sequential": [
            [
             0,
             "#0d0887"
            ],
            [
             0.1111111111111111,
             "#46039f"
            ],
            [
             0.2222222222222222,
             "#7201a8"
            ],
            [
             0.3333333333333333,
             "#9c179e"
            ],
            [
             0.4444444444444444,
             "#bd3786"
            ],
            [
             0.5555555555555556,
             "#d8576b"
            ],
            [
             0.6666666666666666,
             "#ed7953"
            ],
            [
             0.7777777777777778,
             "#fb9f3a"
            ],
            [
             0.8888888888888888,
             "#fdca26"
            ],
            [
             1,
             "#f0f921"
            ]
           ],
           "sequentialminus": [
            [
             0,
             "#0d0887"
            ],
            [
             0.1111111111111111,
             "#46039f"
            ],
            [
             0.2222222222222222,
             "#7201a8"
            ],
            [
             0.3333333333333333,
             "#9c179e"
            ],
            [
             0.4444444444444444,
             "#bd3786"
            ],
            [
             0.5555555555555556,
             "#d8576b"
            ],
            [
             0.6666666666666666,
             "#ed7953"
            ],
            [
             0.7777777777777778,
             "#fb9f3a"
            ],
            [
             0.8888888888888888,
             "#fdca26"
            ],
            [
             1,
             "#f0f921"
            ]
           ]
          },
          "colorway": [
           "#636efa",
           "#EF553B",
           "#00cc96",
           "#ab63fa",
           "#FFA15A",
           "#19d3f3",
           "#FF6692",
           "#B6E880",
           "#FF97FF",
           "#FECB52"
          ],
          "font": {
           "color": "#2a3f5f"
          },
          "geo": {
           "bgcolor": "white",
           "lakecolor": "white",
           "landcolor": "#E5ECF6",
           "showlakes": true,
           "showland": true,
           "subunitcolor": "white"
          },
          "hoverlabel": {
           "align": "left"
          },
          "hovermode": "closest",
          "mapbox": {
           "style": "light"
          },
          "paper_bgcolor": "white",
          "plot_bgcolor": "#E5ECF6",
          "polar": {
           "angularaxis": {
            "gridcolor": "white",
            "linecolor": "white",
            "ticks": ""
           },
           "bgcolor": "#E5ECF6",
           "radialaxis": {
            "gridcolor": "white",
            "linecolor": "white",
            "ticks": ""
           }
          },
          "scene": {
           "xaxis": {
            "backgroundcolor": "#E5ECF6",
            "gridcolor": "white",
            "gridwidth": 2,
            "linecolor": "white",
            "showbackground": true,
            "ticks": "",
            "zerolinecolor": "white"
           },
           "yaxis": {
            "backgroundcolor": "#E5ECF6",
            "gridcolor": "white",
            "gridwidth": 2,
            "linecolor": "white",
            "showbackground": true,
            "ticks": "",
            "zerolinecolor": "white"
           },
           "zaxis": {
            "backgroundcolor": "#E5ECF6",
            "gridcolor": "white",
            "gridwidth": 2,
            "linecolor": "white",
            "showbackground": true,
            "ticks": "",
            "zerolinecolor": "white"
           }
          },
          "shapedefaults": {
           "line": {
            "color": "#2a3f5f"
           }
          },
          "ternary": {
           "aaxis": {
            "gridcolor": "white",
            "linecolor": "white",
            "ticks": ""
           },
           "baxis": {
            "gridcolor": "white",
            "linecolor": "white",
            "ticks": ""
           },
           "bgcolor": "#E5ECF6",
           "caxis": {
            "gridcolor": "white",
            "linecolor": "white",
            "ticks": ""
           }
          },
          "title": {
           "x": 0.05
          },
          "xaxis": {
           "automargin": true,
           "gridcolor": "white",
           "linecolor": "white",
           "ticks": "",
           "title": {
            "standoff": 15
           },
           "zerolinecolor": "white",
           "zerolinewidth": 2
          },
          "yaxis": {
           "automargin": true,
           "gridcolor": "white",
           "linecolor": "white",
           "ticks": "",
           "title": {
            "standoff": 15
           },
           "zerolinecolor": "white",
           "zerolinewidth": 2
          }
         }
        },
        "title": {
         "text": "Meriterande erfarenhet"
        },
        "xaxis": {
         "anchor": "y",
         "domain": [
          0,
          1
         ],
         "title": {
          "text": "meriterande"
         }
        },
        "yaxis": {
         "anchor": "x",
         "domain": [
          0,
          1
         ],
         "title": {
          "text": "antal meriterande"
         }
        }
       }
      },
      "text/html": [
       "<div>                        <script type=\"text/javascript\">window.PlotlyConfig = {MathJaxConfig: 'local'};</script>\n",
       "        <script charset=\"utf-8\" src=\"https://cdn.plot.ly/plotly-3.0.1.min.js\"></script>                <div id=\"701197b9-ca8c-4cf8-8994-e564529f2a39\" class=\"plotly-graph-div\" style=\"height:100%; width:100%;\"></div>            <script type=\"text/javascript\">                window.PLOTLYENV=window.PLOTLYENV || {};                                if (document.getElementById(\"701197b9-ca8c-4cf8-8994-e564529f2a39\")) {                    Plotly.newPlot(                        \"701197b9-ca8c-4cf8-8994-e564529f2a39\",                        [{\"hovertemplate\":\"meriterande=%{x}\\u003cbr\\u003eantal meriterande=%{y}\\u003cextra\\u003e\\u003c\\u002fextra\\u003e\",\"legendgroup\":\"\",\"marker\":{\"color\":\"#636efa\",\"pattern\":{\"shape\":\"\"}},\"name\":\"\",\"orientation\":\"v\",\"showlegend\":false,\"textposition\":\"auto\",\"x\":[\"Erfarenhet av att ha jobbat med ArkDes samlingar och\\u002feller bibliotek\",\"Övriga språkkunskaper\",\"Erfarenhet av arbete i skolmiljö\",\"Kunskaper i andra språk än engelska\",\"Erfarenhet av folkbildning, vuxenutbildning eller arbete på folkhögskola\",\"Erfarenhet av läsfrämjande arbete för barn och unga\",\"Erfarenhet av arbete som skolbibliotekarie\",\"Erfarenhet av att arbeta med elever som har andra modersmål än svenska\",\"Erfarenhet av arbete inom pedagogisk verksamhet\",\"Ytterligare språk utöver svenska och engelska\",\"Erfarenhet av att ingå i projekt med olika aktörer\",\"Goda digitala kunskaper\",\"Erfarenhet av arbete med barn och ungdomar\",\"Erfarenhet av läsfrämjande aktiviteter\",\"Pedagogisk utbildning\",\"Erfarenhet av att leda kollegor (arbetsledare, projektledare, teamledare)\",\"Erfarenhet av att utveckla verksamheter och skapa samarbeten\",\"God litteraturkännedom\",\"Kunskaper i programmering (R eller motsvarande)\",\"Kunskap i verktyg för screening och dataextraktion\",\"Kunskap om systematiska översikter som forskningsmetod\",\"Erfarenhet av arbete på medicinskt eller lärosätesbibliotek\",\"Erfarenhet av att arbeta som bibliotekarie\",\"Erfarenhet av att arbeta med barn och unga\",\"Erfarenhet av att utveckla verksamheter, skapa samarbeten och arbeta strategiskt (Rosendalsbiblioteket)\",\"Arbetslivserfarenhet från högskole- eller universitetsbibliotek (LTH)\",\"Erfarenhet av att arbeta med e-media (LTH)\",\"Goda språkkunskaper\",\"Erfarenhet inom arbetsområdet\",\"Körkort B\",\"Tidigare arbete som ungdomsbibliotekarie\",\"Erfarenhet av förändrings- eller utformning av ungdomsverksamhet inom biblioteksområdet\",\"Andra språkkunskaper utöver svenska och engelska\",\"Erfarenhet av att leda och utveckla biblioteksverksamhet i en skolmiljö\",\"Andra behörigheter inom utbildningssektorn\",\"God förmåga och vana i att uttrycka dig på engelska\",\"Erfarenhet av biblioteksyrket och att arbeta med barn och unga\",\"Erfarenhet av skolbiblioteksarbete\",\"B-körkort\",\"Erfarenhet av folkbiblioteksarbete\",\"Kunskap om säkerhet på nätet och källkritik\",\"Erfarenhet av att hålla i utbildningar, presentationer eller workshops\",\"Tidigare erfarenhet av arbete i informationstjänst vid bibliotek\",\"Erfarenhet av arbete på folkbibliotek\",\"Arbetat med barn och unga samt med läsfrämjande aktiviteter\",\"Erfarenhet av arbete på bibliotek\",\"Erfarenhet av att ha arbetat kreativt med barn och ungdomar\"],\"xaxis\":\"x\",\"y\":{\"dtype\":\"i1\",\"bdata\":\"AQEBAQECAQEBAQEBAgIBAgIBAQEBAQEBAQEBAQEBAQEBAwMDAQEBAwMDAQEBAQE=\"},\"yaxis\":\"y\",\"type\":\"bar\"}],                        {\"template\":{\"data\":{\"histogram2dcontour\":[{\"type\":\"histogram2dcontour\",\"colorbar\":{\"outlinewidth\":0,\"ticks\":\"\"},\"colorscale\":[[0.0,\"#0d0887\"],[0.1111111111111111,\"#46039f\"],[0.2222222222222222,\"#7201a8\"],[0.3333333333333333,\"#9c179e\"],[0.4444444444444444,\"#bd3786\"],[0.5555555555555556,\"#d8576b\"],[0.6666666666666666,\"#ed7953\"],[0.7777777777777778,\"#fb9f3a\"],[0.8888888888888888,\"#fdca26\"],[1.0,\"#f0f921\"]]}],\"choropleth\":[{\"type\":\"choropleth\",\"colorbar\":{\"outlinewidth\":0,\"ticks\":\"\"}}],\"histogram2d\":[{\"type\":\"histogram2d\",\"colorbar\":{\"outlinewidth\":0,\"ticks\":\"\"},\"colorscale\":[[0.0,\"#0d0887\"],[0.1111111111111111,\"#46039f\"],[0.2222222222222222,\"#7201a8\"],[0.3333333333333333,\"#9c179e\"],[0.4444444444444444,\"#bd3786\"],[0.5555555555555556,\"#d8576b\"],[0.6666666666666666,\"#ed7953\"],[0.7777777777777778,\"#fb9f3a\"],[0.8888888888888888,\"#fdca26\"],[1.0,\"#f0f921\"]]}],\"heatmap\":[{\"type\":\"heatmap\",\"colorbar\":{\"outlinewidth\":0,\"ticks\":\"\"},\"colorscale\":[[0.0,\"#0d0887\"],[0.1111111111111111,\"#46039f\"],[0.2222222222222222,\"#7201a8\"],[0.3333333333333333,\"#9c179e\"],[0.4444444444444444,\"#bd3786\"],[0.5555555555555556,\"#d8576b\"],[0.6666666666666666,\"#ed7953\"],[0.7777777777777778,\"#fb9f3a\"],[0.8888888888888888,\"#fdca26\"],[1.0,\"#f0f921\"]]}],\"contourcarpet\":[{\"type\":\"contourcarpet\",\"colorbar\":{\"outlinewidth\":0,\"ticks\":\"\"}}],\"contour\":[{\"type\":\"contour\",\"colorbar\":{\"outlinewidth\":0,\"ticks\":\"\"},\"colorscale\":[[0.0,\"#0d0887\"],[0.1111111111111111,\"#46039f\"],[0.2222222222222222,\"#7201a8\"],[0.3333333333333333,\"#9c179e\"],[0.4444444444444444,\"#bd3786\"],[0.5555555555555556,\"#d8576b\"],[0.6666666666666666,\"#ed7953\"],[0.7777777777777778,\"#fb9f3a\"],[0.8888888888888888,\"#fdca26\"],[1.0,\"#f0f921\"]]}],\"surface\":[{\"type\":\"surface\",\"colorbar\":{\"outlinewidth\":0,\"ticks\":\"\"},\"colorscale\":[[0.0,\"#0d0887\"],[0.1111111111111111,\"#46039f\"],[0.2222222222222222,\"#7201a8\"],[0.3333333333333333,\"#9c179e\"],[0.4444444444444444,\"#bd3786\"],[0.5555555555555556,\"#d8576b\"],[0.6666666666666666,\"#ed7953\"],[0.7777777777777778,\"#fb9f3a\"],[0.8888888888888888,\"#fdca26\"],[1.0,\"#f0f921\"]]}],\"mesh3d\":[{\"type\":\"mesh3d\",\"colorbar\":{\"outlinewidth\":0,\"ticks\":\"\"}}],\"scatter\":[{\"fillpattern\":{\"fillmode\":\"overlay\",\"size\":10,\"solidity\":0.2},\"type\":\"scatter\"}],\"parcoords\":[{\"type\":\"parcoords\",\"line\":{\"colorbar\":{\"outlinewidth\":0,\"ticks\":\"\"}}}],\"scatterpolargl\":[{\"type\":\"scatterpolargl\",\"marker\":{\"colorbar\":{\"outlinewidth\":0,\"ticks\":\"\"}}}],\"bar\":[{\"error_x\":{\"color\":\"#2a3f5f\"},\"error_y\":{\"color\":\"#2a3f5f\"},\"marker\":{\"line\":{\"color\":\"#E5ECF6\",\"width\":0.5},\"pattern\":{\"fillmode\":\"overlay\",\"size\":10,\"solidity\":0.2}},\"type\":\"bar\"}],\"scattergeo\":[{\"type\":\"scattergeo\",\"marker\":{\"colorbar\":{\"outlinewidth\":0,\"ticks\":\"\"}}}],\"scatterpolar\":[{\"type\":\"scatterpolar\",\"marker\":{\"colorbar\":{\"outlinewidth\":0,\"ticks\":\"\"}}}],\"histogram\":[{\"marker\":{\"pattern\":{\"fillmode\":\"overlay\",\"size\":10,\"solidity\":0.2}},\"type\":\"histogram\"}],\"scattergl\":[{\"type\":\"scattergl\",\"marker\":{\"colorbar\":{\"outlinewidth\":0,\"ticks\":\"\"}}}],\"scatter3d\":[{\"type\":\"scatter3d\",\"line\":{\"colorbar\":{\"outlinewidth\":0,\"ticks\":\"\"}},\"marker\":{\"colorbar\":{\"outlinewidth\":0,\"ticks\":\"\"}}}],\"scattermap\":[{\"type\":\"scattermap\",\"marker\":{\"colorbar\":{\"outlinewidth\":0,\"ticks\":\"\"}}}],\"scattermapbox\":[{\"type\":\"scattermapbox\",\"marker\":{\"colorbar\":{\"outlinewidth\":0,\"ticks\":\"\"}}}],\"scatterternary\":[{\"type\":\"scatterternary\",\"marker\":{\"colorbar\":{\"outlinewidth\":0,\"ticks\":\"\"}}}],\"scattercarpet\":[{\"type\":\"scattercarpet\",\"marker\":{\"colorbar\":{\"outlinewidth\":0,\"ticks\":\"\"}}}],\"carpet\":[{\"aaxis\":{\"endlinecolor\":\"#2a3f5f\",\"gridcolor\":\"white\",\"linecolor\":\"white\",\"minorgridcolor\":\"white\",\"startlinecolor\":\"#2a3f5f\"},\"baxis\":{\"endlinecolor\":\"#2a3f5f\",\"gridcolor\":\"white\",\"linecolor\":\"white\",\"minorgridcolor\":\"white\",\"startlinecolor\":\"#2a3f5f\"},\"type\":\"carpet\"}],\"table\":[{\"cells\":{\"fill\":{\"color\":\"#EBF0F8\"},\"line\":{\"color\":\"white\"}},\"header\":{\"fill\":{\"color\":\"#C8D4E3\"},\"line\":{\"color\":\"white\"}},\"type\":\"table\"}],\"barpolar\":[{\"marker\":{\"line\":{\"color\":\"#E5ECF6\",\"width\":0.5},\"pattern\":{\"fillmode\":\"overlay\",\"size\":10,\"solidity\":0.2}},\"type\":\"barpolar\"}],\"pie\":[{\"automargin\":true,\"type\":\"pie\"}]},\"layout\":{\"autotypenumbers\":\"strict\",\"colorway\":[\"#636efa\",\"#EF553B\",\"#00cc96\",\"#ab63fa\",\"#FFA15A\",\"#19d3f3\",\"#FF6692\",\"#B6E880\",\"#FF97FF\",\"#FECB52\"],\"font\":{\"color\":\"#2a3f5f\"},\"hovermode\":\"closest\",\"hoverlabel\":{\"align\":\"left\"},\"paper_bgcolor\":\"white\",\"plot_bgcolor\":\"#E5ECF6\",\"polar\":{\"bgcolor\":\"#E5ECF6\",\"angularaxis\":{\"gridcolor\":\"white\",\"linecolor\":\"white\",\"ticks\":\"\"},\"radialaxis\":{\"gridcolor\":\"white\",\"linecolor\":\"white\",\"ticks\":\"\"}},\"ternary\":{\"bgcolor\":\"#E5ECF6\",\"aaxis\":{\"gridcolor\":\"white\",\"linecolor\":\"white\",\"ticks\":\"\"},\"baxis\":{\"gridcolor\":\"white\",\"linecolor\":\"white\",\"ticks\":\"\"},\"caxis\":{\"gridcolor\":\"white\",\"linecolor\":\"white\",\"ticks\":\"\"}},\"coloraxis\":{\"colorbar\":{\"outlinewidth\":0,\"ticks\":\"\"}},\"colorscale\":{\"sequential\":[[0.0,\"#0d0887\"],[0.1111111111111111,\"#46039f\"],[0.2222222222222222,\"#7201a8\"],[0.3333333333333333,\"#9c179e\"],[0.4444444444444444,\"#bd3786\"],[0.5555555555555556,\"#d8576b\"],[0.6666666666666666,\"#ed7953\"],[0.7777777777777778,\"#fb9f3a\"],[0.8888888888888888,\"#fdca26\"],[1.0,\"#f0f921\"]],\"sequentialminus\":[[0.0,\"#0d0887\"],[0.1111111111111111,\"#46039f\"],[0.2222222222222222,\"#7201a8\"],[0.3333333333333333,\"#9c179e\"],[0.4444444444444444,\"#bd3786\"],[0.5555555555555556,\"#d8576b\"],[0.6666666666666666,\"#ed7953\"],[0.7777777777777778,\"#fb9f3a\"],[0.8888888888888888,\"#fdca26\"],[1.0,\"#f0f921\"]],\"diverging\":[[0,\"#8e0152\"],[0.1,\"#c51b7d\"],[0.2,\"#de77ae\"],[0.3,\"#f1b6da\"],[0.4,\"#fde0ef\"],[0.5,\"#f7f7f7\"],[0.6,\"#e6f5d0\"],[0.7,\"#b8e186\"],[0.8,\"#7fbc41\"],[0.9,\"#4d9221\"],[1,\"#276419\"]]},\"xaxis\":{\"gridcolor\":\"white\",\"linecolor\":\"white\",\"ticks\":\"\",\"title\":{\"standoff\":15},\"zerolinecolor\":\"white\",\"automargin\":true,\"zerolinewidth\":2},\"yaxis\":{\"gridcolor\":\"white\",\"linecolor\":\"white\",\"ticks\":\"\",\"title\":{\"standoff\":15},\"zerolinecolor\":\"white\",\"automargin\":true,\"zerolinewidth\":2},\"scene\":{\"xaxis\":{\"backgroundcolor\":\"#E5ECF6\",\"gridcolor\":\"white\",\"linecolor\":\"white\",\"showbackground\":true,\"ticks\":\"\",\"zerolinecolor\":\"white\",\"gridwidth\":2},\"yaxis\":{\"backgroundcolor\":\"#E5ECF6\",\"gridcolor\":\"white\",\"linecolor\":\"white\",\"showbackground\":true,\"ticks\":\"\",\"zerolinecolor\":\"white\",\"gridwidth\":2},\"zaxis\":{\"backgroundcolor\":\"#E5ECF6\",\"gridcolor\":\"white\",\"linecolor\":\"white\",\"showbackground\":true,\"ticks\":\"\",\"zerolinecolor\":\"white\",\"gridwidth\":2}},\"shapedefaults\":{\"line\":{\"color\":\"#2a3f5f\"}},\"annotationdefaults\":{\"arrowcolor\":\"#2a3f5f\",\"arrowhead\":0,\"arrowwidth\":1},\"geo\":{\"bgcolor\":\"white\",\"landcolor\":\"#E5ECF6\",\"subunitcolor\":\"white\",\"showland\":true,\"showlakes\":true,\"lakecolor\":\"white\"},\"title\":{\"x\":0.05},\"mapbox\":{\"style\":\"light\"}}},\"xaxis\":{\"anchor\":\"y\",\"domain\":[0.0,1.0],\"title\":{\"text\":\"meriterande\"}},\"yaxis\":{\"anchor\":\"x\",\"domain\":[0.0,1.0],\"title\":{\"text\":\"antal meriterande\"}},\"legend\":{\"tracegroupgap\":0},\"title\":{\"text\":\"Meriterande erfarenhet\"},\"barmode\":\"relative\"},                        {\"responsive\": true}                    )                };            </script>        </div>"
      ],
      "text/plain": [
       "Figure({\n",
       "    'data': [{'hovertemplate': 'meriterande=%{x}<br>antal meriterande=%{y}<extra></extra>',\n",
       "              'legendgroup': '',\n",
       "              'marker': {'color': '#636efa', 'pattern': {'shape': ''}},\n",
       "              'name': '',\n",
       "              'orientation': 'v',\n",
       "              'showlegend': False,\n",
       "              'textposition': 'auto',\n",
       "              'type': 'bar',\n",
       "              'x': array(['Erfarenhet av att ha jobbat med ArkDes samlingar och/eller bibliotek',\n",
       "                          'Övriga språkkunskaper', 'Erfarenhet av arbete i skolmiljö',\n",
       "                          'Kunskaper i andra språk än engelska',\n",
       "                          'Erfarenhet av folkbildning, vuxenutbildning eller arbete på folkhögskola',\n",
       "                          'Erfarenhet av läsfrämjande arbete för barn och unga',\n",
       "                          'Erfarenhet av arbete som skolbibliotekarie',\n",
       "                          'Erfarenhet av att arbeta med elever som har andra modersmål än svenska',\n",
       "                          'Erfarenhet av arbete inom pedagogisk verksamhet',\n",
       "                          'Ytterligare språk utöver svenska och engelska',\n",
       "                          'Erfarenhet av att ingå i projekt med olika aktörer',\n",
       "                          'Goda digitala kunskaper', 'Erfarenhet av arbete med barn och ungdomar',\n",
       "                          'Erfarenhet av läsfrämjande aktiviteter', 'Pedagogisk utbildning',\n",
       "                          'Erfarenhet av att leda kollegor (arbetsledare, projektledare, teamledare)',\n",
       "                          'Erfarenhet av att utveckla verksamheter och skapa samarbeten',\n",
       "                          'God litteraturkännedom',\n",
       "                          'Kunskaper i programmering (R eller motsvarande)',\n",
       "                          'Kunskap i verktyg för screening och dataextraktion',\n",
       "                          'Kunskap om systematiska översikter som forskningsmetod',\n",
       "                          'Erfarenhet av arbete på medicinskt eller lärosätesbibliotek',\n",
       "                          'Erfarenhet av att arbeta som bibliotekarie',\n",
       "                          'Erfarenhet av att arbeta med barn och unga',\n",
       "                          'Erfarenhet av att utveckla verksamheter, skapa samarbeten och arbeta strategiskt (Rosendalsbiblioteket)',\n",
       "                          'Arbetslivserfarenhet från högskole- eller universitetsbibliotek (LTH)',\n",
       "                          'Erfarenhet av att arbeta med e-media (LTH)', 'Goda språkkunskaper',\n",
       "                          'Erfarenhet inom arbetsområdet', 'Körkort B',\n",
       "                          'Tidigare arbete som ungdomsbibliotekarie',\n",
       "                          'Erfarenhet av förändrings- eller utformning av ungdomsverksamhet inom biblioteksområdet',\n",
       "                          'Andra språkkunskaper utöver svenska och engelska',\n",
       "                          'Erfarenhet av att leda och utveckla biblioteksverksamhet i en skolmiljö',\n",
       "                          'Andra behörigheter inom utbildningssektorn',\n",
       "                          'God förmåga och vana i att uttrycka dig på engelska',\n",
       "                          'Erfarenhet av biblioteksyrket och att arbeta med barn och unga',\n",
       "                          'Erfarenhet av skolbiblioteksarbete', 'B-körkort',\n",
       "                          'Erfarenhet av folkbiblioteksarbete',\n",
       "                          'Kunskap om säkerhet på nätet och källkritik',\n",
       "                          'Erfarenhet av att hålla i utbildningar, presentationer eller workshops',\n",
       "                          'Tidigare erfarenhet av arbete i informationstjänst vid bibliotek',\n",
       "                          'Erfarenhet av arbete på folkbibliotek',\n",
       "                          'Arbetat med barn och unga samt med läsfrämjande aktiviteter',\n",
       "                          'Erfarenhet av arbete på bibliotek',\n",
       "                          'Erfarenhet av att ha arbetat kreativt med barn och ungdomar'],\n",
       "                         dtype=object),\n",
       "              'xaxis': 'x',\n",
       "              'y': {'bdata': 'AQEBAQECAQEBAQEBAgIBAgIBAQEBAQEBAQEBAQEBAQEBAwMDAQEBAwMDAQEBAQE=', 'dtype': 'i1'},\n",
       "              'yaxis': 'y'}],\n",
       "    'layout': {'barmode': 'relative',\n",
       "               'legend': {'tracegroupgap': 0},\n",
       "               'template': '...',\n",
       "               'title': {'text': 'Meriterande erfarenhet'},\n",
       "               'xaxis': {'anchor': 'y', 'domain': [0.0, 1.0], 'title': {'text': 'meriterande'}},\n",
       "               'yaxis': {'anchor': 'x', 'domain': [0.0, 1.0], 'title': {'text': 'antal meriterande'}}}\n",
       "})"
      ]
     },
     "execution_count": 14,
     "metadata": {},
     "output_type": "execute_result"
    }
   ],
   "source": [
    "import plotly.express as px\n",
    "px.bar(df_merit, x=\"meriterande\", y=\"antal meriterande\", title=\"Meriterande erfarenhet\")\n"
   ]
  }
 ],
 "metadata": {
  "kernelspec": {
   "display_name": ".venv",
   "language": "python",
   "name": "python3"
  },
  "language_info": {
   "codemirror_mode": {
    "name": "ipython",
    "version": 3
   },
   "file_extension": ".py",
   "mimetype": "text/x-python",
   "name": "python",
   "nbconvert_exporter": "python",
   "pygments_lexer": "ipython3",
   "version": "3.12.2"
  }
 },
 "nbformat": 4,
 "nbformat_minor": 5
}

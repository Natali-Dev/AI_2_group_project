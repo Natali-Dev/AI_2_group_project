{
 "cells": [
  {
   "cell_type": "code",
   "execution_count": 10,
   "id": "0d945c54",
   "metadata": {},
   "outputs": [],
   "source": [
    "with open(\"for_gemini.txt\", \"r\", encoding='utf-8') as file: \n",
    "    ad_text = file.read() \n",
    "text = ad_text"
   ]
  },
  {
   "cell_type": "code",
   "execution_count": 2,
   "id": "e4c5ab5a",
   "metadata": {},
   "outputs": [
    {
     "data": {
      "text/plain": [
       "55092"
      ]
     },
     "execution_count": 2,
     "metadata": {},
     "output_type": "execute_result"
    }
   ],
   "source": [
    "len(text)"
   ]
  },
  {
   "cell_type": "code",
   "execution_count": 11,
   "id": "b921514d",
   "metadata": {},
   "outputs": [
    {
     "name": "stderr",
     "output_type": "stream",
     "text": [
      "c:\\Users\\Lukas\\VSCode\\python\\AI_2_group_project\\.venv\\Lib\\site-packages\\tqdm\\auto.py:21: TqdmWarning: IProgress not found. Please update jupyter and ipywidgets. See https://ipywidgets.readthedocs.io/en/stable/user_install.html\n",
      "  from .autonotebook import tqdm as notebook_tqdm\n",
      "c:\\Users\\Lukas\\VSCode\\python\\AI_2_group_project\\.venv\\Lib\\site-packages\\huggingface_hub\\file_download.py:143: UserWarning: `huggingface_hub` cache-system uses symlinks by default to efficiently store duplicated files but your machine does not support them in C:\\Users\\Lukas\\.cache\\huggingface\\hub\\models--intfloat--e5-small. Caching files will still work but in a degraded version that might require more space on your disk. This warning can be disabled by setting the `HF_HUB_DISABLE_SYMLINKS_WARNING` environment variable. For more details, see https://huggingface.co/docs/huggingface_hub/how-to-cache#limitations.\n",
      "To support symlinks on Windows, you either need to activate Developer Mode or to run Python as an administrator. In order to activate developer mode, see this article: https://docs.microsoft.com/en-us/windows/apps/get-started/enable-your-device-for-development\n",
      "  warnings.warn(message)\n"
     ]
    }
   ],
   "source": [
    "from sentence_transformers import SentenceTransformer\n",
    "\n",
    "model = SentenceTransformer(\"intfloat/e5-small\")\n",
    "# text = \"Din jobbannons eller annan text här\"\n",
    "embedding = model.encode(text)  # numpy-array\n"
   ]
  },
  {
   "cell_type": "code",
   "execution_count": 13,
   "id": "aa93e97f",
   "metadata": {},
   "outputs": [
    {
     "data": {
      "application/vnd.plotly.v1+json": {
       "config": {
        "plotlyServerURL": "https://plot.ly"
       },
       "data": [
        {
         "hovertemplate": "variable=0<br>index=%{x}<br>value=%{y}<extra></extra>",
         "legendgroup": "0",
         "marker": {
          "color": "#636efa",
          "symbol": "circle"
         },
         "mode": "markers",
         "name": "0",
         "orientation": "v",
         "showlegend": true,
         "type": "scatter",
         "x": {
          "bdata": "AAABAAIAAwAEAAUABgAHAAgACQAKAAsADAANAA4ADwAQABEAEgATABQAFQAWABcAGAAZABoAGwAcAB0AHgAfACAAIQAiACMAJAAlACYAJwAoACkAKgArACwALQAuAC8AMAAxADIAMwA0ADUANgA3ADgAOQA6ADsAPAA9AD4APwBAAEEAQgBDAEQARQBGAEcASABJAEoASwBMAE0ATgBPAFAAUQBSAFMAVABVAFYAVwBYAFkAWgBbAFwAXQBeAF8AYABhAGIAYwBkAGUAZgBnAGgAaQBqAGsAbABtAG4AbwBwAHEAcgBzAHQAdQB2AHcAeAB5AHoAewB8AH0AfgB/AIAAgQCCAIMAhACFAIYAhwCIAIkAigCLAIwAjQCOAI8AkACRAJIAkwCUAJUAlgCXAJgAmQCaAJsAnACdAJ4AnwCgAKEAogCjAKQApQCmAKcAqACpAKoAqwCsAK0ArgCvALAAsQCyALMAtAC1ALYAtwC4ALkAugC7ALwAvQC+AL8AwADBAMIAwwDEAMUAxgDHAMgAyQDKAMsAzADNAM4AzwDQANEA0gDTANQA1QDWANcA2ADZANoA2wDcAN0A3gDfAOAA4QDiAOMA5ADlAOYA5wDoAOkA6gDrAOwA7QDuAO8A8ADxAPIA8wD0APUA9gD3APgA+QD6APsA/AD9AP4A/wAAAQEBAgEDAQQBBQEGAQcBCAEJAQoBCwEMAQ0BDgEPARABEQESARMBFAEVARYBFwEYARkBGgEbARwBHQEeAR8BIAEhASIBIwEkASUBJgEnASgBKQEqASsBLAEtAS4BLwEwATEBMgEzATQBNQE2ATcBOAE5AToBOwE8AT0BPgE/AUABQQFCAUMBRAFFAUYBRwFIAUkBSgFLAUwBTQFOAU8BUAFRAVIBUwFUAVUBVgFXAVgBWQFaAVsBXAFdAV4BXwFgAWEBYgFjAWQBZQFmAWcBaAFpAWoBawFsAW0BbgFvAXABcQFyAXMBdAF1AXYBdwF4AXkBegF7AXwBfQF+AX8B",
          "dtype": "i2"
         },
         "xaxis": "x",
         "y": {
          "bdata": "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",
          "dtype": "f4"
         },
         "yaxis": "y"
        }
       ],
       "layout": {
        "legend": {
         "title": {
          "text": "variable"
         },
         "tracegroupgap": 0
        },
        "margin": {
         "t": 60
        },
        "template": {
         "data": {
          "bar": [
           {
            "error_x": {
             "color": "#2a3f5f"
            },
            "error_y": {
             "color": "#2a3f5f"
            },
            "marker": {
             "line": {
              "color": "#E5ECF6",
              "width": 0.5
             },
             "pattern": {
              "fillmode": "overlay",
              "size": 10,
              "solidity": 0.2
             }
            },
            "type": "bar"
           }
          ],
          "barpolar": [
           {
            "marker": {
             "line": {
              "color": "#E5ECF6",
              "width": 0.5
             },
             "pattern": {
              "fillmode": "overlay",
              "size": 10,
              "solidity": 0.2
             }
            },
            "type": "barpolar"
           }
          ],
          "carpet": [
           {
            "aaxis": {
             "endlinecolor": "#2a3f5f",
             "gridcolor": "white",
             "linecolor": "white",
             "minorgridcolor": "white",
             "startlinecolor": "#2a3f5f"
            },
            "baxis": {
             "endlinecolor": "#2a3f5f",
             "gridcolor": "white",
             "linecolor": "white",
             "minorgridcolor": "white",
             "startlinecolor": "#2a3f5f"
            },
            "type": "carpet"
           }
          ],
          "choropleth": [
           {
            "colorbar": {
             "outlinewidth": 0,
             "ticks": ""
            },
            "type": "choropleth"
           }
          ],
          "contour": [
           {
            "colorbar": {
             "outlinewidth": 0,
             "ticks": ""
            },
            "colorscale": [
             [
              0,
              "#0d0887"
             ],
             [
              0.1111111111111111,
              "#46039f"
             ],
             [
              0.2222222222222222,
              "#7201a8"
             ],
             [
              0.3333333333333333,
              "#9c179e"
             ],
             [
              0.4444444444444444,
              "#bd3786"
             ],
             [
              0.5555555555555556,
              "#d8576b"
             ],
             [
              0.6666666666666666,
              "#ed7953"
             ],
             [
              0.7777777777777778,
              "#fb9f3a"
             ],
             [
              0.8888888888888888,
              "#fdca26"
             ],
             [
              1,
              "#f0f921"
             ]
            ],
            "type": "contour"
           }
          ],
          "contourcarpet": [
           {
            "colorbar": {
             "outlinewidth": 0,
             "ticks": ""
            },
            "type": "contourcarpet"
           }
          ],
          "heatmap": [
           {
            "colorbar": {
             "outlinewidth": 0,
             "ticks": ""
            },
            "colorscale": [
             [
              0,
              "#0d0887"
             ],
             [
              0.1111111111111111,
              "#46039f"
             ],
             [
              0.2222222222222222,
              "#7201a8"
             ],
             [
              0.3333333333333333,
              "#9c179e"
             ],
             [
              0.4444444444444444,
              "#bd3786"
             ],
             [
              0.5555555555555556,
              "#d8576b"
             ],
             [
              0.6666666666666666,
              "#ed7953"
             ],
             [
              0.7777777777777778,
              "#fb9f3a"
             ],
             [
              0.8888888888888888,
              "#fdca26"
             ],
             [
              1,
              "#f0f921"
             ]
            ],
            "type": "heatmap"
           }
          ],
          "histogram": [
           {
            "marker": {
             "pattern": {
              "fillmode": "overlay",
              "size": 10,
              "solidity": 0.2
             }
            },
            "type": "histogram"
           }
          ],
          "histogram2d": [
           {
            "colorbar": {
             "outlinewidth": 0,
             "ticks": ""
            },
            "colorscale": [
             [
              0,
              "#0d0887"
             ],
             [
              0.1111111111111111,
              "#46039f"
             ],
             [
              0.2222222222222222,
              "#7201a8"
             ],
             [
              0.3333333333333333,
              "#9c179e"
             ],
             [
              0.4444444444444444,
              "#bd3786"
             ],
             [
              0.5555555555555556,
              "#d8576b"
             ],
             [
              0.6666666666666666,
              "#ed7953"
             ],
             [
              0.7777777777777778,
              "#fb9f3a"
             ],
             [
              0.8888888888888888,
              "#fdca26"
             ],
             [
              1,
              "#f0f921"
             ]
            ],
            "type": "histogram2d"
           }
          ],
          "histogram2dcontour": [
           {
            "colorbar": {
             "outlinewidth": 0,
             "ticks": ""
            },
            "colorscale": [
             [
              0,
              "#0d0887"
             ],
             [
              0.1111111111111111,
              "#46039f"
             ],
             [
              0.2222222222222222,
              "#7201a8"
             ],
             [
              0.3333333333333333,
              "#9c179e"
             ],
             [
              0.4444444444444444,
              "#bd3786"
             ],
             [
              0.5555555555555556,
              "#d8576b"
             ],
             [
              0.6666666666666666,
              "#ed7953"
             ],
             [
              0.7777777777777778,
              "#fb9f3a"
             ],
             [
              0.8888888888888888,
              "#fdca26"
             ],
             [
              1,
              "#f0f921"
             ]
            ],
            "type": "histogram2dcontour"
           }
          ],
          "mesh3d": [
           {
            "colorbar": {
             "outlinewidth": 0,
             "ticks": ""
            },
            "type": "mesh3d"
           }
          ],
          "parcoords": [
           {
            "line": {
             "colorbar": {
              "outlinewidth": 0,
              "ticks": ""
             }
            },
            "type": "parcoords"
           }
          ],
          "pie": [
           {
            "automargin": true,
            "type": "pie"
           }
          ],
          "scatter": [
           {
            "fillpattern": {
             "fillmode": "overlay",
             "size": 10,
             "solidity": 0.2
            },
            "type": "scatter"
           }
          ],
          "scatter3d": [
           {
            "line": {
             "colorbar": {
              "outlinewidth": 0,
              "ticks": ""
             }
            },
            "marker": {
             "colorbar": {
              "outlinewidth": 0,
              "ticks": ""
             }
            },
            "type": "scatter3d"
           }
          ],
          "scattercarpet": [
           {
            "marker": {
             "colorbar": {
              "outlinewidth": 0,
              "ticks": ""
             }
            },
            "type": "scattercarpet"
           }
          ],
          "scattergeo": [
           {
            "marker": {
             "colorbar": {
              "outlinewidth": 0,
              "ticks": ""
             }
            },
            "type": "scattergeo"
           }
          ],
          "scattergl": [
           {
            "marker": {
             "colorbar": {
              "outlinewidth": 0,
              "ticks": ""
             }
            },
            "type": "scattergl"
           }
          ],
          "scattermap": [
           {
            "marker": {
             "colorbar": {
              "outlinewidth": 0,
              "ticks": ""
             }
            },
            "type": "scattermap"
           }
          ],
          "scattermapbox": [
           {
            "marker": {
             "colorbar": {
              "outlinewidth": 0,
              "ticks": ""
             }
            },
            "type": "scattermapbox"
           }
          ],
          "scatterpolar": [
           {
            "marker": {
             "colorbar": {
              "outlinewidth": 0,
              "ticks": ""
             }
            },
            "type": "scatterpolar"
           }
          ],
          "scatterpolargl": [
           {
            "marker": {
             "colorbar": {
              "outlinewidth": 0,
              "ticks": ""
             }
            },
            "type": "scatterpolargl"
           }
          ],
          "scatterternary": [
           {
            "marker": {
             "colorbar": {
              "outlinewidth": 0,
              "ticks": ""
             }
            },
            "type": "scatterternary"
           }
          ],
          "surface": [
           {
            "colorbar": {
             "outlinewidth": 0,
             "ticks": ""
            },
            "colorscale": [
             [
              0,
              "#0d0887"
             ],
             [
              0.1111111111111111,
              "#46039f"
             ],
             [
              0.2222222222222222,
              "#7201a8"
             ],
             [
              0.3333333333333333,
              "#9c179e"
             ],
             [
              0.4444444444444444,
              "#bd3786"
             ],
             [
              0.5555555555555556,
              "#d8576b"
             ],
             [
              0.6666666666666666,
              "#ed7953"
             ],
             [
              0.7777777777777778,
              "#fb9f3a"
             ],
             [
              0.8888888888888888,
              "#fdca26"
             ],
             [
              1,
              "#f0f921"
             ]
            ],
            "type": "surface"
           }
          ],
          "table": [
           {
            "cells": {
             "fill": {
              "color": "#EBF0F8"
             },
             "line": {
              "color": "white"
             }
            },
            "header": {
             "fill": {
              "color": "#C8D4E3"
             },
             "line": {
              "color": "white"
             }
            },
            "type": "table"
           }
          ]
         },
         "layout": {
          "annotationdefaults": {
           "arrowcolor": "#2a3f5f",
           "arrowhead": 0,
           "arrowwidth": 1
          },
          "autotypenumbers": "strict",
          "coloraxis": {
           "colorbar": {
            "outlinewidth": 0,
            "ticks": ""
           }
          },
          "colorscale": {
           "diverging": [
            [
             0,
             "#8e0152"
            ],
            [
             0.1,
             "#c51b7d"
            ],
            [
             0.2,
             "#de77ae"
            ],
            [
             0.3,
             "#f1b6da"
            ],
            [
             0.4,
             "#fde0ef"
            ],
            [
             0.5,
             "#f7f7f7"
            ],
            [
             0.6,
             "#e6f5d0"
            ],
            [
             0.7,
             "#b8e186"
            ],
            [
             0.8,
             "#7fbc41"
            ],
            [
             0.9,
             "#4d9221"
            ],
            [
             1,
             "#276419"
            ]
           ],
           "sequential": [
            [
             0,
             "#0d0887"
            ],
            [
             0.1111111111111111,
             "#46039f"
            ],
            [
             0.2222222222222222,
             "#7201a8"
            ],
            [
             0.3333333333333333,
             "#9c179e"
            ],
            [
             0.4444444444444444,
             "#bd3786"
            ],
            [
             0.5555555555555556,
             "#d8576b"
            ],
            [
             0.6666666666666666,
             "#ed7953"
            ],
            [
             0.7777777777777778,
             "#fb9f3a"
            ],
            [
             0.8888888888888888,
             "#fdca26"
            ],
            [
             1,
             "#f0f921"
            ]
           ],
           "sequentialminus": [
            [
             0,
             "#0d0887"
            ],
            [
             0.1111111111111111,
             "#46039f"
            ],
            [
             0.2222222222222222,
             "#7201a8"
            ],
            [
             0.3333333333333333,
             "#9c179e"
            ],
            [
             0.4444444444444444,
             "#bd3786"
            ],
            [
             0.5555555555555556,
             "#d8576b"
            ],
            [
             0.6666666666666666,
             "#ed7953"
            ],
            [
             0.7777777777777778,
             "#fb9f3a"
            ],
            [
             0.8888888888888888,
             "#fdca26"
            ],
            [
             1,
             "#f0f921"
            ]
           ]
          },
          "colorway": [
           "#636efa",
           "#EF553B",
           "#00cc96",
           "#ab63fa",
           "#FFA15A",
           "#19d3f3",
           "#FF6692",
           "#B6E880",
           "#FF97FF",
           "#FECB52"
          ],
          "font": {
           "color": "#2a3f5f"
          },
          "geo": {
           "bgcolor": "white",
           "lakecolor": "white",
           "landcolor": "#E5ECF6",
           "showlakes": true,
           "showland": true,
           "subunitcolor": "white"
          },
          "hoverlabel": {
           "align": "left"
          },
          "hovermode": "closest",
          "mapbox": {
           "style": "light"
          },
          "paper_bgcolor": "white",
          "plot_bgcolor": "#E5ECF6",
          "polar": {
           "angularaxis": {
            "gridcolor": "white",
            "linecolor": "white",
            "ticks": ""
           },
           "bgcolor": "#E5ECF6",
           "radialaxis": {
            "gridcolor": "white",
            "linecolor": "white",
            "ticks": ""
           }
          },
          "scene": {
           "xaxis": {
            "backgroundcolor": "#E5ECF6",
            "gridcolor": "white",
            "gridwidth": 2,
            "linecolor": "white",
            "showbackground": true,
            "ticks": "",
            "zerolinecolor": "white"
           },
           "yaxis": {
            "backgroundcolor": "#E5ECF6",
            "gridcolor": "white",
            "gridwidth": 2,
            "linecolor": "white",
            "showbackground": true,
            "ticks": "",
            "zerolinecolor": "white"
           },
           "zaxis": {
            "backgroundcolor": "#E5ECF6",
            "gridcolor": "white",
            "gridwidth": 2,
            "linecolor": "white",
            "showbackground": true,
            "ticks": "",
            "zerolinecolor": "white"
           }
          },
          "shapedefaults": {
           "line": {
            "color": "#2a3f5f"
           }
          },
          "ternary": {
           "aaxis": {
            "gridcolor": "white",
            "linecolor": "white",
            "ticks": ""
           },
           "baxis": {
            "gridcolor": "white",
            "linecolor": "white",
            "ticks": ""
           },
           "bgcolor": "#E5ECF6",
           "caxis": {
            "gridcolor": "white",
            "linecolor": "white",
            "ticks": ""
           }
          },
          "title": {
           "x": 0.05
          },
          "xaxis": {
           "automargin": true,
           "gridcolor": "white",
           "linecolor": "white",
           "ticks": "",
           "title": {
            "standoff": 15
           },
           "zerolinecolor": "white",
           "zerolinewidth": 2
          },
          "yaxis": {
           "automargin": true,
           "gridcolor": "white",
           "linecolor": "white",
           "ticks": "",
           "title": {
            "standoff": 15
           },
           "zerolinecolor": "white",
           "zerolinewidth": 2
          }
         }
        },
        "xaxis": {
         "anchor": "y",
         "domain": [
          0,
          1
         ],
         "title": {
          "text": "index"
         }
        },
        "yaxis": {
         "anchor": "x",
         "domain": [
          0,
          1
         ],
         "title": {
          "text": "value"
         }
        }
       }
      }
     },
     "metadata": {},
     "output_type": "display_data"
    }
   ],
   "source": [
    "import plotly.express as px\n",
    "px.scatter(embedding)"
   ]
  },
  {
   "cell_type": "code",
   "execution_count": 19,
   "id": "056ac502",
   "metadata": {},
   "outputs": [],
   "source": [
    "embedding #.tofile(\"embedding.txt\")\n",
    "import numpy as np\n",
    "np.savetxt(\"embedding.txt\", embedding)"
   ]
  },
  {
   "cell_type": "markdown",
   "id": "2c813138",
   "metadata": {},
   "source": [
    "# EMBEDDING\n",
    "1. Initiera embedding modell\n",
    "2. Ha jobbanonnser redo\n",
    "3. Embedda alla texter \n",
    "4. Ha en query för att fråga gemini\n",
    "5. Beräkna likheter med cosine\n",
    "6. Skicka in till gemini"
   ]
  },
  {
   "cell_type": "code",
   "execution_count": 20,
   "id": "1a2eddbd",
   "metadata": {},
   "outputs": [],
   "source": [
    "# 1. Initiera embedding modell\n",
    "from sentence_transformers import SentenceTransformer\n",
    "embedder = SentenceTransformer(\"intfloat/e5-small\")\n"
   ]
  },
  {
   "cell_type": "code",
   "execution_count": 21,
   "id": "98835f8a",
   "metadata": {},
   "outputs": [],
   "source": [
    "# 2. Ha jobbanonnser redo\n",
    "with open(\"for_gemini.txt\", \"r\", encoding='utf-8') as file: \n",
    "    ad_text = file.read() \n",
    "text = ad_text"
   ]
  },
  {
   "cell_type": "code",
   "execution_count": 67,
   "id": "117b4ecc",
   "metadata": {},
   "outputs": [
    {
     "data": {
      "text/plain": [
       "array([-0.01374749, -0.01689037, -0.0667139 , -0.0358971 ,  0.02319343,\n",
       "       -0.0735288 ,  0.00993745,  0.05012561, -0.05575731,  0.04345234],\n",
       "      dtype=float32)"
      ]
     },
     "execution_count": 67,
     "metadata": {},
     "output_type": "execute_result"
    }
   ],
   "source": [
    "# doc_embeddings = [embedder.encode(doc) for doc in documents]\n",
    "\n",
    "# 3. Embedda alla texter/ text i detta exempel\n",
    "doc_embedding = embedder.encode(text)\n",
    "doc_embedding[:10]\n"
   ]
  },
  {
   "cell_type": "code",
   "execution_count": null,
   "id": "fe0d7093",
   "metadata": {},
   "outputs": [],
   "source": [
    "# 4. Ha en query med en ord som den ska hitta\n",
    "# query = f\"\"\"Du är en rekryterare inom Media, Kultur, Design.\n",
    "#     Plocka ut 5 av vanligaste kraven och 5 vanligaste meriterade och antal av dessa som efterfrågas i dessa jobbannonser, samt en sammanfattning av krav och meriter som du skriver ut:\n",
    "\n",
    "#     Output ska vara i detta formatet enbart: \n",
    "\n",
    "#     {{\n",
    "#         \"sammanfattning\": [\"sammanfattning\"]\n",
    "#         \"krav\": [erfarenhet1, erfarenhet2, ...]\n",
    "#         \"antal krav\": [summa erfarenhet1..]\n",
    "#         \"meriterande\": [meriterande1,meriterande2, ... ]\n",
    "#         \"antal meriterande\": [summa meriterande1..]\n",
    "        \n",
    "#     }}\n",
    "#     \"\"\"\n",
    "query = \"jag söker jobb som journalist\"\n",
    "query = \"pilot\"\n",
    "query_embedding = embedder.encode(query) #embedda queryn för snabbhet\n",
    "# query_embedding[:10]"
   ]
  },
  {
   "cell_type": "code",
   "execution_count": null,
   "id": "ca4ed3b3",
   "metadata": {},
   "outputs": [
    {
     "name": "stdout",
     "output_type": "stream",
     "text": [
      "Likhetspoäng: 0.7502351999282837\n",
      "Låg likhet\n"
     ]
    }
   ],
   "source": [
    "from scipy.spatial.distance import cosine\n",
    "# 5. Beräkna likheter med cosine\n",
    "similaritys = 1 - cosine(query_embedding, doc_embedding) # om du har flera texter: emb) for emb in doc_embedding]\n",
    "print(f\"Likhetspoäng: {similaritys}\") # Vad betyder siffran? Likhetspoäng mellan de 2 vektorerna (query och text). ligger mellan 0 och 1, 1 är maximal likhet, 0 ingen likhet\n",
    "if similaritys > 0.8: # Tröskel - Eftersom texten innehåller mycket så verkar detta vara gränsen, ev. 0.81 isåfall (innehåller 55.000 ord/600 rader)\n",
    "    print(\"Hög likhet\")\n",
    "else: \n",
    "    print(\"Låg likhet\")"
   ]
  },
  {
   "cell_type": "markdown",
   "id": "fa801308",
   "metadata": {},
   "source": [
    "### Utifrån detta kan man: \n",
    "1. Hitta ord eller korta meningar som matchar hela långa texten (Typ klart redan?)\n",
    "2. Ranka annonser (måste skickas in en och en isåfall!) och sedan använda den annons som har högst poäng till något kul.    \n",
    "     - då kan man använda den annonsen som har högst betyg och be gemini göra något med den, tex sammanfatta, räkna något osv\n",
    "3. ....\n"
   ]
  },
  {
   "cell_type": "markdown",
   "id": "efe0fb1e",
   "metadata": {},
   "source": [
    "### 2. Ranka annonser"
   ]
  },
  {
   "cell_type": "code",
   "execution_count": 173,
   "id": "e5ceb353",
   "metadata": {},
   "outputs": [
    {
     "data": {
      "text/html": [
       "<div>\n",
       "<style scoped>\n",
       "    .dataframe tbody tr th:only-of-type {\n",
       "        vertical-align: middle;\n",
       "    }\n",
       "\n",
       "    .dataframe tbody tr th {\n",
       "        vertical-align: top;\n",
       "    }\n",
       "\n",
       "    .dataframe thead th {\n",
       "        text-align: right;\n",
       "    }\n",
       "</style>\n",
       "<table border=\"1\" class=\"dataframe\">\n",
       "  <thead>\n",
       "    <tr style=\"text-align: right;\">\n",
       "      <th></th>\n",
       "      <th>occupation</th>\n",
       "      <th>vacancies</th>\n",
       "      <th>description</th>\n",
       "    </tr>\n",
       "  </thead>\n",
       "  <tbody>\n",
       "    <tr>\n",
       "      <th>0</th>\n",
       "      <td>Tolk</td>\n",
       "      <td>566</td>\n",
       "      <td>Vi söker utbildare inom japanska. \\nUppdraget ...</td>\n",
       "    </tr>\n",
       "    <tr>\n",
       "      <th>1</th>\n",
       "      <td>Bibliotekarie</td>\n",
       "      <td>93</td>\n",
       "      <td>I Knivsta går framtidsandan att ta på. Läget m...</td>\n",
       "    </tr>\n",
       "    <tr>\n",
       "      <th>2</th>\n",
       "      <td>Technical Operation Manager/TOM</td>\n",
       "      <td>91</td>\n",
       "      <td>The Opportunity:\\nWith a pioneering technology...</td>\n",
       "    </tr>\n",
       "    <tr>\n",
       "      <th>3</th>\n",
       "      <td>Layoutare</td>\n",
       "      <td>84</td>\n",
       "      <td>Vi söker medarbetare till vårt huvudkontor i M...</td>\n",
       "    </tr>\n",
       "    <tr>\n",
       "      <th>4</th>\n",
       "      <td>Skådespelare</td>\n",
       "      <td>54</td>\n",
       "      <td>Teater Scarlet har spelat Mordgåtor sedan 2017...</td>\n",
       "    </tr>\n",
       "    <tr>\n",
       "      <th>5</th>\n",
       "      <td>Skolbibliotekarie</td>\n",
       "      <td>47</td>\n",
       "      <td>Vad vi gör och vill\\nTyresö gymnasium är inne ...</td>\n",
       "    </tr>\n",
       "    <tr>\n",
       "      <th>6</th>\n",
       "      <td>Fotograf</td>\n",
       "      <td>45</td>\n",
       "      <td>Vi söker dig som vill utvecklas som bostadsfot...</td>\n",
       "    </tr>\n",
       "    <tr>\n",
       "      <th>7</th>\n",
       "      <td>Butikskommunikatör/Visual merchandiser</td>\n",
       "      <td>39</td>\n",
       "      <td>WHAT YOU’LL DO​ \\nAs a Global visual &amp; commerc...</td>\n",
       "    </tr>\n",
       "    <tr>\n",
       "      <th>8</th>\n",
       "      <td>Översättare</td>\n",
       "      <td>36</td>\n",
       "      <td>______________________________________________...</td>\n",
       "    </tr>\n",
       "    <tr>\n",
       "      <th>9</th>\n",
       "      <td>Projektledare: kultur, media, film, dataspel</td>\n",
       "      <td>34</td>\n",
       "      <td>Om myndigheten\\nForum för levande historia är ...</td>\n",
       "    </tr>\n",
       "    <tr>\n",
       "      <th>10</th>\n",
       "      <td>Designer</td>\n",
       "      <td>29</td>\n",
       "      <td>Job Description\\nWHAT YOU’LL DO\\nAs a Product ...</td>\n",
       "    </tr>\n",
       "    <tr>\n",
       "      <th>11</th>\n",
       "      <td>Arkivarie</td>\n",
       "      <td>22</td>\n",
       "      <td>Har du ett starkt samhällsengagemang och intre...</td>\n",
       "    </tr>\n",
       "    <tr>\n",
       "      <th>12</th>\n",
       "      <td>Produktionsassistent: kultur, media, film, dat...</td>\n",
       "      <td>22</td>\n",
       "      <td>Vi söker dig som vill bli spindeln i nätet på ...</td>\n",
       "    </tr>\n",
       "    <tr>\n",
       "      <th>13</th>\n",
       "      <td>Journalist/Reporter</td>\n",
       "      <td>21</td>\n",
       "      <td>Norrköpings Tidningar är mitt uppe i en stark ...</td>\n",
       "    </tr>\n",
       "    <tr>\n",
       "      <th>14</th>\n",
       "      <td>Kantor/Kyrkomusiker</td>\n",
       "      <td>19</td>\n",
       "      <td>Vår kyrkomusiker/kantor går i pension.\\r\\n\\r\\n...</td>\n",
       "    </tr>\n",
       "    <tr>\n",
       "      <th>15</th>\n",
       "      <td>Teckenspråkstolk/Dövblindtolk</td>\n",
       "      <td>17</td>\n",
       "      <td>Är du en erfaren teckenspråkstolk eller dövbli...</td>\n",
       "    </tr>\n",
       "    <tr>\n",
       "      <th>16</th>\n",
       "      <td>Industridesigner</td>\n",
       "      <td>17</td>\n",
       "      <td>Experis is a leading consulting firm in IT/Tec...</td>\n",
       "    </tr>\n",
       "    <tr>\n",
       "      <th>17</th>\n",
       "      <td>Grafisk formgivare</td>\n",
       "      <td>15</td>\n",
       "      <td>Är du en kreativ grafiker med erfarenhet av In...</td>\n",
       "    </tr>\n",
       "    <tr>\n",
       "      <th>18</th>\n",
       "      <td>3D artist/3D-grafiker</td>\n",
       "      <td>14</td>\n",
       "      <td>MachineGames is looking for a new Lead Environ...</td>\n",
       "    </tr>\n",
       "    <tr>\n",
       "      <th>19</th>\n",
       "      <td>Webbdesigner</td>\n",
       "      <td>14</td>\n",
       "      <td>Beskriver du dig som kommunikativ och engagera...</td>\n",
       "    </tr>\n",
       "    <tr>\n",
       "      <th>20</th>\n",
       "      <td>Art Director/AD</td>\n",
       "      <td>13</td>\n",
       "      <td>Experis is a leading consulting firm in IT/Tec...</td>\n",
       "    </tr>\n",
       "    <tr>\n",
       "      <th>21</th>\n",
       "      <td>Webbredaktör</td>\n",
       "      <td>12</td>\n",
       "      <td>Bilsajten Carup.se söker webbredaktörer/motorj...</td>\n",
       "    </tr>\n",
       "    <tr>\n",
       "      <th>22</th>\n",
       "      <td>Programpresentatör</td>\n",
       "      <td>12</td>\n",
       "      <td>Vi söker nu svensktalande Game Presenters till...</td>\n",
       "    </tr>\n",
       "    <tr>\n",
       "      <th>23</th>\n",
       "      <td>Dokumentalist</td>\n",
       "      <td>10</td>\n",
       "      <td>Ref: 20251128 \\n\\nHälsa-, vård- och omsorgsför...</td>\n",
       "    </tr>\n",
       "    <tr>\n",
       "      <th>24</th>\n",
       "      <td>Lingvist</td>\n",
       "      <td>9</td>\n",
       "      <td>Scanias R&amp;D-avdelning genomgår en transformati...</td>\n",
       "    </tr>\n",
       "    <tr>\n",
       "      <th>25</th>\n",
       "      <td>Musiker</td>\n",
       "      <td>9</td>\n",
       "      <td>Vi söker nu nya artister, musiker, skådespelar...</td>\n",
       "    </tr>\n",
       "    <tr>\n",
       "      <th>26</th>\n",
       "      <td>Producent: kultur, media, film, dataspel</td>\n",
       "      <td>9</td>\n",
       "      <td>ARBETA PÅ GINA TRICOT Som Campaign Producer på...</td>\n",
       "    </tr>\n",
       "    <tr>\n",
       "      <th>27</th>\n",
       "      <td>Sångare, folkmusik</td>\n",
       "      <td>8</td>\n",
       "      <td>Sommarkyrkan söker skolungdomar för sommarjobb...</td>\n",
       "    </tr>\n",
       "    <tr>\n",
       "      <th>28</th>\n",
       "      <td>Antikvarie</td>\n",
       "      <td>8</td>\n",
       "      <td>Tekniska museet söker en föremålsantikvarie ti...</td>\n",
       "    </tr>\n",
       "    <tr>\n",
       "      <th>29</th>\n",
       "      <td>Ljuddesigner</td>\n",
       "      <td>8</td>\n",
       "      <td>The opportunity\\nPlant Electrical Design is pa...</td>\n",
       "    </tr>\n",
       "  </tbody>\n",
       "</table>\n",
       "</div>"
      ],
      "text/plain": [
       "                                           occupation  ...                                        description\n",
       "0                                                Tolk  ...  Vi söker utbildare inom japanska. \\nUppdraget ...\n",
       "1                                       Bibliotekarie  ...  I Knivsta går framtidsandan att ta på. Läget m...\n",
       "2                     Technical Operation Manager/TOM  ...  The Opportunity:\\nWith a pioneering technology...\n",
       "3                                           Layoutare  ...  Vi söker medarbetare till vårt huvudkontor i M...\n",
       "4                                        Skådespelare  ...  Teater Scarlet har spelat Mordgåtor sedan 2017...\n",
       "5                                   Skolbibliotekarie  ...  Vad vi gör och vill\\nTyresö gymnasium är inne ...\n",
       "6                                            Fotograf  ...  Vi söker dig som vill utvecklas som bostadsfot...\n",
       "7              Butikskommunikatör/Visual merchandiser  ...  WHAT YOU’LL DO​ \\nAs a Global visual & commerc...\n",
       "8                                         Översättare  ...  ______________________________________________...\n",
       "9        Projektledare: kultur, media, film, dataspel  ...  Om myndigheten\\nForum för levande historia är ...\n",
       "10                                           Designer  ...  Job Description\\nWHAT YOU’LL DO\\nAs a Product ...\n",
       "11                                          Arkivarie  ...  Har du ett starkt samhällsengagemang och intre...\n",
       "12  Produktionsassistent: kultur, media, film, dat...  ...  Vi söker dig som vill bli spindeln i nätet på ...\n",
       "13                                Journalist/Reporter  ...  Norrköpings Tidningar är mitt uppe i en stark ...\n",
       "14                                Kantor/Kyrkomusiker  ...  Vår kyrkomusiker/kantor går i pension.\\r\\n\\r\\n...\n",
       "15                      Teckenspråkstolk/Dövblindtolk  ...  Är du en erfaren teckenspråkstolk eller dövbli...\n",
       "16                                   Industridesigner  ...  Experis is a leading consulting firm in IT/Tec...\n",
       "17                                 Grafisk formgivare  ...  Är du en kreativ grafiker med erfarenhet av In...\n",
       "18                              3D artist/3D-grafiker  ...  MachineGames is looking for a new Lead Environ...\n",
       "19                                       Webbdesigner  ...  Beskriver du dig som kommunikativ och engagera...\n",
       "20                                    Art Director/AD  ...  Experis is a leading consulting firm in IT/Tec...\n",
       "21                                       Webbredaktör  ...  Bilsajten Carup.se söker webbredaktörer/motorj...\n",
       "22                                 Programpresentatör  ...  Vi söker nu svensktalande Game Presenters till...\n",
       "23                                      Dokumentalist  ...  Ref: 20251128 \\n\\nHälsa-, vård- och omsorgsför...\n",
       "24                                           Lingvist  ...  Scanias R&D-avdelning genomgår en transformati...\n",
       "25                                            Musiker  ...  Vi söker nu nya artister, musiker, skådespelar...\n",
       "26           Producent: kultur, media, film, dataspel  ...  ARBETA PÅ GINA TRICOT Som Campaign Producer på...\n",
       "27                                 Sångare, folkmusik  ...  Sommarkyrkan söker skolungdomar för sommarjobb...\n",
       "28                                         Antikvarie  ...  Tekniska museet söker en föremålsantikvarie ti...\n",
       "29                                       Ljuddesigner  ...  The opportunity\\nPlant Electrical Design is pa...\n",
       "\n",
       "[30 rows x 3 columns]"
      ]
     },
     "execution_count": 173,
     "metadata": {},
     "output_type": "execute_result"
    }
   ],
   "source": [
    "\n",
    "# with open(\"for_gemini.txt\", \"r\", encoding='utf-8') as file: \n",
    "#     ad_text = file.read() \n",
    "import duckdb \n",
    "with duckdb.connect(\"../../ads_data.duckdb\") as con: \n",
    "    df = con.execute(\"SELECT * FROM mart.mart_kultur_media\").df()\n",
    "grouped_df = df.groupby(\"occupation\")[[\"vacancies\", \"description\"]].sum().sort_values(by=\"vacancies\", ascending=False).reset_index()\n",
    "grouped_df.head(30)\n",
    "\n"
   ]
  },
  {
   "cell_type": "code",
   "execution_count": 154,
   "id": "0011c886",
   "metadata": {},
   "outputs": [
    {
     "data": {
      "text/plain": [
       "57"
      ]
     },
     "execution_count": 154,
     "metadata": {},
     "output_type": "execute_result"
    }
   ],
   "source": [
    "df_journalist = df[df[\"occupation\"] == \"Bibliotekarie\"]\n",
    "len(df_journalist[\"description\"]) #18 annonser"
   ]
  },
  {
   "cell_type": "code",
   "execution_count": null,
   "id": "fb52d084",
   "metadata": {},
   "outputs": [
    {
     "data": {
      "text/plain": [
       "[np.float32(0.8151097),\n",
       " np.float32(0.8418137),\n",
       " np.float32(0.82768875),\n",
       " np.float32(0.83960634),\n",
       " np.float32(0.85021055),\n",
       " np.float32(0.85311973),\n",
       " np.float32(0.8504383),\n",
       " np.float32(0.8467103),\n",
       " np.float32(0.8614044),\n",
       " np.float32(0.83192587),\n",
       " np.float32(0.840357),\n",
       " np.float32(0.8448089),\n",
       " np.float32(0.84067047),\n",
       " np.float32(0.8193293),\n",
       " np.float32(0.8203386),\n",
       " np.float32(0.8239514),\n",
       " np.float32(0.852408),\n",
       " np.float32(0.8490208),\n",
       " np.float32(0.83127666),\n",
       " np.float32(0.82288945),\n",
       " np.float32(0.83781165),\n",
       " np.float32(0.8479891),\n",
       " np.float32(0.8381494),\n",
       " np.float32(0.8270408),\n",
       " np.float32(0.84799),\n",
       " np.float32(0.81559134),\n",
       " np.float32(0.80938965),\n",
       " np.float32(0.82496876),\n",
       " np.float32(0.82550365),\n",
       " np.float32(0.8132723),\n",
       " np.float32(0.83428556),\n",
       " np.float32(0.82527065),\n",
       " np.float32(0.8422712),\n",
       " np.float32(0.83924776),\n",
       " np.float32(0.8521172),\n",
       " np.float32(0.82768875),\n",
       " np.float32(0.83960634),\n",
       " np.float32(0.85021055),\n",
       " np.float32(0.85311973),\n",
       " np.float32(0.8467103),\n",
       " np.float32(0.8614044),\n",
       " np.float32(0.840357),\n",
       " np.float32(0.8448089),\n",
       " np.float32(0.84067047),\n",
       " np.float32(0.83127666),\n",
       " np.float32(0.8479891),\n",
       " np.float32(0.8270408),\n",
       " np.float32(0.83428556),\n",
       " np.float32(0.82527065),\n",
       " np.float32(0.8614044),\n",
       " np.float32(0.8448089),\n",
       " np.float32(0.84067047),\n",
       " np.float32(0.8162783),\n",
       " np.float32(0.8439998),\n",
       " np.float32(0.8363213),\n",
       " np.float32(0.82782215),\n",
       " np.float32(0.82782215)]"
      ]
     },
     "execution_count": 170,
     "metadata": {},
     "output_type": "execute_result"
    }
   ],
   "source": [
    "query = \"jag söker jobb som bibliotekarie\" # tar 27 sekunder att söka på 57 annonser\n",
    "query_embedding = embedder.encode(query) #embedda queryn för snabbhet\n",
    "# 5. Beräkna likheter med cosine\n",
    "value_list = []\n",
    "for data in df_journalist[\"description\"]:\n",
    "    doc_embedding = embedder.encode(data) #embedda varje description\n",
    "    similaritys = 1 - cosine(query_embedding, doc_embedding) # räkna ut likhetspoäng utifrån query\n",
    "    # if similaritys > 0.8:\n",
    "    value_list.append(similaritys) # Lägg in i lista\n",
    "value_list"
   ]
  },
  {
   "cell_type": "code",
   "execution_count": 172,
   "id": "550d2a2f",
   "metadata": {},
   "outputs": [
    {
     "data": {
      "text/plain": [
       "np.int64(8)"
      ]
     },
     "execution_count": 172,
     "metadata": {},
     "output_type": "execute_result"
    }
   ],
   "source": [
    "# Bästa indexet från listan\n",
    "best_index = np.argmax(value_list)\n",
    "best_index"
   ]
  },
  {
   "cell_type": "code",
   "execution_count": null,
   "id": "7b78a893",
   "metadata": {},
   "outputs": [
    {
     "data": {
      "text/plain": [
       "'Lunds universitet grundades 1666 och rankas återkommande som ett av världens främsta lärosäten. Här finns omkring 47 000 studenter och mer än 8 800 medarbetare i Lund, Helsingborg och Malmö. Vi förenas i vår strävan att förstå, förklara och förbättra vår värld och människors villkor.\\n\\n\\nLunds universitet välkomnar sökande med olika bakgrund och erfarenheter. Jämställdhet, lika villkor och mångfald är grundläggande principer för alla delar av vår verksamhet.\\n\\n\\n\\r\\n\\r\\nBeskrivning av arbetsplatsen\\nHT-biblioteken vid fakulteten för Humaniora och teologi har omkring 30 medarbetare som arbetar vid tre fysiska enheter: Asien-, LUX- och SOL-biblioteket.\\r\\n\\r\\nDessa är belägna nära varandra och fungerar som en verksamhet. HT-biblioteken har en öppen och välkomnande arbetsmiljö där vi alla tillsammans bidrar till verksamhetens bästa.\\n\\n\\xa0\\n\\nVi erbjuder\\nLunds universitet är en statlig myndighet vilket innebär att du får särskilda förmåner, generös semester och en förmånlig tjänstepension. Vi har även ett flextidsavtal som skapar goda förutsättningar för balans mellan arbete och fritid.\\n\\nLäs mer på universitetets webbplats om att vara anställd vid Lunds universitet, https://www.lu.se/om-universitetet/jobba-hos-oss\\n\\n\\xa0\\n\\nArbetsuppgifter och ansvarsområden\\nSom bibliotekarie på HT-biblioteken kommer du att ha både egna ansvarsområden och gemensamma arbetsuppgifter med dina kollegor. Fokus i tjänsten kommer att vara mediehantering samt att arbeta i bibliotekens informationsdiskar.\\n\\nHT-biblioteken har stor hantering av både digital och tryckt media. Du kommer att förstärka gruppen som arbetar med fjärrlån. Du kommer även att arbeta med lättare katalogisering kopplat till en genomgång av material placerat i magasinet. Du behöver därför vara intresserad av samlingsfrågor samt uppskatta arbetsuppgifter som kräver noggrannhet.\\n\\nI tjänsten ingår det även att förstärka gruppen som arbetar med talböcker. Du kommer att ha möten och instruera personer som behöver utnyttja tjänsten. Du behöver i detta både ha en pedagogisk ingång samt arbeta med de tekniska hjälpmedel som är kopplat till talböcker.\\n\\nVidare ingår yttre tjänst med både lånehantering och informationsarbete samt andra generella arbetsuppgifter som förekommer på forskningsbibliotek. Verksamhetens behov men även vilka kompetenser du har kan påverka tjänstens utformning.\\n\\n\\xa0\\n\\nKvalifikationer\\nKrav för anställningen är:\\n - Examen i biblioteks- och informationsvetenskap eller vad som arbets\\xadgivaren bedömer är en motsvarande akademisk bibliotekarie\\xadutbildning.\\n - Flytande svenska i tal och skrift.\\n - God engelska i tal och skrift.\\n\\n\\nMeriterande för anställningen är:\\n - Erfarenhet av att arbeta på forskningsbibliotek.\\n - Erfarenhet av att arbeta med fjärrlån.\\n - Erfarenhet av att arbeta med katalogisering.\\n - Erfarenhet av att arbeta med talböcker.\\n - God kännedom om humaniora och teologi.\\n - Språkkunskaper som bedöms fylla ett behov på HT-biblioteken.\\n\\nI arbetet är du med och bygger upp bibliotekets verksamhet långsiktigt samtidigt som du behöver kunna omprioritera i det dagliga arbetet när så behövs. Du behöver vara prestigelös samt ha lätt för att snabbt sätta dig in i nya arbetsuppgifter och arbeta resurseffektivt och lösningsorienterat. Flera av arbetsuppgifterna kräver att man är både noggrann och uppskattar att arbeta med detaljer. Arbetet är en kombination av självständigt arbete och att arbeta i grupp. Du kommer att ha flera arbetsuppgifter parallellt och det är därför viktigt att du trivs med detta samt att du kan prioritera mellan arbetsuppgifterna och strukturera din arbetstid. Att arbeta för ett gott samarbete med kollegor på biblioteket är viktigt. Arbetet i informationsdiskarna samt med talböcker är utåtriktat och det är centralt att du uppskattar detta och att du har ett pedagogiskt förhållningssätt till bibliotekens användare. Efterhand som bibliotekets verksamhet utvecklas och behov förändras påverkas även bibliotekarietjänsterna.\\n\\nStor vikt kommer att läggas vid personlig lämplighet samt hur den sökande genom sin erfarenhet och kompetens bedöms komplettera och stärka verksamheten vid HT-biblioteken.\\n\\n\\xa0\\n\\nÖvrigt\\nAnställningen är tidsbegränsad (vikariat) på 100 % med önskat tillträdesdatum 2025-08-18 eller enligt överenskommelse, dock längst t o m 2025-12-31. Helg- och kvällstjänstgöring kan förekomma.\\n\\n\\xa0\\n\\nSå här söker du\\nAnställningen söks via universitetets rekryteringssystem. Ansökan ska innehålla ett personligt brev på svenska där du beskriver hur du uppfyller kvalifikationerna samt för ett resonemang kring arbetsuppgifterna och varför du vill arbeta på ett forskningsbibliotek. Ansökan ska även innehålla ett CV samt relevant dokumentation. Specificera de eventuella språkkunskaper du har förutom engelska i din ansökan.\\n\\nOm Humanistiska och teologiska fakulteterna\\n\\nHumanistiska och teologiska fakulteterna har åtta institutioner och bedriver en stor och varierad verksamhet inom forskning och utbildning. Vi har ca 700 anställda och ca 4 000 helårsstudenter.\\n\\nOm HT-biblioteken\\n\\nDe Humanistiska och teologiska fakulteterna vid Lunds universitet har en sammanhållen biblioteksorganisation, HT-biblioteken. HT-biblioteken utgörs av tre fysiska enheter: Asien-, LUX- och SOL-biblioteket. Dessa är belägna nära varandra och fungerar som en verksamhet.\\n\\nVi arbetar för att ge ett nära och ämnesanpassat stöd till forskning och lärande på HT-fakulteterna. Det pedagogiska och serviceinriktade förhållningssättet utgör tillsammans med integrering i HT-fakulteternas övriga verksamhet grunden för vårt arbete. Samlingarna består av såväl tryckta som elektroniska resurser. HT-biblioteken har ett nära samarbete med de övriga biblioteken vid Lunds universitet.\\n\\nVi undanber oss alla kontakter från annonsförsäljare, rekryterings- och bemanningsföretag på grund av statliga upphandlingsregler.'"
      ]
     },
     "execution_count": 169,
     "metadata": {},
     "output_type": "execute_result"
    }
   ],
   "source": [
    "# Bästa jobbanonnsen som matchar query\n",
    "best_text = df_journalist.iloc[best_index].reset_index()\n",
    "best_text.iloc"
   ]
  },
  {
   "cell_type": "code",
   "execution_count": null,
   "id": "0f7c08a7",
   "metadata": {},
   "outputs": [],
   "source": [
    "# 6. Skicka in till gemini"
   ]
  },
  {
   "cell_type": "code",
   "execution_count": null,
   "id": "580aa76d",
   "metadata": {},
   "outputs": [],
   "source": [
    "# 7. Skriv ut svar"
   ]
  }
 ],
 "metadata": {
  "kernelspec": {
   "display_name": ".venv",
   "language": "python",
   "name": "python3"
  },
  "language_info": {
   "codemirror_mode": {
    "name": "ipython",
    "version": 3
   },
   "file_extension": ".py",
   "mimetype": "text/x-python",
   "name": "python",
   "nbconvert_exporter": "python",
   "pygments_lexer": "ipython3",
   "version": "3.12.8"
  }
 },
 "nbformat": 4,
 "nbformat_minor": 5
}

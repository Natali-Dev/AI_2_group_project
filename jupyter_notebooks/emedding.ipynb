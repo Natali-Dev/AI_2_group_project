{
 "cells": [
  {
   "cell_type": "code",
   "execution_count": 2,
   "id": "3a12d4ac",
   "metadata": {},
   "outputs": [],
   "source": [
    "import duckdb\n",
    "with duckdb.connect(\"../ads_data.duckdb\") as con: \n",
    "    df_mart = con.execute(\"SELECT * FROM mart.mart_kultur_media\").df()\n",
    "df_test = df_mart \n",
    "\n",
    "top_employer = df_test.groupby(\"occupation\")[[\"vacancies\", \"description\"]].sum().sort_values(by=\"vacancies\", ascending=False).reset_index()\n",
    "\n",
    "top_employer\n",
    "\n",
    "nr_1 = top_employer[[\"occupation\",\"description\"]].iloc[3]\n",
    "nr_1.to_csv(\"for_gemini.txt\")"
   ]
  },
  {
   "cell_type": "code",
   "execution_count": 3,
   "id": "0d945c54",
   "metadata": {},
   "outputs": [],
   "source": [
    "with open(\"for_gemini.txt\", \"r\", encoding='utf-8') as file: \n",
    "    ad_text = file.read() \n",
    "text = ad_text"
   ]
  },
  {
   "cell_type": "code",
   "execution_count": 4,
   "id": "e4c5ab5a",
   "metadata": {},
   "outputs": [
    {
     "data": {
      "text/plain": [
       "123197"
      ]
     },
     "execution_count": 4,
     "metadata": {},
     "output_type": "execute_result"
    }
   ],
   "source": [
    "len(text)"
   ]
  },
  {
   "cell_type": "code",
   "execution_count": 8,
   "id": "b921514d",
   "metadata": {},
   "outputs": [
    {
     "ename": "AttributeError",
     "evalue": "partially initialized module 'torch' has no attribute 'autograd' (most likely due to a circular import)",
     "output_type": "error",
     "traceback": [
      "\u001b[31m---------------------------------------------------------------------------\u001b[39m",
      "\u001b[31mAttributeError\u001b[39m                            Traceback (most recent call last)",
      "\u001b[36mCell\u001b[39m\u001b[36m \u001b[39m\u001b[32mIn[8]\u001b[39m\u001b[32m, line 1\u001b[39m\n\u001b[32m----> \u001b[39m\u001b[32m1\u001b[39m \u001b[38;5;28;01mfrom\u001b[39;00m\u001b[38;5;250m \u001b[39m\u001b[34;01msentence_transformers\u001b[39;00m\u001b[38;5;250m \u001b[39m\u001b[38;5;28;01mimport\u001b[39;00m SentenceTransformer\n\u001b[32m      3\u001b[39m model = SentenceTransformer(\u001b[33m\"\u001b[39m\u001b[33mintfloat/e5-small\u001b[39m\u001b[33m\"\u001b[39m)\n\u001b[32m      4\u001b[39m \u001b[38;5;66;03m# text = \"Din jobbannons eller annan text här\"\u001b[39;00m\n",
      "\u001b[36mFile \u001b[39m\u001b[32mc:\\Users\\Casper\\Documents\\Grupparbete AI2\\AI_2_group_project\\.venv\\Lib\\site-packages\\sentence_transformers\\__init__.py:9\u001b[39m\n\u001b[32m      6\u001b[39m \u001b[38;5;28;01mimport\u001b[39;00m\u001b[38;5;250m \u001b[39m\u001b[34;01mimportlib\u001b[39;00m\n\u001b[32m      7\u001b[39m \u001b[38;5;28;01mimport\u001b[39;00m\u001b[38;5;250m \u001b[39m\u001b[34;01mos\u001b[39;00m\n\u001b[32m----> \u001b[39m\u001b[32m9\u001b[39m \u001b[38;5;28;01mfrom\u001b[39;00m\u001b[38;5;250m \u001b[39m\u001b[34;01msentence_transformers\u001b[39;00m\u001b[34;01m.\u001b[39;00m\u001b[34;01mbackend\u001b[39;00m\u001b[38;5;250m \u001b[39m\u001b[38;5;28;01mimport\u001b[39;00m (\n\u001b[32m     10\u001b[39m     export_dynamic_quantized_onnx_model,\n\u001b[32m     11\u001b[39m     export_optimized_onnx_model,\n\u001b[32m     12\u001b[39m     export_static_quantized_openvino_model,\n\u001b[32m     13\u001b[39m )\n\u001b[32m     14\u001b[39m \u001b[38;5;28;01mfrom\u001b[39;00m\u001b[38;5;250m \u001b[39m\u001b[34;01msentence_transformers\u001b[39;00m\u001b[34;01m.\u001b[39;00m\u001b[34;01mcross_encoder\u001b[39;00m\u001b[38;5;250m \u001b[39m\u001b[38;5;28;01mimport\u001b[39;00m (\n\u001b[32m     15\u001b[39m     CrossEncoder,\n\u001b[32m     16\u001b[39m     CrossEncoderModelCardData,\n\u001b[32m     17\u001b[39m     CrossEncoderTrainer,\n\u001b[32m     18\u001b[39m     CrossEncoderTrainingArguments,\n\u001b[32m     19\u001b[39m )\n\u001b[32m     20\u001b[39m \u001b[38;5;28;01mfrom\u001b[39;00m\u001b[38;5;250m \u001b[39m\u001b[34;01msentence_transformers\u001b[39;00m\u001b[34;01m.\u001b[39;00m\u001b[34;01mdatasets\u001b[39;00m\u001b[38;5;250m \u001b[39m\u001b[38;5;28;01mimport\u001b[39;00m ParallelSentencesDataset, SentencesDataset\n",
      "\u001b[36mFile \u001b[39m\u001b[32mc:\\Users\\Casper\\Documents\\Grupparbete AI2\\AI_2_group_project\\.venv\\Lib\\site-packages\\sentence_transformers\\backend.py:11\u001b[39m\n\u001b[32m      7\u001b[39m \u001b[38;5;28;01mfrom\u001b[39;00m\u001b[38;5;250m \u001b[39m\u001b[34;01mtyping\u001b[39;00m\u001b[38;5;250m \u001b[39m\u001b[38;5;28;01mimport\u001b[39;00m TYPE_CHECKING, Callable, Literal\n\u001b[32m      9\u001b[39m \u001b[38;5;28;01mimport\u001b[39;00m\u001b[38;5;250m \u001b[39m\u001b[34;01mhuggingface_hub\u001b[39;00m\n\u001b[32m---> \u001b[39m\u001b[32m11\u001b[39m \u001b[38;5;28;01mfrom\u001b[39;00m\u001b[38;5;250m \u001b[39m\u001b[34;01msentence_transformers\u001b[39;00m\u001b[34;01m.\u001b[39;00m\u001b[34;01mutil\u001b[39;00m\u001b[38;5;250m \u001b[39m\u001b[38;5;28;01mimport\u001b[39;00m disable_datasets_caching, is_datasets_available\n\u001b[32m     13\u001b[39m logger = logging.getLogger(\u001b[34m__name__\u001b[39m)\n\u001b[32m     15\u001b[39m \u001b[38;5;28;01mif\u001b[39;00m TYPE_CHECKING:\n",
      "\u001b[36mFile \u001b[39m\u001b[32mc:\\Users\\Casper\\Documents\\Grupparbete AI2\\AI_2_group_project\\.venv\\Lib\\site-packages\\sentence_transformers\\util.py:17\u001b[39m\n\u001b[32m     15\u001b[39m \u001b[38;5;28;01mimport\u001b[39;00m\u001b[38;5;250m \u001b[39m\u001b[34;01mnumpy\u001b[39;00m\u001b[38;5;250m \u001b[39m\u001b[38;5;28;01mas\u001b[39;00m\u001b[38;5;250m \u001b[39m\u001b[34;01mnp\u001b[39;00m\n\u001b[32m     16\u001b[39m \u001b[38;5;28;01mimport\u001b[39;00m\u001b[38;5;250m \u001b[39m\u001b[34;01mrequests\u001b[39;00m\n\u001b[32m---> \u001b[39m\u001b[32m17\u001b[39m \u001b[38;5;28;01mimport\u001b[39;00m\u001b[38;5;250m \u001b[39m\u001b[34;01mtorch\u001b[39;00m\n\u001b[32m     18\u001b[39m \u001b[38;5;28;01mfrom\u001b[39;00m\u001b[38;5;250m \u001b[39m\u001b[34;01mhuggingface_hub\u001b[39;00m\u001b[38;5;250m \u001b[39m\u001b[38;5;28;01mimport\u001b[39;00m hf_hub_download, snapshot_download\n\u001b[32m     19\u001b[39m \u001b[38;5;28;01mfrom\u001b[39;00m\u001b[38;5;250m \u001b[39m\u001b[34;01mtorch\u001b[39;00m\u001b[38;5;250m \u001b[39m\u001b[38;5;28;01mimport\u001b[39;00m Tensor, device\n",
      "\u001b[36mFile \u001b[39m\u001b[32mc:\\Users\\Casper\\Documents\\Grupparbete AI2\\AI_2_group_project\\.venv\\Lib\\site-packages\\torch\\__init__.py:2169\u001b[39m\n\u001b[32m   2153\u001b[39m \u001b[38;5;66;03m################################################################################\u001b[39;00m\n\u001b[32m   2154\u001b[39m \u001b[38;5;66;03m# Import most common subpackages\u001b[39;00m\n\u001b[32m   2155\u001b[39m \u001b[38;5;66;03m################################################################################\u001b[39;00m\n\u001b[32m   (...)\u001b[39m\u001b[32m   2160\u001b[39m \n\u001b[32m   2161\u001b[39m \u001b[38;5;66;03m# needs to be before import torch.nn as nn to avoid circular dependencies\u001b[39;00m\n\u001b[32m   2162\u001b[39m \u001b[38;5;28;01mfrom\u001b[39;00m\u001b[38;5;250m \u001b[39m\u001b[34;01mtorch\u001b[39;00m\u001b[34;01m.\u001b[39;00m\u001b[34;01mautograd\u001b[39;00m\u001b[38;5;250m \u001b[39m\u001b[38;5;28;01mimport\u001b[39;00m (  \u001b[38;5;66;03m# usort: skip\u001b[39;00m\n\u001b[32m   2163\u001b[39m     enable_grad \u001b[38;5;28;01mas\u001b[39;00m enable_grad,\n\u001b[32m   2164\u001b[39m     inference_mode \u001b[38;5;28;01mas\u001b[39;00m inference_mode,\n\u001b[32m   2165\u001b[39m     no_grad \u001b[38;5;28;01mas\u001b[39;00m no_grad,\n\u001b[32m   2166\u001b[39m     set_grad_enabled \u001b[38;5;28;01mas\u001b[39;00m set_grad_enabled,\n\u001b[32m   2167\u001b[39m )\n\u001b[32m-> \u001b[39m\u001b[32m2169\u001b[39m \u001b[38;5;28;01mfrom\u001b[39;00m\u001b[38;5;250m \u001b[39m\u001b[34;01mtorch\u001b[39;00m\u001b[38;5;250m \u001b[39m\u001b[38;5;28;01mimport\u001b[39;00m (\n\u001b[32m   2170\u001b[39m     __config__ \u001b[38;5;28;01mas\u001b[39;00m __config__,\n\u001b[32m   2171\u001b[39m     __future__ \u001b[38;5;28;01mas\u001b[39;00m __future__,\n\u001b[32m   2172\u001b[39m     _awaits \u001b[38;5;28;01mas\u001b[39;00m _awaits,\n\u001b[32m   2173\u001b[39m     accelerator \u001b[38;5;28;01mas\u001b[39;00m accelerator,\n\u001b[32m   2174\u001b[39m     autograd \u001b[38;5;28;01mas\u001b[39;00m autograd,\n\u001b[32m   2175\u001b[39m     backends \u001b[38;5;28;01mas\u001b[39;00m backends,\n\u001b[32m   2176\u001b[39m     cpu \u001b[38;5;28;01mas\u001b[39;00m cpu,\n\u001b[32m   2177\u001b[39m     cuda \u001b[38;5;28;01mas\u001b[39;00m cuda,\n\u001b[32m   2178\u001b[39m     distributed \u001b[38;5;28;01mas\u001b[39;00m distributed,\n\u001b[32m   2179\u001b[39m     distributions \u001b[38;5;28;01mas\u001b[39;00m distributions,\n\u001b[32m   2180\u001b[39m     fft \u001b[38;5;28;01mas\u001b[39;00m fft,\n\u001b[32m   2181\u001b[39m     futures \u001b[38;5;28;01mas\u001b[39;00m futures,\n\u001b[32m   2182\u001b[39m     hub \u001b[38;5;28;01mas\u001b[39;00m hub,\n\u001b[32m   2183\u001b[39m     jit \u001b[38;5;28;01mas\u001b[39;00m jit,\n\u001b[32m   2184\u001b[39m     linalg \u001b[38;5;28;01mas\u001b[39;00m linalg,\n\u001b[32m   2185\u001b[39m     mps \u001b[38;5;28;01mas\u001b[39;00m mps,\n\u001b[32m   2186\u001b[39m     mtia \u001b[38;5;28;01mas\u001b[39;00m mtia,\n\u001b[32m   2187\u001b[39m     multiprocessing \u001b[38;5;28;01mas\u001b[39;00m multiprocessing,\n\u001b[32m   2188\u001b[39m     nested \u001b[38;5;28;01mas\u001b[39;00m nested,\n\u001b[32m   2189\u001b[39m     nn \u001b[38;5;28;01mas\u001b[39;00m nn,\n\u001b[32m   2190\u001b[39m     optim \u001b[38;5;28;01mas\u001b[39;00m optim,\n\u001b[32m   2191\u001b[39m     overrides \u001b[38;5;28;01mas\u001b[39;00m overrides,\n\u001b[32m   2192\u001b[39m     profiler \u001b[38;5;28;01mas\u001b[39;00m profiler,\n\u001b[32m   2193\u001b[39m     sparse \u001b[38;5;28;01mas\u001b[39;00m sparse,\n\u001b[32m   2194\u001b[39m     special \u001b[38;5;28;01mas\u001b[39;00m special,\n\u001b[32m   2195\u001b[39m     testing \u001b[38;5;28;01mas\u001b[39;00m testing,\n\u001b[32m   2196\u001b[39m     types \u001b[38;5;28;01mas\u001b[39;00m types,\n\u001b[32m   2197\u001b[39m     utils \u001b[38;5;28;01mas\u001b[39;00m utils,\n\u001b[32m   2198\u001b[39m     xpu \u001b[38;5;28;01mas\u001b[39;00m xpu,\n\u001b[32m   2199\u001b[39m )\n\u001b[32m   2200\u001b[39m \u001b[38;5;28;01mfrom\u001b[39;00m\u001b[38;5;250m \u001b[39m\u001b[34;01mtorch\u001b[39;00m\u001b[34;01m.\u001b[39;00m\u001b[34;01msignal\u001b[39;00m\u001b[38;5;250m \u001b[39m\u001b[38;5;28;01mimport\u001b[39;00m windows \u001b[38;5;28;01mas\u001b[39;00m windows\n\u001b[32m   2203\u001b[39m \u001b[38;5;66;03m# Quantized, sparse, AO, etc. should be last to get imported, as nothing\u001b[39;00m\n\u001b[32m   2204\u001b[39m \u001b[38;5;66;03m# is expected to depend on them.\u001b[39;00m\n",
      "\u001b[36mFile \u001b[39m\u001b[32mc:\\Users\\Casper\\Documents\\Grupparbete AI2\\AI_2_group_project\\.venv\\Lib\\site-packages\\torch\\distributions\\__init__.py:116\u001b[39m\n\u001b[32m    114\u001b[39m \u001b[38;5;28;01mfrom\u001b[39;00m\u001b[38;5;250m \u001b[39m\u001b[34;01m.\u001b[39;00m\u001b[34;01mtransforms\u001b[39;00m\u001b[38;5;250m \u001b[39m\u001b[38;5;28;01mimport\u001b[39;00m *  \u001b[38;5;66;03m# noqa: F403\u001b[39;00m\n\u001b[32m    115\u001b[39m \u001b[38;5;28;01mfrom\u001b[39;00m\u001b[38;5;250m \u001b[39m\u001b[34;01m.\u001b[39;00m\u001b[34;01muniform\u001b[39;00m\u001b[38;5;250m \u001b[39m\u001b[38;5;28;01mimport\u001b[39;00m Uniform\n\u001b[32m--> \u001b[39m\u001b[32m116\u001b[39m \u001b[38;5;28;01mfrom\u001b[39;00m\u001b[38;5;250m \u001b[39m\u001b[34;01m.\u001b[39;00m\u001b[34;01mvon_mises\u001b[39;00m\u001b[38;5;250m \u001b[39m\u001b[38;5;28;01mimport\u001b[39;00m VonMises\n\u001b[32m    117\u001b[39m \u001b[38;5;28;01mfrom\u001b[39;00m\u001b[38;5;250m \u001b[39m\u001b[34;01m.\u001b[39;00m\u001b[34;01mweibull\u001b[39;00m\u001b[38;5;250m \u001b[39m\u001b[38;5;28;01mimport\u001b[39;00m Weibull\n\u001b[32m    118\u001b[39m \u001b[38;5;28;01mfrom\u001b[39;00m\u001b[38;5;250m \u001b[39m\u001b[34;01m.\u001b[39;00m\u001b[34;01mwishart\u001b[39;00m\u001b[38;5;250m \u001b[39m\u001b[38;5;28;01mimport\u001b[39;00m Wishart\n",
      "\u001b[36mFile \u001b[39m\u001b[32mc:\\Users\\Casper\\Documents\\Grupparbete AI2\\AI_2_group_project\\.venv\\Lib\\site-packages\\torch\\distributions\\von_mises.py:5\u001b[39m\n\u001b[32m      2\u001b[39m \u001b[38;5;28;01mimport\u001b[39;00m\u001b[38;5;250m \u001b[39m\u001b[34;01mmath\u001b[39;00m\n\u001b[32m      4\u001b[39m \u001b[38;5;28;01mimport\u001b[39;00m\u001b[38;5;250m \u001b[39m\u001b[34;01mtorch\u001b[39;00m\n\u001b[32m----> \u001b[39m\u001b[32m5\u001b[39m \u001b[38;5;28;01mimport\u001b[39;00m\u001b[38;5;250m \u001b[39m\u001b[34;01mtorch\u001b[39;00m\u001b[34;01m.\u001b[39;00m\u001b[34;01mjit\u001b[39;00m\n\u001b[32m      6\u001b[39m \u001b[38;5;28;01mfrom\u001b[39;00m\u001b[38;5;250m \u001b[39m\u001b[34;01mtorch\u001b[39;00m\u001b[38;5;250m \u001b[39m\u001b[38;5;28;01mimport\u001b[39;00m Tensor\n\u001b[32m      7\u001b[39m \u001b[38;5;28;01mfrom\u001b[39;00m\u001b[38;5;250m \u001b[39m\u001b[34;01mtorch\u001b[39;00m\u001b[34;01m.\u001b[39;00m\u001b[34;01mdistributions\u001b[39;00m\u001b[38;5;250m \u001b[39m\u001b[38;5;28;01mimport\u001b[39;00m constraints\n",
      "\u001b[36mFile \u001b[39m\u001b[32mc:\\Users\\Casper\\Documents\\Grupparbete AI2\\AI_2_group_project\\.venv\\Lib\\site-packages\\torch\\jit\\__init__.py:24\u001b[39m\n\u001b[32m      9\u001b[39m \u001b[38;5;66;03m# These are imported so users can access them from the `torch.jit` module\u001b[39;00m\n\u001b[32m     10\u001b[39m \u001b[38;5;28;01mfrom\u001b[39;00m\u001b[38;5;250m \u001b[39m\u001b[34;01mtorch\u001b[39;00m\u001b[34;01m.\u001b[39;00m\u001b[34;01m_jit_internal\u001b[39;00m\u001b[38;5;250m \u001b[39m\u001b[38;5;28;01mimport\u001b[39;00m (\n\u001b[32m     11\u001b[39m     _Await,\n\u001b[32m     12\u001b[39m     _drop,\n\u001b[32m   (...)\u001b[39m\u001b[32m     22\u001b[39m     unused,\n\u001b[32m     23\u001b[39m )\n\u001b[32m---> \u001b[39m\u001b[32m24\u001b[39m \u001b[38;5;28;01mfrom\u001b[39;00m\u001b[38;5;250m \u001b[39m\u001b[34;01mtorch\u001b[39;00m\u001b[34;01m.\u001b[39;00m\u001b[34;01mjit\u001b[39;00m\u001b[34;01m.\u001b[39;00m\u001b[34;01m_async\u001b[39;00m\u001b[38;5;250m \u001b[39m\u001b[38;5;28;01mimport\u001b[39;00m fork, wait\n\u001b[32m     25\u001b[39m \u001b[38;5;28;01mfrom\u001b[39;00m\u001b[38;5;250m \u001b[39m\u001b[34;01mtorch\u001b[39;00m\u001b[34;01m.\u001b[39;00m\u001b[34;01mjit\u001b[39;00m\u001b[34;01m.\u001b[39;00m\u001b[34;01m_await\u001b[39;00m\u001b[38;5;250m \u001b[39m\u001b[38;5;28;01mimport\u001b[39;00m _awaitable, _awaitable_nowait, _awaitable_wait\n\u001b[32m     26\u001b[39m \u001b[38;5;28;01mfrom\u001b[39;00m\u001b[38;5;250m \u001b[39m\u001b[34;01mtorch\u001b[39;00m\u001b[34;01m.\u001b[39;00m\u001b[34;01mjit\u001b[39;00m\u001b[34;01m.\u001b[39;00m\u001b[34;01m_decomposition_utils\u001b[39;00m\u001b[38;5;250m \u001b[39m\u001b[38;5;28;01mimport\u001b[39;00m _register_decomposition\n",
      "\u001b[36mFile \u001b[39m\u001b[32mc:\\Users\\Casper\\Documents\\Grupparbete AI2\\AI_2_group_project\\.venv\\Lib\\site-packages\\torch\\jit\\_async.py:14\u001b[39m\n\u001b[32m     12\u001b[39m \u001b[38;5;28;01mimport\u001b[39;00m\u001b[38;5;250m \u001b[39m\u001b[34;01mtorch\u001b[39;00m\n\u001b[32m     13\u001b[39m \u001b[38;5;28;01mfrom\u001b[39;00m\u001b[38;5;250m \u001b[39m\u001b[34;01mtorch\u001b[39;00m\u001b[34;01m.\u001b[39;00m\u001b[34;01m_jit_internal\u001b[39;00m\u001b[38;5;250m \u001b[39m\u001b[38;5;28;01mimport\u001b[39;00m Future\n\u001b[32m---> \u001b[39m\u001b[32m14\u001b[39m \u001b[38;5;28;01mfrom\u001b[39;00m\u001b[38;5;250m \u001b[39m\u001b[34;01mtorch\u001b[39;00m\u001b[34;01m.\u001b[39;00m\u001b[34;01mjit\u001b[39;00m\u001b[34;01m.\u001b[39;00m\u001b[34;01m_builtins\u001b[39;00m\u001b[38;5;250m \u001b[39m\u001b[38;5;28;01mimport\u001b[39;00m _register_builtin\n\u001b[32m     15\u001b[39m \u001b[38;5;28;01mfrom\u001b[39;00m\u001b[38;5;250m \u001b[39m\u001b[34;01mtorch\u001b[39;00m\u001b[34;01m.\u001b[39;00m\u001b[34;01mutils\u001b[39;00m\u001b[38;5;250m \u001b[39m\u001b[38;5;28;01mimport\u001b[39;00m set_module\n\u001b[32m     18\u001b[39m set_module(Future, \u001b[33m\"\u001b[39m\u001b[33mtorch.jit\u001b[39m\u001b[33m\"\u001b[39m)\n",
      "\u001b[36mFile \u001b[39m\u001b[32mc:\\Users\\Casper\\Documents\\Grupparbete AI2\\AI_2_group_project\\.venv\\Lib\\site-packages\\torch\\jit\\_builtins.py:94\u001b[39m\n\u001b[32m     19\u001b[39m _builtin_table: Optional[\u001b[38;5;28mdict\u001b[39m[\u001b[38;5;28mint\u001b[39m, \u001b[38;5;28mstr\u001b[39m]] = \u001b[38;5;28;01mNone\u001b[39;00m\n\u001b[32m     21\u001b[39m _modules_containing_builtins = (torch, torch._C._nn, torch._C._fft, torch._C._linalg, torch._C._nested, torch._C._sparse, torch._C._special)  \u001b[38;5;66;03m# type: ignore[attr-defined] # noqa: B950\u001b[39;00m\n\u001b[32m     23\u001b[39m _builtin_ops = [\n\u001b[32m     24\u001b[39m     \u001b[38;5;66;03m# Pairs of (function, op_name)\u001b[39;00m\n\u001b[32m     25\u001b[39m     (_pair, \u001b[33m\"\u001b[39m\u001b[33maten::_pair\u001b[39m\u001b[33m\"\u001b[39m),\n\u001b[32m     26\u001b[39m     (_quadruple, \u001b[33m\"\u001b[39m\u001b[33maten::_quadruple\u001b[39m\u001b[33m\"\u001b[39m),\n\u001b[32m     27\u001b[39m     (_single, \u001b[33m\"\u001b[39m\u001b[33maten::_single\u001b[39m\u001b[33m\"\u001b[39m),\n\u001b[32m     28\u001b[39m     (_triple, \u001b[33m\"\u001b[39m\u001b[33maten::_triple\u001b[39m\u001b[33m\"\u001b[39m),\n\u001b[32m     29\u001b[39m     (_list_with_default, \u001b[33m\"\u001b[39m\u001b[33maten::list_with_default\u001b[39m\u001b[33m\"\u001b[39m),\n\u001b[32m     30\u001b[39m     (OrderedDict, \u001b[33m\"\u001b[39m\u001b[33maten::dict\u001b[39m\u001b[33m\"\u001b[39m),\n\u001b[32m     31\u001b[39m     (\u001b[38;5;28mdict\u001b[39m, \u001b[33m\"\u001b[39m\u001b[33maten::dict\u001b[39m\u001b[33m\"\u001b[39m),\n\u001b[32m     32\u001b[39m     (cudnn.is_acceptable, \u001b[33m\"\u001b[39m\u001b[33maten::cudnn_is_acceptable\u001b[39m\u001b[33m\"\u001b[39m),\n\u001b[32m     33\u001b[39m     (math.ceil, \u001b[33m\"\u001b[39m\u001b[33maten::ceil\u001b[39m\u001b[33m\"\u001b[39m),\n\u001b[32m     34\u001b[39m     (math.copysign, \u001b[33m\"\u001b[39m\u001b[33maten::copysign\u001b[39m\u001b[33m\"\u001b[39m),\n\u001b[32m     35\u001b[39m     (math.erf, \u001b[33m\"\u001b[39m\u001b[33maten::erf\u001b[39m\u001b[33m\"\u001b[39m),\n\u001b[32m     36\u001b[39m     (math.erfc, \u001b[33m\"\u001b[39m\u001b[33maten::erfc\u001b[39m\u001b[33m\"\u001b[39m),\n\u001b[32m     37\u001b[39m     (math.exp, \u001b[33m\"\u001b[39m\u001b[33maten::exp\u001b[39m\u001b[33m\"\u001b[39m),\n\u001b[32m     38\u001b[39m     (math.expm1, \u001b[33m\"\u001b[39m\u001b[33maten::expm1\u001b[39m\u001b[33m\"\u001b[39m),\n\u001b[32m     39\u001b[39m     (math.fabs, \u001b[33m\"\u001b[39m\u001b[33maten::fabs\u001b[39m\u001b[33m\"\u001b[39m),\n\u001b[32m     40\u001b[39m     (math.floor, \u001b[33m\"\u001b[39m\u001b[33maten::floor\u001b[39m\u001b[33m\"\u001b[39m),\n\u001b[32m     41\u001b[39m     (math.gamma, \u001b[33m\"\u001b[39m\u001b[33maten::gamma\u001b[39m\u001b[33m\"\u001b[39m),\n\u001b[32m     42\u001b[39m     (math.lgamma, \u001b[33m\"\u001b[39m\u001b[33maten::lgamma\u001b[39m\u001b[33m\"\u001b[39m),\n\u001b[32m     43\u001b[39m     (math.log, \u001b[33m\"\u001b[39m\u001b[33maten::log\u001b[39m\u001b[33m\"\u001b[39m),\n\u001b[32m     44\u001b[39m     (math.log10, \u001b[33m\"\u001b[39m\u001b[33maten::log10\u001b[39m\u001b[33m\"\u001b[39m),\n\u001b[32m     45\u001b[39m     (math.log1p, \u001b[33m\"\u001b[39m\u001b[33maten::log1p\u001b[39m\u001b[33m\"\u001b[39m),\n\u001b[32m     46\u001b[39m     (math.pow, \u001b[33m\"\u001b[39m\u001b[33maten::pow\u001b[39m\u001b[33m\"\u001b[39m),\n\u001b[32m     47\u001b[39m     (math.sqrt, \u001b[33m\"\u001b[39m\u001b[33maten::sqrt\u001b[39m\u001b[33m\"\u001b[39m),\n\u001b[32m     48\u001b[39m     (math.isnan, \u001b[33m\"\u001b[39m\u001b[33maten::isnan\u001b[39m\u001b[33m\"\u001b[39m),\n\u001b[32m     49\u001b[39m     (math.asinh, \u001b[33m\"\u001b[39m\u001b[33maten::asinh\u001b[39m\u001b[33m\"\u001b[39m),\n\u001b[32m     50\u001b[39m     (math.atanh, \u001b[33m\"\u001b[39m\u001b[33maten::atanh\u001b[39m\u001b[33m\"\u001b[39m),\n\u001b[32m     51\u001b[39m     (math.cosh, \u001b[33m\"\u001b[39m\u001b[33maten::cosh\u001b[39m\u001b[33m\"\u001b[39m),\n\u001b[32m     52\u001b[39m     (math.sinh, \u001b[33m\"\u001b[39m\u001b[33maten::sinh\u001b[39m\u001b[33m\"\u001b[39m),\n\u001b[32m     53\u001b[39m     (math.tanh, \u001b[33m\"\u001b[39m\u001b[33maten::tanh\u001b[39m\u001b[33m\"\u001b[39m),\n\u001b[32m     54\u001b[39m     (math.acos, \u001b[33m\"\u001b[39m\u001b[33maten::acos\u001b[39m\u001b[33m\"\u001b[39m),\n\u001b[32m     55\u001b[39m     (math.asin, \u001b[33m\"\u001b[39m\u001b[33maten::asin\u001b[39m\u001b[33m\"\u001b[39m),\n\u001b[32m     56\u001b[39m     (math.atan, \u001b[33m\"\u001b[39m\u001b[33maten::atan\u001b[39m\u001b[33m\"\u001b[39m),\n\u001b[32m     57\u001b[39m     (math.atan2, \u001b[33m\"\u001b[39m\u001b[33maten::atan2\u001b[39m\u001b[33m\"\u001b[39m),\n\u001b[32m     58\u001b[39m     (math.cos, \u001b[33m\"\u001b[39m\u001b[33maten::cos\u001b[39m\u001b[33m\"\u001b[39m),\n\u001b[32m     59\u001b[39m     (math.sin, \u001b[33m\"\u001b[39m\u001b[33maten::sin\u001b[39m\u001b[33m\"\u001b[39m),\n\u001b[32m     60\u001b[39m     (math.tan, \u001b[33m\"\u001b[39m\u001b[33maten::tan\u001b[39m\u001b[33m\"\u001b[39m),\n\u001b[32m     61\u001b[39m     (math.asinh, \u001b[33m\"\u001b[39m\u001b[33maten::asinh\u001b[39m\u001b[33m\"\u001b[39m),\n\u001b[32m     62\u001b[39m     (math.atanh, \u001b[33m\"\u001b[39m\u001b[33maten::atanh\u001b[39m\u001b[33m\"\u001b[39m),\n\u001b[32m     63\u001b[39m     (math.acosh, \u001b[33m\"\u001b[39m\u001b[33maten::acosh\u001b[39m\u001b[33m\"\u001b[39m),\n\u001b[32m     64\u001b[39m     (math.fmod, \u001b[33m\"\u001b[39m\u001b[33maten::fmod\u001b[39m\u001b[33m\"\u001b[39m),\n\u001b[32m     65\u001b[39m     (math.modf, \u001b[33m\"\u001b[39m\u001b[33maten::modf\u001b[39m\u001b[33m\"\u001b[39m),\n\u001b[32m     66\u001b[39m     (math.factorial, \u001b[33m\"\u001b[39m\u001b[33maten::factorial\u001b[39m\u001b[33m\"\u001b[39m),\n\u001b[32m     67\u001b[39m     (math.frexp, \u001b[33m\"\u001b[39m\u001b[33maten::frexp\u001b[39m\u001b[33m\"\u001b[39m),\n\u001b[32m     68\u001b[39m     (math.isinf, \u001b[33m\"\u001b[39m\u001b[33maten::isinf\u001b[39m\u001b[33m\"\u001b[39m),\n\u001b[32m     69\u001b[39m     (math.degrees, \u001b[33m\"\u001b[39m\u001b[33maten::degrees\u001b[39m\u001b[33m\"\u001b[39m),\n\u001b[32m     70\u001b[39m     (math.radians, \u001b[33m\"\u001b[39m\u001b[33maten::radians\u001b[39m\u001b[33m\"\u001b[39m),\n\u001b[32m     71\u001b[39m     (cmath.isnan, \u001b[33m\"\u001b[39m\u001b[33maten::isnan\u001b[39m\u001b[33m\"\u001b[39m),\n\u001b[32m     72\u001b[39m     (cmath.isfinite, \u001b[33m\"\u001b[39m\u001b[33maten::isfinite\u001b[39m\u001b[33m\"\u001b[39m),\n\u001b[32m     73\u001b[39m     (cmath.isinf, \u001b[33m\"\u001b[39m\u001b[33maten::isinf\u001b[39m\u001b[33m\"\u001b[39m),\n\u001b[32m     74\u001b[39m     (cmath.phase, \u001b[33m\"\u001b[39m\u001b[33maten::angle\u001b[39m\u001b[33m\"\u001b[39m),\n\u001b[32m     75\u001b[39m     (cmath.rect, \u001b[33m\"\u001b[39m\u001b[33maten::polar\u001b[39m\u001b[33m\"\u001b[39m),\n\u001b[32m     76\u001b[39m     (cmath.log, \u001b[33m\"\u001b[39m\u001b[33maten::log\u001b[39m\u001b[33m\"\u001b[39m),\n\u001b[32m     77\u001b[39m     (cmath.log10, \u001b[33m\"\u001b[39m\u001b[33maten::log10\u001b[39m\u001b[33m\"\u001b[39m),\n\u001b[32m     78\u001b[39m     (cmath.sqrt, \u001b[33m\"\u001b[39m\u001b[33maten::sqrt\u001b[39m\u001b[33m\"\u001b[39m),\n\u001b[32m     79\u001b[39m     (cmath.exp, \u001b[33m\"\u001b[39m\u001b[33maten::exp\u001b[39m\u001b[33m\"\u001b[39m),\n\u001b[32m     80\u001b[39m     (cmath.sin, \u001b[33m\"\u001b[39m\u001b[33maten::sin\u001b[39m\u001b[33m\"\u001b[39m),\n\u001b[32m     81\u001b[39m     (cmath.tan, \u001b[33m\"\u001b[39m\u001b[33maten::tan\u001b[39m\u001b[33m\"\u001b[39m),\n\u001b[32m     82\u001b[39m     (cmath.cos, \u001b[33m\"\u001b[39m\u001b[33maten::cos\u001b[39m\u001b[33m\"\u001b[39m),\n\u001b[32m     83\u001b[39m     (cmath.asin, \u001b[33m\"\u001b[39m\u001b[33maten::asin\u001b[39m\u001b[33m\"\u001b[39m),\n\u001b[32m     84\u001b[39m     (cmath.acos, \u001b[33m\"\u001b[39m\u001b[33maten::acos\u001b[39m\u001b[33m\"\u001b[39m),\n\u001b[32m     85\u001b[39m     (cmath.atan, \u001b[33m\"\u001b[39m\u001b[33maten::atan\u001b[39m\u001b[33m\"\u001b[39m),\n\u001b[32m     86\u001b[39m     (cmath.sinh, \u001b[33m\"\u001b[39m\u001b[33maten::sinh\u001b[39m\u001b[33m\"\u001b[39m),\n\u001b[32m     87\u001b[39m     (cmath.cosh, \u001b[33m\"\u001b[39m\u001b[33maten::cosh\u001b[39m\u001b[33m\"\u001b[39m),\n\u001b[32m     88\u001b[39m     (cmath.tanh, \u001b[33m\"\u001b[39m\u001b[33maten::tanh\u001b[39m\u001b[33m\"\u001b[39m),\n\u001b[32m     89\u001b[39m     (cmath.asinh, \u001b[33m\"\u001b[39m\u001b[33maten::asinh\u001b[39m\u001b[33m\"\u001b[39m),\n\u001b[32m     90\u001b[39m     (cmath.acosh, \u001b[33m\"\u001b[39m\u001b[33maten::acosh\u001b[39m\u001b[33m\"\u001b[39m),\n\u001b[32m     91\u001b[39m     (cmath.atanh, \u001b[33m\"\u001b[39m\u001b[33maten::atanh\u001b[39m\u001b[33m\"\u001b[39m),\n\u001b[32m     92\u001b[39m     (math.ldexp, \u001b[33m\"\u001b[39m\u001b[33maten::ldexp\u001b[39m\u001b[33m\"\u001b[39m),\n\u001b[32m     93\u001b[39m     (torch._assert, \u001b[33m\"\u001b[39m\u001b[33maten::_assert\u001b[39m\u001b[33m\"\u001b[39m),\n\u001b[32m---> \u001b[39m\u001b[32m94\u001b[39m     (\u001b[43mtorch\u001b[49m\u001b[43m.\u001b[49m\u001b[43mautograd\u001b[49m.grad, \u001b[33m\"\u001b[39m\u001b[33maten::grad\u001b[39m\u001b[33m\"\u001b[39m),\n\u001b[32m     95\u001b[39m     (torch.autograd.backward, \u001b[33m\"\u001b[39m\u001b[33maten::backward\u001b[39m\u001b[33m\"\u001b[39m),\n\u001b[32m     96\u001b[39m     (torch._C._infer_size, \u001b[33m\"\u001b[39m\u001b[33maten::_infer_size\u001b[39m\u001b[33m\"\u001b[39m),\n\u001b[32m     97\u001b[39m     (torch.nn.functional._no_grad_embedding_renorm_, \u001b[33m\"\u001b[39m\u001b[33maten::_no_grad_embedding_renorm_\u001b[39m\u001b[33m\"\u001b[39m),  \u001b[38;5;66;03m# type: ignore[attr-defined]\u001b[39;00m\n\u001b[32m     98\u001b[39m     (torch.nn.functional.assert_int_or_pair, \u001b[33m\"\u001b[39m\u001b[33maten::_assert_int_or_pair\u001b[39m\u001b[33m\"\u001b[39m),\n\u001b[32m     99\u001b[39m     (torch.nn.init._no_grad_fill_, \u001b[33m\"\u001b[39m\u001b[33maten::_no_grad_fill_\u001b[39m\u001b[33m\"\u001b[39m),\n\u001b[32m    100\u001b[39m     (torch.nn.init._no_grad_normal_, \u001b[33m\"\u001b[39m\u001b[33maten::_no_grad_normal_\u001b[39m\u001b[33m\"\u001b[39m),\n\u001b[32m    101\u001b[39m     (torch.nn.init._no_grad_uniform_, \u001b[33m\"\u001b[39m\u001b[33maten::_no_grad_uniform_\u001b[39m\u001b[33m\"\u001b[39m),\n\u001b[32m    102\u001b[39m     (torch.nn.init._no_grad_zero_, \u001b[33m\"\u001b[39m\u001b[33maten::_no_grad_zero_\u001b[39m\u001b[33m\"\u001b[39m),\n\u001b[32m    103\u001b[39m     (torch._C._get_tracing_state, \u001b[33m\"\u001b[39m\u001b[33maten::_get_tracing_state\u001b[39m\u001b[33m\"\u001b[39m),\n\u001b[32m    104\u001b[39m     (torch._C._get_cpu_capability, \u001b[33m\"\u001b[39m\u001b[33maten::_get_cpu_capability\u001b[39m\u001b[33m\"\u001b[39m),\n\u001b[32m    105\u001b[39m     (warnings.warn, \u001b[33m\"\u001b[39m\u001b[33maten::warn\u001b[39m\u001b[33m\"\u001b[39m),\n\u001b[32m    106\u001b[39m     (torch._VF.stft, \u001b[33m\"\u001b[39m\u001b[33maten::stft\u001b[39m\u001b[33m\"\u001b[39m),  \u001b[38;5;66;03m# type: ignore[attr-defined]\u001b[39;00m\n\u001b[32m    107\u001b[39m     (torch._VF.istft, \u001b[33m\"\u001b[39m\u001b[33maten::istft\u001b[39m\u001b[33m\"\u001b[39m),  \u001b[38;5;66;03m# type: ignore[attr-defined]\u001b[39;00m\n\u001b[32m    108\u001b[39m     (torch._VF.cdist, \u001b[33m\"\u001b[39m\u001b[33maten::cdist\u001b[39m\u001b[33m\"\u001b[39m),  \u001b[38;5;66;03m# type: ignore[attr-defined]\u001b[39;00m\n\u001b[32m    109\u001b[39m     (torch._VF.norm, \u001b[33m\"\u001b[39m\u001b[33maten::norm\u001b[39m\u001b[33m\"\u001b[39m),  \u001b[38;5;66;03m# type: ignore[attr-defined]\u001b[39;00m\n\u001b[32m    110\u001b[39m     (torch._VF.unique_dim, \u001b[33m\"\u001b[39m\u001b[33maten::unique_dim\u001b[39m\u001b[33m\"\u001b[39m),\n\u001b[32m    111\u001b[39m     (torch._VF.unique_consecutive, \u001b[33m\"\u001b[39m\u001b[33maten::unique_consecutive\u001b[39m\u001b[33m\"\u001b[39m),  \u001b[38;5;66;03m# type: ignore[attr-defined]\u001b[39;00m\n\u001b[32m    112\u001b[39m     (torch._VF.nuclear_norm, \u001b[33m\"\u001b[39m\u001b[33maten::nuclear_norm\u001b[39m\u001b[33m\"\u001b[39m),\n\u001b[32m    113\u001b[39m     (torch._VF.frobenius_norm, \u001b[33m\"\u001b[39m\u001b[33maten::frobenius_norm\u001b[39m\u001b[33m\"\u001b[39m),\n\u001b[32m    114\u001b[39m     (torch._VF.tensordot, \u001b[33m\"\u001b[39m\u001b[33maten::tensordot\u001b[39m\u001b[33m\"\u001b[39m),  \u001b[38;5;66;03m# type: ignore[attr-defined]\u001b[39;00m\n\u001b[32m    115\u001b[39m ]\n\u001b[32m    117\u001b[39m \u001b[38;5;66;03m# ops in torch.functional are bound to torch\u001b[39;00m\n\u001b[32m    118\u001b[39m \u001b[38;5;66;03m# in these cases, we want to resolve the function to their python implementation\u001b[39;00m\n\u001b[32m    119\u001b[39m \u001b[38;5;66;03m# instead looking up a builtin \"aten::\" schema\u001b[39;00m\n\u001b[32m    122\u001b[39m \u001b[38;5;28;01mdef\u001b[39;00m\u001b[38;5;250m \u001b[39m\u001b[34m_gen_torch_functional_registered_ops\u001b[39m():\n\u001b[32m    123\u001b[39m     \u001b[38;5;66;03m# eventually ops should encompass all of torch/functional.py, (torch.functional.__all__)\u001b[39;00m\n\u001b[32m    124\u001b[39m     \u001b[38;5;66;03m# but we are currently only able to compile some of the functions. additionally,\u001b[39;00m\n\u001b[32m    125\u001b[39m     \u001b[38;5;66;03m# some functions directly map to their aten:: implementations.\u001b[39;00m\n\u001b[32m    126\u001b[39m     \u001b[38;5;66;03m# TODO: add support for more ops\u001b[39;00m\n",
      "\u001b[31mAttributeError\u001b[39m: partially initialized module 'torch' has no attribute 'autograd' (most likely due to a circular import)"
     ]
    }
   ],
   "source": [
    "from sentence_transformers import SentenceTransformer\n",
    "\n",
    "model = SentenceTransformer(\"intfloat/e5-small\")\n",
    "# text = \"Din jobbannons eller annan text här\"\n",
    "embedding = model.encode(text)  # numpy-array \n",
    "\n"
   ]
  },
  {
   "cell_type": "code",
   "execution_count": 13,
   "id": "aa93e97f",
   "metadata": {},
   "outputs": [
    {
     "data": {
      "application/vnd.plotly.v1+json": {
       "config": {
        "plotlyServerURL": "https://plot.ly"
       },
       "data": [
        {
         "hovertemplate": "variable=0<br>index=%{x}<br>value=%{y}<extra></extra>",
         "legendgroup": "0",
         "marker": {
          "color": "#636efa",
          "symbol": "circle"
         },
         "mode": "markers",
         "name": "0",
         "orientation": "v",
         "showlegend": true,
         "type": "scatter",
         "x": {
          "bdata": "AAABAAIAAwAEAAUABgAHAAgACQAKAAsADAANAA4ADwAQABEAEgATABQAFQAWABcAGAAZABoAGwAcAB0AHgAfACAAIQAiACMAJAAlACYAJwAoACkAKgArACwALQAuAC8AMAAxADIAMwA0ADUANgA3ADgAOQA6ADsAPAA9AD4APwBAAEEAQgBDAEQARQBGAEcASABJAEoASwBMAE0ATgBPAFAAUQBSAFMAVABVAFYAVwBYAFkAWgBbAFwAXQBeAF8AYABhAGIAYwBkAGUAZgBnAGgAaQBqAGsAbABtAG4AbwBwAHEAcgBzAHQAdQB2AHcAeAB5AHoAewB8AH0AfgB/AIAAgQCCAIMAhACFAIYAhwCIAIkAigCLAIwAjQCOAI8AkACRAJIAkwCUAJUAlgCXAJgAmQCaAJsAnACdAJ4AnwCgAKEAogCjAKQApQCmAKcAqACpAKoAqwCsAK0ArgCvALAAsQCyALMAtAC1ALYAtwC4ALkAugC7ALwAvQC+AL8AwADBAMIAwwDEAMUAxgDHAMgAyQDKAMsAzADNAM4AzwDQANEA0gDTANQA1QDWANcA2ADZANoA2wDcAN0A3gDfAOAA4QDiAOMA5ADlAOYA5wDoAOkA6gDrAOwA7QDuAO8A8ADxAPIA8wD0APUA9gD3APgA+QD6APsA/AD9AP4A/wAAAQEBAgEDAQQBBQEGAQcBCAEJAQoBCwEMAQ0BDgEPARABEQESARMBFAEVARYBFwEYARkBGgEbARwBHQEeAR8BIAEhASIBIwEkASUBJgEnASgBKQEqASsBLAEtAS4BLwEwATEBMgEzATQBNQE2ATcBOAE5AToBOwE8AT0BPgE/AUABQQFCAUMBRAFFAUYBRwFIAUkBSgFLAUwBTQFOAU8BUAFRAVIBUwFUAVUBVgFXAVgBWQFaAVsBXAFdAV4BXwFgAWEBYgFjAWQBZQFmAWcBaAFpAWoBawFsAW0BbgFvAXABcQFyAXMBdAF1AXYBdwF4AXkBegF7AXwBfQF+AX8B",
          "dtype": "i2"
         },
         "xaxis": "x",
         "y": {
          "bdata": "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",
          "dtype": "f4"
         },
         "yaxis": "y"
        }
       ],
       "layout": {
        "legend": {
         "title": {
          "text": "variable"
         },
         "tracegroupgap": 0
        },
        "margin": {
         "t": 60
        },
        "template": {
         "data": {
          "bar": [
           {
            "error_x": {
             "color": "#2a3f5f"
            },
            "error_y": {
             "color": "#2a3f5f"
            },
            "marker": {
             "line": {
              "color": "#E5ECF6",
              "width": 0.5
             },
             "pattern": {
              "fillmode": "overlay",
              "size": 10,
              "solidity": 0.2
             }
            },
            "type": "bar"
           }
          ],
          "barpolar": [
           {
            "marker": {
             "line": {
              "color": "#E5ECF6",
              "width": 0.5
             },
             "pattern": {
              "fillmode": "overlay",
              "size": 10,
              "solidity": 0.2
             }
            },
            "type": "barpolar"
           }
          ],
          "carpet": [
           {
            "aaxis": {
             "endlinecolor": "#2a3f5f",
             "gridcolor": "white",
             "linecolor": "white",
             "minorgridcolor": "white",
             "startlinecolor": "#2a3f5f"
            },
            "baxis": {
             "endlinecolor": "#2a3f5f",
             "gridcolor": "white",
             "linecolor": "white",
             "minorgridcolor": "white",
             "startlinecolor": "#2a3f5f"
            },
            "type": "carpet"
           }
          ],
          "choropleth": [
           {
            "colorbar": {
             "outlinewidth": 0,
             "ticks": ""
            },
            "type": "choropleth"
           }
          ],
          "contour": [
           {
            "colorbar": {
             "outlinewidth": 0,
             "ticks": ""
            },
            "colorscale": [
             [
              0,
              "#0d0887"
             ],
             [
              0.1111111111111111,
              "#46039f"
             ],
             [
              0.2222222222222222,
              "#7201a8"
             ],
             [
              0.3333333333333333,
              "#9c179e"
             ],
             [
              0.4444444444444444,
              "#bd3786"
             ],
             [
              0.5555555555555556,
              "#d8576b"
             ],
             [
              0.6666666666666666,
              "#ed7953"
             ],
             [
              0.7777777777777778,
              "#fb9f3a"
             ],
             [
              0.8888888888888888,
              "#fdca26"
             ],
             [
              1,
              "#f0f921"
             ]
            ],
            "type": "contour"
           }
          ],
          "contourcarpet": [
           {
            "colorbar": {
             "outlinewidth": 0,
             "ticks": ""
            },
            "type": "contourcarpet"
           }
          ],
          "heatmap": [
           {
            "colorbar": {
             "outlinewidth": 0,
             "ticks": ""
            },
            "colorscale": [
             [
              0,
              "#0d0887"
             ],
             [
              0.1111111111111111,
              "#46039f"
             ],
             [
              0.2222222222222222,
              "#7201a8"
             ],
             [
              0.3333333333333333,
              "#9c179e"
             ],
             [
              0.4444444444444444,
              "#bd3786"
             ],
             [
              0.5555555555555556,
              "#d8576b"
             ],
             [
              0.6666666666666666,
              "#ed7953"
             ],
             [
              0.7777777777777778,
              "#fb9f3a"
             ],
             [
              0.8888888888888888,
              "#fdca26"
             ],
             [
              1,
              "#f0f921"
             ]
            ],
            "type": "heatmap"
           }
          ],
          "histogram": [
           {
            "marker": {
             "pattern": {
              "fillmode": "overlay",
              "size": 10,
              "solidity": 0.2
             }
            },
            "type": "histogram"
           }
          ],
          "histogram2d": [
           {
            "colorbar": {
             "outlinewidth": 0,
             "ticks": ""
            },
            "colorscale": [
             [
              0,
              "#0d0887"
             ],
             [
              0.1111111111111111,
              "#46039f"
             ],
             [
              0.2222222222222222,
              "#7201a8"
             ],
             [
              0.3333333333333333,
              "#9c179e"
             ],
             [
              0.4444444444444444,
              "#bd3786"
             ],
             [
              0.5555555555555556,
              "#d8576b"
             ],
             [
              0.6666666666666666,
              "#ed7953"
             ],
             [
              0.7777777777777778,
              "#fb9f3a"
             ],
             [
              0.8888888888888888,
              "#fdca26"
             ],
             [
              1,
              "#f0f921"
             ]
            ],
            "type": "histogram2d"
           }
          ],
          "histogram2dcontour": [
           {
            "colorbar": {
             "outlinewidth": 0,
             "ticks": ""
            },
            "colorscale": [
             [
              0,
              "#0d0887"
             ],
             [
              0.1111111111111111,
              "#46039f"
             ],
             [
              0.2222222222222222,
              "#7201a8"
             ],
             [
              0.3333333333333333,
              "#9c179e"
             ],
             [
              0.4444444444444444,
              "#bd3786"
             ],
             [
              0.5555555555555556,
              "#d8576b"
             ],
             [
              0.6666666666666666,
              "#ed7953"
             ],
             [
              0.7777777777777778,
              "#fb9f3a"
             ],
             [
              0.8888888888888888,
              "#fdca26"
             ],
             [
              1,
              "#f0f921"
             ]
            ],
            "type": "histogram2dcontour"
           }
          ],
          "mesh3d": [
           {
            "colorbar": {
             "outlinewidth": 0,
             "ticks": ""
            },
            "type": "mesh3d"
           }
          ],
          "parcoords": [
           {
            "line": {
             "colorbar": {
              "outlinewidth": 0,
              "ticks": ""
             }
            },
            "type": "parcoords"
           }
          ],
          "pie": [
           {
            "automargin": true,
            "type": "pie"
           }
          ],
          "scatter": [
           {
            "fillpattern": {
             "fillmode": "overlay",
             "size": 10,
             "solidity": 0.2
            },
            "type": "scatter"
           }
          ],
          "scatter3d": [
           {
            "line": {
             "colorbar": {
              "outlinewidth": 0,
              "ticks": ""
             }
            },
            "marker": {
             "colorbar": {
              "outlinewidth": 0,
              "ticks": ""
             }
            },
            "type": "scatter3d"
           }
          ],
          "scattercarpet": [
           {
            "marker": {
             "colorbar": {
              "outlinewidth": 0,
              "ticks": ""
             }
            },
            "type": "scattercarpet"
           }
          ],
          "scattergeo": [
           {
            "marker": {
             "colorbar": {
              "outlinewidth": 0,
              "ticks": ""
             }
            },
            "type": "scattergeo"
           }
          ],
          "scattergl": [
           {
            "marker": {
             "colorbar": {
              "outlinewidth": 0,
              "ticks": ""
             }
            },
            "type": "scattergl"
           }
          ],
          "scattermap": [
           {
            "marker": {
             "colorbar": {
              "outlinewidth": 0,
              "ticks": ""
             }
            },
            "type": "scattermap"
           }
          ],
          "scattermapbox": [
           {
            "marker": {
             "colorbar": {
              "outlinewidth": 0,
              "ticks": ""
             }
            },
            "type": "scattermapbox"
           }
          ],
          "scatterpolar": [
           {
            "marker": {
             "colorbar": {
              "outlinewidth": 0,
              "ticks": ""
             }
            },
            "type": "scatterpolar"
           }
          ],
          "scatterpolargl": [
           {
            "marker": {
             "colorbar": {
              "outlinewidth": 0,
              "ticks": ""
             }
            },
            "type": "scatterpolargl"
           }
          ],
          "scatterternary": [
           {
            "marker": {
             "colorbar": {
              "outlinewidth": 0,
              "ticks": ""
             }
            },
            "type": "scatterternary"
           }
          ],
          "surface": [
           {
            "colorbar": {
             "outlinewidth": 0,
             "ticks": ""
            },
            "colorscale": [
             [
              0,
              "#0d0887"
             ],
             [
              0.1111111111111111,
              "#46039f"
             ],
             [
              0.2222222222222222,
              "#7201a8"
             ],
             [
              0.3333333333333333,
              "#9c179e"
             ],
             [
              0.4444444444444444,
              "#bd3786"
             ],
             [
              0.5555555555555556,
              "#d8576b"
             ],
             [
              0.6666666666666666,
              "#ed7953"
             ],
             [
              0.7777777777777778,
              "#fb9f3a"
             ],
             [
              0.8888888888888888,
              "#fdca26"
             ],
             [
              1,
              "#f0f921"
             ]
            ],
            "type": "surface"
           }
          ],
          "table": [
           {
            "cells": {
             "fill": {
              "color": "#EBF0F8"
             },
             "line": {
              "color": "white"
             }
            },
            "header": {
             "fill": {
              "color": "#C8D4E3"
             },
             "line": {
              "color": "white"
             }
            },
            "type": "table"
           }
          ]
         },
         "layout": {
          "annotationdefaults": {
           "arrowcolor": "#2a3f5f",
           "arrowhead": 0,
           "arrowwidth": 1
          },
          "autotypenumbers": "strict",
          "coloraxis": {
           "colorbar": {
            "outlinewidth": 0,
            "ticks": ""
           }
          },
          "colorscale": {
           "diverging": [
            [
             0,
             "#8e0152"
            ],
            [
             0.1,
             "#c51b7d"
            ],
            [
             0.2,
             "#de77ae"
            ],
            [
             0.3,
             "#f1b6da"
            ],
            [
             0.4,
             "#fde0ef"
            ],
            [
             0.5,
             "#f7f7f7"
            ],
            [
             0.6,
             "#e6f5d0"
            ],
            [
             0.7,
             "#b8e186"
            ],
            [
             0.8,
             "#7fbc41"
            ],
            [
             0.9,
             "#4d9221"
            ],
            [
             1,
             "#276419"
            ]
           ],
           "sequential": [
            [
             0,
             "#0d0887"
            ],
            [
             0.1111111111111111,
             "#46039f"
            ],
            [
             0.2222222222222222,
             "#7201a8"
            ],
            [
             0.3333333333333333,
             "#9c179e"
            ],
            [
             0.4444444444444444,
             "#bd3786"
            ],
            [
             0.5555555555555556,
             "#d8576b"
            ],
            [
             0.6666666666666666,
             "#ed7953"
            ],
            [
             0.7777777777777778,
             "#fb9f3a"
            ],
            [
             0.8888888888888888,
             "#fdca26"
            ],
            [
             1,
             "#f0f921"
            ]
           ],
           "sequentialminus": [
            [
             0,
             "#0d0887"
            ],
            [
             0.1111111111111111,
             "#46039f"
            ],
            [
             0.2222222222222222,
             "#7201a8"
            ],
            [
             0.3333333333333333,
             "#9c179e"
            ],
            [
             0.4444444444444444,
             "#bd3786"
            ],
            [
             0.5555555555555556,
             "#d8576b"
            ],
            [
             0.6666666666666666,
             "#ed7953"
            ],
            [
             0.7777777777777778,
             "#fb9f3a"
            ],
            [
             0.8888888888888888,
             "#fdca26"
            ],
            [
             1,
             "#f0f921"
            ]
           ]
          },
          "colorway": [
           "#636efa",
           "#EF553B",
           "#00cc96",
           "#ab63fa",
           "#FFA15A",
           "#19d3f3",
           "#FF6692",
           "#B6E880",
           "#FF97FF",
           "#FECB52"
          ],
          "font": {
           "color": "#2a3f5f"
          },
          "geo": {
           "bgcolor": "white",
           "lakecolor": "white",
           "landcolor": "#E5ECF6",
           "showlakes": true,
           "showland": true,
           "subunitcolor": "white"
          },
          "hoverlabel": {
           "align": "left"
          },
          "hovermode": "closest",
          "mapbox": {
           "style": "light"
          },
          "paper_bgcolor": "white",
          "plot_bgcolor": "#E5ECF6",
          "polar": {
           "angularaxis": {
            "gridcolor": "white",
            "linecolor": "white",
            "ticks": ""
           },
           "bgcolor": "#E5ECF6",
           "radialaxis": {
            "gridcolor": "white",
            "linecolor": "white",
            "ticks": ""
           }
          },
          "scene": {
           "xaxis": {
            "backgroundcolor": "#E5ECF6",
            "gridcolor": "white",
            "gridwidth": 2,
            "linecolor": "white",
            "showbackground": true,
            "ticks": "",
            "zerolinecolor": "white"
           },
           "yaxis": {
            "backgroundcolor": "#E5ECF6",
            "gridcolor": "white",
            "gridwidth": 2,
            "linecolor": "white",
            "showbackground": true,
            "ticks": "",
            "zerolinecolor": "white"
           },
           "zaxis": {
            "backgroundcolor": "#E5ECF6",
            "gridcolor": "white",
            "gridwidth": 2,
            "linecolor": "white",
            "showbackground": true,
            "ticks": "",
            "zerolinecolor": "white"
           }
          },
          "shapedefaults": {
           "line": {
            "color": "#2a3f5f"
           }
          },
          "ternary": {
           "aaxis": {
            "gridcolor": "white",
            "linecolor": "white",
            "ticks": ""
           },
           "baxis": {
            "gridcolor": "white",
            "linecolor": "white",
            "ticks": ""
           },
           "bgcolor": "#E5ECF6",
           "caxis": {
            "gridcolor": "white",
            "linecolor": "white",
            "ticks": ""
           }
          },
          "title": {
           "x": 0.05
          },
          "xaxis": {
           "automargin": true,
           "gridcolor": "white",
           "linecolor": "white",
           "ticks": "",
           "title": {
            "standoff": 15
           },
           "zerolinecolor": "white",
           "zerolinewidth": 2
          },
          "yaxis": {
           "automargin": true,
           "gridcolor": "white",
           "linecolor": "white",
           "ticks": "",
           "title": {
            "standoff": 15
           },
           "zerolinecolor": "white",
           "zerolinewidth": 2
          }
         }
        },
        "xaxis": {
         "anchor": "y",
         "domain": [
          0,
          1
         ],
         "title": {
          "text": "index"
         }
        },
        "yaxis": {
         "anchor": "x",
         "domain": [
          0,
          1
         ],
         "title": {
          "text": "value"
         }
        }
       }
      }
     },
     "metadata": {},
     "output_type": "display_data"
    }
   ],
   "source": [
    "import plotly.express as px\n",
    "px.scatter(embedding)"
   ]
  },
  {
   "cell_type": "code",
   "execution_count": 19,
   "id": "056ac502",
   "metadata": {},
   "outputs": [],
   "source": [
    "embedding #.tofile(\"embedding.txt\")\n",
    "import numpy as np\n",
    "np.savetxt(\"embedding.txt\", embedding)"
   ]
  },
  {
   "cell_type": "markdown",
   "id": "2c813138",
   "metadata": {},
   "source": [
    "# EMBEDDING\n",
    "1. Initiera embedding modell\n",
    "2. Ha jobbanonnser redo\n",
    "3. Embedda alla texter \n",
    "4. Ha en query för att fråga gemini\n",
    "5. Beräkna likheter med cosine\n",
    "6. Skicka in till gemini"
   ]
  },
  {
   "cell_type": "code",
   "execution_count": 20,
   "id": "1a2eddbd",
   "metadata": {},
   "outputs": [],
   "source": [
    "# 1. Initiera embedding modell\n",
    "from sentence_transformers import SentenceTransformer\n",
    "embedder = SentenceTransformer(\"intfloat/e5-small\")\n"
   ]
  },
  {
   "cell_type": "code",
   "execution_count": 21,
   "id": "98835f8a",
   "metadata": {},
   "outputs": [],
   "source": [
    "# 2. Ha jobbanonnser redo\n",
    "with open(\"for_gemini.txt\", \"r\", encoding='utf-8') as file: \n",
    "    ad_text = file.read() \n",
    "text = ad_text"
   ]
  },
  {
   "cell_type": "code",
   "execution_count": 67,
   "id": "117b4ecc",
   "metadata": {},
   "outputs": [
    {
     "data": {
      "text/plain": [
       "array([-0.01374749, -0.01689037, -0.0667139 , -0.0358971 ,  0.02319343,\n",
       "       -0.0735288 ,  0.00993745,  0.05012561, -0.05575731,  0.04345234],\n",
       "      dtype=float32)"
      ]
     },
     "execution_count": 67,
     "metadata": {},
     "output_type": "execute_result"
    }
   ],
   "source": [
    "# doc_embeddings = [embedder.encode(doc) for doc in documents]\n",
    "\n",
    "# 3. Embedda alla texter/ text i detta exempel\n",
    "doc_embedding = embedder.encode(text)\n",
    "doc_embedding[:10]\n"
   ]
  },
  {
   "cell_type": "code",
   "execution_count": null,
   "id": "fe0d7093",
   "metadata": {},
   "outputs": [],
   "source": [
    "# 4. Ha en query med en ord som den ska hitta\n",
    "# query = f\"\"\"Du är en rekryterare inom Media, Kultur, Design.\n",
    "#     Plocka ut 5 av vanligaste kraven och 5 vanligaste meriterade och antal av dessa som efterfrågas i dessa jobbannonser, samt en sammanfattning av krav och meriter som du skriver ut:\n",
    "\n",
    "#     Output ska vara i detta formatet enbart: \n",
    "\n",
    "#     {{\n",
    "#         \"sammanfattning\": [\"sammanfattning\"]\n",
    "#         \"krav\": [erfarenhet1, erfarenhet2, ...]\n",
    "#         \"antal krav\": [summa erfarenhet1..]\n",
    "#         \"meriterande\": [meriterande1,meriterande2, ... ]\n",
    "#         \"antal meriterande\": [summa meriterande1..]\n",
    "        \n",
    "#     }}\n",
    "#     \"\"\"\n",
    "query = \"jag söker jobb som journalist\"\n",
    "query = \"pilot\"\n",
    "query_embedding = embedder.encode(query) #embedda queryn för snabbhet\n",
    "# query_embedding[:10]"
   ]
  },
  {
   "cell_type": "code",
   "execution_count": null,
   "id": "ca4ed3b3",
   "metadata": {},
   "outputs": [
    {
     "name": "stdout",
     "output_type": "stream",
     "text": [
      "Likhetspoäng: 0.7502351999282837\n",
      "Låg likhet\n"
     ]
    }
   ],
   "source": [
    "from scipy.spatial.distance import cosine\n",
    "# 5. Beräkna likheter med cosine\n",
    "similaritys = 1 - cosine(query_embedding, doc_embedding) # om du har flera texter: emb) for emb in doc_embedding]\n",
    "print(f\"Likhetspoäng: {similaritys}\") # Vad betyder siffran? Likhetspoäng mellan de 2 vektorerna (query och text). ligger mellan 0 och 1, 1 är maximal likhet, 0 ingen likhet\n",
    "if similaritys > 0.8: # Tröskel - Eftersom texten innehåller mycket så verkar detta vara gränsen, ev. 0.81 isåfall (innehåller 55.000 ord/600 rader)\n",
    "    print(\"Hög likhet\")\n",
    "else: \n",
    "    print(\"Låg likhet\")"
   ]
  },
  {
   "cell_type": "markdown",
   "id": "fa801308",
   "metadata": {},
   "source": [
    "### Utifrån detta kan man: \n",
    "1. Hitta ord eller korta meningar som matchar hela långa texten (Typ klart redan?)\n",
    "2. Ranka annonser (måste skickas in en och en isåfall!) och sedan använda den annons som har högst poäng till något kul.    \n",
    "     - då kan man använda den annonsen som har högst betyg och be gemini göra något med den, tex sammanfatta, räkna något osv\n",
    "3. ....\n"
   ]
  },
  {
   "cell_type": "markdown",
   "id": "efe0fb1e",
   "metadata": {},
   "source": [
    "### 2. Ranka annonser"
   ]
  },
  {
   "cell_type": "code",
   "execution_count": 173,
   "id": "e5ceb353",
   "metadata": {},
   "outputs": [
    {
     "data": {
      "text/html": [
       "<div>\n",
       "<style scoped>\n",
       "    .dataframe tbody tr th:only-of-type {\n",
       "        vertical-align: middle;\n",
       "    }\n",
       "\n",
       "    .dataframe tbody tr th {\n",
       "        vertical-align: top;\n",
       "    }\n",
       "\n",
       "    .dataframe thead th {\n",
       "        text-align: right;\n",
       "    }\n",
       "</style>\n",
       "<table border=\"1\" class=\"dataframe\">\n",
       "  <thead>\n",
       "    <tr style=\"text-align: right;\">\n",
       "      <th></th>\n",
       "      <th>occupation</th>\n",
       "      <th>vacancies</th>\n",
       "      <th>description</th>\n",
       "    </tr>\n",
       "  </thead>\n",
       "  <tbody>\n",
       "    <tr>\n",
       "      <th>0</th>\n",
       "      <td>Tolk</td>\n",
       "      <td>566</td>\n",
       "      <td>Vi söker utbildare inom japanska. \\nUppdraget ...</td>\n",
       "    </tr>\n",
       "    <tr>\n",
       "      <th>1</th>\n",
       "      <td>Bibliotekarie</td>\n",
       "      <td>93</td>\n",
       "      <td>I Knivsta går framtidsandan att ta på. Läget m...</td>\n",
       "    </tr>\n",
       "    <tr>\n",
       "      <th>2</th>\n",
       "      <td>Technical Operation Manager/TOM</td>\n",
       "      <td>91</td>\n",
       "      <td>The Opportunity:\\nWith a pioneering technology...</td>\n",
       "    </tr>\n",
       "    <tr>\n",
       "      <th>3</th>\n",
       "      <td>Layoutare</td>\n",
       "      <td>84</td>\n",
       "      <td>Vi söker medarbetare till vårt huvudkontor i M...</td>\n",
       "    </tr>\n",
       "    <tr>\n",
       "      <th>4</th>\n",
       "      <td>Skådespelare</td>\n",
       "      <td>54</td>\n",
       "      <td>Teater Scarlet har spelat Mordgåtor sedan 2017...</td>\n",
       "    </tr>\n",
       "    <tr>\n",
       "      <th>5</th>\n",
       "      <td>Skolbibliotekarie</td>\n",
       "      <td>47</td>\n",
       "      <td>Vad vi gör och vill\\nTyresö gymnasium är inne ...</td>\n",
       "    </tr>\n",
       "    <tr>\n",
       "      <th>6</th>\n",
       "      <td>Fotograf</td>\n",
       "      <td>45</td>\n",
       "      <td>Vi söker dig som vill utvecklas som bostadsfot...</td>\n",
       "    </tr>\n",
       "    <tr>\n",
       "      <th>7</th>\n",
       "      <td>Butikskommunikatör/Visual merchandiser</td>\n",
       "      <td>39</td>\n",
       "      <td>WHAT YOU’LL DO​ \\nAs a Global visual &amp; commerc...</td>\n",
       "    </tr>\n",
       "    <tr>\n",
       "      <th>8</th>\n",
       "      <td>Översättare</td>\n",
       "      <td>36</td>\n",
       "      <td>______________________________________________...</td>\n",
       "    </tr>\n",
       "    <tr>\n",
       "      <th>9</th>\n",
       "      <td>Projektledare: kultur, media, film, dataspel</td>\n",
       "      <td>34</td>\n",
       "      <td>Om myndigheten\\nForum för levande historia är ...</td>\n",
       "    </tr>\n",
       "    <tr>\n",
       "      <th>10</th>\n",
       "      <td>Designer</td>\n",
       "      <td>29</td>\n",
       "      <td>Job Description\\nWHAT YOU’LL DO\\nAs a Product ...</td>\n",
       "    </tr>\n",
       "    <tr>\n",
       "      <th>11</th>\n",
       "      <td>Arkivarie</td>\n",
       "      <td>22</td>\n",
       "      <td>Har du ett starkt samhällsengagemang och intre...</td>\n",
       "    </tr>\n",
       "    <tr>\n",
       "      <th>12</th>\n",
       "      <td>Produktionsassistent: kultur, media, film, dat...</td>\n",
       "      <td>22</td>\n",
       "      <td>Vi söker dig som vill bli spindeln i nätet på ...</td>\n",
       "    </tr>\n",
       "    <tr>\n",
       "      <th>13</th>\n",
       "      <td>Journalist/Reporter</td>\n",
       "      <td>21</td>\n",
       "      <td>Norrköpings Tidningar är mitt uppe i en stark ...</td>\n",
       "    </tr>\n",
       "    <tr>\n",
       "      <th>14</th>\n",
       "      <td>Kantor/Kyrkomusiker</td>\n",
       "      <td>19</td>\n",
       "      <td>Vår kyrkomusiker/kantor går i pension.\\r\\n\\r\\n...</td>\n",
       "    </tr>\n",
       "    <tr>\n",
       "      <th>15</th>\n",
       "      <td>Teckenspråkstolk/Dövblindtolk</td>\n",
       "      <td>17</td>\n",
       "      <td>Är du en erfaren teckenspråkstolk eller dövbli...</td>\n",
       "    </tr>\n",
       "    <tr>\n",
       "      <th>16</th>\n",
       "      <td>Industridesigner</td>\n",
       "      <td>17</td>\n",
       "      <td>Experis is a leading consulting firm in IT/Tec...</td>\n",
       "    </tr>\n",
       "    <tr>\n",
       "      <th>17</th>\n",
       "      <td>Grafisk formgivare</td>\n",
       "      <td>15</td>\n",
       "      <td>Är du en kreativ grafiker med erfarenhet av In...</td>\n",
       "    </tr>\n",
       "    <tr>\n",
       "      <th>18</th>\n",
       "      <td>3D artist/3D-grafiker</td>\n",
       "      <td>14</td>\n",
       "      <td>MachineGames is looking for a new Lead Environ...</td>\n",
       "    </tr>\n",
       "    <tr>\n",
       "      <th>19</th>\n",
       "      <td>Webbdesigner</td>\n",
       "      <td>14</td>\n",
       "      <td>Beskriver du dig som kommunikativ och engagera...</td>\n",
       "    </tr>\n",
       "    <tr>\n",
       "      <th>20</th>\n",
       "      <td>Art Director/AD</td>\n",
       "      <td>13</td>\n",
       "      <td>Experis is a leading consulting firm in IT/Tec...</td>\n",
       "    </tr>\n",
       "    <tr>\n",
       "      <th>21</th>\n",
       "      <td>Webbredaktör</td>\n",
       "      <td>12</td>\n",
       "      <td>Bilsajten Carup.se söker webbredaktörer/motorj...</td>\n",
       "    </tr>\n",
       "    <tr>\n",
       "      <th>22</th>\n",
       "      <td>Programpresentatör</td>\n",
       "      <td>12</td>\n",
       "      <td>Vi söker nu svensktalande Game Presenters till...</td>\n",
       "    </tr>\n",
       "    <tr>\n",
       "      <th>23</th>\n",
       "      <td>Dokumentalist</td>\n",
       "      <td>10</td>\n",
       "      <td>Ref: 20251128 \\n\\nHälsa-, vård- och omsorgsför...</td>\n",
       "    </tr>\n",
       "    <tr>\n",
       "      <th>24</th>\n",
       "      <td>Lingvist</td>\n",
       "      <td>9</td>\n",
       "      <td>Scanias R&amp;D-avdelning genomgår en transformati...</td>\n",
       "    </tr>\n",
       "    <tr>\n",
       "      <th>25</th>\n",
       "      <td>Musiker</td>\n",
       "      <td>9</td>\n",
       "      <td>Vi söker nu nya artister, musiker, skådespelar...</td>\n",
       "    </tr>\n",
       "    <tr>\n",
       "      <th>26</th>\n",
       "      <td>Producent: kultur, media, film, dataspel</td>\n",
       "      <td>9</td>\n",
       "      <td>ARBETA PÅ GINA TRICOT Som Campaign Producer på...</td>\n",
       "    </tr>\n",
       "    <tr>\n",
       "      <th>27</th>\n",
       "      <td>Sångare, folkmusik</td>\n",
       "      <td>8</td>\n",
       "      <td>Sommarkyrkan söker skolungdomar för sommarjobb...</td>\n",
       "    </tr>\n",
       "    <tr>\n",
       "      <th>28</th>\n",
       "      <td>Antikvarie</td>\n",
       "      <td>8</td>\n",
       "      <td>Tekniska museet söker en föremålsantikvarie ti...</td>\n",
       "    </tr>\n",
       "    <tr>\n",
       "      <th>29</th>\n",
       "      <td>Ljuddesigner</td>\n",
       "      <td>8</td>\n",
       "      <td>The opportunity\\nPlant Electrical Design is pa...</td>\n",
       "    </tr>\n",
       "  </tbody>\n",
       "</table>\n",
       "</div>"
      ],
      "text/plain": [
       "                                           occupation  ...                                        description\n",
       "0                                                Tolk  ...  Vi söker utbildare inom japanska. \\nUppdraget ...\n",
       "1                                       Bibliotekarie  ...  I Knivsta går framtidsandan att ta på. Läget m...\n",
       "2                     Technical Operation Manager/TOM  ...  The Opportunity:\\nWith a pioneering technology...\n",
       "3                                           Layoutare  ...  Vi söker medarbetare till vårt huvudkontor i M...\n",
       "4                                        Skådespelare  ...  Teater Scarlet har spelat Mordgåtor sedan 2017...\n",
       "5                                   Skolbibliotekarie  ...  Vad vi gör och vill\\nTyresö gymnasium är inne ...\n",
       "6                                            Fotograf  ...  Vi söker dig som vill utvecklas som bostadsfot...\n",
       "7              Butikskommunikatör/Visual merchandiser  ...  WHAT YOU’LL DO​ \\nAs a Global visual & commerc...\n",
       "8                                         Översättare  ...  ______________________________________________...\n",
       "9        Projektledare: kultur, media, film, dataspel  ...  Om myndigheten\\nForum för levande historia är ...\n",
       "10                                           Designer  ...  Job Description\\nWHAT YOU’LL DO\\nAs a Product ...\n",
       "11                                          Arkivarie  ...  Har du ett starkt samhällsengagemang och intre...\n",
       "12  Produktionsassistent: kultur, media, film, dat...  ...  Vi söker dig som vill bli spindeln i nätet på ...\n",
       "13                                Journalist/Reporter  ...  Norrköpings Tidningar är mitt uppe i en stark ...\n",
       "14                                Kantor/Kyrkomusiker  ...  Vår kyrkomusiker/kantor går i pension.\\r\\n\\r\\n...\n",
       "15                      Teckenspråkstolk/Dövblindtolk  ...  Är du en erfaren teckenspråkstolk eller dövbli...\n",
       "16                                   Industridesigner  ...  Experis is a leading consulting firm in IT/Tec...\n",
       "17                                 Grafisk formgivare  ...  Är du en kreativ grafiker med erfarenhet av In...\n",
       "18                              3D artist/3D-grafiker  ...  MachineGames is looking for a new Lead Environ...\n",
       "19                                       Webbdesigner  ...  Beskriver du dig som kommunikativ och engagera...\n",
       "20                                    Art Director/AD  ...  Experis is a leading consulting firm in IT/Tec...\n",
       "21                                       Webbredaktör  ...  Bilsajten Carup.se söker webbredaktörer/motorj...\n",
       "22                                 Programpresentatör  ...  Vi söker nu svensktalande Game Presenters till...\n",
       "23                                      Dokumentalist  ...  Ref: 20251128 \\n\\nHälsa-, vård- och omsorgsför...\n",
       "24                                           Lingvist  ...  Scanias R&D-avdelning genomgår en transformati...\n",
       "25                                            Musiker  ...  Vi söker nu nya artister, musiker, skådespelar...\n",
       "26           Producent: kultur, media, film, dataspel  ...  ARBETA PÅ GINA TRICOT Som Campaign Producer på...\n",
       "27                                 Sångare, folkmusik  ...  Sommarkyrkan söker skolungdomar för sommarjobb...\n",
       "28                                         Antikvarie  ...  Tekniska museet söker en föremålsantikvarie ti...\n",
       "29                                       Ljuddesigner  ...  The opportunity\\nPlant Electrical Design is pa...\n",
       "\n",
       "[30 rows x 3 columns]"
      ]
     },
     "execution_count": 173,
     "metadata": {},
     "output_type": "execute_result"
    }
   ],
   "source": [
    "\n",
    "# with open(\"for_gemini.txt\", \"r\", encoding='utf-8') as file: \n",
    "#     ad_text = file.read() \n",
    "import duckdb \n",
    "with duckdb.connect(\"../../ads_data.duckdb\") as con: \n",
    "    df = con.execute(\"SELECT * FROM mart.mart_kultur_media\").df()\n",
    "grouped_df = df.groupby(\"occupation\")[[\"vacancies\", \"description\"]].sum().sort_values(by=\"vacancies\", ascending=False).reset_index()\n",
    "grouped_df.head(30)\n",
    "\n"
   ]
  },
  {
   "cell_type": "code",
   "execution_count": 154,
   "id": "0011c886",
   "metadata": {},
   "outputs": [
    {
     "data": {
      "text/plain": [
       "57"
      ]
     },
     "execution_count": 154,
     "metadata": {},
     "output_type": "execute_result"
    }
   ],
   "source": [
    "df_journalist = df[df[\"occupation\"] == \"Bibliotekarie\"]\n",
    "len(df_journalist[\"description\"]) #18 annonser"
   ]
  },
  {
   "cell_type": "code",
   "execution_count": null,
   "id": "fb52d084",
   "metadata": {},
   "outputs": [
    {
     "data": {
      "text/plain": [
       "[np.float32(0.8151097),\n",
       " np.float32(0.8418137),\n",
       " np.float32(0.82768875),\n",
       " np.float32(0.83960634),\n",
       " np.float32(0.85021055),\n",
       " np.float32(0.85311973),\n",
       " np.float32(0.8504383),\n",
       " np.float32(0.8467103),\n",
       " np.float32(0.8614044),\n",
       " np.float32(0.83192587),\n",
       " np.float32(0.840357),\n",
       " np.float32(0.8448089),\n",
       " np.float32(0.84067047),\n",
       " np.float32(0.8193293),\n",
       " np.float32(0.8203386),\n",
       " np.float32(0.8239514),\n",
       " np.float32(0.852408),\n",
       " np.float32(0.8490208),\n",
       " np.float32(0.83127666),\n",
       " np.float32(0.82288945),\n",
       " np.float32(0.83781165),\n",
       " np.float32(0.8479891),\n",
       " np.float32(0.8381494),\n",
       " np.float32(0.8270408),\n",
       " np.float32(0.84799),\n",
       " np.float32(0.81559134),\n",
       " np.float32(0.80938965),\n",
       " np.float32(0.82496876),\n",
       " np.float32(0.82550365),\n",
       " np.float32(0.8132723),\n",
       " np.float32(0.83428556),\n",
       " np.float32(0.82527065),\n",
       " np.float32(0.8422712),\n",
       " np.float32(0.83924776),\n",
       " np.float32(0.8521172),\n",
       " np.float32(0.82768875),\n",
       " np.float32(0.83960634),\n",
       " np.float32(0.85021055),\n",
       " np.float32(0.85311973),\n",
       " np.float32(0.8467103),\n",
       " np.float32(0.8614044),\n",
       " np.float32(0.840357),\n",
       " np.float32(0.8448089),\n",
       " np.float32(0.84067047),\n",
       " np.float32(0.83127666),\n",
       " np.float32(0.8479891),\n",
       " np.float32(0.8270408),\n",
       " np.float32(0.83428556),\n",
       " np.float32(0.82527065),\n",
       " np.float32(0.8614044),\n",
       " np.float32(0.8448089),\n",
       " np.float32(0.84067047),\n",
       " np.float32(0.8162783),\n",
       " np.float32(0.8439998),\n",
       " np.float32(0.8363213),\n",
       " np.float32(0.82782215),\n",
       " np.float32(0.82782215)]"
      ]
     },
     "execution_count": 170,
     "metadata": {},
     "output_type": "execute_result"
    }
   ],
   "source": [
    "query = \"jag söker jobb som bibliotekarie\" # tar 27 sekunder att söka på 57 annonser\n",
    "query_embedding = embedder.encode(query) #embedda queryn för snabbhet\n",
    "# 5. Beräkna likheter med cosine\n",
    "value_list = []\n",
    "for data in df_journalist[\"description\"]:\n",
    "    doc_embedding = embedder.encode(data) #embedda varje description\n",
    "    similaritys = 1 - cosine(query_embedding, doc_embedding) # räkna ut likhetspoäng utifrån query\n",
    "    # if similaritys > 0.8:\n",
    "    value_list.append(similaritys) # Lägg in i lista\n",
    "value_list"
   ]
  },
  {
   "cell_type": "code",
   "execution_count": 172,
   "id": "550d2a2f",
   "metadata": {},
   "outputs": [
    {
     "data": {
      "text/plain": [
       "np.int64(8)"
      ]
     },
     "execution_count": 172,
     "metadata": {},
     "output_type": "execute_result"
    }
   ],
   "source": [
    "# Bästa indexet från listan\n",
    "best_index = np.argmax(value_list)\n",
    "best_index"
   ]
  },
  {
   "cell_type": "code",
   "execution_count": null,
   "id": "7b78a893",
   "metadata": {},
   "outputs": [
    {
     "data": {
      "text/plain": [
       "'Lunds universitet grundades 1666 och rankas återkommande som ett av världens främsta lärosäten. Här finns omkring 47 000 studenter och mer än 8 800 medarbetare i Lund, Helsingborg och Malmö. Vi förenas i vår strävan att förstå, förklara och förbättra vår värld och människors villkor.\\n\\n\\nLunds universitet välkomnar sökande med olika bakgrund och erfarenheter. Jämställdhet, lika villkor och mångfald är grundläggande principer för alla delar av vår verksamhet.\\n\\n\\n\\r\\n\\r\\nBeskrivning av arbetsplatsen\\nHT-biblioteken vid fakulteten för Humaniora och teologi har omkring 30 medarbetare som arbetar vid tre fysiska enheter: Asien-, LUX- och SOL-biblioteket.\\r\\n\\r\\nDessa är belägna nära varandra och fungerar som en verksamhet. HT-biblioteken har en öppen och välkomnande arbetsmiljö där vi alla tillsammans bidrar till verksamhetens bästa.\\n\\n\\xa0\\n\\nVi erbjuder\\nLunds universitet är en statlig myndighet vilket innebär att du får särskilda förmåner, generös semester och en förmånlig tjänstepension. Vi har även ett flextidsavtal som skapar goda förutsättningar för balans mellan arbete och fritid.\\n\\nLäs mer på universitetets webbplats om att vara anställd vid Lunds universitet, https://www.lu.se/om-universitetet/jobba-hos-oss\\n\\n\\xa0\\n\\nArbetsuppgifter och ansvarsområden\\nSom bibliotekarie på HT-biblioteken kommer du att ha både egna ansvarsområden och gemensamma arbetsuppgifter med dina kollegor. Fokus i tjänsten kommer att vara mediehantering samt att arbeta i bibliotekens informationsdiskar.\\n\\nHT-biblioteken har stor hantering av både digital och tryckt media. Du kommer att förstärka gruppen som arbetar med fjärrlån. Du kommer även att arbeta med lättare katalogisering kopplat till en genomgång av material placerat i magasinet. Du behöver därför vara intresserad av samlingsfrågor samt uppskatta arbetsuppgifter som kräver noggrannhet.\\n\\nI tjänsten ingår det även att förstärka gruppen som arbetar med talböcker. Du kommer att ha möten och instruera personer som behöver utnyttja tjänsten. Du behöver i detta både ha en pedagogisk ingång samt arbeta med de tekniska hjälpmedel som är kopplat till talböcker.\\n\\nVidare ingår yttre tjänst med både lånehantering och informationsarbete samt andra generella arbetsuppgifter som förekommer på forskningsbibliotek. Verksamhetens behov men även vilka kompetenser du har kan påverka tjänstens utformning.\\n\\n\\xa0\\n\\nKvalifikationer\\nKrav för anställningen är:\\n - Examen i biblioteks- och informationsvetenskap eller vad som arbets\\xadgivaren bedömer är en motsvarande akademisk bibliotekarie\\xadutbildning.\\n - Flytande svenska i tal och skrift.\\n - God engelska i tal och skrift.\\n\\n\\nMeriterande för anställningen är:\\n - Erfarenhet av att arbeta på forskningsbibliotek.\\n - Erfarenhet av att arbeta med fjärrlån.\\n - Erfarenhet av att arbeta med katalogisering.\\n - Erfarenhet av att arbeta med talböcker.\\n - God kännedom om humaniora och teologi.\\n - Språkkunskaper som bedöms fylla ett behov på HT-biblioteken.\\n\\nI arbetet är du med och bygger upp bibliotekets verksamhet långsiktigt samtidigt som du behöver kunna omprioritera i det dagliga arbetet när så behövs. Du behöver vara prestigelös samt ha lätt för att snabbt sätta dig in i nya arbetsuppgifter och arbeta resurseffektivt och lösningsorienterat. Flera av arbetsuppgifterna kräver att man är både noggrann och uppskattar att arbeta med detaljer. Arbetet är en kombination av självständigt arbete och att arbeta i grupp. Du kommer att ha flera arbetsuppgifter parallellt och det är därför viktigt att du trivs med detta samt att du kan prioritera mellan arbetsuppgifterna och strukturera din arbetstid. Att arbeta för ett gott samarbete med kollegor på biblioteket är viktigt. Arbetet i informationsdiskarna samt med talböcker är utåtriktat och det är centralt att du uppskattar detta och att du har ett pedagogiskt förhållningssätt till bibliotekens användare. Efterhand som bibliotekets verksamhet utvecklas och behov förändras påverkas även bibliotekarietjänsterna.\\n\\nStor vikt kommer att läggas vid personlig lämplighet samt hur den sökande genom sin erfarenhet och kompetens bedöms komplettera och stärka verksamheten vid HT-biblioteken.\\n\\n\\xa0\\n\\nÖvrigt\\nAnställningen är tidsbegränsad (vikariat) på 100 % med önskat tillträdesdatum 2025-08-18 eller enligt överenskommelse, dock längst t o m 2025-12-31. Helg- och kvällstjänstgöring kan förekomma.\\n\\n\\xa0\\n\\nSå här söker du\\nAnställningen söks via universitetets rekryteringssystem. Ansökan ska innehålla ett personligt brev på svenska där du beskriver hur du uppfyller kvalifikationerna samt för ett resonemang kring arbetsuppgifterna och varför du vill arbeta på ett forskningsbibliotek. Ansökan ska även innehålla ett CV samt relevant dokumentation. Specificera de eventuella språkkunskaper du har förutom engelska i din ansökan.\\n\\nOm Humanistiska och teologiska fakulteterna\\n\\nHumanistiska och teologiska fakulteterna har åtta institutioner och bedriver en stor och varierad verksamhet inom forskning och utbildning. Vi har ca 700 anställda och ca 4 000 helårsstudenter.\\n\\nOm HT-biblioteken\\n\\nDe Humanistiska och teologiska fakulteterna vid Lunds universitet har en sammanhållen biblioteksorganisation, HT-biblioteken. HT-biblioteken utgörs av tre fysiska enheter: Asien-, LUX- och SOL-biblioteket. Dessa är belägna nära varandra och fungerar som en verksamhet.\\n\\nVi arbetar för att ge ett nära och ämnesanpassat stöd till forskning och lärande på HT-fakulteterna. Det pedagogiska och serviceinriktade förhållningssättet utgör tillsammans med integrering i HT-fakulteternas övriga verksamhet grunden för vårt arbete. Samlingarna består av såväl tryckta som elektroniska resurser. HT-biblioteken har ett nära samarbete med de övriga biblioteken vid Lunds universitet.\\n\\nVi undanber oss alla kontakter från annonsförsäljare, rekryterings- och bemanningsföretag på grund av statliga upphandlingsregler.'"
      ]
     },
     "execution_count": 169,
     "metadata": {},
     "output_type": "execute_result"
    }
   ],
   "source": [
    "# Bästa jobbanonnsen som matchar query\n",
    "best_text = df_journalist.iloc[best_index].reset_index()\n",
    "best_text.iloc"
   ]
  },
  {
   "cell_type": "code",
   "execution_count": null,
   "id": "0f7c08a7",
   "metadata": {},
   "outputs": [],
   "source": [
    "# 6. Skicka in till gemini"
   ]
  },
  {
   "cell_type": "code",
   "execution_count": null,
   "id": "580aa76d",
   "metadata": {},
   "outputs": [],
   "source": [
    "# 7. Skriv ut svar"
   ]
  }
 ],
 "metadata": {
  "kernelspec": {
   "display_name": ".venv",
   "language": "python",
   "name": "python3"
  },
  "language_info": {
   "codemirror_mode": {
    "name": "ipython",
    "version": 3
   },
   "file_extension": ".py",
   "mimetype": "text/x-python",
   "name": "python",
   "nbconvert_exporter": "python",
   "pygments_lexer": "ipython3",
   "version": "3.12.2"
  }
 },
 "nbformat": 4,
 "nbformat_minor": 5
}

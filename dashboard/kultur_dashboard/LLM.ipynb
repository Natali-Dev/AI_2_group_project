{
 "cells": [
  {
   "cell_type": "code",
   "execution_count": 191,
   "id": "1c50e3b3",
   "metadata": {},
   "outputs": [],
   "source": [
    "from google import genai\n",
    "import os\n",
    "from dotenv import load_dotenv\n",
    "import duckdb\n",
    "load_dotenv()\n",
    "client = genai.Client(api_key=os.getenv(\"GEMINI_API_KEY\"))\n",
    "\n",
    "# response = client.models.generate_content(\n",
    "#     model=\"gemini-2.0-flash\", contents=\"Ge mig en historia om en kanin som bor i skogen på 3 meningar\"\n",
    "# )\n",
    "# print(response.text)\n",
    "\n"
   ]
  },
  {
   "cell_type": "code",
   "execution_count": 192,
   "id": "07a47707",
   "metadata": {},
   "outputs": [],
   "source": [
    "with duckdb.connect(\"../../ads_data.duckdb\") as con: \n",
    "    df_mart = con.execute(\"SELECT * FROM mart.mart_kultur_media\").df()\n",
    "df_test = df_mart #[df_mart[\"occupation_field\"] == \"Kultur, media, design\"]\n",
    "# df_test.to_csv(\"sample_ads.csv\") # måste göra mer finjusteringar! kan inte läsa allas description direkt!\n"
   ]
  },
  {
   "cell_type": "code",
   "execution_count": 267,
   "id": "c4aee259",
   "metadata": {},
   "outputs": [
    {
     "data": {
      "text/html": [
       "<div>\n",
       "<style scoped>\n",
       "    .dataframe tbody tr th:only-of-type {\n",
       "        vertical-align: middle;\n",
       "    }\n",
       "\n",
       "    .dataframe tbody tr th {\n",
       "        vertical-align: top;\n",
       "    }\n",
       "\n",
       "    .dataframe thead th {\n",
       "        text-align: right;\n",
       "    }\n",
       "</style>\n",
       "<table border=\"1\" class=\"dataframe\">\n",
       "  <thead>\n",
       "    <tr style=\"text-align: right;\">\n",
       "      <th></th>\n",
       "      <th>workplace_city</th>\n",
       "      <th>vacancies</th>\n",
       "      <th>description</th>\n",
       "    </tr>\n",
       "  </thead>\n",
       "  <tbody>\n",
       "    <tr>\n",
       "      <th>0</th>\n",
       "      <td>ej angiven</td>\n",
       "      <td>624</td>\n",
       "      <td>Vi söker nu nya artister, musiker, skådespelar...</td>\n",
       "    </tr>\n",
       "    <tr>\n",
       "      <th>1</th>\n",
       "      <td>Stockholm</td>\n",
       "      <td>166</td>\n",
       "      <td>Vi söker dig som vill bli spindeln i nätet på ...</td>\n",
       "    </tr>\n",
       "    <tr>\n",
       "      <th>2</th>\n",
       "      <td>Göteborg</td>\n",
       "      <td>138</td>\n",
       "      <td>Göteborgs universitet möter samhällets utmanin...</td>\n",
       "    </tr>\n",
       "    <tr>\n",
       "      <th>3</th>\n",
       "      <td>Malmö</td>\n",
       "      <td>102</td>\n",
       "      <td>Ref: 20251128 \\n\\nHälsa-, vård- och omsorgsför...</td>\n",
       "    </tr>\n",
       "    <tr>\n",
       "      <th>4</th>\n",
       "      <td>Boden</td>\n",
       "      <td>74</td>\n",
       "      <td>Research shows that women and other under-repr...</td>\n",
       "    </tr>\n",
       "    <tr>\n",
       "      <th>...</th>\n",
       "      <td>...</td>\n",
       "      <td>...</td>\n",
       "      <td>...</td>\n",
       "    </tr>\n",
       "    <tr>\n",
       "      <th>93</th>\n",
       "      <td>Örnsköldsvik</td>\n",
       "      <td>1</td>\n",
       "      <td>Känner du att du egentligen vill arbeta med nå...</td>\n",
       "    </tr>\n",
       "    <tr>\n",
       "      <th>94</th>\n",
       "      <td>Östersund</td>\n",
       "      <td>1</td>\n",
       "      <td>Vill du bli vår framtida Visuell Merchandiser?...</td>\n",
       "    </tr>\n",
       "    <tr>\n",
       "      <th>95</th>\n",
       "      <td>Österåker</td>\n",
       "      <td>1</td>\n",
       "      <td>Internationella Engelska Skolan (IES) is a lea...</td>\n",
       "    </tr>\n",
       "    <tr>\n",
       "      <th>96</th>\n",
       "      <td>Östra göinge</td>\n",
       "      <td>1</td>\n",
       "      <td>Östra Göinge kommun med drygt 14 000 invånare ...</td>\n",
       "    </tr>\n",
       "    <tr>\n",
       "      <th>97</th>\n",
       "      <td>Överkalix</td>\n",
       "      <td>1</td>\n",
       "      <td>2-årig projektanställning\\nMusiker med fokus p...</td>\n",
       "    </tr>\n",
       "  </tbody>\n",
       "</table>\n",
       "<p>98 rows × 3 columns</p>\n",
       "</div>"
      ],
      "text/plain": [
       "   workplace_city  vacancies  \\\n",
       "0      ej angiven        624   \n",
       "1       Stockholm        166   \n",
       "2        Göteborg        138   \n",
       "3           Malmö        102   \n",
       "4           Boden         74   \n",
       "..            ...        ...   \n",
       "93   Örnsköldsvik          1   \n",
       "94      Östersund          1   \n",
       "95      Österåker          1   \n",
       "96   Östra göinge          1   \n",
       "97      Överkalix          1   \n",
       "\n",
       "                                          description  \n",
       "0   Vi söker nu nya artister, musiker, skådespelar...  \n",
       "1   Vi söker dig som vill bli spindeln i nätet på ...  \n",
       "2   Göteborgs universitet möter samhällets utmanin...  \n",
       "3   Ref: 20251128 \\n\\nHälsa-, vård- och omsorgsför...  \n",
       "4   Research shows that women and other under-repr...  \n",
       "..                                                ...  \n",
       "93  Känner du att du egentligen vill arbeta med nå...  \n",
       "94  Vill du bli vår framtida Visuell Merchandiser?...  \n",
       "95  Internationella Engelska Skolan (IES) is a lea...  \n",
       "96  Östra Göinge kommun med drygt 14 000 invånare ...  \n",
       "97  2-årig projektanställning\\nMusiker med fokus p...  \n",
       "\n",
       "[98 rows x 3 columns]"
      ]
     },
     "execution_count": 267,
     "metadata": {},
     "output_type": "execute_result"
    }
   ],
   "source": [
    "descriptions = df_test[\"description\"]\n",
    "\n",
    "# top_employer = df_test.groupby(\"occupation\")[[\"vacancies\", \"description\"]].sum().sort_values(by=\"vacancies\", ascending=False).reset_index()\n",
    "# top_employer = df_test.groupby(\"employer_name\")[[\"vacancies\", \"description\"]].sum().sort_values(by=\"vacancies\", ascending=False).reset_index()\n",
    "top_employer = df_test.groupby(\"workplace_city\")[[\"vacancies\", \"description\"]].sum().sort_values(by=\"vacancies\", ascending=False).reset_index()\n",
    "\n",
    "top_employer\n",
    "# df_test"
   ]
  },
  {
   "cell_type": "code",
   "execution_count": 268,
   "metadata": {},
   "outputs": [
    {
     "data": {
      "text/plain": [
       "workplace_city                                             Göteborg\n",
       "description       Göteborgs universitet möter samhällets utmanin...\n",
       "Name: 2, dtype: object"
      ]
     },
     "execution_count": 268,
     "metadata": {},
     "output_type": "execute_result"
    }
   ],
   "source": [
    "top_employer = df_test.groupby(\"workplace_city\")[[\"vacancies\", \"description\"]].sum().sort_values(by=\"vacancies\", ascending=False).reset_index()\n",
    "# nr_1 = top_employer[top_employer[\"employer_name\"] == 'Exakta Photo AB']\n",
    "# nr_1 = top_employer.iloc[0][\"description\"]\n",
    "# top_employer[\"description\"][0]\n",
    "nr_1 = top_employer[[\"workplace_city\",\"description\"]].iloc[2]\n",
    "nr_1.to_csv(\"for_gemini.txt\")\n",
    "# nr_1.to_csv(\"for_gemini.csv\")\n",
    "nr_1"
   ]
  },
  {
   "cell_type": "code",
   "execution_count": 195,
   "id": "7440a638",
   "metadata": {},
   "outputs": [
    {
     "data": {
      "text/plain": [
       "occupation                                                  Tolk\n",
       "description    Vi söker utbildare inom japanska. \\nUppdraget ...\n",
       "Name: 0, dtype: object"
      ]
     },
     "execution_count": 195,
     "metadata": {},
     "output_type": "execute_result"
    }
   ],
   "source": [
    "# nr_1 = top_employer[\"employer_name\"]\n",
    "# nr_1[\"description\"].to_csv(\"top_employer.csv\")\n",
    "# nr_1[\"description\"]\n",
    "nr_1"
   ]
  },
  {
   "cell_type": "code",
   "execution_count": 269,
   "id": "a6f7887c",
   "metadata": {},
   "outputs": [],
   "source": [
    "# df_test.reset_index()"
   ]
  },
  {
   "cell_type": "code",
   "execution_count": null,
   "id": "8bfea84b",
   "metadata": {},
   "outputs": [],
   "source": [
    "with open(\"for_gemini.txt\", \"r\", encoding='utf-8') as file: \n",
    "    ad_text = file.read() \n",
    "# ad_text = nr_1[\"description\"]\n",
    "# Plocka ut de 5 vanligaste kraven de 5 vanligaste meriterade och antal av dessa som efterfrågas i dessa jobbannonser, samt en sammanfattning av krav och meriter som du skriver ut:\n",
    "# f\"Vad är de vanligaste kraven och meriterna inom {choice_sort}?\", \n",
    "# f\"Vad är de vanligaste arbetsuppgifterna inom {choice_sort}?\"\n",
    "question = \"Vad är de vanligaste arbetsuppgifterna inom Göteborg?\"\n",
    "promt = f\"\"\"Du är en rekryterare inom Media, Kultur, Design.\n",
    "Svara på denna fråga: {question} Genom att läsa dessa annonser: \n",
    "{ad_text}\n",
    "\n",
    "Output ska vara i detta formatet enbart: \n",
    "\n",
    "{{\n",
    "    \"sammanfattning\": [\"sammanfattning\"]\n",
    "    \"krav\": [erfarenhet1, erfarenhet2, ...]\n",
    "    \"antal krav\": [summa erfarenhet1..]\n",
    "    \"meriterande\": [meriterande1,meriterande2, ... ]\n",
    "    \"antal meriterande\": [summa meriterande1..]\n",
    "    \n",
    "}}\n",
    "\"\"\"\n",
    "#om du inte får ihop samma antal balansera ut det som fattas med null, 0\n",
    "# om du inte får ihop 5 så lägg in den sista som null, 0\n"
   ]
  },
  {
   "cell_type": "code",
   "execution_count": 308,
   "metadata": {},
   "outputs": [
    {
     "name": "stdout",
     "output_type": "stream",
     "text": [
      "```json\n",
      "{\n",
      "    \"sammanfattning\": [\n",
      "        \"Vanliga arbetsuppgifter inom Media, Kultur och Design i Göteborg inkluderar biblioteksarbete (informationssökning, referenshantering, undervisning), översättning/textproduktion för e-handel, ljud- och ljusteknik, värdskap på museum, motion design och videoredigering, inredningsdesign, ledning av konstprojekt,  och agera som skådespelare.\"\n",
      "    ],\n",
      "    \"biblioteksarbete\": [\n",
      "        \"Service i informationsdisk\",\n",
      "        \"Framtagning och uppsättning av böcker\",\n",
      "        \"Utskrift, kopiering och IT-service\",\n",
      "        \"Ämnesbevakning\",\n",
      "        \"Urval och förvärv av tryckta och elektroniska monografier\",\n",
      "        \"Litteratursökning\",\n",
      "        \"Referenshantering\",\n",
      "        \"Handledning och undervisning inom informationssökning\",\n",
      "        \"Hantera utlämnandeärenden i e-arkiv och analoga arkiv\",\n",
      "        \"Besvara förfrågningar från allmänhet, myndigheter, forskare och media\",\n",
      "        \"Göra sekretessbedömningar av allmänna handlingar\",\n",
      "        \"Stödja verksamheten i arbetet med att lämna ut/bedöma allmänna handlingars offentlighet\",\n",
      "        \"Ordna och vårda samt tillgängliggöra arkivmaterial\",\n",
      "        \"Bevaka utveckling inom området för att kunna bemöta interna och externa förfrågningar på ett effektivt och professionellt sätt.\"\n",
      "    ],\n",
      "    \"sum_biblioteksarbete\": [14],\n",
      "    \"översättning/textproduktion\": [\n",
      "        \"Översättning av produkttexter och marknadsföringsmaterial\",\n",
      "        \"Anpassa texter för kundupplevelse\",\n",
      "        \"Uppdatera produktbeskrivningar och titlar\",\n",
      "        \"Översätta marknadsföringsmaterial för sociala medier\",\n",
      "        \"Produktion av produktmanualer och texter för kategori- och varumärkessidor\"\n",
      "    ],\n",
      "    \"sum_oversattning\": [5],\n",
      "    \"scenkonst\": [\n",
      "        \"Ljud- och ljusteknik\",\n",
      "        \"Hjälpa till i baren under aktpauser\",\n",
      "        \"Skådespeleri (teater)\",\n",
      "        \"Servering och avdukning\",\n",
      "        \"Återställa lokalen\",\n",
      "        \"Koreografera intima scener\"\n",
      "    ],\n",
      "    \"sum_scenkonst\": [6],\n",
      "    \"design\": [\n",
      "        \"Industridesign (från koncept till färdig produkt)\",\n",
      "        \"Inredningsuppdrag (gardiner, textil, färgsättning)\",\n",
      "        \"Visuell utveckling av spel\",\n",
      "        \"Skapa digitala tillgångar\",\n",
      "        \"Motion design (textanimationer, grafiska övergångar)\",\n",
      "        \"Videoredigering\"\n",
      "    ],\n",
      "    \"sum_design\": [6],\n",
      "   \"övrigt\":[\n",
      "       \"Bemannande reception och butik på museum\",\n",
      "       \"Rondera i utställningar och publika lokaler\",\n",
      "       \"Ingå i museets säkerhetsorganisation\",\n",
      "       \"Utföra administrativa arbetsuppgifter.\"\n",
      "   ],\n",
      "   \"sum_ovrigt\":[4]\n",
      "}\n",
      "```\n"
     ]
    }
   ],
   "source": [
    "response = client.models.generate_content(\n",
    "    model=\"gemini-2.0-flash\", contents=promt\n",
    ")\n",
    "print(response.text)"
   ]
  },
  {
   "cell_type": "code",
   "execution_count": 309,
   "id": "abb58e2b",
   "metadata": {},
   "outputs": [
    {
     "data": {
      "text/plain": [
       "'\\n{\\n    \"sammanfattning\": [\\n        \"Vanliga arbetsuppgifter inom Media, Kultur och Design i Göteborg inkluderar biblioteksarbete (informationssökning, referenshantering, undervisning), översättning/textproduktion för e-handel, ljud- och ljusteknik, värdskap på museum, motion design och videoredigering, inredningsdesign, ledning av konstprojekt,  och agera som skådespelare.\"\\n    ],\\n    \"biblioteksarbete\": [\\n        \"Service i informationsdisk\",\\n        \"Framtagning och uppsättning av böcker\",\\n        \"Utskrift, kopiering och IT-service\",\\n        \"Ämnesbevakning\",\\n        \"Urval och förvärv av tryckta och elektroniska monografier\",\\n        \"Litteratursökning\",\\n        \"Referenshantering\",\\n        \"Handledning och undervisning inom informationssökning\",\\n        \"Hantera utlämnandeärenden i e-arkiv och analoga arkiv\",\\n        \"Besvara förfrågningar från allmänhet, myndigheter, forskare och media\",\\n        \"Göra sekretessbedömningar av allmänna handlingar\",\\n        \"Stödja verksamheten i arbetet med att lämna ut/bedöma allmänna handlingars offentlighet\",\\n        \"Ordna och vårda samt tillgängliggöra arkivmaterial\",\\n        \"Bevaka utveckling inom området för att kunna bemöta interna och externa förfrågningar på ett effektivt och professionellt sätt.\"\\n    ],\\n    \"sum_biblioteksarbete\": [14],\\n    \"översättning/textproduktion\": [\\n        \"Översättning av produkttexter och marknadsföringsmaterial\",\\n        \"Anpassa texter för kundupplevelse\",\\n        \"Uppdatera produktbeskrivningar och titlar\",\\n        \"Översätta marknadsföringsmaterial för sociala medier\",\\n        \"Produktion av produktmanualer och texter för kategori- och varumärkessidor\"\\n    ],\\n    \"sum_oversattning\": [5],\\n    \"scenkonst\": [\\n        \"Ljud- och ljusteknik\",\\n        \"Hjälpa till i baren under aktpauser\",\\n        \"Skådespeleri (teater)\",\\n        \"Servering och avdukning\",\\n        \"Återställa lokalen\",\\n        \"Koreografera intima scener\"\\n    ],\\n    \"sum_scenkonst\": [6],\\n    \"design\": [\\n        \"Industridesign (från koncept till färdig produkt)\",\\n        \"Inredningsuppdrag (gardiner, textil, färgsättning)\",\\n        \"Visuell utveckling av spel\",\\n        \"Skapa digitala tillgångar\",\\n        \"Motion design (textanimationer, grafiska övergångar)\",\\n        \"Videoredigering\"\\n    ],\\n    \"sum_design\": [6],\\n   \"övrigt\":[\\n       \"Bemannande reception och butik på museum\",\\n       \"Rondera i utställningar och publika lokaler\",\\n       \"Ingå i museets säkerhetsorganisation\",\\n       \"Utföra administrativa arbetsuppgifter.\"\\n   ],\\n   \"sum_ovrigt\":[4]\\n}\\n'"
      ]
     },
     "execution_count": 309,
     "metadata": {},
     "output_type": "execute_result"
    }
   ],
   "source": [
    "# print(repr(response.text))\n",
    "import json\n",
    "\n",
    "data = response.text\n",
    "cleaned = data.strip(\"```json\") #.replace(\"\\n\", \"\").strip().replace(\"  \", \"\")\n",
    "cleaned\n",
    "# data"
   ]
  },
  {
   "cell_type": "code",
   "execution_count": 303,
   "id": "6a0484de",
   "metadata": {},
   "outputs": [
    {
     "data": {
      "text/html": [
       "<div>\n",
       "<style scoped>\n",
       "    .dataframe tbody tr th:only-of-type {\n",
       "        vertical-align: middle;\n",
       "    }\n",
       "\n",
       "    .dataframe tbody tr th {\n",
       "        vertical-align: top;\n",
       "    }\n",
       "\n",
       "    .dataframe thead th {\n",
       "        text-align: right;\n",
       "    }\n",
       "</style>\n",
       "<table border=\"1\" class=\"dataframe\">\n",
       "  <thead>\n",
       "    <tr style=\"text-align: right;\">\n",
       "      <th></th>\n",
       "      <th>krav</th>\n",
       "      <th>antal krav</th>\n",
       "    </tr>\n",
       "  </thead>\n",
       "  <tbody>\n",
       "    <tr>\n",
       "      <th>0</th>\n",
       "      <td>Mycket goda skriv- och språkkunskaper (svenska...</td>\n",
       "      <td>12</td>\n",
       "    </tr>\n",
       "    <tr>\n",
       "      <th>1</th>\n",
       "      <td>God dator- och systemvana (Officepaketet, kass...</td>\n",
       "      <td>8</td>\n",
       "    </tr>\n",
       "    <tr>\n",
       "      <th>2</th>\n",
       "      <td>Samarbetsförmåga</td>\n",
       "      <td>7</td>\n",
       "    </tr>\n",
       "    <tr>\n",
       "      <th>3</th>\n",
       "      <td>Relevant akademisk utbildning (biblioteks- och...</td>\n",
       "      <td>7</td>\n",
       "    </tr>\n",
       "    <tr>\n",
       "      <th>4</th>\n",
       "      <td>Erfarenhet inom området (receptionsarbete, öve...</td>\n",
       "      <td>5</td>\n",
       "    </tr>\n",
       "  </tbody>\n",
       "</table>\n",
       "</div>"
      ],
      "text/plain": [
       "                                                krav  antal krav\n",
       "0  Mycket goda skriv- och språkkunskaper (svenska...          12\n",
       "1  God dator- och systemvana (Officepaketet, kass...           8\n",
       "2                                   Samarbetsförmåga           7\n",
       "3  Relevant akademisk utbildning (biblioteks- och...           7\n",
       "4  Erfarenhet inom området (receptionsarbete, öve...           5"
      ]
     },
     "execution_count": 303,
     "metadata": {},
     "output_type": "execute_result"
    }
   ],
   "source": [
    "type(cleaned)\n",
    "import pandas as pd\n",
    "data = json.loads(cleaned)\n",
    "\n",
    "df_krav = pd.DataFrame({\n",
    "    \"krav\": data[\"krav\"], \n",
    "    \"antal krav\": data[\"antal krav\"]\n",
    "})\n",
    "df_krav\n",
    "# df = pd.DataFrame(data)\n",
    "# df\n",
    "# df = pd.DataFrame(df)\n",
    "# df"
   ]
  },
  {
   "cell_type": "code",
   "execution_count": 302,
   "metadata": {},
   "outputs": [
    {
     "data": {
      "text/html": [
       "<div>\n",
       "<style scoped>\n",
       "    .dataframe tbody tr th:only-of-type {\n",
       "        vertical-align: middle;\n",
       "    }\n",
       "\n",
       "    .dataframe tbody tr th {\n",
       "        vertical-align: top;\n",
       "    }\n",
       "\n",
       "    .dataframe thead th {\n",
       "        text-align: right;\n",
       "    }\n",
       "</style>\n",
       "<table border=\"1\" class=\"dataframe\">\n",
       "  <thead>\n",
       "    <tr style=\"text-align: right;\">\n",
       "      <th></th>\n",
       "      <th>meriterande</th>\n",
       "      <th>antal meriterande</th>\n",
       "    </tr>\n",
       "  </thead>\n",
       "  <tbody>\n",
       "    <tr>\n",
       "      <th>0</th>\n",
       "      <td>Erfarenhet från universitets-/högskolebibliotek</td>\n",
       "      <td>2</td>\n",
       "    </tr>\n",
       "    <tr>\n",
       "      <th>1</th>\n",
       "      <td>Erfarenhet av Litium eller liknande</td>\n",
       "      <td>2</td>\n",
       "    </tr>\n",
       "    <tr>\n",
       "      <th>2</th>\n",
       "      <td>Erfarenhet inom specifika program (CAD Rhino 3...</td>\n",
       "      <td>2</td>\n",
       "    </tr>\n",
       "    <tr>\n",
       "      <th>3</th>\n",
       "      <td>Kunskap inom relevanta områden (e-handel, öppe...</td>\n",
       "      <td>5</td>\n",
       "    </tr>\n",
       "    <tr>\n",
       "      <th>4</th>\n",
       "      <td>Ytterligare språkkunskaper (tyska, minoritetss...</td>\n",
       "      <td>2</td>\n",
       "    </tr>\n",
       "  </tbody>\n",
       "</table>\n",
       "</div>"
      ],
      "text/plain": [
       "                                         meriterande  antal meriterande\n",
       "0    Erfarenhet från universitets-/högskolebibliotek                  2\n",
       "1                Erfarenhet av Litium eller liknande                  2\n",
       "2  Erfarenhet inom specifika program (CAD Rhino 3...                  2\n",
       "3  Kunskap inom relevanta områden (e-handel, öppe...                  5\n",
       "4  Ytterligare språkkunskaper (tyska, minoritetss...                  2"
      ]
     },
     "execution_count": 302,
     "metadata": {},
     "output_type": "execute_result"
    }
   ],
   "source": [
    "df_merit = pd.DataFrame({\n",
    "    \"meriterande\": data[\"meriterande\"],\n",
    "    \"antal meriterande\": data[\"antal meriterande\"]\n",
    "})\n",
    "df_merit"
   ]
  },
  {
   "cell_type": "code",
   "execution_count": 304,
   "metadata": {},
   "outputs": [
    {
     "data": {
      "text/plain": [
       "['De vanligaste kraven är språkkunskaper (främst svenska, engelska, danska, finska eller norska), god datorvana, samarbetsförmåga, och relevant utbildning. Meriterande är erfarenhet inom specifika system (Litium, CAD, etc.), kunskap inom relevanta områden (e-handel, konsthistoria etc.), och ytterligare språkkunskaper. Många annonser betonar personlig lämplighet och initiativförmåga.']"
      ]
     },
     "execution_count": 304,
     "metadata": {},
     "output_type": "execute_result"
    }
   ],
   "source": [
    "sammanfattning = data[\"sammanfattning\"]\n",
    "sammanfattning"
   ]
  },
  {
   "cell_type": "code",
   "execution_count": 232,
   "id": "10879835",
   "metadata": {},
   "outputs": [
    {
     "data": {
      "application/vnd.plotly.v1+json": {
       "config": {
        "plotlyServerURL": "https://plot.ly"
       },
       "data": [
        {
         "hovertemplate": "krav=%{x}<br>antal krav=%{y}<extra></extra>",
         "legendgroup": "",
         "marker": {
          "color": "#636efa",
          "pattern": {
           "shape": ""
          }
         },
         "name": "",
         "orientation": "v",
         "showlegend": false,
         "textposition": "auto",
         "type": "bar",
         "x": [
          "Behärska svenska och ett annat språk flytande",
          "God samhällsuppfattning",
          "Serviceinriktad",
          "Hög integritet",
          "Noggrann och ansvarsfull"
         ],
         "xaxis": "x",
         "y": {
          "bdata": "VgkJCQk=",
          "dtype": "i1"
         },
         "yaxis": "y"
        }
       ],
       "layout": {
        "barmode": "relative",
        "legend": {
         "tracegroupgap": 0
        },
        "margin": {
         "t": 60
        },
        "template": {
         "data": {
          "bar": [
           {
            "error_x": {
             "color": "#2a3f5f"
            },
            "error_y": {
             "color": "#2a3f5f"
            },
            "marker": {
             "line": {
              "color": "#E5ECF6",
              "width": 0.5
             },
             "pattern": {
              "fillmode": "overlay",
              "size": 10,
              "solidity": 0.2
             }
            },
            "type": "bar"
           }
          ],
          "barpolar": [
           {
            "marker": {
             "line": {
              "color": "#E5ECF6",
              "width": 0.5
             },
             "pattern": {
              "fillmode": "overlay",
              "size": 10,
              "solidity": 0.2
             }
            },
            "type": "barpolar"
           }
          ],
          "carpet": [
           {
            "aaxis": {
             "endlinecolor": "#2a3f5f",
             "gridcolor": "white",
             "linecolor": "white",
             "minorgridcolor": "white",
             "startlinecolor": "#2a3f5f"
            },
            "baxis": {
             "endlinecolor": "#2a3f5f",
             "gridcolor": "white",
             "linecolor": "white",
             "minorgridcolor": "white",
             "startlinecolor": "#2a3f5f"
            },
            "type": "carpet"
           }
          ],
          "choropleth": [
           {
            "colorbar": {
             "outlinewidth": 0,
             "ticks": ""
            },
            "type": "choropleth"
           }
          ],
          "contour": [
           {
            "colorbar": {
             "outlinewidth": 0,
             "ticks": ""
            },
            "colorscale": [
             [
              0,
              "#0d0887"
             ],
             [
              0.1111111111111111,
              "#46039f"
             ],
             [
              0.2222222222222222,
              "#7201a8"
             ],
             [
              0.3333333333333333,
              "#9c179e"
             ],
             [
              0.4444444444444444,
              "#bd3786"
             ],
             [
              0.5555555555555556,
              "#d8576b"
             ],
             [
              0.6666666666666666,
              "#ed7953"
             ],
             [
              0.7777777777777778,
              "#fb9f3a"
             ],
             [
              0.8888888888888888,
              "#fdca26"
             ],
             [
              1,
              "#f0f921"
             ]
            ],
            "type": "contour"
           }
          ],
          "contourcarpet": [
           {
            "colorbar": {
             "outlinewidth": 0,
             "ticks": ""
            },
            "type": "contourcarpet"
           }
          ],
          "heatmap": [
           {
            "colorbar": {
             "outlinewidth": 0,
             "ticks": ""
            },
            "colorscale": [
             [
              0,
              "#0d0887"
             ],
             [
              0.1111111111111111,
              "#46039f"
             ],
             [
              0.2222222222222222,
              "#7201a8"
             ],
             [
              0.3333333333333333,
              "#9c179e"
             ],
             [
              0.4444444444444444,
              "#bd3786"
             ],
             [
              0.5555555555555556,
              "#d8576b"
             ],
             [
              0.6666666666666666,
              "#ed7953"
             ],
             [
              0.7777777777777778,
              "#fb9f3a"
             ],
             [
              0.8888888888888888,
              "#fdca26"
             ],
             [
              1,
              "#f0f921"
             ]
            ],
            "type": "heatmap"
           }
          ],
          "histogram": [
           {
            "marker": {
             "pattern": {
              "fillmode": "overlay",
              "size": 10,
              "solidity": 0.2
             }
            },
            "type": "histogram"
           }
          ],
          "histogram2d": [
           {
            "colorbar": {
             "outlinewidth": 0,
             "ticks": ""
            },
            "colorscale": [
             [
              0,
              "#0d0887"
             ],
             [
              0.1111111111111111,
              "#46039f"
             ],
             [
              0.2222222222222222,
              "#7201a8"
             ],
             [
              0.3333333333333333,
              "#9c179e"
             ],
             [
              0.4444444444444444,
              "#bd3786"
             ],
             [
              0.5555555555555556,
              "#d8576b"
             ],
             [
              0.6666666666666666,
              "#ed7953"
             ],
             [
              0.7777777777777778,
              "#fb9f3a"
             ],
             [
              0.8888888888888888,
              "#fdca26"
             ],
             [
              1,
              "#f0f921"
             ]
            ],
            "type": "histogram2d"
           }
          ],
          "histogram2dcontour": [
           {
            "colorbar": {
             "outlinewidth": 0,
             "ticks": ""
            },
            "colorscale": [
             [
              0,
              "#0d0887"
             ],
             [
              0.1111111111111111,
              "#46039f"
             ],
             [
              0.2222222222222222,
              "#7201a8"
             ],
             [
              0.3333333333333333,
              "#9c179e"
             ],
             [
              0.4444444444444444,
              "#bd3786"
             ],
             [
              0.5555555555555556,
              "#d8576b"
             ],
             [
              0.6666666666666666,
              "#ed7953"
             ],
             [
              0.7777777777777778,
              "#fb9f3a"
             ],
             [
              0.8888888888888888,
              "#fdca26"
             ],
             [
              1,
              "#f0f921"
             ]
            ],
            "type": "histogram2dcontour"
           }
          ],
          "mesh3d": [
           {
            "colorbar": {
             "outlinewidth": 0,
             "ticks": ""
            },
            "type": "mesh3d"
           }
          ],
          "parcoords": [
           {
            "line": {
             "colorbar": {
              "outlinewidth": 0,
              "ticks": ""
             }
            },
            "type": "parcoords"
           }
          ],
          "pie": [
           {
            "automargin": true,
            "type": "pie"
           }
          ],
          "scatter": [
           {
            "fillpattern": {
             "fillmode": "overlay",
             "size": 10,
             "solidity": 0.2
            },
            "type": "scatter"
           }
          ],
          "scatter3d": [
           {
            "line": {
             "colorbar": {
              "outlinewidth": 0,
              "ticks": ""
             }
            },
            "marker": {
             "colorbar": {
              "outlinewidth": 0,
              "ticks": ""
             }
            },
            "type": "scatter3d"
           }
          ],
          "scattercarpet": [
           {
            "marker": {
             "colorbar": {
              "outlinewidth": 0,
              "ticks": ""
             }
            },
            "type": "scattercarpet"
           }
          ],
          "scattergeo": [
           {
            "marker": {
             "colorbar": {
              "outlinewidth": 0,
              "ticks": ""
             }
            },
            "type": "scattergeo"
           }
          ],
          "scattergl": [
           {
            "marker": {
             "colorbar": {
              "outlinewidth": 0,
              "ticks": ""
             }
            },
            "type": "scattergl"
           }
          ],
          "scattermap": [
           {
            "marker": {
             "colorbar": {
              "outlinewidth": 0,
              "ticks": ""
             }
            },
            "type": "scattermap"
           }
          ],
          "scattermapbox": [
           {
            "marker": {
             "colorbar": {
              "outlinewidth": 0,
              "ticks": ""
             }
            },
            "type": "scattermapbox"
           }
          ],
          "scatterpolar": [
           {
            "marker": {
             "colorbar": {
              "outlinewidth": 0,
              "ticks": ""
             }
            },
            "type": "scatterpolar"
           }
          ],
          "scatterpolargl": [
           {
            "marker": {
             "colorbar": {
              "outlinewidth": 0,
              "ticks": ""
             }
            },
            "type": "scatterpolargl"
           }
          ],
          "scatterternary": [
           {
            "marker": {
             "colorbar": {
              "outlinewidth": 0,
              "ticks": ""
             }
            },
            "type": "scatterternary"
           }
          ],
          "surface": [
           {
            "colorbar": {
             "outlinewidth": 0,
             "ticks": ""
            },
            "colorscale": [
             [
              0,
              "#0d0887"
             ],
             [
              0.1111111111111111,
              "#46039f"
             ],
             [
              0.2222222222222222,
              "#7201a8"
             ],
             [
              0.3333333333333333,
              "#9c179e"
             ],
             [
              0.4444444444444444,
              "#bd3786"
             ],
             [
              0.5555555555555556,
              "#d8576b"
             ],
             [
              0.6666666666666666,
              "#ed7953"
             ],
             [
              0.7777777777777778,
              "#fb9f3a"
             ],
             [
              0.8888888888888888,
              "#fdca26"
             ],
             [
              1,
              "#f0f921"
             ]
            ],
            "type": "surface"
           }
          ],
          "table": [
           {
            "cells": {
             "fill": {
              "color": "#EBF0F8"
             },
             "line": {
              "color": "white"
             }
            },
            "header": {
             "fill": {
              "color": "#C8D4E3"
             },
             "line": {
              "color": "white"
             }
            },
            "type": "table"
           }
          ]
         },
         "layout": {
          "annotationdefaults": {
           "arrowcolor": "#2a3f5f",
           "arrowhead": 0,
           "arrowwidth": 1
          },
          "autotypenumbers": "strict",
          "coloraxis": {
           "colorbar": {
            "outlinewidth": 0,
            "ticks": ""
           }
          },
          "colorscale": {
           "diverging": [
            [
             0,
             "#8e0152"
            ],
            [
             0.1,
             "#c51b7d"
            ],
            [
             0.2,
             "#de77ae"
            ],
            [
             0.3,
             "#f1b6da"
            ],
            [
             0.4,
             "#fde0ef"
            ],
            [
             0.5,
             "#f7f7f7"
            ],
            [
             0.6,
             "#e6f5d0"
            ],
            [
             0.7,
             "#b8e186"
            ],
            [
             0.8,
             "#7fbc41"
            ],
            [
             0.9,
             "#4d9221"
            ],
            [
             1,
             "#276419"
            ]
           ],
           "sequential": [
            [
             0,
             "#0d0887"
            ],
            [
             0.1111111111111111,
             "#46039f"
            ],
            [
             0.2222222222222222,
             "#7201a8"
            ],
            [
             0.3333333333333333,
             "#9c179e"
            ],
            [
             0.4444444444444444,
             "#bd3786"
            ],
            [
             0.5555555555555556,
             "#d8576b"
            ],
            [
             0.6666666666666666,
             "#ed7953"
            ],
            [
             0.7777777777777778,
             "#fb9f3a"
            ],
            [
             0.8888888888888888,
             "#fdca26"
            ],
            [
             1,
             "#f0f921"
            ]
           ],
           "sequentialminus": [
            [
             0,
             "#0d0887"
            ],
            [
             0.1111111111111111,
             "#46039f"
            ],
            [
             0.2222222222222222,
             "#7201a8"
            ],
            [
             0.3333333333333333,
             "#9c179e"
            ],
            [
             0.4444444444444444,
             "#bd3786"
            ],
            [
             0.5555555555555556,
             "#d8576b"
            ],
            [
             0.6666666666666666,
             "#ed7953"
            ],
            [
             0.7777777777777778,
             "#fb9f3a"
            ],
            [
             0.8888888888888888,
             "#fdca26"
            ],
            [
             1,
             "#f0f921"
            ]
           ]
          },
          "colorway": [
           "#636efa",
           "#EF553B",
           "#00cc96",
           "#ab63fa",
           "#FFA15A",
           "#19d3f3",
           "#FF6692",
           "#B6E880",
           "#FF97FF",
           "#FECB52"
          ],
          "font": {
           "color": "#2a3f5f"
          },
          "geo": {
           "bgcolor": "white",
           "lakecolor": "white",
           "landcolor": "#E5ECF6",
           "showlakes": true,
           "showland": true,
           "subunitcolor": "white"
          },
          "hoverlabel": {
           "align": "left"
          },
          "hovermode": "closest",
          "mapbox": {
           "style": "light"
          },
          "paper_bgcolor": "white",
          "plot_bgcolor": "#E5ECF6",
          "polar": {
           "angularaxis": {
            "gridcolor": "white",
            "linecolor": "white",
            "ticks": ""
           },
           "bgcolor": "#E5ECF6",
           "radialaxis": {
            "gridcolor": "white",
            "linecolor": "white",
            "ticks": ""
           }
          },
          "scene": {
           "xaxis": {
            "backgroundcolor": "#E5ECF6",
            "gridcolor": "white",
            "gridwidth": 2,
            "linecolor": "white",
            "showbackground": true,
            "ticks": "",
            "zerolinecolor": "white"
           },
           "yaxis": {
            "backgroundcolor": "#E5ECF6",
            "gridcolor": "white",
            "gridwidth": 2,
            "linecolor": "white",
            "showbackground": true,
            "ticks": "",
            "zerolinecolor": "white"
           },
           "zaxis": {
            "backgroundcolor": "#E5ECF6",
            "gridcolor": "white",
            "gridwidth": 2,
            "linecolor": "white",
            "showbackground": true,
            "ticks": "",
            "zerolinecolor": "white"
           }
          },
          "shapedefaults": {
           "line": {
            "color": "#2a3f5f"
           }
          },
          "ternary": {
           "aaxis": {
            "gridcolor": "white",
            "linecolor": "white",
            "ticks": ""
           },
           "baxis": {
            "gridcolor": "white",
            "linecolor": "white",
            "ticks": ""
           },
           "bgcolor": "#E5ECF6",
           "caxis": {
            "gridcolor": "white",
            "linecolor": "white",
            "ticks": ""
           }
          },
          "title": {
           "x": 0.05
          },
          "xaxis": {
           "automargin": true,
           "gridcolor": "white",
           "linecolor": "white",
           "ticks": "",
           "title": {
            "standoff": 15
           },
           "zerolinecolor": "white",
           "zerolinewidth": 2
          },
          "yaxis": {
           "automargin": true,
           "gridcolor": "white",
           "linecolor": "white",
           "ticks": "",
           "title": {
            "standoff": 15
           },
           "zerolinecolor": "white",
           "zerolinewidth": 2
          }
         }
        },
        "xaxis": {
         "anchor": "y",
         "domain": [
          0,
          1
         ],
         "title": {
          "text": "krav"
         }
        },
        "yaxis": {
         "anchor": "x",
         "domain": [
          0,
          1
         ],
         "title": {
          "text": "antal krav"
         }
        }
       }
      }
     },
     "metadata": {},
     "output_type": "display_data"
    }
   ],
   "source": [
    "import plotly.express as px\n",
    "# px.pie(df, names=[\"krav\", \"meriterande\"], values=[\"antal krav\", \"antal meriterande\"])\n",
    "px.bar(df, x=\"krav\", y=\"antal krav\")\n"
   ]
  },
  {
   "cell_type": "code",
   "execution_count": 202,
   "metadata": {},
   "outputs": [
    {
     "data": {
      "application/vnd.plotly.v1+json": {
       "config": {
        "plotlyServerURL": "https://plot.ly"
       },
       "data": [
        {
         "hovertemplate": "meriterande=%{x}<br>antal meriterande=%{y}<extra></extra>",
         "legendgroup": "",
         "marker": {
          "color": "#636efa",
          "pattern": {
           "shape": ""
          }
         },
         "name": "",
         "orientation": "v",
         "showlegend": false,
         "textposition": "auto",
         "type": "bar",
         "x": [
          "Tolkutbildning",
          "Auktorisation som tolk",
          "Erfarenhet inom socialt arbete",
          "Erfarenhet inom pedagogik",
          "Körkort och bil"
         ],
         "xaxis": "x",
         "y": {
          "bdata": "BgYBAQQ=",
          "dtype": "i1"
         },
         "yaxis": "y"
        }
       ],
       "layout": {
        "barmode": "relative",
        "legend": {
         "tracegroupgap": 0
        },
        "margin": {
         "t": 60
        },
        "template": {
         "data": {
          "bar": [
           {
            "error_x": {
             "color": "#2a3f5f"
            },
            "error_y": {
             "color": "#2a3f5f"
            },
            "marker": {
             "line": {
              "color": "#E5ECF6",
              "width": 0.5
             },
             "pattern": {
              "fillmode": "overlay",
              "size": 10,
              "solidity": 0.2
             }
            },
            "type": "bar"
           }
          ],
          "barpolar": [
           {
            "marker": {
             "line": {
              "color": "#E5ECF6",
              "width": 0.5
             },
             "pattern": {
              "fillmode": "overlay",
              "size": 10,
              "solidity": 0.2
             }
            },
            "type": "barpolar"
           }
          ],
          "carpet": [
           {
            "aaxis": {
             "endlinecolor": "#2a3f5f",
             "gridcolor": "white",
             "linecolor": "white",
             "minorgridcolor": "white",
             "startlinecolor": "#2a3f5f"
            },
            "baxis": {
             "endlinecolor": "#2a3f5f",
             "gridcolor": "white",
             "linecolor": "white",
             "minorgridcolor": "white",
             "startlinecolor": "#2a3f5f"
            },
            "type": "carpet"
           }
          ],
          "choropleth": [
           {
            "colorbar": {
             "outlinewidth": 0,
             "ticks": ""
            },
            "type": "choropleth"
           }
          ],
          "contour": [
           {
            "colorbar": {
             "outlinewidth": 0,
             "ticks": ""
            },
            "colorscale": [
             [
              0,
              "#0d0887"
             ],
             [
              0.1111111111111111,
              "#46039f"
             ],
             [
              0.2222222222222222,
              "#7201a8"
             ],
             [
              0.3333333333333333,
              "#9c179e"
             ],
             [
              0.4444444444444444,
              "#bd3786"
             ],
             [
              0.5555555555555556,
              "#d8576b"
             ],
             [
              0.6666666666666666,
              "#ed7953"
             ],
             [
              0.7777777777777778,
              "#fb9f3a"
             ],
             [
              0.8888888888888888,
              "#fdca26"
             ],
             [
              1,
              "#f0f921"
             ]
            ],
            "type": "contour"
           }
          ],
          "contourcarpet": [
           {
            "colorbar": {
             "outlinewidth": 0,
             "ticks": ""
            },
            "type": "contourcarpet"
           }
          ],
          "heatmap": [
           {
            "colorbar": {
             "outlinewidth": 0,
             "ticks": ""
            },
            "colorscale": [
             [
              0,
              "#0d0887"
             ],
             [
              0.1111111111111111,
              "#46039f"
             ],
             [
              0.2222222222222222,
              "#7201a8"
             ],
             [
              0.3333333333333333,
              "#9c179e"
             ],
             [
              0.4444444444444444,
              "#bd3786"
             ],
             [
              0.5555555555555556,
              "#d8576b"
             ],
             [
              0.6666666666666666,
              "#ed7953"
             ],
             [
              0.7777777777777778,
              "#fb9f3a"
             ],
             [
              0.8888888888888888,
              "#fdca26"
             ],
             [
              1,
              "#f0f921"
             ]
            ],
            "type": "heatmap"
           }
          ],
          "histogram": [
           {
            "marker": {
             "pattern": {
              "fillmode": "overlay",
              "size": 10,
              "solidity": 0.2
             }
            },
            "type": "histogram"
           }
          ],
          "histogram2d": [
           {
            "colorbar": {
             "outlinewidth": 0,
             "ticks": ""
            },
            "colorscale": [
             [
              0,
              "#0d0887"
             ],
             [
              0.1111111111111111,
              "#46039f"
             ],
             [
              0.2222222222222222,
              "#7201a8"
             ],
             [
              0.3333333333333333,
              "#9c179e"
             ],
             [
              0.4444444444444444,
              "#bd3786"
             ],
             [
              0.5555555555555556,
              "#d8576b"
             ],
             [
              0.6666666666666666,
              "#ed7953"
             ],
             [
              0.7777777777777778,
              "#fb9f3a"
             ],
             [
              0.8888888888888888,
              "#fdca26"
             ],
             [
              1,
              "#f0f921"
             ]
            ],
            "type": "histogram2d"
           }
          ],
          "histogram2dcontour": [
           {
            "colorbar": {
             "outlinewidth": 0,
             "ticks": ""
            },
            "colorscale": [
             [
              0,
              "#0d0887"
             ],
             [
              0.1111111111111111,
              "#46039f"
             ],
             [
              0.2222222222222222,
              "#7201a8"
             ],
             [
              0.3333333333333333,
              "#9c179e"
             ],
             [
              0.4444444444444444,
              "#bd3786"
             ],
             [
              0.5555555555555556,
              "#d8576b"
             ],
             [
              0.6666666666666666,
              "#ed7953"
             ],
             [
              0.7777777777777778,
              "#fb9f3a"
             ],
             [
              0.8888888888888888,
              "#fdca26"
             ],
             [
              1,
              "#f0f921"
             ]
            ],
            "type": "histogram2dcontour"
           }
          ],
          "mesh3d": [
           {
            "colorbar": {
             "outlinewidth": 0,
             "ticks": ""
            },
            "type": "mesh3d"
           }
          ],
          "parcoords": [
           {
            "line": {
             "colorbar": {
              "outlinewidth": 0,
              "ticks": ""
             }
            },
            "type": "parcoords"
           }
          ],
          "pie": [
           {
            "automargin": true,
            "type": "pie"
           }
          ],
          "scatter": [
           {
            "fillpattern": {
             "fillmode": "overlay",
             "size": 10,
             "solidity": 0.2
            },
            "type": "scatter"
           }
          ],
          "scatter3d": [
           {
            "line": {
             "colorbar": {
              "outlinewidth": 0,
              "ticks": ""
             }
            },
            "marker": {
             "colorbar": {
              "outlinewidth": 0,
              "ticks": ""
             }
            },
            "type": "scatter3d"
           }
          ],
          "scattercarpet": [
           {
            "marker": {
             "colorbar": {
              "outlinewidth": 0,
              "ticks": ""
             }
            },
            "type": "scattercarpet"
           }
          ],
          "scattergeo": [
           {
            "marker": {
             "colorbar": {
              "outlinewidth": 0,
              "ticks": ""
             }
            },
            "type": "scattergeo"
           }
          ],
          "scattergl": [
           {
            "marker": {
             "colorbar": {
              "outlinewidth": 0,
              "ticks": ""
             }
            },
            "type": "scattergl"
           }
          ],
          "scattermap": [
           {
            "marker": {
             "colorbar": {
              "outlinewidth": 0,
              "ticks": ""
             }
            },
            "type": "scattermap"
           }
          ],
          "scattermapbox": [
           {
            "marker": {
             "colorbar": {
              "outlinewidth": 0,
              "ticks": ""
             }
            },
            "type": "scattermapbox"
           }
          ],
          "scatterpolar": [
           {
            "marker": {
             "colorbar": {
              "outlinewidth": 0,
              "ticks": ""
             }
            },
            "type": "scatterpolar"
           }
          ],
          "scatterpolargl": [
           {
            "marker": {
             "colorbar": {
              "outlinewidth": 0,
              "ticks": ""
             }
            },
            "type": "scatterpolargl"
           }
          ],
          "scatterternary": [
           {
            "marker": {
             "colorbar": {
              "outlinewidth": 0,
              "ticks": ""
             }
            },
            "type": "scatterternary"
           }
          ],
          "surface": [
           {
            "colorbar": {
             "outlinewidth": 0,
             "ticks": ""
            },
            "colorscale": [
             [
              0,
              "#0d0887"
             ],
             [
              0.1111111111111111,
              "#46039f"
             ],
             [
              0.2222222222222222,
              "#7201a8"
             ],
             [
              0.3333333333333333,
              "#9c179e"
             ],
             [
              0.4444444444444444,
              "#bd3786"
             ],
             [
              0.5555555555555556,
              "#d8576b"
             ],
             [
              0.6666666666666666,
              "#ed7953"
             ],
             [
              0.7777777777777778,
              "#fb9f3a"
             ],
             [
              0.8888888888888888,
              "#fdca26"
             ],
             [
              1,
              "#f0f921"
             ]
            ],
            "type": "surface"
           }
          ],
          "table": [
           {
            "cells": {
             "fill": {
              "color": "#EBF0F8"
             },
             "line": {
              "color": "white"
             }
            },
            "header": {
             "fill": {
              "color": "#C8D4E3"
             },
             "line": {
              "color": "white"
             }
            },
            "type": "table"
           }
          ]
         },
         "layout": {
          "annotationdefaults": {
           "arrowcolor": "#2a3f5f",
           "arrowhead": 0,
           "arrowwidth": 1
          },
          "autotypenumbers": "strict",
          "coloraxis": {
           "colorbar": {
            "outlinewidth": 0,
            "ticks": ""
           }
          },
          "colorscale": {
           "diverging": [
            [
             0,
             "#8e0152"
            ],
            [
             0.1,
             "#c51b7d"
            ],
            [
             0.2,
             "#de77ae"
            ],
            [
             0.3,
             "#f1b6da"
            ],
            [
             0.4,
             "#fde0ef"
            ],
            [
             0.5,
             "#f7f7f7"
            ],
            [
             0.6,
             "#e6f5d0"
            ],
            [
             0.7,
             "#b8e186"
            ],
            [
             0.8,
             "#7fbc41"
            ],
            [
             0.9,
             "#4d9221"
            ],
            [
             1,
             "#276419"
            ]
           ],
           "sequential": [
            [
             0,
             "#0d0887"
            ],
            [
             0.1111111111111111,
             "#46039f"
            ],
            [
             0.2222222222222222,
             "#7201a8"
            ],
            [
             0.3333333333333333,
             "#9c179e"
            ],
            [
             0.4444444444444444,
             "#bd3786"
            ],
            [
             0.5555555555555556,
             "#d8576b"
            ],
            [
             0.6666666666666666,
             "#ed7953"
            ],
            [
             0.7777777777777778,
             "#fb9f3a"
            ],
            [
             0.8888888888888888,
             "#fdca26"
            ],
            [
             1,
             "#f0f921"
            ]
           ],
           "sequentialminus": [
            [
             0,
             "#0d0887"
            ],
            [
             0.1111111111111111,
             "#46039f"
            ],
            [
             0.2222222222222222,
             "#7201a8"
            ],
            [
             0.3333333333333333,
             "#9c179e"
            ],
            [
             0.4444444444444444,
             "#bd3786"
            ],
            [
             0.5555555555555556,
             "#d8576b"
            ],
            [
             0.6666666666666666,
             "#ed7953"
            ],
            [
             0.7777777777777778,
             "#fb9f3a"
            ],
            [
             0.8888888888888888,
             "#fdca26"
            ],
            [
             1,
             "#f0f921"
            ]
           ]
          },
          "colorway": [
           "#636efa",
           "#EF553B",
           "#00cc96",
           "#ab63fa",
           "#FFA15A",
           "#19d3f3",
           "#FF6692",
           "#B6E880",
           "#FF97FF",
           "#FECB52"
          ],
          "font": {
           "color": "#2a3f5f"
          },
          "geo": {
           "bgcolor": "white",
           "lakecolor": "white",
           "landcolor": "#E5ECF6",
           "showlakes": true,
           "showland": true,
           "subunitcolor": "white"
          },
          "hoverlabel": {
           "align": "left"
          },
          "hovermode": "closest",
          "mapbox": {
           "style": "light"
          },
          "paper_bgcolor": "white",
          "plot_bgcolor": "#E5ECF6",
          "polar": {
           "angularaxis": {
            "gridcolor": "white",
            "linecolor": "white",
            "ticks": ""
           },
           "bgcolor": "#E5ECF6",
           "radialaxis": {
            "gridcolor": "white",
            "linecolor": "white",
            "ticks": ""
           }
          },
          "scene": {
           "xaxis": {
            "backgroundcolor": "#E5ECF6",
            "gridcolor": "white",
            "gridwidth": 2,
            "linecolor": "white",
            "showbackground": true,
            "ticks": "",
            "zerolinecolor": "white"
           },
           "yaxis": {
            "backgroundcolor": "#E5ECF6",
            "gridcolor": "white",
            "gridwidth": 2,
            "linecolor": "white",
            "showbackground": true,
            "ticks": "",
            "zerolinecolor": "white"
           },
           "zaxis": {
            "backgroundcolor": "#E5ECF6",
            "gridcolor": "white",
            "gridwidth": 2,
            "linecolor": "white",
            "showbackground": true,
            "ticks": "",
            "zerolinecolor": "white"
           }
          },
          "shapedefaults": {
           "line": {
            "color": "#2a3f5f"
           }
          },
          "ternary": {
           "aaxis": {
            "gridcolor": "white",
            "linecolor": "white",
            "ticks": ""
           },
           "baxis": {
            "gridcolor": "white",
            "linecolor": "white",
            "ticks": ""
           },
           "bgcolor": "#E5ECF6",
           "caxis": {
            "gridcolor": "white",
            "linecolor": "white",
            "ticks": ""
           }
          },
          "title": {
           "x": 0.05
          },
          "xaxis": {
           "automargin": true,
           "gridcolor": "white",
           "linecolor": "white",
           "ticks": "",
           "title": {
            "standoff": 15
           },
           "zerolinecolor": "white",
           "zerolinewidth": 2
          },
          "yaxis": {
           "automargin": true,
           "gridcolor": "white",
           "linecolor": "white",
           "ticks": "",
           "title": {
            "standoff": 15
           },
           "zerolinecolor": "white",
           "zerolinewidth": 2
          }
         }
        },
        "xaxis": {
         "anchor": "y",
         "domain": [
          0,
          1
         ],
         "title": {
          "text": "meriterande"
         }
        },
        "yaxis": {
         "anchor": "x",
         "domain": [
          0,
          1
         ],
         "title": {
          "text": "antal meriterande"
         }
        }
       }
      }
     },
     "metadata": {},
     "output_type": "display_data"
    }
   ],
   "source": [
    "px.bar(df, y=\"antal meriterande\", x=\"meriterande\")"
   ]
  },
  {
   "cell_type": "code",
   "execution_count": null,
   "id": "90690423",
   "metadata": {},
   "outputs": [],
   "source": []
  }
 ],
 "metadata": {
  "kernelspec": {
   "display_name": ".venv",
   "language": "python",
   "name": "python3"
  },
  "language_info": {
   "codemirror_mode": {
    "name": "ipython",
    "version": 3
   },
   "file_extension": ".py",
   "mimetype": "text/x-python",
   "name": "python",
   "nbconvert_exporter": "python",
   "pygments_lexer": "ipython3",
   "version": "3.12.8"
  }
 },
 "nbformat": 4,
 "nbformat_minor": 5
}

{
 "cells": [
  {
   "cell_type": "code",
   "execution_count": 1,
   "id": "1c50e3b3",
   "metadata": {},
   "outputs": [],
   "source": [
    "from google import genai\n",
    "import os\n",
    "from dotenv import load_dotenv\n",
    "import duckdb\n",
    "load_dotenv()\n",
    "client = genai.Client(api_key=os.getenv(\"GEMINI_API_KEY\"))\n",
    "\n",
    "# response = client.models.generate_content(\n",
    "#     model=\"gemini-2.0-flash\", contents=\"Ge mig en historia om en kanin som bor i skogen på 3 meningar\"\n",
    "# )\n",
    "# print(response.text)\n",
    "\n"
   ]
  },
  {
   "cell_type": "code",
   "execution_count": 2,
   "id": "07a47707",
   "metadata": {},
   "outputs": [],
   "source": [
    "with duckdb.connect(\"../../ads_data.duckdb\") as con: \n",
    "    df_mart = con.execute(\"SELECT * FROM mart.mart_kultur_media\").df()\n",
    "df_test = df_mart #[df_mart[\"occupation_field\"] == \"Kultur, media, design\"]\n",
    "# df_test.to_csv(\"sample_ads.csv\") # måste göra mer finjusteringar! kan inte läsa allas description direkt!\n"
   ]
  },
  {
   "cell_type": "code",
   "execution_count": 4,
   "id": "c4aee259",
   "metadata": {},
   "outputs": [
    {
     "data": {
      "text/html": [
       "<div>\n",
       "<style scoped>\n",
       "    .dataframe tbody tr th:only-of-type {\n",
       "        vertical-align: middle;\n",
       "    }\n",
       "\n",
       "    .dataframe tbody tr th {\n",
       "        vertical-align: top;\n",
       "    }\n",
       "\n",
       "    .dataframe thead th {\n",
       "        text-align: right;\n",
       "    }\n",
       "</style>\n",
       "<table border=\"1\" class=\"dataframe\">\n",
       "  <thead>\n",
       "    <tr style=\"text-align: right;\">\n",
       "      <th></th>\n",
       "      <th>employer_name</th>\n",
       "      <th>vacancies</th>\n",
       "      <th>description</th>\n",
       "    </tr>\n",
       "  </thead>\n",
       "  <tbody>\n",
       "    <tr>\n",
       "      <th>0</th>\n",
       "      <td>Vs Consulting AB</td>\n",
       "      <td>500</td>\n",
       "      <td>Vi är en modern tolkförmedling som bokar och f...</td>\n",
       "    </tr>\n",
       "    <tr>\n",
       "      <th>1</th>\n",
       "      <td>Exakta Photo AB</td>\n",
       "      <td>100</td>\n",
       "      <td>Exakta Photo är en av Sveriges största skolfot...</td>\n",
       "    </tr>\n",
       "    <tr>\n",
       "      <th>2</th>\n",
       "      <td>Stegra Boden AB</td>\n",
       "      <td>74</td>\n",
       "      <td>Research shows that women and other under-repr...</td>\n",
       "    </tr>\n",
       "    <tr>\n",
       "      <th>3</th>\n",
       "      <td>Språkservice Sverige AB</td>\n",
       "      <td>64</td>\n",
       "      <td>Språkservice Sverige AB är Sveriges största to...</td>\n",
       "    </tr>\n",
       "    <tr>\n",
       "      <th>4</th>\n",
       "      <td>H &amp; M Hennes &amp; Mauritz Gbc AB</td>\n",
       "      <td>48</td>\n",
       "      <td>WHAT YOU’LL DO​ \\nAs a Global visual &amp; commerc...</td>\n",
       "    </tr>\n",
       "    <tr>\n",
       "      <th>...</th>\n",
       "      <td>...</td>\n",
       "      <td>...</td>\n",
       "      <td>...</td>\n",
       "    </tr>\n",
       "    <tr>\n",
       "      <th>229</th>\n",
       "      <td>Zinzino Operations AB</td>\n",
       "      <td>1</td>\n",
       "      <td>Zinzino is a global direct sales company from ...</td>\n",
       "    </tr>\n",
       "    <tr>\n",
       "      <th>230</th>\n",
       "      <td>ÖSTRA GÖINGE KOMMUN</td>\n",
       "      <td>1</td>\n",
       "      <td>Östra Göinge kommun med drygt 14 000 invånare ...</td>\n",
       "    </tr>\n",
       "    <tr>\n",
       "      <th>231</th>\n",
       "      <td>Örebro Universitet</td>\n",
       "      <td>1</td>\n",
       "      <td>Örebro universitet skapar framtiden genom inte...</td>\n",
       "    </tr>\n",
       "    <tr>\n",
       "      <th>232</th>\n",
       "      <td>Öregrund Marine Service AB</td>\n",
       "      <td>1</td>\n",
       "      <td>Har du erfarenhet inom eftermarknad och/eller ...</td>\n",
       "    </tr>\n",
       "    <tr>\n",
       "      <th>233</th>\n",
       "      <td>Överkalix församling</td>\n",
       "      <td>1</td>\n",
       "      <td>2-årig projektanställning\\nMusiker med fokus p...</td>\n",
       "    </tr>\n",
       "  </tbody>\n",
       "</table>\n",
       "<p>234 rows × 3 columns</p>\n",
       "</div>"
      ],
      "text/plain": [
       "                     employer_name  vacancies  \\\n",
       "0                 Vs Consulting AB        500   \n",
       "1                  Exakta Photo AB        100   \n",
       "2                  Stegra Boden AB         74   \n",
       "3          Språkservice Sverige AB         64   \n",
       "4    H & M Hennes & Mauritz Gbc AB         48   \n",
       "..                             ...        ...   \n",
       "229          Zinzino Operations AB          1   \n",
       "230            ÖSTRA GÖINGE KOMMUN          1   \n",
       "231             Örebro Universitet          1   \n",
       "232     Öregrund Marine Service AB          1   \n",
       "233           Överkalix församling          1   \n",
       "\n",
       "                                           description  \n",
       "0    Vi är en modern tolkförmedling som bokar och f...  \n",
       "1    Exakta Photo är en av Sveriges största skolfot...  \n",
       "2    Research shows that women and other under-repr...  \n",
       "3    Språkservice Sverige AB är Sveriges största to...  \n",
       "4    WHAT YOU’LL DO​ \\nAs a Global visual & commerc...  \n",
       "..                                                 ...  \n",
       "229  Zinzino is a global direct sales company from ...  \n",
       "230  Östra Göinge kommun med drygt 14 000 invånare ...  \n",
       "231  Örebro universitet skapar framtiden genom inte...  \n",
       "232  Har du erfarenhet inom eftermarknad och/eller ...  \n",
       "233  2-årig projektanställning\\nMusiker med fokus p...  \n",
       "\n",
       "[234 rows x 3 columns]"
      ]
     },
     "execution_count": 4,
     "metadata": {},
     "output_type": "execute_result"
    }
   ],
   "source": [
    "descriptions = df_test[\"description\"]\n",
    "\n",
    "top_employer = df_test.groupby(\"employer_name\")[[\"vacancies\", \"description\"]].sum().sort_values(by=\"vacancies\", ascending=False).reset_index()\n",
    "top_employer\n",
    "# df_test"
   ]
  },
  {
   "cell_type": "code",
   "execution_count": 116,
   "id": "7440a638",
   "metadata": {},
   "outputs": [],
   "source": [
    "nr_1 = top_employer[top_employer[\"employer_name\"] == 'Exakta Photo AB']\n",
    "nr_1[\"description\"].to_csv(\"top_employer.csv\")\n",
    "# nr_1[\"description\"]"
   ]
  },
  {
   "cell_type": "code",
   "execution_count": 6,
   "id": "a6f7887c",
   "metadata": {},
   "outputs": [
    {
     "data": {
      "text/html": [
       "<div>\n",
       "<style scoped>\n",
       "    .dataframe tbody tr th:only-of-type {\n",
       "        vertical-align: middle;\n",
       "    }\n",
       "\n",
       "    .dataframe tbody tr th {\n",
       "        vertical-align: top;\n",
       "    }\n",
       "\n",
       "    .dataframe thead th {\n",
       "        text-align: right;\n",
       "    }\n",
       "</style>\n",
       "<table border=\"1\" class=\"dataframe\">\n",
       "  <thead>\n",
       "    <tr style=\"text-align: right;\">\n",
       "      <th></th>\n",
       "      <th>index</th>\n",
       "      <th>headline</th>\n",
       "      <th>occupation</th>\n",
       "      <th>occupation_group</th>\n",
       "      <th>occupation_field</th>\n",
       "      <th>description</th>\n",
       "      <th>duration</th>\n",
       "      <th>working_hours_type</th>\n",
       "      <th>scope_of_work_min</th>\n",
       "      <th>scope_of_work_max</th>\n",
       "      <th>vacancies</th>\n",
       "      <th>employer_name</th>\n",
       "      <th>workplace_region</th>\n",
       "      <th>workplace_city</th>\n",
       "      <th>experience_required</th>\n",
       "      <th>driving_license</th>\n",
       "      <th>access_to_own_car</th>\n",
       "      <th>must_have_languages</th>\n",
       "    </tr>\n",
       "  </thead>\n",
       "  <tbody>\n",
       "    <tr>\n",
       "      <th>0</th>\n",
       "      <td>0</td>\n",
       "      <td>AV-tekniker till Mediainstallation Sverige AB</td>\n",
       "      <td>AV-tekniker</td>\n",
       "      <td>Ljus-, ljud- och scentekniker</td>\n",
       "      <td>Kultur, media, design</td>\n",
       "      <td>AV-tekniker till Mediainstallation AB \\nVi väx...</td>\n",
       "      <td>Tills vidare</td>\n",
       "      <td>Heltid</td>\n",
       "      <td>100</td>\n",
       "      <td>100</td>\n",
       "      <td>1</td>\n",
       "      <td>Mediainstallation i Sverige AB</td>\n",
       "      <td>Stockholms län</td>\n",
       "      <td>Täby</td>\n",
       "      <td>True</td>\n",
       "      <td>True</td>\n",
       "      <td>False</td>\n",
       "      <td>ej specifierat</td>\n",
       "    </tr>\n",
       "    <tr>\n",
       "      <th>1</th>\n",
       "      <td>1</td>\n",
       "      <td>Logistikkoordinator på heltid</td>\n",
       "      <td>Produktionsassistent: kultur, media, film, dat...</td>\n",
       "      <td>Inspicienter och scriptor m.fl.</td>\n",
       "      <td>Kultur, media, design</td>\n",
       "      <td>Vi söker dig som vill bli spindeln i nätet på ...</td>\n",
       "      <td>6 månader eller längre</td>\n",
       "      <td>Heltid</td>\n",
       "      <td>100</td>\n",
       "      <td>100</td>\n",
       "      <td>1</td>\n",
       "      <td>Academic Work Sweden AB</td>\n",
       "      <td>Stockholms län</td>\n",
       "      <td>Stockholm</td>\n",
       "      <td>True</td>\n",
       "      <td>False</td>\n",
       "      <td>False</td>\n",
       "      <td>ej specifierat</td>\n",
       "    </tr>\n",
       "    <tr>\n",
       "      <th>2</th>\n",
       "      <td>2</td>\n",
       "      <td>Grafiker | Lernia | Norrköping</td>\n",
       "      <td>Grafisk formgivare</td>\n",
       "      <td>Grafiska formgivare m.fl.</td>\n",
       "      <td>Kultur, media, design</td>\n",
       "      <td>Är du en kreativ grafiker med erfarenhet av In...</td>\n",
       "      <td>11 dagar - upp till 3 månader</td>\n",
       "      <td>Deltid</td>\n",
       "      <td>0</td>\n",
       "      <td>100</td>\n",
       "      <td>1</td>\n",
       "      <td>Lernia Bemanning AB</td>\n",
       "      <td>Östergötlands län</td>\n",
       "      <td>Norrköping</td>\n",
       "      <td>True</td>\n",
       "      <td>False</td>\n",
       "      <td>False</td>\n",
       "      <td>ej specifierat</td>\n",
       "    </tr>\n",
       "    <tr>\n",
       "      <th>3</th>\n",
       "      <td>3</td>\n",
       "      <td>Global Field Operation Manager</td>\n",
       "      <td>Technical Operation Manager/TOM</td>\n",
       "      <td>Bild- och sändningstekniker</td>\n",
       "      <td>Kultur, media, design</td>\n",
       "      <td>The Opportunity:\\nWith a pioneering technology...</td>\n",
       "      <td>Tills vidare</td>\n",
       "      <td>Heltid</td>\n",
       "      <td>100</td>\n",
       "      <td>100</td>\n",
       "      <td>1</td>\n",
       "      <td>Hitachi Energy Sweden AB</td>\n",
       "      <td>Västmanlands län</td>\n",
       "      <td>Västerås</td>\n",
       "      <td>True</td>\n",
       "      <td>False</td>\n",
       "      <td>False</td>\n",
       "      <td>ej specifierat</td>\n",
       "    </tr>\n",
       "    <tr>\n",
       "      <th>4</th>\n",
       "      <td>4</td>\n",
       "      <td>Tekniska museet söker en Föremålsantikvarie</td>\n",
       "      <td>Antikvarie</td>\n",
       "      <td>Museiintendenter m.fl.</td>\n",
       "      <td>Kultur, media, design</td>\n",
       "      <td>Tekniska museet söker en föremålsantikvarie ti...</td>\n",
       "      <td>Tills vidare</td>\n",
       "      <td>Heltid</td>\n",
       "      <td>100</td>\n",
       "      <td>100</td>\n",
       "      <td>1</td>\n",
       "      <td>Stiftelsen Tekniska Museet</td>\n",
       "      <td>Stockholms län</td>\n",
       "      <td>Stockholm</td>\n",
       "      <td>True</td>\n",
       "      <td>True</td>\n",
       "      <td>False</td>\n",
       "      <td>ej specifierat</td>\n",
       "    </tr>\n",
       "    <tr>\n",
       "      <th>...</th>\n",
       "      <td>...</td>\n",
       "      <td>...</td>\n",
       "      <td>...</td>\n",
       "      <td>...</td>\n",
       "      <td>...</td>\n",
       "      <td>...</td>\n",
       "      <td>...</td>\n",
       "      <td>...</td>\n",
       "      <td>...</td>\n",
       "      <td>...</td>\n",
       "      <td>...</td>\n",
       "      <td>...</td>\n",
       "      <td>...</td>\n",
       "      <td>...</td>\n",
       "      <td>...</td>\n",
       "      <td>...</td>\n",
       "      <td>...</td>\n",
       "      <td>...</td>\n",
       "    </tr>\n",
       "    <tr>\n",
       "      <th>680</th>\n",
       "      <td>680</td>\n",
       "      <td>Tolk i Singalesiska</td>\n",
       "      <td>Tolk</td>\n",
       "      <td>Översättare, tolkar och lingvister m.fl.</td>\n",
       "      <td>Kultur, media, design</td>\n",
       "      <td>Talar du flytande Singalesiska och svenska? Sö...</td>\n",
       "      <td>Tills vidare</td>\n",
       "      <td>Heltid</td>\n",
       "      <td>100</td>\n",
       "      <td>100</td>\n",
       "      <td>1</td>\n",
       "      <td>Språkservice Sverige AB</td>\n",
       "      <td>ej angiven</td>\n",
       "      <td>ej angiven</td>\n",
       "      <td>False</td>\n",
       "      <td>False</td>\n",
       "      <td>False</td>\n",
       "      <td>ej specifierat</td>\n",
       "    </tr>\n",
       "    <tr>\n",
       "      <th>681</th>\n",
       "      <td>681</td>\n",
       "      <td>Tolk i Singalesiska</td>\n",
       "      <td>Tolk</td>\n",
       "      <td>Översättare, tolkar och lingvister m.fl.</td>\n",
       "      <td>Kultur, media, design</td>\n",
       "      <td>Talar du flytande Singalesiska och svenska? Sö...</td>\n",
       "      <td>Tills vidare</td>\n",
       "      <td>Heltid</td>\n",
       "      <td>100</td>\n",
       "      <td>100</td>\n",
       "      <td>1</td>\n",
       "      <td>Språkservice Sverige AB</td>\n",
       "      <td>ej angiven</td>\n",
       "      <td>ej angiven</td>\n",
       "      <td>False</td>\n",
       "      <td>False</td>\n",
       "      <td>False</td>\n",
       "      <td>ej specifierat</td>\n",
       "    </tr>\n",
       "    <tr>\n",
       "      <th>682</th>\n",
       "      <td>682</td>\n",
       "      <td>Tolk i Singalesiska</td>\n",
       "      <td>Tolk</td>\n",
       "      <td>Översättare, tolkar och lingvister m.fl.</td>\n",
       "      <td>Kultur, media, design</td>\n",
       "      <td>Talar du flytande Singalesiska och svenska? Sö...</td>\n",
       "      <td>Tills vidare</td>\n",
       "      <td>Heltid</td>\n",
       "      <td>100</td>\n",
       "      <td>100</td>\n",
       "      <td>1</td>\n",
       "      <td>Språkservice Sverige AB</td>\n",
       "      <td>ej angiven</td>\n",
       "      <td>ej angiven</td>\n",
       "      <td>False</td>\n",
       "      <td>False</td>\n",
       "      <td>False</td>\n",
       "      <td>ej specifierat</td>\n",
       "    </tr>\n",
       "    <tr>\n",
       "      <th>683</th>\n",
       "      <td>683</td>\n",
       "      <td>Tolk i Singalesiska</td>\n",
       "      <td>Tolk</td>\n",
       "      <td>Översättare, tolkar och lingvister m.fl.</td>\n",
       "      <td>Kultur, media, design</td>\n",
       "      <td>Talar du flytande Singalesiska och svenska? Sö...</td>\n",
       "      <td>Tills vidare</td>\n",
       "      <td>Heltid</td>\n",
       "      <td>100</td>\n",
       "      <td>100</td>\n",
       "      <td>1</td>\n",
       "      <td>Språkservice Sverige AB</td>\n",
       "      <td>ej angiven</td>\n",
       "      <td>ej angiven</td>\n",
       "      <td>False</td>\n",
       "      <td>False</td>\n",
       "      <td>False</td>\n",
       "      <td>ej specifierat</td>\n",
       "    </tr>\n",
       "    <tr>\n",
       "      <th>684</th>\n",
       "      <td>684</td>\n",
       "      <td>Tolk i Singalesiska</td>\n",
       "      <td>Tolk</td>\n",
       "      <td>Översättare, tolkar och lingvister m.fl.</td>\n",
       "      <td>Kultur, media, design</td>\n",
       "      <td>Talar du flytande Singalesiska och svenska? Sö...</td>\n",
       "      <td>Tills vidare</td>\n",
       "      <td>Heltid</td>\n",
       "      <td>100</td>\n",
       "      <td>100</td>\n",
       "      <td>1</td>\n",
       "      <td>Språkservice Sverige AB</td>\n",
       "      <td>ej angiven</td>\n",
       "      <td>ej angiven</td>\n",
       "      <td>False</td>\n",
       "      <td>False</td>\n",
       "      <td>False</td>\n",
       "      <td>ej specifierat</td>\n",
       "    </tr>\n",
       "  </tbody>\n",
       "</table>\n",
       "<p>685 rows × 18 columns</p>\n",
       "</div>"
      ],
      "text/plain": [
       "     index                                       headline  \\\n",
       "0        0  AV-tekniker till Mediainstallation Sverige AB   \n",
       "1        1                  Logistikkoordinator på heltid   \n",
       "2        2                 Grafiker | Lernia | Norrköping   \n",
       "3        3                 Global Field Operation Manager   \n",
       "4        4    Tekniska museet söker en Föremålsantikvarie   \n",
       "..     ...                                            ...   \n",
       "680    680                            Tolk i Singalesiska   \n",
       "681    681                            Tolk i Singalesiska   \n",
       "682    682                            Tolk i Singalesiska   \n",
       "683    683                            Tolk i Singalesiska   \n",
       "684    684                            Tolk i Singalesiska   \n",
       "\n",
       "                                            occupation  \\\n",
       "0                                          AV-tekniker   \n",
       "1    Produktionsassistent: kultur, media, film, dat...   \n",
       "2                                   Grafisk formgivare   \n",
       "3                      Technical Operation Manager/TOM   \n",
       "4                                           Antikvarie   \n",
       "..                                                 ...   \n",
       "680                                               Tolk   \n",
       "681                                               Tolk   \n",
       "682                                               Tolk   \n",
       "683                                               Tolk   \n",
       "684                                               Tolk   \n",
       "\n",
       "                             occupation_group       occupation_field  \\\n",
       "0               Ljus-, ljud- och scentekniker  Kultur, media, design   \n",
       "1             Inspicienter och scriptor m.fl.  Kultur, media, design   \n",
       "2                   Grafiska formgivare m.fl.  Kultur, media, design   \n",
       "3                 Bild- och sändningstekniker  Kultur, media, design   \n",
       "4                      Museiintendenter m.fl.  Kultur, media, design   \n",
       "..                                        ...                    ...   \n",
       "680  Översättare, tolkar och lingvister m.fl.  Kultur, media, design   \n",
       "681  Översättare, tolkar och lingvister m.fl.  Kultur, media, design   \n",
       "682  Översättare, tolkar och lingvister m.fl.  Kultur, media, design   \n",
       "683  Översättare, tolkar och lingvister m.fl.  Kultur, media, design   \n",
       "684  Översättare, tolkar och lingvister m.fl.  Kultur, media, design   \n",
       "\n",
       "                                           description  \\\n",
       "0    AV-tekniker till Mediainstallation AB \\nVi väx...   \n",
       "1    Vi söker dig som vill bli spindeln i nätet på ...   \n",
       "2    Är du en kreativ grafiker med erfarenhet av In...   \n",
       "3    The Opportunity:\\nWith a pioneering technology...   \n",
       "4    Tekniska museet söker en föremålsantikvarie ti...   \n",
       "..                                                 ...   \n",
       "680  Talar du flytande Singalesiska och svenska? Sö...   \n",
       "681  Talar du flytande Singalesiska och svenska? Sö...   \n",
       "682  Talar du flytande Singalesiska och svenska? Sö...   \n",
       "683  Talar du flytande Singalesiska och svenska? Sö...   \n",
       "684  Talar du flytande Singalesiska och svenska? Sö...   \n",
       "\n",
       "                          duration working_hours_type  scope_of_work_min  \\\n",
       "0                     Tills vidare             Heltid                100   \n",
       "1           6 månader eller längre             Heltid                100   \n",
       "2    11 dagar - upp till 3 månader             Deltid                  0   \n",
       "3                     Tills vidare             Heltid                100   \n",
       "4                     Tills vidare             Heltid                100   \n",
       "..                             ...                ...                ...   \n",
       "680                   Tills vidare             Heltid                100   \n",
       "681                   Tills vidare             Heltid                100   \n",
       "682                   Tills vidare             Heltid                100   \n",
       "683                   Tills vidare             Heltid                100   \n",
       "684                   Tills vidare             Heltid                100   \n",
       "\n",
       "     scope_of_work_max  vacancies                   employer_name  \\\n",
       "0                  100          1  Mediainstallation i Sverige AB   \n",
       "1                  100          1         Academic Work Sweden AB   \n",
       "2                  100          1             Lernia Bemanning AB   \n",
       "3                  100          1        Hitachi Energy Sweden AB   \n",
       "4                  100          1      Stiftelsen Tekniska Museet   \n",
       "..                 ...        ...                             ...   \n",
       "680                100          1         Språkservice Sverige AB   \n",
       "681                100          1         Språkservice Sverige AB   \n",
       "682                100          1         Språkservice Sverige AB   \n",
       "683                100          1         Språkservice Sverige AB   \n",
       "684                100          1         Språkservice Sverige AB   \n",
       "\n",
       "      workplace_region workplace_city  experience_required  driving_license  \\\n",
       "0       Stockholms län           Täby                 True             True   \n",
       "1       Stockholms län      Stockholm                 True            False   \n",
       "2    Östergötlands län     Norrköping                 True            False   \n",
       "3     Västmanlands län       Västerås                 True            False   \n",
       "4       Stockholms län      Stockholm                 True             True   \n",
       "..                 ...            ...                  ...              ...   \n",
       "680         ej angiven     ej angiven                False            False   \n",
       "681         ej angiven     ej angiven                False            False   \n",
       "682         ej angiven     ej angiven                False            False   \n",
       "683         ej angiven     ej angiven                False            False   \n",
       "684         ej angiven     ej angiven                False            False   \n",
       "\n",
       "     access_to_own_car must_have_languages  \n",
       "0                False      ej specifierat  \n",
       "1                False      ej specifierat  \n",
       "2                False      ej specifierat  \n",
       "3                False      ej specifierat  \n",
       "4                False      ej specifierat  \n",
       "..                 ...                 ...  \n",
       "680              False      ej specifierat  \n",
       "681              False      ej specifierat  \n",
       "682              False      ej specifierat  \n",
       "683              False      ej specifierat  \n",
       "684              False      ej specifierat  \n",
       "\n",
       "[685 rows x 18 columns]"
      ]
     },
     "execution_count": 6,
     "metadata": {},
     "output_type": "execute_result"
    }
   ],
   "source": [
    "df_test.reset_index()"
   ]
  },
  {
   "cell_type": "code",
   "execution_count": 117,
   "id": "8bfea84b",
   "metadata": {},
   "outputs": [],
   "source": [
    "with open(\"top_employer.csv\", \"r\", encoding='utf-8') as file: \n",
    "    ad_text = file.read() \n",
    "# ad_text = nr_1[\"description\"]\n",
    "\n",
    "promt = f\"\"\"Du är en rekryterare inom data Media, Kultur, Design.\n",
    "Plocka ut 5 av de vanligaste kraven de 5 vanligaste meriterade och antal av dessa som efterfrågas i dessa jobbannonser:\n",
    "{ad_text}\n",
    "Output ska vara i detta formatet enbart, utan kommentarer från dig: \n",
    "\n",
    "{{\n",
    "    \"krav\": [erfarenhet1, erfarenhet2, ...]\n",
    "    \"antal krav\": [summa erfarenhet1..]\n",
    "    \"meriterande\": [meriterande1,meriterande2, ... ]\n",
    "    \"antal meriterande\": [summa meriterande1..]\n",
    "    \n",
    "}}\n",
    "\n",
    "\"\"\""
   ]
  },
  {
   "cell_type": "code",
   "execution_count": 118,
   "metadata": {},
   "outputs": [
    {
     "name": "stdout",
     "output_type": "stream",
     "text": [
      "```json\n",
      "{\n",
      "    \"krav\": [\"Fotointresse\", \"Körkort och tillgång till bil\", \"God datorvana\", \"Utåtriktad och positiv\", \"Stresstålig och välorganiserad\"],\n",
      "    \"antal krav\": [20, 14, 14, 7, 4],\n",
      "    \"meriterande\": [\"Erfarenhet av barn- och ungdomsverksamhet\", \"Tidigare branscherfarenhet inom foto/skolfoto\", \"Vana av Adobes program\", \"Etablerad fotograf\", \"Social förmåga och estetisk blick\"],\n",
      "    \"antal meriterande\": [8, 7, 4, 3, 2]\n",
      "}\n",
      "```\n"
     ]
    }
   ],
   "source": [
    "response = client.models.generate_content(\n",
    "    model=\"gemini-2.0-flash\", contents=promt\n",
    ")\n",
    "print(response.text)"
   ]
  },
  {
   "cell_type": "code",
   "execution_count": 119,
   "id": "abb58e2b",
   "metadata": {},
   "outputs": [
    {
     "data": {
      "text/plain": [
       "'\\n{\\n    \"krav\": [\"Fotointresse\", \"Körkort och tillgång till bil\", \"God datorvana\", \"Utåtriktad och positiv\", \"Stresstålig och välorganiserad\"],\\n    \"antal krav\": [20, 14, 14, 7, 4],\\n    \"meriterande\": [\"Erfarenhet av barn- och ungdomsverksamhet\", \"Tidigare branscherfarenhet inom foto/skolfoto\", \"Vana av Adobes program\", \"Etablerad fotograf\", \"Social förmåga och estetisk blick\"],\\n    \"antal meriterande\": [8, 7, 4, 3, 2]\\n}\\n'"
      ]
     },
     "execution_count": 119,
     "metadata": {},
     "output_type": "execute_result"
    }
   ],
   "source": [
    "# print(repr(response.text))\n",
    "data = response.text\n",
    "cleaned = data.strip(\"```json\") #.replace(\"\\n\", \"\").strip().replace(\"  \", \"\")\n",
    "cleaned\n",
    "# data"
   ]
  },
  {
   "cell_type": "code",
   "execution_count": 120,
   "metadata": {},
   "outputs": [
    {
     "data": {
      "text/html": [
       "<div>\n",
       "<style scoped>\n",
       "    .dataframe tbody tr th:only-of-type {\n",
       "        vertical-align: middle;\n",
       "    }\n",
       "\n",
       "    .dataframe tbody tr th {\n",
       "        vertical-align: top;\n",
       "    }\n",
       "\n",
       "    .dataframe thead th {\n",
       "        text-align: right;\n",
       "    }\n",
       "</style>\n",
       "<table border=\"1\" class=\"dataframe\">\n",
       "  <thead>\n",
       "    <tr style=\"text-align: right;\">\n",
       "      <th></th>\n",
       "      <th>krav</th>\n",
       "      <th>antal krav</th>\n",
       "      <th>meriterande</th>\n",
       "      <th>antal meriterande</th>\n",
       "    </tr>\n",
       "  </thead>\n",
       "  <tbody>\n",
       "    <tr>\n",
       "      <th>0</th>\n",
       "      <td>Fotointresse</td>\n",
       "      <td>20</td>\n",
       "      <td>Erfarenhet av barn- och ungdomsverksamhet</td>\n",
       "      <td>8</td>\n",
       "    </tr>\n",
       "    <tr>\n",
       "      <th>1</th>\n",
       "      <td>Körkort och tillgång till bil</td>\n",
       "      <td>14</td>\n",
       "      <td>Tidigare branscherfarenhet inom foto/skolfoto</td>\n",
       "      <td>7</td>\n",
       "    </tr>\n",
       "    <tr>\n",
       "      <th>2</th>\n",
       "      <td>God datorvana</td>\n",
       "      <td>14</td>\n",
       "      <td>Vana av Adobes program</td>\n",
       "      <td>4</td>\n",
       "    </tr>\n",
       "    <tr>\n",
       "      <th>3</th>\n",
       "      <td>Utåtriktad och positiv</td>\n",
       "      <td>7</td>\n",
       "      <td>Etablerad fotograf</td>\n",
       "      <td>3</td>\n",
       "    </tr>\n",
       "    <tr>\n",
       "      <th>4</th>\n",
       "      <td>Stresstålig och välorganiserad</td>\n",
       "      <td>4</td>\n",
       "      <td>Social förmåga och estetisk blick</td>\n",
       "      <td>2</td>\n",
       "    </tr>\n",
       "  </tbody>\n",
       "</table>\n",
       "</div>"
      ],
      "text/plain": [
       "                             krav  antal krav  \\\n",
       "0                    Fotointresse          20   \n",
       "1   Körkort och tillgång till bil          14   \n",
       "2                   God datorvana          14   \n",
       "3          Utåtriktad och positiv           7   \n",
       "4  Stresstålig och välorganiserad           4   \n",
       "\n",
       "                                     meriterande  antal meriterande  \n",
       "0      Erfarenhet av barn- och ungdomsverksamhet                  8  \n",
       "1  Tidigare branscherfarenhet inom foto/skolfoto                  7  \n",
       "2                         Vana av Adobes program                  4  \n",
       "3                             Etablerad fotograf                  3  \n",
       "4              Social förmåga och estetisk blick                  2  "
      ]
     },
     "execution_count": 120,
     "metadata": {},
     "output_type": "execute_result"
    }
   ],
   "source": [
    "type(cleaned)\n",
    "import json\n",
    "import pandas as pd\n",
    "data = json.loads(cleaned)\n",
    "df = pd.DataFrame({\n",
    "    \"krav\": data[\"krav\"], \n",
    "    \"antal krav\": data[\"antal krav\"],\n",
    "    \"meriterande\": data[\"meriterande\"],\n",
    "    \"antal meriterande\": data[\"antal meriterande\"]\n",
    "    \n",
    "})\n",
    "df\n",
    "# df = pd.DataFrame(data)\n",
    "# df\n",
    "# df = pd.DataFrame(df)\n",
    "# df"
   ]
  },
  {
   "cell_type": "code",
   "execution_count": 123,
   "id": "10879835",
   "metadata": {},
   "outputs": [
    {
     "data": {
      "application/vnd.plotly.v1+json": {
       "config": {
        "plotlyServerURL": "https://plot.ly"
       },
       "data": [
        {
         "hovertemplate": "krav=%{x}<br>antal krav=%{y}<extra></extra>",
         "legendgroup": "",
         "marker": {
          "color": "#636efa",
          "pattern": {
           "shape": ""
          }
         },
         "name": "",
         "orientation": "v",
         "showlegend": false,
         "textposition": "auto",
         "type": "bar",
         "x": [
          "Fotointresse",
          "Körkort och tillgång till bil",
          "God datorvana",
          "Utåtriktad och positiv",
          "Stresstålig och välorganiserad"
         ],
         "xaxis": "x",
         "y": {
          "bdata": "FA4OBwQ=",
          "dtype": "i1"
         },
         "yaxis": "y"
        }
       ],
       "layout": {
        "barmode": "relative",
        "legend": {
         "tracegroupgap": 0
        },
        "margin": {
         "t": 60
        },
        "template": {
         "data": {
          "bar": [
           {
            "error_x": {
             "color": "#2a3f5f"
            },
            "error_y": {
             "color": "#2a3f5f"
            },
            "marker": {
             "line": {
              "color": "#E5ECF6",
              "width": 0.5
             },
             "pattern": {
              "fillmode": "overlay",
              "size": 10,
              "solidity": 0.2
             }
            },
            "type": "bar"
           }
          ],
          "barpolar": [
           {
            "marker": {
             "line": {
              "color": "#E5ECF6",
              "width": 0.5
             },
             "pattern": {
              "fillmode": "overlay",
              "size": 10,
              "solidity": 0.2
             }
            },
            "type": "barpolar"
           }
          ],
          "carpet": [
           {
            "aaxis": {
             "endlinecolor": "#2a3f5f",
             "gridcolor": "white",
             "linecolor": "white",
             "minorgridcolor": "white",
             "startlinecolor": "#2a3f5f"
            },
            "baxis": {
             "endlinecolor": "#2a3f5f",
             "gridcolor": "white",
             "linecolor": "white",
             "minorgridcolor": "white",
             "startlinecolor": "#2a3f5f"
            },
            "type": "carpet"
           }
          ],
          "choropleth": [
           {
            "colorbar": {
             "outlinewidth": 0,
             "ticks": ""
            },
            "type": "choropleth"
           }
          ],
          "contour": [
           {
            "colorbar": {
             "outlinewidth": 0,
             "ticks": ""
            },
            "colorscale": [
             [
              0,
              "#0d0887"
             ],
             [
              0.1111111111111111,
              "#46039f"
             ],
             [
              0.2222222222222222,
              "#7201a8"
             ],
             [
              0.3333333333333333,
              "#9c179e"
             ],
             [
              0.4444444444444444,
              "#bd3786"
             ],
             [
              0.5555555555555556,
              "#d8576b"
             ],
             [
              0.6666666666666666,
              "#ed7953"
             ],
             [
              0.7777777777777778,
              "#fb9f3a"
             ],
             [
              0.8888888888888888,
              "#fdca26"
             ],
             [
              1,
              "#f0f921"
             ]
            ],
            "type": "contour"
           }
          ],
          "contourcarpet": [
           {
            "colorbar": {
             "outlinewidth": 0,
             "ticks": ""
            },
            "type": "contourcarpet"
           }
          ],
          "heatmap": [
           {
            "colorbar": {
             "outlinewidth": 0,
             "ticks": ""
            },
            "colorscale": [
             [
              0,
              "#0d0887"
             ],
             [
              0.1111111111111111,
              "#46039f"
             ],
             [
              0.2222222222222222,
              "#7201a8"
             ],
             [
              0.3333333333333333,
              "#9c179e"
             ],
             [
              0.4444444444444444,
              "#bd3786"
             ],
             [
              0.5555555555555556,
              "#d8576b"
             ],
             [
              0.6666666666666666,
              "#ed7953"
             ],
             [
              0.7777777777777778,
              "#fb9f3a"
             ],
             [
              0.8888888888888888,
              "#fdca26"
             ],
             [
              1,
              "#f0f921"
             ]
            ],
            "type": "heatmap"
           }
          ],
          "histogram": [
           {
            "marker": {
             "pattern": {
              "fillmode": "overlay",
              "size": 10,
              "solidity": 0.2
             }
            },
            "type": "histogram"
           }
          ],
          "histogram2d": [
           {
            "colorbar": {
             "outlinewidth": 0,
             "ticks": ""
            },
            "colorscale": [
             [
              0,
              "#0d0887"
             ],
             [
              0.1111111111111111,
              "#46039f"
             ],
             [
              0.2222222222222222,
              "#7201a8"
             ],
             [
              0.3333333333333333,
              "#9c179e"
             ],
             [
              0.4444444444444444,
              "#bd3786"
             ],
             [
              0.5555555555555556,
              "#d8576b"
             ],
             [
              0.6666666666666666,
              "#ed7953"
             ],
             [
              0.7777777777777778,
              "#fb9f3a"
             ],
             [
              0.8888888888888888,
              "#fdca26"
             ],
             [
              1,
              "#f0f921"
             ]
            ],
            "type": "histogram2d"
           }
          ],
          "histogram2dcontour": [
           {
            "colorbar": {
             "outlinewidth": 0,
             "ticks": ""
            },
            "colorscale": [
             [
              0,
              "#0d0887"
             ],
             [
              0.1111111111111111,
              "#46039f"
             ],
             [
              0.2222222222222222,
              "#7201a8"
             ],
             [
              0.3333333333333333,
              "#9c179e"
             ],
             [
              0.4444444444444444,
              "#bd3786"
             ],
             [
              0.5555555555555556,
              "#d8576b"
             ],
             [
              0.6666666666666666,
              "#ed7953"
             ],
             [
              0.7777777777777778,
              "#fb9f3a"
             ],
             [
              0.8888888888888888,
              "#fdca26"
             ],
             [
              1,
              "#f0f921"
             ]
            ],
            "type": "histogram2dcontour"
           }
          ],
          "mesh3d": [
           {
            "colorbar": {
             "outlinewidth": 0,
             "ticks": ""
            },
            "type": "mesh3d"
           }
          ],
          "parcoords": [
           {
            "line": {
             "colorbar": {
              "outlinewidth": 0,
              "ticks": ""
             }
            },
            "type": "parcoords"
           }
          ],
          "pie": [
           {
            "automargin": true,
            "type": "pie"
           }
          ],
          "scatter": [
           {
            "fillpattern": {
             "fillmode": "overlay",
             "size": 10,
             "solidity": 0.2
            },
            "type": "scatter"
           }
          ],
          "scatter3d": [
           {
            "line": {
             "colorbar": {
              "outlinewidth": 0,
              "ticks": ""
             }
            },
            "marker": {
             "colorbar": {
              "outlinewidth": 0,
              "ticks": ""
             }
            },
            "type": "scatter3d"
           }
          ],
          "scattercarpet": [
           {
            "marker": {
             "colorbar": {
              "outlinewidth": 0,
              "ticks": ""
             }
            },
            "type": "scattercarpet"
           }
          ],
          "scattergeo": [
           {
            "marker": {
             "colorbar": {
              "outlinewidth": 0,
              "ticks": ""
             }
            },
            "type": "scattergeo"
           }
          ],
          "scattergl": [
           {
            "marker": {
             "colorbar": {
              "outlinewidth": 0,
              "ticks": ""
             }
            },
            "type": "scattergl"
           }
          ],
          "scattermap": [
           {
            "marker": {
             "colorbar": {
              "outlinewidth": 0,
              "ticks": ""
             }
            },
            "type": "scattermap"
           }
          ],
          "scattermapbox": [
           {
            "marker": {
             "colorbar": {
              "outlinewidth": 0,
              "ticks": ""
             }
            },
            "type": "scattermapbox"
           }
          ],
          "scatterpolar": [
           {
            "marker": {
             "colorbar": {
              "outlinewidth": 0,
              "ticks": ""
             }
            },
            "type": "scatterpolar"
           }
          ],
          "scatterpolargl": [
           {
            "marker": {
             "colorbar": {
              "outlinewidth": 0,
              "ticks": ""
             }
            },
            "type": "scatterpolargl"
           }
          ],
          "scatterternary": [
           {
            "marker": {
             "colorbar": {
              "outlinewidth": 0,
              "ticks": ""
             }
            },
            "type": "scatterternary"
           }
          ],
          "surface": [
           {
            "colorbar": {
             "outlinewidth": 0,
             "ticks": ""
            },
            "colorscale": [
             [
              0,
              "#0d0887"
             ],
             [
              0.1111111111111111,
              "#46039f"
             ],
             [
              0.2222222222222222,
              "#7201a8"
             ],
             [
              0.3333333333333333,
              "#9c179e"
             ],
             [
              0.4444444444444444,
              "#bd3786"
             ],
             [
              0.5555555555555556,
              "#d8576b"
             ],
             [
              0.6666666666666666,
              "#ed7953"
             ],
             [
              0.7777777777777778,
              "#fb9f3a"
             ],
             [
              0.8888888888888888,
              "#fdca26"
             ],
             [
              1,
              "#f0f921"
             ]
            ],
            "type": "surface"
           }
          ],
          "table": [
           {
            "cells": {
             "fill": {
              "color": "#EBF0F8"
             },
             "line": {
              "color": "white"
             }
            },
            "header": {
             "fill": {
              "color": "#C8D4E3"
             },
             "line": {
              "color": "white"
             }
            },
            "type": "table"
           }
          ]
         },
         "layout": {
          "annotationdefaults": {
           "arrowcolor": "#2a3f5f",
           "arrowhead": 0,
           "arrowwidth": 1
          },
          "autotypenumbers": "strict",
          "coloraxis": {
           "colorbar": {
            "outlinewidth": 0,
            "ticks": ""
           }
          },
          "colorscale": {
           "diverging": [
            [
             0,
             "#8e0152"
            ],
            [
             0.1,
             "#c51b7d"
            ],
            [
             0.2,
             "#de77ae"
            ],
            [
             0.3,
             "#f1b6da"
            ],
            [
             0.4,
             "#fde0ef"
            ],
            [
             0.5,
             "#f7f7f7"
            ],
            [
             0.6,
             "#e6f5d0"
            ],
            [
             0.7,
             "#b8e186"
            ],
            [
             0.8,
             "#7fbc41"
            ],
            [
             0.9,
             "#4d9221"
            ],
            [
             1,
             "#276419"
            ]
           ],
           "sequential": [
            [
             0,
             "#0d0887"
            ],
            [
             0.1111111111111111,
             "#46039f"
            ],
            [
             0.2222222222222222,
             "#7201a8"
            ],
            [
             0.3333333333333333,
             "#9c179e"
            ],
            [
             0.4444444444444444,
             "#bd3786"
            ],
            [
             0.5555555555555556,
             "#d8576b"
            ],
            [
             0.6666666666666666,
             "#ed7953"
            ],
            [
             0.7777777777777778,
             "#fb9f3a"
            ],
            [
             0.8888888888888888,
             "#fdca26"
            ],
            [
             1,
             "#f0f921"
            ]
           ],
           "sequentialminus": [
            [
             0,
             "#0d0887"
            ],
            [
             0.1111111111111111,
             "#46039f"
            ],
            [
             0.2222222222222222,
             "#7201a8"
            ],
            [
             0.3333333333333333,
             "#9c179e"
            ],
            [
             0.4444444444444444,
             "#bd3786"
            ],
            [
             0.5555555555555556,
             "#d8576b"
            ],
            [
             0.6666666666666666,
             "#ed7953"
            ],
            [
             0.7777777777777778,
             "#fb9f3a"
            ],
            [
             0.8888888888888888,
             "#fdca26"
            ],
            [
             1,
             "#f0f921"
            ]
           ]
          },
          "colorway": [
           "#636efa",
           "#EF553B",
           "#00cc96",
           "#ab63fa",
           "#FFA15A",
           "#19d3f3",
           "#FF6692",
           "#B6E880",
           "#FF97FF",
           "#FECB52"
          ],
          "font": {
           "color": "#2a3f5f"
          },
          "geo": {
           "bgcolor": "white",
           "lakecolor": "white",
           "landcolor": "#E5ECF6",
           "showlakes": true,
           "showland": true,
           "subunitcolor": "white"
          },
          "hoverlabel": {
           "align": "left"
          },
          "hovermode": "closest",
          "mapbox": {
           "style": "light"
          },
          "paper_bgcolor": "white",
          "plot_bgcolor": "#E5ECF6",
          "polar": {
           "angularaxis": {
            "gridcolor": "white",
            "linecolor": "white",
            "ticks": ""
           },
           "bgcolor": "#E5ECF6",
           "radialaxis": {
            "gridcolor": "white",
            "linecolor": "white",
            "ticks": ""
           }
          },
          "scene": {
           "xaxis": {
            "backgroundcolor": "#E5ECF6",
            "gridcolor": "white",
            "gridwidth": 2,
            "linecolor": "white",
            "showbackground": true,
            "ticks": "",
            "zerolinecolor": "white"
           },
           "yaxis": {
            "backgroundcolor": "#E5ECF6",
            "gridcolor": "white",
            "gridwidth": 2,
            "linecolor": "white",
            "showbackground": true,
            "ticks": "",
            "zerolinecolor": "white"
           },
           "zaxis": {
            "backgroundcolor": "#E5ECF6",
            "gridcolor": "white",
            "gridwidth": 2,
            "linecolor": "white",
            "showbackground": true,
            "ticks": "",
            "zerolinecolor": "white"
           }
          },
          "shapedefaults": {
           "line": {
            "color": "#2a3f5f"
           }
          },
          "ternary": {
           "aaxis": {
            "gridcolor": "white",
            "linecolor": "white",
            "ticks": ""
           },
           "baxis": {
            "gridcolor": "white",
            "linecolor": "white",
            "ticks": ""
           },
           "bgcolor": "#E5ECF6",
           "caxis": {
            "gridcolor": "white",
            "linecolor": "white",
            "ticks": ""
           }
          },
          "title": {
           "x": 0.05
          },
          "xaxis": {
           "automargin": true,
           "gridcolor": "white",
           "linecolor": "white",
           "ticks": "",
           "title": {
            "standoff": 15
           },
           "zerolinecolor": "white",
           "zerolinewidth": 2
          },
          "yaxis": {
           "automargin": true,
           "gridcolor": "white",
           "linecolor": "white",
           "ticks": "",
           "title": {
            "standoff": 15
           },
           "zerolinecolor": "white",
           "zerolinewidth": 2
          }
         }
        },
        "xaxis": {
         "anchor": "y",
         "domain": [
          0,
          1
         ],
         "title": {
          "text": "krav"
         }
        },
        "yaxis": {
         "anchor": "x",
         "domain": [
          0,
          1
         ],
         "title": {
          "text": "antal krav"
         }
        }
       }
      }
     },
     "metadata": {},
     "output_type": "display_data"
    }
   ],
   "source": [
    "import plotly.express as px\n",
    "# px.pie(df, names=[\"krav\", \"meriterande\"], values=[\"antal krav\", \"antal meriterande\"])\n",
    "px.bar(df, x=\"krav\", y=\"antal krav\")\n"
   ]
  },
  {
   "cell_type": "code",
   "execution_count": 124,
   "metadata": {},
   "outputs": [
    {
     "data": {
      "application/vnd.plotly.v1+json": {
       "config": {
        "plotlyServerURL": "https://plot.ly"
       },
       "data": [
        {
         "hovertemplate": "meriterande=%{x}<br>antal meriterande=%{y}<extra></extra>",
         "legendgroup": "",
         "marker": {
          "color": "#636efa",
          "pattern": {
           "shape": ""
          }
         },
         "name": "",
         "orientation": "v",
         "showlegend": false,
         "textposition": "auto",
         "type": "bar",
         "x": [
          "Erfarenhet av barn- och ungdomsverksamhet",
          "Tidigare branscherfarenhet inom foto/skolfoto",
          "Vana av Adobes program",
          "Etablerad fotograf",
          "Social förmåga och estetisk blick"
         ],
         "xaxis": "x",
         "y": {
          "bdata": "CAcEAwI=",
          "dtype": "i1"
         },
         "yaxis": "y"
        }
       ],
       "layout": {
        "barmode": "relative",
        "legend": {
         "tracegroupgap": 0
        },
        "margin": {
         "t": 60
        },
        "template": {
         "data": {
          "bar": [
           {
            "error_x": {
             "color": "#2a3f5f"
            },
            "error_y": {
             "color": "#2a3f5f"
            },
            "marker": {
             "line": {
              "color": "#E5ECF6",
              "width": 0.5
             },
             "pattern": {
              "fillmode": "overlay",
              "size": 10,
              "solidity": 0.2
             }
            },
            "type": "bar"
           }
          ],
          "barpolar": [
           {
            "marker": {
             "line": {
              "color": "#E5ECF6",
              "width": 0.5
             },
             "pattern": {
              "fillmode": "overlay",
              "size": 10,
              "solidity": 0.2
             }
            },
            "type": "barpolar"
           }
          ],
          "carpet": [
           {
            "aaxis": {
             "endlinecolor": "#2a3f5f",
             "gridcolor": "white",
             "linecolor": "white",
             "minorgridcolor": "white",
             "startlinecolor": "#2a3f5f"
            },
            "baxis": {
             "endlinecolor": "#2a3f5f",
             "gridcolor": "white",
             "linecolor": "white",
             "minorgridcolor": "white",
             "startlinecolor": "#2a3f5f"
            },
            "type": "carpet"
           }
          ],
          "choropleth": [
           {
            "colorbar": {
             "outlinewidth": 0,
             "ticks": ""
            },
            "type": "choropleth"
           }
          ],
          "contour": [
           {
            "colorbar": {
             "outlinewidth": 0,
             "ticks": ""
            },
            "colorscale": [
             [
              0,
              "#0d0887"
             ],
             [
              0.1111111111111111,
              "#46039f"
             ],
             [
              0.2222222222222222,
              "#7201a8"
             ],
             [
              0.3333333333333333,
              "#9c179e"
             ],
             [
              0.4444444444444444,
              "#bd3786"
             ],
             [
              0.5555555555555556,
              "#d8576b"
             ],
             [
              0.6666666666666666,
              "#ed7953"
             ],
             [
              0.7777777777777778,
              "#fb9f3a"
             ],
             [
              0.8888888888888888,
              "#fdca26"
             ],
             [
              1,
              "#f0f921"
             ]
            ],
            "type": "contour"
           }
          ],
          "contourcarpet": [
           {
            "colorbar": {
             "outlinewidth": 0,
             "ticks": ""
            },
            "type": "contourcarpet"
           }
          ],
          "heatmap": [
           {
            "colorbar": {
             "outlinewidth": 0,
             "ticks": ""
            },
            "colorscale": [
             [
              0,
              "#0d0887"
             ],
             [
              0.1111111111111111,
              "#46039f"
             ],
             [
              0.2222222222222222,
              "#7201a8"
             ],
             [
              0.3333333333333333,
              "#9c179e"
             ],
             [
              0.4444444444444444,
              "#bd3786"
             ],
             [
              0.5555555555555556,
              "#d8576b"
             ],
             [
              0.6666666666666666,
              "#ed7953"
             ],
             [
              0.7777777777777778,
              "#fb9f3a"
             ],
             [
              0.8888888888888888,
              "#fdca26"
             ],
             [
              1,
              "#f0f921"
             ]
            ],
            "type": "heatmap"
           }
          ],
          "histogram": [
           {
            "marker": {
             "pattern": {
              "fillmode": "overlay",
              "size": 10,
              "solidity": 0.2
             }
            },
            "type": "histogram"
           }
          ],
          "histogram2d": [
           {
            "colorbar": {
             "outlinewidth": 0,
             "ticks": ""
            },
            "colorscale": [
             [
              0,
              "#0d0887"
             ],
             [
              0.1111111111111111,
              "#46039f"
             ],
             [
              0.2222222222222222,
              "#7201a8"
             ],
             [
              0.3333333333333333,
              "#9c179e"
             ],
             [
              0.4444444444444444,
              "#bd3786"
             ],
             [
              0.5555555555555556,
              "#d8576b"
             ],
             [
              0.6666666666666666,
              "#ed7953"
             ],
             [
              0.7777777777777778,
              "#fb9f3a"
             ],
             [
              0.8888888888888888,
              "#fdca26"
             ],
             [
              1,
              "#f0f921"
             ]
            ],
            "type": "histogram2d"
           }
          ],
          "histogram2dcontour": [
           {
            "colorbar": {
             "outlinewidth": 0,
             "ticks": ""
            },
            "colorscale": [
             [
              0,
              "#0d0887"
             ],
             [
              0.1111111111111111,
              "#46039f"
             ],
             [
              0.2222222222222222,
              "#7201a8"
             ],
             [
              0.3333333333333333,
              "#9c179e"
             ],
             [
              0.4444444444444444,
              "#bd3786"
             ],
             [
              0.5555555555555556,
              "#d8576b"
             ],
             [
              0.6666666666666666,
              "#ed7953"
             ],
             [
              0.7777777777777778,
              "#fb9f3a"
             ],
             [
              0.8888888888888888,
              "#fdca26"
             ],
             [
              1,
              "#f0f921"
             ]
            ],
            "type": "histogram2dcontour"
           }
          ],
          "mesh3d": [
           {
            "colorbar": {
             "outlinewidth": 0,
             "ticks": ""
            },
            "type": "mesh3d"
           }
          ],
          "parcoords": [
           {
            "line": {
             "colorbar": {
              "outlinewidth": 0,
              "ticks": ""
             }
            },
            "type": "parcoords"
           }
          ],
          "pie": [
           {
            "automargin": true,
            "type": "pie"
           }
          ],
          "scatter": [
           {
            "fillpattern": {
             "fillmode": "overlay",
             "size": 10,
             "solidity": 0.2
            },
            "type": "scatter"
           }
          ],
          "scatter3d": [
           {
            "line": {
             "colorbar": {
              "outlinewidth": 0,
              "ticks": ""
             }
            },
            "marker": {
             "colorbar": {
              "outlinewidth": 0,
              "ticks": ""
             }
            },
            "type": "scatter3d"
           }
          ],
          "scattercarpet": [
           {
            "marker": {
             "colorbar": {
              "outlinewidth": 0,
              "ticks": ""
             }
            },
            "type": "scattercarpet"
           }
          ],
          "scattergeo": [
           {
            "marker": {
             "colorbar": {
              "outlinewidth": 0,
              "ticks": ""
             }
            },
            "type": "scattergeo"
           }
          ],
          "scattergl": [
           {
            "marker": {
             "colorbar": {
              "outlinewidth": 0,
              "ticks": ""
             }
            },
            "type": "scattergl"
           }
          ],
          "scattermap": [
           {
            "marker": {
             "colorbar": {
              "outlinewidth": 0,
              "ticks": ""
             }
            },
            "type": "scattermap"
           }
          ],
          "scattermapbox": [
           {
            "marker": {
             "colorbar": {
              "outlinewidth": 0,
              "ticks": ""
             }
            },
            "type": "scattermapbox"
           }
          ],
          "scatterpolar": [
           {
            "marker": {
             "colorbar": {
              "outlinewidth": 0,
              "ticks": ""
             }
            },
            "type": "scatterpolar"
           }
          ],
          "scatterpolargl": [
           {
            "marker": {
             "colorbar": {
              "outlinewidth": 0,
              "ticks": ""
             }
            },
            "type": "scatterpolargl"
           }
          ],
          "scatterternary": [
           {
            "marker": {
             "colorbar": {
              "outlinewidth": 0,
              "ticks": ""
             }
            },
            "type": "scatterternary"
           }
          ],
          "surface": [
           {
            "colorbar": {
             "outlinewidth": 0,
             "ticks": ""
            },
            "colorscale": [
             [
              0,
              "#0d0887"
             ],
             [
              0.1111111111111111,
              "#46039f"
             ],
             [
              0.2222222222222222,
              "#7201a8"
             ],
             [
              0.3333333333333333,
              "#9c179e"
             ],
             [
              0.4444444444444444,
              "#bd3786"
             ],
             [
              0.5555555555555556,
              "#d8576b"
             ],
             [
              0.6666666666666666,
              "#ed7953"
             ],
             [
              0.7777777777777778,
              "#fb9f3a"
             ],
             [
              0.8888888888888888,
              "#fdca26"
             ],
             [
              1,
              "#f0f921"
             ]
            ],
            "type": "surface"
           }
          ],
          "table": [
           {
            "cells": {
             "fill": {
              "color": "#EBF0F8"
             },
             "line": {
              "color": "white"
             }
            },
            "header": {
             "fill": {
              "color": "#C8D4E3"
             },
             "line": {
              "color": "white"
             }
            },
            "type": "table"
           }
          ]
         },
         "layout": {
          "annotationdefaults": {
           "arrowcolor": "#2a3f5f",
           "arrowhead": 0,
           "arrowwidth": 1
          },
          "autotypenumbers": "strict",
          "coloraxis": {
           "colorbar": {
            "outlinewidth": 0,
            "ticks": ""
           }
          },
          "colorscale": {
           "diverging": [
            [
             0,
             "#8e0152"
            ],
            [
             0.1,
             "#c51b7d"
            ],
            [
             0.2,
             "#de77ae"
            ],
            [
             0.3,
             "#f1b6da"
            ],
            [
             0.4,
             "#fde0ef"
            ],
            [
             0.5,
             "#f7f7f7"
            ],
            [
             0.6,
             "#e6f5d0"
            ],
            [
             0.7,
             "#b8e186"
            ],
            [
             0.8,
             "#7fbc41"
            ],
            [
             0.9,
             "#4d9221"
            ],
            [
             1,
             "#276419"
            ]
           ],
           "sequential": [
            [
             0,
             "#0d0887"
            ],
            [
             0.1111111111111111,
             "#46039f"
            ],
            [
             0.2222222222222222,
             "#7201a8"
            ],
            [
             0.3333333333333333,
             "#9c179e"
            ],
            [
             0.4444444444444444,
             "#bd3786"
            ],
            [
             0.5555555555555556,
             "#d8576b"
            ],
            [
             0.6666666666666666,
             "#ed7953"
            ],
            [
             0.7777777777777778,
             "#fb9f3a"
            ],
            [
             0.8888888888888888,
             "#fdca26"
            ],
            [
             1,
             "#f0f921"
            ]
           ],
           "sequentialminus": [
            [
             0,
             "#0d0887"
            ],
            [
             0.1111111111111111,
             "#46039f"
            ],
            [
             0.2222222222222222,
             "#7201a8"
            ],
            [
             0.3333333333333333,
             "#9c179e"
            ],
            [
             0.4444444444444444,
             "#bd3786"
            ],
            [
             0.5555555555555556,
             "#d8576b"
            ],
            [
             0.6666666666666666,
             "#ed7953"
            ],
            [
             0.7777777777777778,
             "#fb9f3a"
            ],
            [
             0.8888888888888888,
             "#fdca26"
            ],
            [
             1,
             "#f0f921"
            ]
           ]
          },
          "colorway": [
           "#636efa",
           "#EF553B",
           "#00cc96",
           "#ab63fa",
           "#FFA15A",
           "#19d3f3",
           "#FF6692",
           "#B6E880",
           "#FF97FF",
           "#FECB52"
          ],
          "font": {
           "color": "#2a3f5f"
          },
          "geo": {
           "bgcolor": "white",
           "lakecolor": "white",
           "landcolor": "#E5ECF6",
           "showlakes": true,
           "showland": true,
           "subunitcolor": "white"
          },
          "hoverlabel": {
           "align": "left"
          },
          "hovermode": "closest",
          "mapbox": {
           "style": "light"
          },
          "paper_bgcolor": "white",
          "plot_bgcolor": "#E5ECF6",
          "polar": {
           "angularaxis": {
            "gridcolor": "white",
            "linecolor": "white",
            "ticks": ""
           },
           "bgcolor": "#E5ECF6",
           "radialaxis": {
            "gridcolor": "white",
            "linecolor": "white",
            "ticks": ""
           }
          },
          "scene": {
           "xaxis": {
            "backgroundcolor": "#E5ECF6",
            "gridcolor": "white",
            "gridwidth": 2,
            "linecolor": "white",
            "showbackground": true,
            "ticks": "",
            "zerolinecolor": "white"
           },
           "yaxis": {
            "backgroundcolor": "#E5ECF6",
            "gridcolor": "white",
            "gridwidth": 2,
            "linecolor": "white",
            "showbackground": true,
            "ticks": "",
            "zerolinecolor": "white"
           },
           "zaxis": {
            "backgroundcolor": "#E5ECF6",
            "gridcolor": "white",
            "gridwidth": 2,
            "linecolor": "white",
            "showbackground": true,
            "ticks": "",
            "zerolinecolor": "white"
           }
          },
          "shapedefaults": {
           "line": {
            "color": "#2a3f5f"
           }
          },
          "ternary": {
           "aaxis": {
            "gridcolor": "white",
            "linecolor": "white",
            "ticks": ""
           },
           "baxis": {
            "gridcolor": "white",
            "linecolor": "white",
            "ticks": ""
           },
           "bgcolor": "#E5ECF6",
           "caxis": {
            "gridcolor": "white",
            "linecolor": "white",
            "ticks": ""
           }
          },
          "title": {
           "x": 0.05
          },
          "xaxis": {
           "automargin": true,
           "gridcolor": "white",
           "linecolor": "white",
           "ticks": "",
           "title": {
            "standoff": 15
           },
           "zerolinecolor": "white",
           "zerolinewidth": 2
          },
          "yaxis": {
           "automargin": true,
           "gridcolor": "white",
           "linecolor": "white",
           "ticks": "",
           "title": {
            "standoff": 15
           },
           "zerolinecolor": "white",
           "zerolinewidth": 2
          }
         }
        },
        "xaxis": {
         "anchor": "y",
         "domain": [
          0,
          1
         ],
         "title": {
          "text": "meriterande"
         }
        },
        "yaxis": {
         "anchor": "x",
         "domain": [
          0,
          1
         ],
         "title": {
          "text": "antal meriterande"
         }
        }
       }
      }
     },
     "metadata": {},
     "output_type": "display_data"
    }
   ],
   "source": [
    "px.bar(df, y=\"antal meriterande\", x=\"meriterande\")"
   ]
  },
  {
   "cell_type": "code",
   "execution_count": null,
   "id": "90690423",
   "metadata": {},
   "outputs": [],
   "source": []
  }
 ],
 "metadata": {
  "kernelspec": {
   "display_name": ".venv",
   "language": "python",
   "name": "python3"
  },
  "language_info": {
   "codemirror_mode": {
    "name": "ipython",
    "version": 3
   },
   "file_extension": ".py",
   "mimetype": "text/x-python",
   "name": "python",
   "nbconvert_exporter": "python",
   "pygments_lexer": "ipython3",
   "version": "3.12.8"
  }
 },
 "nbformat": 4,
 "nbformat_minor": 5
}

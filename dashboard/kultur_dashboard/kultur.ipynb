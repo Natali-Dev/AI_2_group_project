{
 "cells": [
  {
   "cell_type": "code",
   "execution_count": 12,
   "id": "180d6bb5",
   "metadata": {},
   "outputs": [
    {
     "data": {
      "text/html": [
       "<div>\n",
       "<style scoped>\n",
       "    .dataframe tbody tr th:only-of-type {\n",
       "        vertical-align: middle;\n",
       "    }\n",
       "\n",
       "    .dataframe tbody tr th {\n",
       "        vertical-align: top;\n",
       "    }\n",
       "\n",
       "    .dataframe thead th {\n",
       "        text-align: right;\n",
       "    }\n",
       "</style>\n",
       "<table border=\"1\" class=\"dataframe\">\n",
       "  <thead>\n",
       "    <tr style=\"text-align: right;\">\n",
       "      <th></th>\n",
       "      <th>headline</th>\n",
       "      <th>occupation</th>\n",
       "      <th>occupation_group</th>\n",
       "      <th>occupation_field</th>\n",
       "      <th>description</th>\n",
       "      <th>duration</th>\n",
       "      <th>working_hours_type</th>\n",
       "      <th>scope_of_work_min</th>\n",
       "      <th>scope_of_work_max</th>\n",
       "      <th>vacancies</th>\n",
       "      <th>employer_name</th>\n",
       "      <th>workplace_region</th>\n",
       "      <th>workplace_city</th>\n",
       "      <th>experience_required</th>\n",
       "      <th>driving_license</th>\n",
       "      <th>access_to_own_car</th>\n",
       "      <th>must_have_languages</th>\n",
       "    </tr>\n",
       "  </thead>\n",
       "  <tbody>\n",
       "    <tr>\n",
       "      <th>0</th>\n",
       "      <td>AV-tekniker till Mediainstallation Sverige AB</td>\n",
       "      <td>AV-tekniker</td>\n",
       "      <td>Ljus-, ljud- och scentekniker</td>\n",
       "      <td>Kultur, media, design</td>\n",
       "      <td>AV-tekniker till Mediainstallation AB \\nVi väx...</td>\n",
       "      <td>Tills vidare</td>\n",
       "      <td>Heltid</td>\n",
       "      <td>100</td>\n",
       "      <td>100</td>\n",
       "      <td>1</td>\n",
       "      <td>Mediainstallation i Sverige AB</td>\n",
       "      <td>Stockholms län</td>\n",
       "      <td>Täby</td>\n",
       "      <td>True</td>\n",
       "      <td>True</td>\n",
       "      <td>False</td>\n",
       "      <td>ej specifierat</td>\n",
       "    </tr>\n",
       "    <tr>\n",
       "      <th>1</th>\n",
       "      <td>Logistikkoordinator på heltid</td>\n",
       "      <td>Produktionsassistent: kultur, media, film, dat...</td>\n",
       "      <td>Inspicienter och scriptor m.fl.</td>\n",
       "      <td>Kultur, media, design</td>\n",
       "      <td>Vi söker dig som vill bli spindeln i nätet på ...</td>\n",
       "      <td>6 månader eller längre</td>\n",
       "      <td>Heltid</td>\n",
       "      <td>100</td>\n",
       "      <td>100</td>\n",
       "      <td>1</td>\n",
       "      <td>Academic Work Sweden AB</td>\n",
       "      <td>Stockholms län</td>\n",
       "      <td>Stockholm</td>\n",
       "      <td>True</td>\n",
       "      <td>False</td>\n",
       "      <td>False</td>\n",
       "      <td>ej specifierat</td>\n",
       "    </tr>\n",
       "    <tr>\n",
       "      <th>2</th>\n",
       "      <td>Grafiker | Lernia | Norrköping</td>\n",
       "      <td>Grafisk formgivare</td>\n",
       "      <td>Grafiska formgivare m.fl.</td>\n",
       "      <td>Kultur, media, design</td>\n",
       "      <td>Är du en kreativ grafiker med erfarenhet av In...</td>\n",
       "      <td>11 dagar - upp till 3 månader</td>\n",
       "      <td>Deltid</td>\n",
       "      <td>0</td>\n",
       "      <td>100</td>\n",
       "      <td>1</td>\n",
       "      <td>Lernia Bemanning AB</td>\n",
       "      <td>Östergötlands län</td>\n",
       "      <td>Norrköping</td>\n",
       "      <td>True</td>\n",
       "      <td>False</td>\n",
       "      <td>False</td>\n",
       "      <td>ej specifierat</td>\n",
       "    </tr>\n",
       "    <tr>\n",
       "      <th>3</th>\n",
       "      <td>Global Field Operation Manager</td>\n",
       "      <td>Technical Operation Manager/TOM</td>\n",
       "      <td>Bild- och sändningstekniker</td>\n",
       "      <td>Kultur, media, design</td>\n",
       "      <td>The Opportunity:\\nWith a pioneering technology...</td>\n",
       "      <td>Tills vidare</td>\n",
       "      <td>Heltid</td>\n",
       "      <td>100</td>\n",
       "      <td>100</td>\n",
       "      <td>1</td>\n",
       "      <td>Hitachi Energy Sweden AB</td>\n",
       "      <td>Västmanlands län</td>\n",
       "      <td>Västerås</td>\n",
       "      <td>True</td>\n",
       "      <td>False</td>\n",
       "      <td>False</td>\n",
       "      <td>ej specifierat</td>\n",
       "    </tr>\n",
       "    <tr>\n",
       "      <th>4</th>\n",
       "      <td>Tekniska museet söker en Föremålsantikvarie</td>\n",
       "      <td>Antikvarie</td>\n",
       "      <td>Museiintendenter m.fl.</td>\n",
       "      <td>Kultur, media, design</td>\n",
       "      <td>Tekniska museet söker en föremålsantikvarie ti...</td>\n",
       "      <td>Tills vidare</td>\n",
       "      <td>Heltid</td>\n",
       "      <td>100</td>\n",
       "      <td>100</td>\n",
       "      <td>1</td>\n",
       "      <td>Stiftelsen Tekniska Museet</td>\n",
       "      <td>Stockholms län</td>\n",
       "      <td>Stockholm</td>\n",
       "      <td>True</td>\n",
       "      <td>True</td>\n",
       "      <td>False</td>\n",
       "      <td>ej specifierat</td>\n",
       "    </tr>\n",
       "    <tr>\n",
       "      <th>...</th>\n",
       "      <td>...</td>\n",
       "      <td>...</td>\n",
       "      <td>...</td>\n",
       "      <td>...</td>\n",
       "      <td>...</td>\n",
       "      <td>...</td>\n",
       "      <td>...</td>\n",
       "      <td>...</td>\n",
       "      <td>...</td>\n",
       "      <td>...</td>\n",
       "      <td>...</td>\n",
       "      <td>...</td>\n",
       "      <td>...</td>\n",
       "      <td>...</td>\n",
       "      <td>...</td>\n",
       "      <td>...</td>\n",
       "      <td>...</td>\n",
       "    </tr>\n",
       "    <tr>\n",
       "      <th>680</th>\n",
       "      <td>Tolk i Singalesiska</td>\n",
       "      <td>Tolk</td>\n",
       "      <td>Översättare, tolkar och lingvister m.fl.</td>\n",
       "      <td>Kultur, media, design</td>\n",
       "      <td>Talar du flytande Singalesiska och svenska? Sö...</td>\n",
       "      <td>Tills vidare</td>\n",
       "      <td>Heltid</td>\n",
       "      <td>100</td>\n",
       "      <td>100</td>\n",
       "      <td>1</td>\n",
       "      <td>Språkservice Sverige AB</td>\n",
       "      <td>ej angiven</td>\n",
       "      <td>ej angiven</td>\n",
       "      <td>False</td>\n",
       "      <td>False</td>\n",
       "      <td>False</td>\n",
       "      <td>ej specifierat</td>\n",
       "    </tr>\n",
       "    <tr>\n",
       "      <th>681</th>\n",
       "      <td>Tolk i Singalesiska</td>\n",
       "      <td>Tolk</td>\n",
       "      <td>Översättare, tolkar och lingvister m.fl.</td>\n",
       "      <td>Kultur, media, design</td>\n",
       "      <td>Talar du flytande Singalesiska och svenska? Sö...</td>\n",
       "      <td>Tills vidare</td>\n",
       "      <td>Heltid</td>\n",
       "      <td>100</td>\n",
       "      <td>100</td>\n",
       "      <td>1</td>\n",
       "      <td>Språkservice Sverige AB</td>\n",
       "      <td>ej angiven</td>\n",
       "      <td>ej angiven</td>\n",
       "      <td>False</td>\n",
       "      <td>False</td>\n",
       "      <td>False</td>\n",
       "      <td>ej specifierat</td>\n",
       "    </tr>\n",
       "    <tr>\n",
       "      <th>682</th>\n",
       "      <td>Tolk i Singalesiska</td>\n",
       "      <td>Tolk</td>\n",
       "      <td>Översättare, tolkar och lingvister m.fl.</td>\n",
       "      <td>Kultur, media, design</td>\n",
       "      <td>Talar du flytande Singalesiska och svenska? Sö...</td>\n",
       "      <td>Tills vidare</td>\n",
       "      <td>Heltid</td>\n",
       "      <td>100</td>\n",
       "      <td>100</td>\n",
       "      <td>1</td>\n",
       "      <td>Språkservice Sverige AB</td>\n",
       "      <td>ej angiven</td>\n",
       "      <td>ej angiven</td>\n",
       "      <td>False</td>\n",
       "      <td>False</td>\n",
       "      <td>False</td>\n",
       "      <td>ej specifierat</td>\n",
       "    </tr>\n",
       "    <tr>\n",
       "      <th>683</th>\n",
       "      <td>Tolk i Singalesiska</td>\n",
       "      <td>Tolk</td>\n",
       "      <td>Översättare, tolkar och lingvister m.fl.</td>\n",
       "      <td>Kultur, media, design</td>\n",
       "      <td>Talar du flytande Singalesiska och svenska? Sö...</td>\n",
       "      <td>Tills vidare</td>\n",
       "      <td>Heltid</td>\n",
       "      <td>100</td>\n",
       "      <td>100</td>\n",
       "      <td>1</td>\n",
       "      <td>Språkservice Sverige AB</td>\n",
       "      <td>ej angiven</td>\n",
       "      <td>ej angiven</td>\n",
       "      <td>False</td>\n",
       "      <td>False</td>\n",
       "      <td>False</td>\n",
       "      <td>ej specifierat</td>\n",
       "    </tr>\n",
       "    <tr>\n",
       "      <th>684</th>\n",
       "      <td>Tolk i Singalesiska</td>\n",
       "      <td>Tolk</td>\n",
       "      <td>Översättare, tolkar och lingvister m.fl.</td>\n",
       "      <td>Kultur, media, design</td>\n",
       "      <td>Talar du flytande Singalesiska och svenska? Sö...</td>\n",
       "      <td>Tills vidare</td>\n",
       "      <td>Heltid</td>\n",
       "      <td>100</td>\n",
       "      <td>100</td>\n",
       "      <td>1</td>\n",
       "      <td>Språkservice Sverige AB</td>\n",
       "      <td>ej angiven</td>\n",
       "      <td>ej angiven</td>\n",
       "      <td>False</td>\n",
       "      <td>False</td>\n",
       "      <td>False</td>\n",
       "      <td>ej specifierat</td>\n",
       "    </tr>\n",
       "  </tbody>\n",
       "</table>\n",
       "<p>685 rows × 17 columns</p>\n",
       "</div>"
      ],
      "text/plain": [
       "                                          headline  \\\n",
       "0    AV-tekniker till Mediainstallation Sverige AB   \n",
       "1                    Logistikkoordinator på heltid   \n",
       "2                   Grafiker | Lernia | Norrköping   \n",
       "3                   Global Field Operation Manager   \n",
       "4      Tekniska museet söker en Föremålsantikvarie   \n",
       "..                                             ...   \n",
       "680                            Tolk i Singalesiska   \n",
       "681                            Tolk i Singalesiska   \n",
       "682                            Tolk i Singalesiska   \n",
       "683                            Tolk i Singalesiska   \n",
       "684                            Tolk i Singalesiska   \n",
       "\n",
       "                                            occupation  \\\n",
       "0                                          AV-tekniker   \n",
       "1    Produktionsassistent: kultur, media, film, dat...   \n",
       "2                                   Grafisk formgivare   \n",
       "3                      Technical Operation Manager/TOM   \n",
       "4                                           Antikvarie   \n",
       "..                                                 ...   \n",
       "680                                               Tolk   \n",
       "681                                               Tolk   \n",
       "682                                               Tolk   \n",
       "683                                               Tolk   \n",
       "684                                               Tolk   \n",
       "\n",
       "                             occupation_group       occupation_field  \\\n",
       "0               Ljus-, ljud- och scentekniker  Kultur, media, design   \n",
       "1             Inspicienter och scriptor m.fl.  Kultur, media, design   \n",
       "2                   Grafiska formgivare m.fl.  Kultur, media, design   \n",
       "3                 Bild- och sändningstekniker  Kultur, media, design   \n",
       "4                      Museiintendenter m.fl.  Kultur, media, design   \n",
       "..                                        ...                    ...   \n",
       "680  Översättare, tolkar och lingvister m.fl.  Kultur, media, design   \n",
       "681  Översättare, tolkar och lingvister m.fl.  Kultur, media, design   \n",
       "682  Översättare, tolkar och lingvister m.fl.  Kultur, media, design   \n",
       "683  Översättare, tolkar och lingvister m.fl.  Kultur, media, design   \n",
       "684  Översättare, tolkar och lingvister m.fl.  Kultur, media, design   \n",
       "\n",
       "                                           description  \\\n",
       "0    AV-tekniker till Mediainstallation AB \\nVi väx...   \n",
       "1    Vi söker dig som vill bli spindeln i nätet på ...   \n",
       "2    Är du en kreativ grafiker med erfarenhet av In...   \n",
       "3    The Opportunity:\\nWith a pioneering technology...   \n",
       "4    Tekniska museet söker en föremålsantikvarie ti...   \n",
       "..                                                 ...   \n",
       "680  Talar du flytande Singalesiska och svenska? Sö...   \n",
       "681  Talar du flytande Singalesiska och svenska? Sö...   \n",
       "682  Talar du flytande Singalesiska och svenska? Sö...   \n",
       "683  Talar du flytande Singalesiska och svenska? Sö...   \n",
       "684  Talar du flytande Singalesiska och svenska? Sö...   \n",
       "\n",
       "                          duration working_hours_type  scope_of_work_min  \\\n",
       "0                     Tills vidare             Heltid                100   \n",
       "1           6 månader eller längre             Heltid                100   \n",
       "2    11 dagar - upp till 3 månader             Deltid                  0   \n",
       "3                     Tills vidare             Heltid                100   \n",
       "4                     Tills vidare             Heltid                100   \n",
       "..                             ...                ...                ...   \n",
       "680                   Tills vidare             Heltid                100   \n",
       "681                   Tills vidare             Heltid                100   \n",
       "682                   Tills vidare             Heltid                100   \n",
       "683                   Tills vidare             Heltid                100   \n",
       "684                   Tills vidare             Heltid                100   \n",
       "\n",
       "     scope_of_work_max  vacancies                   employer_name  \\\n",
       "0                  100          1  Mediainstallation i Sverige AB   \n",
       "1                  100          1         Academic Work Sweden AB   \n",
       "2                  100          1             Lernia Bemanning AB   \n",
       "3                  100          1        Hitachi Energy Sweden AB   \n",
       "4                  100          1      Stiftelsen Tekniska Museet   \n",
       "..                 ...        ...                             ...   \n",
       "680                100          1         Språkservice Sverige AB   \n",
       "681                100          1         Språkservice Sverige AB   \n",
       "682                100          1         Språkservice Sverige AB   \n",
       "683                100          1         Språkservice Sverige AB   \n",
       "684                100          1         Språkservice Sverige AB   \n",
       "\n",
       "      workplace_region workplace_city  experience_required  driving_license  \\\n",
       "0       Stockholms län           Täby                 True             True   \n",
       "1       Stockholms län      Stockholm                 True            False   \n",
       "2    Östergötlands län     Norrköping                 True            False   \n",
       "3     Västmanlands län       Västerås                 True            False   \n",
       "4       Stockholms län      Stockholm                 True             True   \n",
       "..                 ...            ...                  ...              ...   \n",
       "680         ej angiven     ej angiven                False            False   \n",
       "681         ej angiven     ej angiven                False            False   \n",
       "682         ej angiven     ej angiven                False            False   \n",
       "683         ej angiven     ej angiven                False            False   \n",
       "684         ej angiven     ej angiven                False            False   \n",
       "\n",
       "     access_to_own_car must_have_languages  \n",
       "0                False      ej specifierat  \n",
       "1                False      ej specifierat  \n",
       "2                False      ej specifierat  \n",
       "3                False      ej specifierat  \n",
       "4                False      ej specifierat  \n",
       "..                 ...                 ...  \n",
       "680              False      ej specifierat  \n",
       "681              False      ej specifierat  \n",
       "682              False      ej specifierat  \n",
       "683              False      ej specifierat  \n",
       "684              False      ej specifierat  \n",
       "\n",
       "[685 rows x 17 columns]"
      ]
     },
     "execution_count": 12,
     "metadata": {},
     "output_type": "execute_result"
    }
   ],
   "source": [
    "import duckdb\n",
    "import pandas as pd\n",
    "with duckdb.connect(\"../../ads_data.duckdb\") as conn: \n",
    "    df = conn.execute(\"SELECT * FROM mart.mart_kultur_media\").df()\n",
    "    \n",
    "df"
   ]
  },
  {
   "cell_type": "code",
   "execution_count": null,
   "id": "c39ea8f3",
   "metadata": {},
   "outputs": [],
   "source": [
    "# 🟢 Översikt – Vad händer just nu?\n",
    "#    [X] Antal annonser totalt\n",
    "#    [] Nyannonser senaste 7 dagarna\n",
    "#    [X] Topp 5 yrkestitlar\n",
    "#    [X] Vanligaste arbetsorter\n",
    "\n",
    "#        Jobbdetaljer och trender\n",
    "#    [/] Vanliga krav och meriter (driving license, erfarenhet, programvarukunskaper)\n",
    "#    [X] Fördelning av anställningstyper (tillsvidare, visstid, projekt) Heltid vs deltid\n",
    "#           [] Annonsaktiviteter över tid (datum publicerade)\n",
    "#    [X] Vilka språk krävs\n",
    "\n",
    "#        Geografisk fördelning\n",
    "#    [] Karta eller lista på län/kommuner med flest annonser --använd kordinater!!\n",
    "#    [] Möjlighet att filtrera på ort\n",
    "\n",
    "#       Filtreringsfunktioner för rekryterare\n",
    "#  [] Fritextsökning i annonsrubrik/beskrivning\n",
    "#  [] Filtrera på anställningsform, ort, erfarenhetskrav\n",
    "#  [] Möjlighet att spara eller exportera utvalda annonser (t.ex. till CSV)\n",
    "# Sida 1: översikt just nu\n",
    "# Sida 2: fin-filtrering \n",
    "# Sida 3: Ask gemini och få info"
   ]
  },
  {
   "cell_type": "code",
   "execution_count": null,
   "id": "640a5bbc",
   "metadata": {},
   "outputs": [
    {
     "data": {
      "text/plain": [
       "0    Deltid\n",
       "1    Heltid\n",
       "Name: working_hours_type, dtype: object"
      ]
     },
     "execution_count": 30,
     "metadata": {},
     "output_type": "execute_result"
    }
   ],
   "source": [
    "import plotly.express as px\n",
    "hours_type = df.groupby(\"working_hours_type\")[\"vacancies\"].sum().reset_index()\n",
    "px.bar(hours_type, y=\"vacancies\", x=\"working_hours_type\")\n",
    "hours_type[\"working_hours_type\"]\n"
   ]
  },
  {
   "cell_type": "code",
   "execution_count": 43,
   "id": "d226fc0a",
   "metadata": {},
   "outputs": [
    {
     "data": {
      "application/vnd.plotly.v1+json": {
       "config": {
        "plotlyServerURL": "https://plot.ly"
       },
       "data": [
        {
         "domain": {
          "x": [
           0,
           1
          ],
          "y": [
           0,
           1
          ]
         },
         "hovertemplate": "duration=%{label}<br>vacancies=%{value}<extra></extra>",
         "labels": [
          "Upp till 10 dagar",
          "11 dagar - upp till 3 månader",
          "6 månader eller längre",
          "3 månader – upp till 6 månader",
          "Tills vidare",
          "ej angiven"
         ],
         "legendgroup": "",
         "name": "",
         "showlegend": true,
         "type": "pie",
         "values": {
          "bdata": "CgAdAF0AlgBcAl8C",
          "dtype": "i2"
         }
        }
       ],
       "layout": {
        "legend": {
         "tracegroupgap": 0
        },
        "margin": {
         "t": 60
        },
        "template": {
         "data": {
          "bar": [
           {
            "error_x": {
             "color": "#2a3f5f"
            },
            "error_y": {
             "color": "#2a3f5f"
            },
            "marker": {
             "line": {
              "color": "#E5ECF6",
              "width": 0.5
             },
             "pattern": {
              "fillmode": "overlay",
              "size": 10,
              "solidity": 0.2
             }
            },
            "type": "bar"
           }
          ],
          "barpolar": [
           {
            "marker": {
             "line": {
              "color": "#E5ECF6",
              "width": 0.5
             },
             "pattern": {
              "fillmode": "overlay",
              "size": 10,
              "solidity": 0.2
             }
            },
            "type": "barpolar"
           }
          ],
          "carpet": [
           {
            "aaxis": {
             "endlinecolor": "#2a3f5f",
             "gridcolor": "white",
             "linecolor": "white",
             "minorgridcolor": "white",
             "startlinecolor": "#2a3f5f"
            },
            "baxis": {
             "endlinecolor": "#2a3f5f",
             "gridcolor": "white",
             "linecolor": "white",
             "minorgridcolor": "white",
             "startlinecolor": "#2a3f5f"
            },
            "type": "carpet"
           }
          ],
          "choropleth": [
           {
            "colorbar": {
             "outlinewidth": 0,
             "ticks": ""
            },
            "type": "choropleth"
           }
          ],
          "contour": [
           {
            "colorbar": {
             "outlinewidth": 0,
             "ticks": ""
            },
            "colorscale": [
             [
              0,
              "#0d0887"
             ],
             [
              0.1111111111111111,
              "#46039f"
             ],
             [
              0.2222222222222222,
              "#7201a8"
             ],
             [
              0.3333333333333333,
              "#9c179e"
             ],
             [
              0.4444444444444444,
              "#bd3786"
             ],
             [
              0.5555555555555556,
              "#d8576b"
             ],
             [
              0.6666666666666666,
              "#ed7953"
             ],
             [
              0.7777777777777778,
              "#fb9f3a"
             ],
             [
              0.8888888888888888,
              "#fdca26"
             ],
             [
              1,
              "#f0f921"
             ]
            ],
            "type": "contour"
           }
          ],
          "contourcarpet": [
           {
            "colorbar": {
             "outlinewidth": 0,
             "ticks": ""
            },
            "type": "contourcarpet"
           }
          ],
          "heatmap": [
           {
            "colorbar": {
             "outlinewidth": 0,
             "ticks": ""
            },
            "colorscale": [
             [
              0,
              "#0d0887"
             ],
             [
              0.1111111111111111,
              "#46039f"
             ],
             [
              0.2222222222222222,
              "#7201a8"
             ],
             [
              0.3333333333333333,
              "#9c179e"
             ],
             [
              0.4444444444444444,
              "#bd3786"
             ],
             [
              0.5555555555555556,
              "#d8576b"
             ],
             [
              0.6666666666666666,
              "#ed7953"
             ],
             [
              0.7777777777777778,
              "#fb9f3a"
             ],
             [
              0.8888888888888888,
              "#fdca26"
             ],
             [
              1,
              "#f0f921"
             ]
            ],
            "type": "heatmap"
           }
          ],
          "histogram": [
           {
            "marker": {
             "pattern": {
              "fillmode": "overlay",
              "size": 10,
              "solidity": 0.2
             }
            },
            "type": "histogram"
           }
          ],
          "histogram2d": [
           {
            "colorbar": {
             "outlinewidth": 0,
             "ticks": ""
            },
            "colorscale": [
             [
              0,
              "#0d0887"
             ],
             [
              0.1111111111111111,
              "#46039f"
             ],
             [
              0.2222222222222222,
              "#7201a8"
             ],
             [
              0.3333333333333333,
              "#9c179e"
             ],
             [
              0.4444444444444444,
              "#bd3786"
             ],
             [
              0.5555555555555556,
              "#d8576b"
             ],
             [
              0.6666666666666666,
              "#ed7953"
             ],
             [
              0.7777777777777778,
              "#fb9f3a"
             ],
             [
              0.8888888888888888,
              "#fdca26"
             ],
             [
              1,
              "#f0f921"
             ]
            ],
            "type": "histogram2d"
           }
          ],
          "histogram2dcontour": [
           {
            "colorbar": {
             "outlinewidth": 0,
             "ticks": ""
            },
            "colorscale": [
             [
              0,
              "#0d0887"
             ],
             [
              0.1111111111111111,
              "#46039f"
             ],
             [
              0.2222222222222222,
              "#7201a8"
             ],
             [
              0.3333333333333333,
              "#9c179e"
             ],
             [
              0.4444444444444444,
              "#bd3786"
             ],
             [
              0.5555555555555556,
              "#d8576b"
             ],
             [
              0.6666666666666666,
              "#ed7953"
             ],
             [
              0.7777777777777778,
              "#fb9f3a"
             ],
             [
              0.8888888888888888,
              "#fdca26"
             ],
             [
              1,
              "#f0f921"
             ]
            ],
            "type": "histogram2dcontour"
           }
          ],
          "mesh3d": [
           {
            "colorbar": {
             "outlinewidth": 0,
             "ticks": ""
            },
            "type": "mesh3d"
           }
          ],
          "parcoords": [
           {
            "line": {
             "colorbar": {
              "outlinewidth": 0,
              "ticks": ""
             }
            },
            "type": "parcoords"
           }
          ],
          "pie": [
           {
            "automargin": true,
            "type": "pie"
           }
          ],
          "scatter": [
           {
            "fillpattern": {
             "fillmode": "overlay",
             "size": 10,
             "solidity": 0.2
            },
            "type": "scatter"
           }
          ],
          "scatter3d": [
           {
            "line": {
             "colorbar": {
              "outlinewidth": 0,
              "ticks": ""
             }
            },
            "marker": {
             "colorbar": {
              "outlinewidth": 0,
              "ticks": ""
             }
            },
            "type": "scatter3d"
           }
          ],
          "scattercarpet": [
           {
            "marker": {
             "colorbar": {
              "outlinewidth": 0,
              "ticks": ""
             }
            },
            "type": "scattercarpet"
           }
          ],
          "scattergeo": [
           {
            "marker": {
             "colorbar": {
              "outlinewidth": 0,
              "ticks": ""
             }
            },
            "type": "scattergeo"
           }
          ],
          "scattergl": [
           {
            "marker": {
             "colorbar": {
              "outlinewidth": 0,
              "ticks": ""
             }
            },
            "type": "scattergl"
           }
          ],
          "scattermap": [
           {
            "marker": {
             "colorbar": {
              "outlinewidth": 0,
              "ticks": ""
             }
            },
            "type": "scattermap"
           }
          ],
          "scattermapbox": [
           {
            "marker": {
             "colorbar": {
              "outlinewidth": 0,
              "ticks": ""
             }
            },
            "type": "scattermapbox"
           }
          ],
          "scatterpolar": [
           {
            "marker": {
             "colorbar": {
              "outlinewidth": 0,
              "ticks": ""
             }
            },
            "type": "scatterpolar"
           }
          ],
          "scatterpolargl": [
           {
            "marker": {
             "colorbar": {
              "outlinewidth": 0,
              "ticks": ""
             }
            },
            "type": "scatterpolargl"
           }
          ],
          "scatterternary": [
           {
            "marker": {
             "colorbar": {
              "outlinewidth": 0,
              "ticks": ""
             }
            },
            "type": "scatterternary"
           }
          ],
          "surface": [
           {
            "colorbar": {
             "outlinewidth": 0,
             "ticks": ""
            },
            "colorscale": [
             [
              0,
              "#0d0887"
             ],
             [
              0.1111111111111111,
              "#46039f"
             ],
             [
              0.2222222222222222,
              "#7201a8"
             ],
             [
              0.3333333333333333,
              "#9c179e"
             ],
             [
              0.4444444444444444,
              "#bd3786"
             ],
             [
              0.5555555555555556,
              "#d8576b"
             ],
             [
              0.6666666666666666,
              "#ed7953"
             ],
             [
              0.7777777777777778,
              "#fb9f3a"
             ],
             [
              0.8888888888888888,
              "#fdca26"
             ],
             [
              1,
              "#f0f921"
             ]
            ],
            "type": "surface"
           }
          ],
          "table": [
           {
            "cells": {
             "fill": {
              "color": "#EBF0F8"
             },
             "line": {
              "color": "white"
             }
            },
            "header": {
             "fill": {
              "color": "#C8D4E3"
             },
             "line": {
              "color": "white"
             }
            },
            "type": "table"
           }
          ]
         },
         "layout": {
          "annotationdefaults": {
           "arrowcolor": "#2a3f5f",
           "arrowhead": 0,
           "arrowwidth": 1
          },
          "autotypenumbers": "strict",
          "coloraxis": {
           "colorbar": {
            "outlinewidth": 0,
            "ticks": ""
           }
          },
          "colorscale": {
           "diverging": [
            [
             0,
             "#8e0152"
            ],
            [
             0.1,
             "#c51b7d"
            ],
            [
             0.2,
             "#de77ae"
            ],
            [
             0.3,
             "#f1b6da"
            ],
            [
             0.4,
             "#fde0ef"
            ],
            [
             0.5,
             "#f7f7f7"
            ],
            [
             0.6,
             "#e6f5d0"
            ],
            [
             0.7,
             "#b8e186"
            ],
            [
             0.8,
             "#7fbc41"
            ],
            [
             0.9,
             "#4d9221"
            ],
            [
             1,
             "#276419"
            ]
           ],
           "sequential": [
            [
             0,
             "#0d0887"
            ],
            [
             0.1111111111111111,
             "#46039f"
            ],
            [
             0.2222222222222222,
             "#7201a8"
            ],
            [
             0.3333333333333333,
             "#9c179e"
            ],
            [
             0.4444444444444444,
             "#bd3786"
            ],
            [
             0.5555555555555556,
             "#d8576b"
            ],
            [
             0.6666666666666666,
             "#ed7953"
            ],
            [
             0.7777777777777778,
             "#fb9f3a"
            ],
            [
             0.8888888888888888,
             "#fdca26"
            ],
            [
             1,
             "#f0f921"
            ]
           ],
           "sequentialminus": [
            [
             0,
             "#0d0887"
            ],
            [
             0.1111111111111111,
             "#46039f"
            ],
            [
             0.2222222222222222,
             "#7201a8"
            ],
            [
             0.3333333333333333,
             "#9c179e"
            ],
            [
             0.4444444444444444,
             "#bd3786"
            ],
            [
             0.5555555555555556,
             "#d8576b"
            ],
            [
             0.6666666666666666,
             "#ed7953"
            ],
            [
             0.7777777777777778,
             "#fb9f3a"
            ],
            [
             0.8888888888888888,
             "#fdca26"
            ],
            [
             1,
             "#f0f921"
            ]
           ]
          },
          "colorway": [
           "#636efa",
           "#EF553B",
           "#00cc96",
           "#ab63fa",
           "#FFA15A",
           "#19d3f3",
           "#FF6692",
           "#B6E880",
           "#FF97FF",
           "#FECB52"
          ],
          "font": {
           "color": "#2a3f5f"
          },
          "geo": {
           "bgcolor": "white",
           "lakecolor": "white",
           "landcolor": "#E5ECF6",
           "showlakes": true,
           "showland": true,
           "subunitcolor": "white"
          },
          "hoverlabel": {
           "align": "left"
          },
          "hovermode": "closest",
          "mapbox": {
           "style": "light"
          },
          "paper_bgcolor": "white",
          "plot_bgcolor": "#E5ECF6",
          "polar": {
           "angularaxis": {
            "gridcolor": "white",
            "linecolor": "white",
            "ticks": ""
           },
           "bgcolor": "#E5ECF6",
           "radialaxis": {
            "gridcolor": "white",
            "linecolor": "white",
            "ticks": ""
           }
          },
          "scene": {
           "xaxis": {
            "backgroundcolor": "#E5ECF6",
            "gridcolor": "white",
            "gridwidth": 2,
            "linecolor": "white",
            "showbackground": true,
            "ticks": "",
            "zerolinecolor": "white"
           },
           "yaxis": {
            "backgroundcolor": "#E5ECF6",
            "gridcolor": "white",
            "gridwidth": 2,
            "linecolor": "white",
            "showbackground": true,
            "ticks": "",
            "zerolinecolor": "white"
           },
           "zaxis": {
            "backgroundcolor": "#E5ECF6",
            "gridcolor": "white",
            "gridwidth": 2,
            "linecolor": "white",
            "showbackground": true,
            "ticks": "",
            "zerolinecolor": "white"
           }
          },
          "shapedefaults": {
           "line": {
            "color": "#2a3f5f"
           }
          },
          "ternary": {
           "aaxis": {
            "gridcolor": "white",
            "linecolor": "white",
            "ticks": ""
           },
           "baxis": {
            "gridcolor": "white",
            "linecolor": "white",
            "ticks": ""
           },
           "bgcolor": "#E5ECF6",
           "caxis": {
            "gridcolor": "white",
            "linecolor": "white",
            "ticks": ""
           }
          },
          "title": {
           "x": 0.05
          },
          "xaxis": {
           "automargin": true,
           "gridcolor": "white",
           "linecolor": "white",
           "ticks": "",
           "title": {
            "standoff": 15
           },
           "zerolinecolor": "white",
           "zerolinewidth": 2
          },
          "yaxis": {
           "automargin": true,
           "gridcolor": "white",
           "linecolor": "white",
           "ticks": "",
           "title": {
            "standoff": 15
           },
           "zerolinecolor": "white",
           "zerolinewidth": 2
          }
         }
        }
       }
      }
     },
     "metadata": {},
     "output_type": "display_data"
    }
   ],
   "source": [
    "px.pie(df.groupby(\"duration\")[\"vacancies\"].sum().sort_values().reset_index(), values=\"vacancies\", names=\"duration\")"
   ]
  },
  {
   "cell_type": "code",
   "execution_count": 16,
   "id": "73f6673c",
   "metadata": {},
   "outputs": [
    {
     "data": {
      "text/plain": [
       "np.int64(170)"
      ]
     },
     "execution_count": 16,
     "metadata": {},
     "output_type": "execute_result"
    }
   ],
   "source": [
    "language = df[df[\"must_have_languages\"] != 'ej specifierat']\n",
    "\n",
    "language = language.groupby(\"must_have_languages\")[\"vacancies\"].sum().reset_index()\n",
    "language[\"vacancies\"].sum()"
   ]
  },
  {
   "cell_type": "code",
   "execution_count": 12,
   "id": "79c5d50a",
   "metadata": {},
   "outputs": [
    {
     "data": {
      "text/html": [
       "<div>\n",
       "<style scoped>\n",
       "    .dataframe tbody tr th:only-of-type {\n",
       "        vertical-align: middle;\n",
       "    }\n",
       "\n",
       "    .dataframe tbody tr th {\n",
       "        vertical-align: top;\n",
       "    }\n",
       "\n",
       "    .dataframe thead th {\n",
       "        text-align: right;\n",
       "    }\n",
       "</style>\n",
       "<table border=\"1\" class=\"dataframe\">\n",
       "  <thead>\n",
       "    <tr style=\"text-align: right;\">\n",
       "      <th></th>\n",
       "      <th>must_have_languages</th>\n",
       "      <th>vacancies</th>\n",
       "    </tr>\n",
       "  </thead>\n",
       "  <tbody>\n",
       "    <tr>\n",
       "      <th>0</th>\n",
       "      <td>Arabiska, Engelska</td>\n",
       "      <td>5</td>\n",
       "    </tr>\n",
       "    <tr>\n",
       "      <th>1</th>\n",
       "      <td>Bambara, Engelska</td>\n",
       "      <td>5</td>\n",
       "    </tr>\n",
       "    <tr>\n",
       "      <th>2</th>\n",
       "      <td>Engelska</td>\n",
       "      <td>8</td>\n",
       "    </tr>\n",
       "    <tr>\n",
       "      <th>3</th>\n",
       "      <td>Engelska, Mandingo</td>\n",
       "      <td>5</td>\n",
       "    </tr>\n",
       "    <tr>\n",
       "      <th>4</th>\n",
       "      <td>Engelska, Svenska</td>\n",
       "      <td>28</td>\n",
       "    </tr>\n",
       "    <tr>\n",
       "      <th>5</th>\n",
       "      <td>Engelska, Swahili</td>\n",
       "      <td>5</td>\n",
       "    </tr>\n",
       "    <tr>\n",
       "      <th>6</th>\n",
       "      <td>Svenska</td>\n",
       "      <td>105</td>\n",
       "    </tr>\n",
       "    <tr>\n",
       "      <th>7</th>\n",
       "      <td>Svenska, Thailändska</td>\n",
       "      <td>2</td>\n",
       "    </tr>\n",
       "    <tr>\n",
       "      <th>8</th>\n",
       "      <td>Svenska, Ungerska</td>\n",
       "      <td>2</td>\n",
       "    </tr>\n",
       "    <tr>\n",
       "      <th>9</th>\n",
       "      <td>Uiguriska</td>\n",
       "      <td>5</td>\n",
       "    </tr>\n",
       "  </tbody>\n",
       "</table>\n",
       "</div>"
      ],
      "text/plain": [
       "    must_have_languages  vacancies\n",
       "0    Arabiska, Engelska          5\n",
       "1     Bambara, Engelska          5\n",
       "2              Engelska          8\n",
       "3    Engelska, Mandingo          5\n",
       "4     Engelska, Svenska         28\n",
       "5     Engelska, Swahili          5\n",
       "6               Svenska        105\n",
       "7  Svenska, Thailändska          2\n",
       "8     Svenska, Ungerska          2\n",
       "9             Uiguriska          5"
      ]
     },
     "execution_count": 12,
     "metadata": {},
     "output_type": "execute_result"
    }
   ],
   "source": [
    "# df.groupby(\"occupation_group\")[df[df]\"must_have_languages\"] != 'ej specifierat'].value_counts() #.value_counts().sort_values(ascending=False).reset_index(name=\"total vacancies\")\n",
    "language = df[df[\"must_have_languages\"] != 'ej specifierat']\n",
    "language = language.groupby(\"must_have_languages\")[\"vacancies\"].sum().reset_index()\n",
    "language"
   ]
  },
  {
   "cell_type": "code",
   "execution_count": 9,
   "id": "3071b232",
   "metadata": {},
   "outputs": [
    {
     "data": {
      "application/vnd.plotly.v1+json": {
       "config": {
        "plotlyServerURL": "https://plot.ly"
       },
       "data": [
        {
         "domain": {
          "x": [
           0,
           1
          ],
          "y": [
           0,
           1
          ]
         },
         "hovertemplate": "must_have_languages=%{label}<br>vacancies=%{value}<extra></extra>",
         "labels": [
          "Arabiska, Engelska",
          "Bambara, Engelska",
          "Engelska",
          "Engelska, Mandingo",
          "Engelska, Svenska",
          "Engelska, Swahili",
          "Svenska",
          "Svenska, Thailändska",
          "Svenska, Ungerska",
          "Uiguriska"
         ],
         "legendgroup": "",
         "name": "",
         "showlegend": true,
         "type": "pie",
         "values": {
          "bdata": "BQUIBRwFaQICBQ==",
          "dtype": "i1"
         }
        }
       ],
       "layout": {
        "legend": {
         "tracegroupgap": 0
        },
        "margin": {
         "t": 60
        },
        "template": {
         "data": {
          "bar": [
           {
            "error_x": {
             "color": "#2a3f5f"
            },
            "error_y": {
             "color": "#2a3f5f"
            },
            "marker": {
             "line": {
              "color": "#E5ECF6",
              "width": 0.5
             },
             "pattern": {
              "fillmode": "overlay",
              "size": 10,
              "solidity": 0.2
             }
            },
            "type": "bar"
           }
          ],
          "barpolar": [
           {
            "marker": {
             "line": {
              "color": "#E5ECF6",
              "width": 0.5
             },
             "pattern": {
              "fillmode": "overlay",
              "size": 10,
              "solidity": 0.2
             }
            },
            "type": "barpolar"
           }
          ],
          "carpet": [
           {
            "aaxis": {
             "endlinecolor": "#2a3f5f",
             "gridcolor": "white",
             "linecolor": "white",
             "minorgridcolor": "white",
             "startlinecolor": "#2a3f5f"
            },
            "baxis": {
             "endlinecolor": "#2a3f5f",
             "gridcolor": "white",
             "linecolor": "white",
             "minorgridcolor": "white",
             "startlinecolor": "#2a3f5f"
            },
            "type": "carpet"
           }
          ],
          "choropleth": [
           {
            "colorbar": {
             "outlinewidth": 0,
             "ticks": ""
            },
            "type": "choropleth"
           }
          ],
          "contour": [
           {
            "colorbar": {
             "outlinewidth": 0,
             "ticks": ""
            },
            "colorscale": [
             [
              0,
              "#0d0887"
             ],
             [
              0.1111111111111111,
              "#46039f"
             ],
             [
              0.2222222222222222,
              "#7201a8"
             ],
             [
              0.3333333333333333,
              "#9c179e"
             ],
             [
              0.4444444444444444,
              "#bd3786"
             ],
             [
              0.5555555555555556,
              "#d8576b"
             ],
             [
              0.6666666666666666,
              "#ed7953"
             ],
             [
              0.7777777777777778,
              "#fb9f3a"
             ],
             [
              0.8888888888888888,
              "#fdca26"
             ],
             [
              1,
              "#f0f921"
             ]
            ],
            "type": "contour"
           }
          ],
          "contourcarpet": [
           {
            "colorbar": {
             "outlinewidth": 0,
             "ticks": ""
            },
            "type": "contourcarpet"
           }
          ],
          "heatmap": [
           {
            "colorbar": {
             "outlinewidth": 0,
             "ticks": ""
            },
            "colorscale": [
             [
              0,
              "#0d0887"
             ],
             [
              0.1111111111111111,
              "#46039f"
             ],
             [
              0.2222222222222222,
              "#7201a8"
             ],
             [
              0.3333333333333333,
              "#9c179e"
             ],
             [
              0.4444444444444444,
              "#bd3786"
             ],
             [
              0.5555555555555556,
              "#d8576b"
             ],
             [
              0.6666666666666666,
              "#ed7953"
             ],
             [
              0.7777777777777778,
              "#fb9f3a"
             ],
             [
              0.8888888888888888,
              "#fdca26"
             ],
             [
              1,
              "#f0f921"
             ]
            ],
            "type": "heatmap"
           }
          ],
          "histogram": [
           {
            "marker": {
             "pattern": {
              "fillmode": "overlay",
              "size": 10,
              "solidity": 0.2
             }
            },
            "type": "histogram"
           }
          ],
          "histogram2d": [
           {
            "colorbar": {
             "outlinewidth": 0,
             "ticks": ""
            },
            "colorscale": [
             [
              0,
              "#0d0887"
             ],
             [
              0.1111111111111111,
              "#46039f"
             ],
             [
              0.2222222222222222,
              "#7201a8"
             ],
             [
              0.3333333333333333,
              "#9c179e"
             ],
             [
              0.4444444444444444,
              "#bd3786"
             ],
             [
              0.5555555555555556,
              "#d8576b"
             ],
             [
              0.6666666666666666,
              "#ed7953"
             ],
             [
              0.7777777777777778,
              "#fb9f3a"
             ],
             [
              0.8888888888888888,
              "#fdca26"
             ],
             [
              1,
              "#f0f921"
             ]
            ],
            "type": "histogram2d"
           }
          ],
          "histogram2dcontour": [
           {
            "colorbar": {
             "outlinewidth": 0,
             "ticks": ""
            },
            "colorscale": [
             [
              0,
              "#0d0887"
             ],
             [
              0.1111111111111111,
              "#46039f"
             ],
             [
              0.2222222222222222,
              "#7201a8"
             ],
             [
              0.3333333333333333,
              "#9c179e"
             ],
             [
              0.4444444444444444,
              "#bd3786"
             ],
             [
              0.5555555555555556,
              "#d8576b"
             ],
             [
              0.6666666666666666,
              "#ed7953"
             ],
             [
              0.7777777777777778,
              "#fb9f3a"
             ],
             [
              0.8888888888888888,
              "#fdca26"
             ],
             [
              1,
              "#f0f921"
             ]
            ],
            "type": "histogram2dcontour"
           }
          ],
          "mesh3d": [
           {
            "colorbar": {
             "outlinewidth": 0,
             "ticks": ""
            },
            "type": "mesh3d"
           }
          ],
          "parcoords": [
           {
            "line": {
             "colorbar": {
              "outlinewidth": 0,
              "ticks": ""
             }
            },
            "type": "parcoords"
           }
          ],
          "pie": [
           {
            "automargin": true,
            "type": "pie"
           }
          ],
          "scatter": [
           {
            "fillpattern": {
             "fillmode": "overlay",
             "size": 10,
             "solidity": 0.2
            },
            "type": "scatter"
           }
          ],
          "scatter3d": [
           {
            "line": {
             "colorbar": {
              "outlinewidth": 0,
              "ticks": ""
             }
            },
            "marker": {
             "colorbar": {
              "outlinewidth": 0,
              "ticks": ""
             }
            },
            "type": "scatter3d"
           }
          ],
          "scattercarpet": [
           {
            "marker": {
             "colorbar": {
              "outlinewidth": 0,
              "ticks": ""
             }
            },
            "type": "scattercarpet"
           }
          ],
          "scattergeo": [
           {
            "marker": {
             "colorbar": {
              "outlinewidth": 0,
              "ticks": ""
             }
            },
            "type": "scattergeo"
           }
          ],
          "scattergl": [
           {
            "marker": {
             "colorbar": {
              "outlinewidth": 0,
              "ticks": ""
             }
            },
            "type": "scattergl"
           }
          ],
          "scattermap": [
           {
            "marker": {
             "colorbar": {
              "outlinewidth": 0,
              "ticks": ""
             }
            },
            "type": "scattermap"
           }
          ],
          "scattermapbox": [
           {
            "marker": {
             "colorbar": {
              "outlinewidth": 0,
              "ticks": ""
             }
            },
            "type": "scattermapbox"
           }
          ],
          "scatterpolar": [
           {
            "marker": {
             "colorbar": {
              "outlinewidth": 0,
              "ticks": ""
             }
            },
            "type": "scatterpolar"
           }
          ],
          "scatterpolargl": [
           {
            "marker": {
             "colorbar": {
              "outlinewidth": 0,
              "ticks": ""
             }
            },
            "type": "scatterpolargl"
           }
          ],
          "scatterternary": [
           {
            "marker": {
             "colorbar": {
              "outlinewidth": 0,
              "ticks": ""
             }
            },
            "type": "scatterternary"
           }
          ],
          "surface": [
           {
            "colorbar": {
             "outlinewidth": 0,
             "ticks": ""
            },
            "colorscale": [
             [
              0,
              "#0d0887"
             ],
             [
              0.1111111111111111,
              "#46039f"
             ],
             [
              0.2222222222222222,
              "#7201a8"
             ],
             [
              0.3333333333333333,
              "#9c179e"
             ],
             [
              0.4444444444444444,
              "#bd3786"
             ],
             [
              0.5555555555555556,
              "#d8576b"
             ],
             [
              0.6666666666666666,
              "#ed7953"
             ],
             [
              0.7777777777777778,
              "#fb9f3a"
             ],
             [
              0.8888888888888888,
              "#fdca26"
             ],
             [
              1,
              "#f0f921"
             ]
            ],
            "type": "surface"
           }
          ],
          "table": [
           {
            "cells": {
             "fill": {
              "color": "#EBF0F8"
             },
             "line": {
              "color": "white"
             }
            },
            "header": {
             "fill": {
              "color": "#C8D4E3"
             },
             "line": {
              "color": "white"
             }
            },
            "type": "table"
           }
          ]
         },
         "layout": {
          "annotationdefaults": {
           "arrowcolor": "#2a3f5f",
           "arrowhead": 0,
           "arrowwidth": 1
          },
          "autotypenumbers": "strict",
          "coloraxis": {
           "colorbar": {
            "outlinewidth": 0,
            "ticks": ""
           }
          },
          "colorscale": {
           "diverging": [
            [
             0,
             "#8e0152"
            ],
            [
             0.1,
             "#c51b7d"
            ],
            [
             0.2,
             "#de77ae"
            ],
            [
             0.3,
             "#f1b6da"
            ],
            [
             0.4,
             "#fde0ef"
            ],
            [
             0.5,
             "#f7f7f7"
            ],
            [
             0.6,
             "#e6f5d0"
            ],
            [
             0.7,
             "#b8e186"
            ],
            [
             0.8,
             "#7fbc41"
            ],
            [
             0.9,
             "#4d9221"
            ],
            [
             1,
             "#276419"
            ]
           ],
           "sequential": [
            [
             0,
             "#0d0887"
            ],
            [
             0.1111111111111111,
             "#46039f"
            ],
            [
             0.2222222222222222,
             "#7201a8"
            ],
            [
             0.3333333333333333,
             "#9c179e"
            ],
            [
             0.4444444444444444,
             "#bd3786"
            ],
            [
             0.5555555555555556,
             "#d8576b"
            ],
            [
             0.6666666666666666,
             "#ed7953"
            ],
            [
             0.7777777777777778,
             "#fb9f3a"
            ],
            [
             0.8888888888888888,
             "#fdca26"
            ],
            [
             1,
             "#f0f921"
            ]
           ],
           "sequentialminus": [
            [
             0,
             "#0d0887"
            ],
            [
             0.1111111111111111,
             "#46039f"
            ],
            [
             0.2222222222222222,
             "#7201a8"
            ],
            [
             0.3333333333333333,
             "#9c179e"
            ],
            [
             0.4444444444444444,
             "#bd3786"
            ],
            [
             0.5555555555555556,
             "#d8576b"
            ],
            [
             0.6666666666666666,
             "#ed7953"
            ],
            [
             0.7777777777777778,
             "#fb9f3a"
            ],
            [
             0.8888888888888888,
             "#fdca26"
            ],
            [
             1,
             "#f0f921"
            ]
           ]
          },
          "colorway": [
           "#636efa",
           "#EF553B",
           "#00cc96",
           "#ab63fa",
           "#FFA15A",
           "#19d3f3",
           "#FF6692",
           "#B6E880",
           "#FF97FF",
           "#FECB52"
          ],
          "font": {
           "color": "#2a3f5f"
          },
          "geo": {
           "bgcolor": "white",
           "lakecolor": "white",
           "landcolor": "#E5ECF6",
           "showlakes": true,
           "showland": true,
           "subunitcolor": "white"
          },
          "hoverlabel": {
           "align": "left"
          },
          "hovermode": "closest",
          "mapbox": {
           "style": "light"
          },
          "paper_bgcolor": "white",
          "plot_bgcolor": "#E5ECF6",
          "polar": {
           "angularaxis": {
            "gridcolor": "white",
            "linecolor": "white",
            "ticks": ""
           },
           "bgcolor": "#E5ECF6",
           "radialaxis": {
            "gridcolor": "white",
            "linecolor": "white",
            "ticks": ""
           }
          },
          "scene": {
           "xaxis": {
            "backgroundcolor": "#E5ECF6",
            "gridcolor": "white",
            "gridwidth": 2,
            "linecolor": "white",
            "showbackground": true,
            "ticks": "",
            "zerolinecolor": "white"
           },
           "yaxis": {
            "backgroundcolor": "#E5ECF6",
            "gridcolor": "white",
            "gridwidth": 2,
            "linecolor": "white",
            "showbackground": true,
            "ticks": "",
            "zerolinecolor": "white"
           },
           "zaxis": {
            "backgroundcolor": "#E5ECF6",
            "gridcolor": "white",
            "gridwidth": 2,
            "linecolor": "white",
            "showbackground": true,
            "ticks": "",
            "zerolinecolor": "white"
           }
          },
          "shapedefaults": {
           "line": {
            "color": "#2a3f5f"
           }
          },
          "ternary": {
           "aaxis": {
            "gridcolor": "white",
            "linecolor": "white",
            "ticks": ""
           },
           "baxis": {
            "gridcolor": "white",
            "linecolor": "white",
            "ticks": ""
           },
           "bgcolor": "#E5ECF6",
           "caxis": {
            "gridcolor": "white",
            "linecolor": "white",
            "ticks": ""
           }
          },
          "title": {
           "x": 0.05
          },
          "xaxis": {
           "automargin": true,
           "gridcolor": "white",
           "linecolor": "white",
           "ticks": "",
           "title": {
            "standoff": 15
           },
           "zerolinecolor": "white",
           "zerolinewidth": 2
          },
          "yaxis": {
           "automargin": true,
           "gridcolor": "white",
           "linecolor": "white",
           "ticks": "",
           "title": {
            "standoff": 15
           },
           "zerolinecolor": "white",
           "zerolinewidth": 2
          }
         }
        }
       }
      }
     },
     "metadata": {},
     "output_type": "display_data"
    }
   ],
   "source": [
    "import plotly.express as px\n",
    "df[\"must_have_languages\"].value_counts()\n",
    "language = df[df[\"must_have_languages\"] != 'ej specifierat']\n",
    "language = language.groupby(\"must_have_languages\")[\"vacancies\"].sum().reset_index()\n",
    "px.pie(language, names=\"must_have_languages\", values=\"vacancies\" )\n",
    "    # pie_fig = px.pie(mart_full_time,values=\"total vacancies\",names=\"occupation_group\",width=350, height=350)\n"
   ]
  }
 ],
 "metadata": {
  "kernelspec": {
   "display_name": ".venv",
   "language": "python",
   "name": "python3"
  },
  "language_info": {
   "codemirror_mode": {
    "name": "ipython",
    "version": 3
   },
   "file_extension": ".py",
   "mimetype": "text/x-python",
   "name": "python",
   "nbconvert_exporter": "python",
   "pygments_lexer": "ipython3",
   "version": "3.12.8"
  }
 },
 "nbformat": 4,
 "nbformat_minor": 5
}
